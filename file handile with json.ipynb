{
 "cells": [
  {
   "cell_type": "code",
   "execution_count": 1,
   "id": "f8e6e893",
   "metadata": {},
   "outputs": [],
   "source": [
    "import json"
   ]
  },
  {
   "cell_type": "code",
   "execution_count": 5,
   "id": "27189489",
   "metadata": {},
   "outputs": [],
   "source": [
    "dictionary ={\n",
    "    \"name\":\"guru\",\n",
    "    \"age\":18,\n",
    "    \"cgpa\":7.95,\n",
    "    \"phone number\":\"809778932\"\n",
    "}"
   ]
  },
  {
   "cell_type": "code",
   "execution_count": 7,
   "id": "f8f7d791",
   "metadata": {},
   "outputs": [],
   "source": [
    "with open(\"sample.json\",'w') as outline:\n",
    "    json.dump(dictionary,outline)"
   ]
  },
  {
   "cell_type": "markdown",
   "id": "58ceadcd",
   "metadata": {},
   "source": [
    "# import file"
   ]
  },
  {
   "cell_type": "code",
   "execution_count": 8,
   "id": "ce069d18",
   "metadata": {},
   "outputs": [],
   "source": [
    "import json"
   ]
  },
  {
   "cell_type": "code",
   "execution_count": 22,
   "id": "acdce385",
   "metadata": {},
   "outputs": [],
   "source": [
    "f = open(\"sample.json\",)"
   ]
  },
  {
   "cell_type": "code",
   "execution_count": 23,
   "id": "757c69a6",
   "metadata": {},
   "outputs": [
    {
     "name": "stdout",
     "output_type": "stream",
     "text": [
      "{'name': 'guru', 'age': 18, 'cgpa': 7.95, 'phone number': '809778932'}\n"
     ]
    }
   ],
   "source": [
    "data = json.load(f)\n",
    "print(data)"
   ]
  },
  {
   "cell_type": "code",
   "execution_count": null,
   "id": "20b95971",
   "metadata": {},
   "outputs": [],
   "source": []
  },
  {
   "cell_type": "code",
   "execution_count": null,
   "id": "884d1ce0",
   "metadata": {},
   "outputs": [],
   "source": []
  }
 ],
 "metadata": {
  "kernelspec": {
   "display_name": "Python 3 (ipykernel)",
   "language": "python",
   "name": "python3"
  },
  "language_info": {
   "codemirror_mode": {
    "name": "ipython",
    "version": 3
   },
   "file_extension": ".py",
   "mimetype": "text/x-python",
   "name": "python",
   "nbconvert_exporter": "python",
   "pygments_lexer": "ipython3",
   "version": "3.9.13"
  }
 },
 "nbformat": 4,
 "nbformat_minor": 5
}
