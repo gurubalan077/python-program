{
 "cells": [
  {
   "cell_type": "code",
   "execution_count": 1,
   "id": "debc997d",
   "metadata": {},
   "outputs": [
    {
     "name": "stdout",
     "output_type": "stream",
     "text": [
      "Requirement already satisfied: pygame in c:\\users\\pmu2022\\.conda\\envs\\bscaidineshpython\\lib\\site-packages (2.3.0)\n",
      "Note: you may need to restart the kernel to use updated packages.\n"
     ]
    }
   ],
   "source": [
    "pip install pygame"
   ]
  },
  {
   "cell_type": "code",
   "execution_count": 6,
   "id": "fb24f96c",
   "metadata": {},
   "outputs": [
    {
     "ename": "SyntaxError",
     "evalue": "(unicode error) 'unicodeescape' codec can't decode bytes in position 2-3: truncated \\UXXXXXXXX escape (1214728605.py, line 13)",
     "output_type": "error",
     "traceback": [
      "\u001b[1;36m  Cell \u001b[1;32mIn[6], line 13\u001b[1;36m\u001b[0m\n\u001b[1;33m    image = pygame.image.load('C:\\Users\\PMU2022\\Pictures\\image(2).png')\u001b[0m\n\u001b[1;37m                                                                      ^\u001b[0m\n\u001b[1;31mSyntaxError\u001b[0m\u001b[1;31m:\u001b[0m (unicode error) 'unicodeescape' codec can't decode bytes in position 2-3: truncated \\UXXXXXXXX escape\n"
     ]
    }
   ],
   "source": [
    "import pygame\n",
    "pygame.init()\n",
    "white = (0, 255, 255 )\n",
    "#assinging values to height and width variable\n",
    "#height = 400\n",
    "#width = 400\n",
    "#creating the diplay surface object\n",
    "#of specific dimension ..e(X,Y)\n",
    "display_surface = pygame.display.set_mode((920,600))\n",
    "\n",
    "pygame.display.set_caption('Hi ai students')\n",
    "\n",
    "image = pygame.image.load('C:\\Users\\PMU2022\\Pictures\\image(2).png')\n",
    "\n",
    "while True:\n",
    "    display_surface.fill(white)\n",
    "    display_surface.blit(image,(0, 0))\n",
    "    \n",
    "    for event in pygame.event.get():\n",
    "        if event.type == pygame.QUIT:\n",
    "            pygame.quit()\n",
    "            \n",
    "            quit()\n",
    "            \n",
    "        pygame.diplay.update()\n",
    "            \n",
    "    "
   ]
  },
  {
   "cell_type": "markdown",
   "id": "41d7ca75",
   "metadata": {},
   "source": [
    "# designing and building classic snack"
   ]
  },
  {
   "cell_type": "code",
   "execution_count": 7,
   "id": "1bd868d6",
   "metadata": {},
   "outputs": [
    {
     "name": "stdout",
     "output_type": "stream",
     "text": [
      "pygame 2.3.0 (SDL 2.24.2, Python 3.9.15)\n",
      "Hello from the pygame community. https://www.pygame.org/contribute.html\n"
     ]
    }
   ],
   "source": [
    "import pygame\n",
    "import time\n",
    "import random"
   ]
  },
  {
   "cell_type": "markdown",
   "id": "d32c3081",
   "metadata": {},
   "source": [
    "# setting snake speed"
   ]
  },
  {
   "cell_type": "code",
   "execution_count": 8,
   "id": "3f70276d",
   "metadata": {},
   "outputs": [],
   "source": [
    "snake_speed = 15"
   ]
  },
  {
   "cell_type": "markdown",
   "id": "ddd14dd6",
   "metadata": {},
   "source": [
    "# setting window siize"
   ]
  },
  {
   "cell_type": "code",
   "execution_count": 9,
   "id": "4a07214e",
   "metadata": {},
   "outputs": [],
   "source": [
    "window_x = 720\n",
    "window_y = 480"
   ]
  },
  {
   "cell_type": "markdown",
   "id": "92b9ef04",
   "metadata": {},
   "source": [
    "# define colour"
   ]
  },
  {
   "cell_type": "code",
   "execution_count": 12,
   "id": "ccdadc2e",
   "metadata": {},
   "outputs": [],
   "source": [
    "black = pygame.Color(0, 0, 0)\n",
    "white = pygame.Color(255, 255, 255)\n",
    "red = pygame.Color(255, 0, 0)\n",
    "green = pygame.Color(0, 255, 0)\n",
    "blue = pygame.Color(0, 0, 255)"
   ]
  },
  {
   "cell_type": "markdown",
   "id": "5f4e6249",
   "metadata": {},
   "source": [
    "# initializing pygames"
   ]
  },
  {
   "cell_type": "code",
   "execution_count": 13,
   "id": "30a31f90",
   "metadata": {},
   "outputs": [
    {
     "data": {
      "text/plain": [
       "(4, 1)"
      ]
     },
     "execution_count": 13,
     "metadata": {},
     "output_type": "execute_result"
    }
   ],
   "source": [
    "pygame.init()"
   ]
  },
  {
   "cell_type": "markdown",
   "id": "25d732fc",
   "metadata": {},
   "source": [
    "# initializing game window"
   ]
  },
  {
   "cell_type": "code",
   "execution_count": 15,
   "id": "e5dcafb2",
   "metadata": {},
   "outputs": [],
   "source": [
    "pygame.display.set_caption('snake')\n",
    "game_window = pygame.display.set_mode((window_x, window_y))"
   ]
  },
  {
   "cell_type": "markdown",
   "id": "ca36f1e9",
   "metadata": {},
   "source": [
    "# setting fps controller"
   ]
  },
  {
   "cell_type": "code",
   "execution_count": 16,
   "id": "0c3e0ab0",
   "metadata": {},
   "outputs": [
    {
     "ename": "AttributeError",
     "evalue": "module 'pygame' has no attribute 'timeclock'",
     "output_type": "error",
     "traceback": [
      "\u001b[1;31m---------------------------------------------------------------------------\u001b[0m",
      "\u001b[1;31mAttributeError\u001b[0m                            Traceback (most recent call last)",
      "Cell \u001b[1;32mIn[16], line 1\u001b[0m\n\u001b[1;32m----> 1\u001b[0m fps \u001b[38;5;241m=\u001b[39m \u001b[43mpygame\u001b[49m\u001b[38;5;241;43m.\u001b[39;49m\u001b[43mtimeclock\u001b[49m()\n",
      "\u001b[1;31mAttributeError\u001b[0m: module 'pygame' has no attribute 'timeclock'"
     ]
    }
   ],
   "source": [
    "fps = pygame.timeclock()"
   ]
  },
  {
   "cell_type": "markdown",
   "id": "2a064fb8",
   "metadata": {},
   "source": [
    "# define snake default posistion"
   ]
  },
  {
   "cell_type": "code",
   "execution_count": null,
   "id": "9a18927f",
   "metadata": {},
   "outputs": [],
   "source": [
    "snake_position =[100, 50]"
   ]
  },
  {
   "cell_type": "code",
   "execution_count": null,
   "id": "18e06887",
   "metadata": {},
   "outputs": [],
   "source": [
    "#defining 1 st 4 snake boddy blocks"
   ]
  },
  {
   "cell_type": "code",
   "execution_count": null,
   "id": "31d149e1",
   "metadata": {},
   "outputs": [],
   "source": [
    "snake_body = [[100,50],\n",
    "             [90, 50],\n",
    "             [80, 50],\n",
    "             [70, 50],\n",
    "             ]"
   ]
  },
  {
   "cell_type": "code",
   "execution_count": null,
   "id": "a2f69cd8",
   "metadata": {},
   "outputs": [],
   "source": [
    "#fruit position"
   ]
  },
  {
   "cell_type": "code",
   "execution_count": null,
   "id": "f5afdedc",
   "metadata": {},
   "outputs": [],
   "source": [
    "fruit_position =[random.randrange(1, (window_x//10))*10,\n",
    "                random.randrange(1, (window_y//10))*10]\n",
    "fruit_spawn =True"
   ]
  },
  {
   "cell_type": "markdown",
   "id": "6c4626dc",
   "metadata": {},
   "source": [
    "# right direction"
   ]
  },
  {
   "cell_type": "code",
   "execution_count": null,
   "id": "3724219e",
   "metadata": {},
   "outputs": [],
   "source": [
    "direction = 'RIGHT'\n",
    "change_to = direction"
   ]
  },
  {
   "cell_type": "markdown",
   "id": "3046e751",
   "metadata": {},
   "source": [
    "# set initial score"
   ]
  },
  {
   "cell_type": "code",
   "execution_count": null,
   "id": "b7304e9e",
   "metadata": {},
   "outputs": [],
   "source": [
    "score = 0"
   ]
  },
  {
   "cell_type": "markdown",
   "id": "2d3f3bdb",
   "metadata": {},
   "source": [
    "# function-scre display"
   ]
  },
  {
   "cell_type": "code",
   "execution_count": null,
   "id": "a723a817",
   "metadata": {},
   "outputs": [],
   "source": [
    "def show_score(choice, colour, font, size):\n",
    "    score_font =  pygame,font.SysFont(font, size)\n",
    "    score_surface = score_font.render('score : ' + str(score), True, colour)\n",
    "    score_rect = score_surface.get_rect()\n",
    "    game_window.blit(score_surface, score_rect)"
   ]
  },
  {
   "cell_type": "code",
   "execution_count": null,
   "id": "99b46b23",
   "metadata": {},
   "outputs": [],
   "source": [
    "#function game over"
   ]
  },
  {
   "cell_type": "code",
   "execution_count": null,
   "id": "dd2f059c",
   "metadata": {},
   "outputs": [],
   "source": [
    "def game_over():\n",
    "    my_font =pyagme.font.SysFont('times new roman', 50)\n",
    "    game_over_surface = my_font.render('Your score is : ' + str(score), True, red)\n",
    "    game_over_rect = gsme_over_surface.get_rect()\n",
    "    game_over_rect.midtop = (window_x/2, window_y/4)\n",
    "    game_window.blit(game_over_surface, game_over_rect)\n",
    "    pygame.display.flip()\n",
    "    time.sleep(2)\n",
    "    pygame.quit()\n",
    "    quit()"
   ]
  },
  {
   "cell_type": "code",
   "execution_count": null,
   "id": "6d498133",
   "metadata": {},
   "outputs": [],
   "source": [
    "#function -main game function"
   ]
  },
  {
   "cell_type": "code",
   "execution_count": null,
   "id": "bdd24297",
   "metadata": {},
   "outputs": [],
   "source": [
    "while True:\n",
    "    for event in pygame.event.get():\n",
    "        if event.type == pygame.KEYDOWN:\n",
    "            if event.Key == pygame.K_UP:\n",
    "                change_to = 'UP'\n",
    "            if event.Key == pygame.K_DOWN:\n",
    "                change_to = 'DOWN'\n",
    "            if event.Key == pygame.K_RIGHT:\n",
    "                change_to = 'RIGHT'\n",
    "            if event.Key == pygame.K_LEFT:\n",
    "                change_to = 'LEFT'\n",
    "                \n",
    "            if change_to =='UP' and 'direction' != 'DOWN':\n",
    "                direction = 'UP'\n",
    "            if change_to =='DOWN' and 'direction' != 'UP':\n",
    "                direction = 'DOWN'\n",
    "            if change_to =='LEFT' and 'direction' != 'RIGHT':\n",
    "                direction = 'LEFT'\n",
    "            if change_to =='RIGHT' and 'direction' != 'LEFT':\n",
    "                direction = 'RIGHT'\n",
    "                \n",
    "            if direction == 'UP':\n",
    "                snake_position[1] -= 10\n",
    "            if direction == 'DOWN':\n",
    "                snake_position[1] += 10\n",
    "            if direction == 'LEFT':\n",
    "                snake_position[1] -= 10\n",
    "            if direction == 'RIGHT':\n",
    "                snake_position[1] += 10\n",
    "                \n",
    "            snake_body.insert(0, list(snake_position))\n",
    "            if snake_positon[0] == fruit_position[0] and snake_position[1] == fruit_position[1]:\n",
    "                score += 10\n",
    "                fruit_spawn =False\n",
    "            else:\n",
    "                snake_body.pop()\n",
    "            if not fruit_spawn:\n",
    "                fruit_position = [random.randrange(1, (window_x//10))*10,\n",
    "                                  random.randrange(1, (window_y//10))*10]\n",
    "            fruit_spawn = True\n",
    "            game_window.fill(black)\n",
    "            \n",
    "            for pos in snake_body:\n",
    "                pygame.draw.rect(game_window, game,\n",
    "                                 pygame.Rect(pos[0], pos[1], 10, 10))\n",
    "            pygame.draw.rect(game_window, white, pygame.Rect(fruit_position[0], fruit_position[1], 10, 10))\n",
    "            \n",
    "            if snake_position[0] < 0 or snake_position[0] < window_x-10:\n",
    "                game_over()\n",
    "            if snake_position[1] < 0 or snake_position[1] < window_y-10:\n",
    "                game_over()\n",
    "                \n",
    "            for block in snake_body[1:]:\n",
    "                if snake_position[0] == block[0] and snake_position[1] == block[1]:\n",
    "                    game_over()\n",
    "                    \n",
    "                show_score(1, white, 'times new roman', 20)\n",
    "                pygame.display.update()\n",
    "                fps.tick(snake_speed)\n",
    "            "
   ]
  },
  {
   "cell_type": "code",
   "execution_count": null,
   "id": "59748031",
   "metadata": {},
   "outputs": [],
   "source": []
  },
  {
   "cell_type": "code",
   "execution_count": null,
   "id": "b0631b13",
   "metadata": {},
   "outputs": [],
   "source": []
  },
  {
   "cell_type": "code",
   "execution_count": null,
   "id": "0ee37d47",
   "metadata": {},
   "outputs": [],
   "source": []
  },
  {
   "cell_type": "code",
   "execution_count": null,
   "id": "bd7ae6f5",
   "metadata": {},
   "outputs": [],
   "source": []
  },
  {
   "cell_type": "code",
   "execution_count": null,
   "id": "b4630be4",
   "metadata": {},
   "outputs": [],
   "source": []
  },
  {
   "cell_type": "code",
   "execution_count": null,
   "id": "f1a6b652",
   "metadata": {},
   "outputs": [],
   "source": []
  },
  {
   "cell_type": "code",
   "execution_count": null,
   "id": "3a626b1a",
   "metadata": {},
   "outputs": [],
   "source": []
  },
  {
   "cell_type": "code",
   "execution_count": null,
   "id": "dd7b9117",
   "metadata": {},
   "outputs": [],
   "source": []
  },
  {
   "cell_type": "code",
   "execution_count": null,
   "id": "03cb2eb9",
   "metadata": {},
   "outputs": [],
   "source": []
  },
  {
   "cell_type": "code",
   "execution_count": null,
   "id": "bfad9da1",
   "metadata": {},
   "outputs": [],
   "source": []
  }
 ],
 "metadata": {
  "kernelspec": {
   "display_name": "Python 3 (ipykernel)",
   "language": "python",
   "name": "python3"
  },
  "language_info": {
   "codemirror_mode": {
    "name": "ipython",
    "version": 3
   },
   "file_extension": ".py",
   "mimetype": "text/x-python",
   "name": "python",
   "nbconvert_exporter": "python",
   "pygments_lexer": "ipython3",
   "version": "3.9.15"
  }
 },
 "nbformat": 4,
 "nbformat_minor": 5
}
