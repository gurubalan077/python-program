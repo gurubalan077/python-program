{
 "cells": [
  {
   "cell_type": "code",
   "execution_count": 22,
   "id": "586d5260",
   "metadata": {},
   "outputs": [],
   "source": [
    "import tkinter as Tk\n",
    "import math"
   ]
  },
  {
   "cell_type": "markdown",
   "id": "043ed4fa",
   "metadata": {},
   "source": [
    "# create the root window"
   ]
  },
  {
   "cell_type": "code",
   "execution_count": 23,
   "id": "ce5fc81e",
   "metadata": {},
   "outputs": [],
   "source": [
    "root = tk.Tk()\n",
    "root.title(\"Scientific calculator\")\n",
    "root.configure(background=\"black\")\n",
    "root.geometry(\"491x774\")\n",
    "calc = tk.Frame(root)\n",
    "calc.grid()\n",
    "\n"
   ]
  },
  {
   "cell_type": "code",
   "execution_count": 27,
   "id": "50a06031",
   "metadata": {},
   "outputs": [],
   "source": [
    "class Calc():\n",
    "    def __init__(self):\n",
    "        self.total = 0\n",
    "        self.current = ''\n",
    "        self.input_value = True\n",
    "        self.check_sum = False \n",
    "        self.op = ''\n",
    "        self.result = False\n",
    "        \n",
    "    def numberEnter(self, num):\n",
    "        self.result = False\n",
    "        firstnum = txtDisplay.get()\n",
    "        secondnum = str(num)\n",
    "        if self.input_value:\n",
    "            self.current = secondnum\n",
    "            self.input_value = False\n",
    "        else:\n",
    "            if secondnum == '.':\n",
    "                if secondnum in firstnum:\n",
    "                    return\n",
    "            self.current = firstnum + secondnum\n",
    "        self.display(self.current)\n",
    "        \n",
    "    def sum_of_total(self):\n",
    "        self.result = True\n",
    "        self.current = float(self.current)\n",
    "        if self.check_sum == True:\n",
    "            self.valid_function()\n",
    "        else:\n",
    "            self.total = float(txtDisplay.get())\n",
    "                \n",
    "    def display(self, value):\n",
    "        txtDisplay.delete(0, tk.END)\n",
    "        txtDisplay.insert(0, value)\n",
    "            \n",
    "    def valid_function(self):\n",
    "        if self.op == \"add\":\n",
    "            self.total += self.current\n",
    "        if self.op == \"sub\":\n",
    "            self.total -= self.current\n",
    "        if self.op == \"divide\":\n",
    "            self.total /= self.current\n",
    "        if self.op == \"multiply\":\n",
    "            self.total *= self.current\n",
    "        if self.op == \"mod\":\n",
    "            self.total %= self.current\n",
    "        self.input_value = True\n",
    "        self.check_sum = False\n",
    "        self.display(self.total)\n",
    "        \n",
    "    def operation(self, op):\n",
    "        self.current = float(self.current)\n",
    "        if self.check_sum:\n",
    "            self.valid_function()\n",
    "        elif not self.result:\n",
    "            self.total = self.current\n",
    "            self.input_value = True\n",
    "        self.check_sum = True\n",
    "        self.op = op\n",
    "        self.result = False\n",
    "            \n",
    "    def clear_Entry(self):\n",
    "        self.result = False \n",
    "        self.current = \"0\"\n",
    "        self.display(0)\n",
    "        self.input_value = True\n",
    "            \n",
    "    def pi(self):\n",
    "        self.result = False \n",
    "        self.current = math.pi\n",
    "        self.display(self.current)\n",
    "            \n",
    "    def cos(self):\n",
    "        self.result = False\n",
    "        self.current = math.cos(math.radians(float(txtDisplay.get())))\n",
    "        self.display(self.current)\n",
    "            \n",
    "    def sin(self):\n",
    "        self.result = False\n",
    "        self.current = math.sin(math.radians(float(txtDisplay.get())))\n",
    "        self.display(self.current)\n",
    "            \n",
    "    def tan(self):\n",
    "        self.result = False\n",
    "        self.current = math.tan(math.radians(float(txtDisplay.get())))\n",
    "        self.display(self.current)\n",
    "            \n",
    "    def square(self):\n",
    "        self.result = False\n",
    "        self.current = math.sqrt(float(txtDisplay.get()))\n",
    "        self.display(self.current)\n",
    "        \n",
    "added_value = Calc()"
   ]
  },
  {
   "cell_type": "code",
   "execution_count": 29,
   "id": "6044dceb",
   "metadata": {},
   "outputs": [],
   "source": [
    "txtDisplay = tk.Entry(calc, font=(\"Helvetica\", 20, \"bold\"), bg=\"black\", fg=\"white\", bd=20, width=30, justify=\"right\")\n",
    "txtDisplay.grid(row=0, column=0, columnspan=4, pady=1)\n",
    "txtDisplay.insert(0, \"0\")\n",
    "txtDisplay1 = tk.Entry(calc, font=(\"Helvetica\", 20, \"bold\"), bg=\"black\", fg=\"white\", bd=20, width=30, justify=\"right\")\n",
    "txtDisplay1.grid(row=0, column=0, columnspan=4, pady=1)\n",
    "txtDisplay1.insert(0, \"0\")\n",
    "\n"
   ]
  },
  {
   "cell_type": "code",
   "execution_count": 16,
   "id": "cb9e77eb",
   "metadata": {},
   "outputs": [
    {
     "ename": "SyntaxError",
     "evalue": "positional argument follows keyword argument (1489899282.py, line 7)",
     "output_type": "error",
     "traceback": [
      "\u001b[1;36m  File \u001b[1;32m\"C:\\Users\\aedpu\\AppData\\Local\\Temp\\ipykernel_2836\\1489899282.py\"\u001b[1;36m, line \u001b[1;32m7\u001b[0m\n\u001b[1;33m    bd=0,taxt=numberpad[i]))\u001b[0m\n\u001b[1;37m                          ^\u001b[0m\n\u001b[1;31mSyntaxError\u001b[0m\u001b[1;31m:\u001b[0m positional argument follows keyword argument\n"
     ]
    }
   ],
   "source": [
    "numberpad = '123456789'\n",
    "i=0\n",
    "btn=[]\n",
    "for j in range(3,6):\n",
    "    for k in range(3):\n",
    "        btn.append(Button(calc, width=0,height=2, bg = 'violet', fg= 'black', font=\"cambria\",20,\"bold\",\n",
    "                           bd=0,taxt=numberpad[i]))\n",
    "        btn[i].grid(row=j , column= k , pady = 1)\n",
    "        btn[i][\"command\"]=lambda x=numberpad[i]: added_value.numberEnter(x)\n",
    "        i+=1"
   ]
  },
  {
   "cell_type": "code",
   "execution_count": null,
   "id": "adbc1d4e",
   "metadata": {},
   "outputs": [],
   "source": [
    "btnClear = Button(calc,taxt= chr)"
   ]
  }
 ],
 "metadata": {
  "kernelspec": {
   "display_name": "Python 3 (ipykernel)",
   "language": "python",
   "name": "python3"
  },
  "language_info": {
   "codemirror_mode": {
    "name": "ipython",
    "version": 3
   },
   "file_extension": ".py",
   "mimetype": "text/x-python",
   "name": "python",
   "nbconvert_exporter": "python",
   "pygments_lexer": "ipython3",
   "version": "3.9.13"
  }
 },
 "nbformat": 4,
 "nbformat_minor": 5
}
