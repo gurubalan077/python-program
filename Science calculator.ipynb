{
 "cells": [
  {
   "cell_type": "code",
   "execution_count": 1,
   "id": "7f5aa07d",
   "metadata": {},
   "outputs": [],
   "source": [
    "import tkinter as tk\n",
    "import math\n"
   ]
  },
  {
   "cell_type": "markdown",
   "id": "e7d2320d",
   "metadata": {},
   "source": [
    "# create the root window"
   ]
  },
  {
   "cell_type": "code",
   "execution_count": 4,
   "id": "2cc897c2",
   "metadata": {},
   "outputs": [
    {
     "ename": "AttributeError",
     "evalue": "module 'tkinter' has no attribute 'title'",
     "output_type": "error",
     "traceback": [
      "\u001b[1;31m---------------------------------------------------------------------------\u001b[0m",
      "\u001b[1;31mAttributeError\u001b[0m                            Traceback (most recent call last)",
      "\u001b[1;32m~\\AppData\\Local\\Temp\\ipykernel_2708\\3681400962.py\u001b[0m in \u001b[0;36m<module>\u001b[1;34m\u001b[0m\n\u001b[0;32m      1\u001b[0m \u001b[0mroot\u001b[0m \u001b[1;33m=\u001b[0m \u001b[0mtk\u001b[0m\u001b[1;33m\u001b[0m\u001b[1;33m\u001b[0m\u001b[0m\n\u001b[1;32m----> 2\u001b[1;33m \u001b[0mroot\u001b[0m\u001b[1;33m.\u001b[0m\u001b[0mtitle\u001b[0m\u001b[1;33m(\u001b[0m\u001b[1;34m\"Scientific calculator\"\u001b[0m\u001b[1;33m)\u001b[0m\u001b[1;33m\u001b[0m\u001b[1;33m\u001b[0m\u001b[0m\n\u001b[0m\u001b[0;32m      3\u001b[0m \u001b[0mroot\u001b[0m\u001b[1;33m.\u001b[0m\u001b[0mconfigure\u001b[0m\u001b[1;33m(\u001b[0m\u001b[0mbackground\u001b[0m\u001b[1;33m=\u001b[0m\u001b[1;34m\"black\"\u001b[0m\u001b[1;33m)\u001b[0m\u001b[1;33m\u001b[0m\u001b[1;33m\u001b[0m\u001b[0m\n\u001b[0;32m      4\u001b[0m \u001b[0mroot\u001b[0m\u001b[1;33m.\u001b[0m\u001b[0mgeometry\u001b[0m\u001b[1;33m(\u001b[0m\u001b[1;34m\"491x774\"\u001b[0m\u001b[1;33m)\u001b[0m\u001b[1;33m\u001b[0m\u001b[1;33m\u001b[0m\u001b[0m\n\u001b[0;32m      5\u001b[0m \u001b[0mcalc\u001b[0m \u001b[1;33m=\u001b[0m \u001b[0mtk\u001b[0m\u001b[1;33m.\u001b[0m\u001b[0mFrame\u001b[0m\u001b[1;33m(\u001b[0m\u001b[0mroot\u001b[0m\u001b[1;33m)\u001b[0m\u001b[1;33m\u001b[0m\u001b[1;33m\u001b[0m\u001b[0m\n",
      "\u001b[1;31mAttributeError\u001b[0m: module 'tkinter' has no attribute 'title'"
     ]
    }
   ],
   "source": [
    "root = tk\n",
    "root.title(\"Scientific calculator\")\n",
    "root.configure(background=\"black\")\n",
    "root.geometry(\"491x774\")\n",
    "calc = tk.Frame(root)\n",
    "calc.grid()\n"
   ]
  },
  {
   "cell_type": "code",
   "execution_count": null,
   "id": "d8497e11",
   "metadata": {},
   "outputs": [],
   "source": [
    "class calc:\n",
    "    def __init__(self):\n",
    "        self.total=0\n",
    "        self.current=''\n",
    "        self.input_vavule=True\n",
    "        self.check_sum=False\n",
    "        self.op=''\n",
    "        self.result=False\n",
    "        \n",
    "    def numberEnter(self,num):\n",
    "        self.result=False\n",
    "        firstnum=txtDisplay.get()\n",
    "        secoundnum=str(num)\n",
    "        if self.input_value:\n",
    "            self.current = secoundnum\n",
    "            self.input_value=False\n",
    "            \n",
    "        else:\n",
    "            if secondnum == '':\n",
    "                if secondnum in firstnum:\n",
    "                    return\n",
    "            self.current = firstnum+secondnum\n",
    "        self.display(self.current)\n",
    "    def sum_of_total:\n",
    "        self.result=True\n",
    "        self.current=float(self.current)\n",
    "        if self.chack_num_sum==True\n",
    "           self.valid_function()\n",
    "            \n",
    "        else:\n",
    "            self.total(txtDisplay.get())\n",
    "            \n",
    "    def  display(self,vavule):\n",
    "        txtDisplay.delete(0,END)\n",
    "        txtDisplay.insert(0,vavule)\n",
    "        \n",
    "    def  display1(self,vavule):\n",
    "        txtDisplay.delete(0,END)\n",
    "        txtDisplay.insert(0,vavule)    \n",
    "    \n",
    "    def valid_function(self):\n",
    "        if self.op == \"add\":\n",
    "            self.total == self.current\n",
    "        if self.op == \"sub\":\n",
    "            self.total == self.current \n",
    "        if self.op == \"multi\":\n",
    "            self.total == self.current\n",
    "        if self.op == \"divide\":\n",
    "            self.total == self.current\n",
    "        if self.op == \"mod\":\n",
    "            self.total == self.current\n",
    "             \n",
    "                \n",
    "            self.total /= self.current\n",
    "        if self.op ==\"mod\":\n",
    "            self.total %= self.current\n",
    "            self.input_vavule=True\n",
    "            "
   ]
  }
 ],
 "metadata": {
  "kernelspec": {
   "display_name": "Python 3 (ipykernel)",
   "language": "python",
   "name": "python3"
  },
  "language_info": {
   "codemirror_mode": {
    "name": "ipython",
    "version": 3
   },
   "file_extension": ".py",
   "mimetype": "text/x-python",
   "name": "python",
   "nbconvert_exporter": "python",
   "pygments_lexer": "ipython3",
   "version": "3.9.13"
  }
 },
 "nbformat": 4,
 "nbformat_minor": 5
}
