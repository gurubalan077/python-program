{
 "cells": [
  {
   "cell_type": "code",
   "execution_count": 59,
   "id": "586d5260",
   "metadata": {},
   "outputs": [],
   "source": [
    "import tkinter as Tk\n",
    "import math"
   ]
  },
  {
   "cell_type": "markdown",
   "id": "043ed4fa",
   "metadata": {},
   "source": [
    "# create the root window"
   ]
  },
  {
   "cell_type": "code",
   "execution_count": 60,
   "id": "ce5fc81e",
   "metadata": {},
   "outputs": [],
   "source": [
    "root = tk.Tk()\n",
    "root.title(\"Scientific calculator\")\n",
    "root.configure(background=\"black\")\n",
    "root.geometry(\"491x774\")\n",
    "calc = tk.Frame(root)\n",
    "calc.grid()\n",
    "\n"
   ]
  },
  {
   "cell_type": "code",
   "execution_count": 70,
   "id": "cd1eee43",
   "metadata": {},
   "outputs": [],
   "source": [
    "class Calc():\n",
    "    def __init__(self):\n",
    "        self.total = 0\n",
    "        self.current = ''\n",
    "        self.input_value = True\n",
    "        self.check_sum = False \n",
    "        self.op = ''\n",
    "        self.result = False\n",
    "        \n",
    "    def numberEnter(self, num):\n",
    "        self.result = False\n",
    "        firstnum = txtDisplay.get()\n",
    "        secondnum = str(num)\n",
    "        if self.input_value:\n",
    "            self.current = secondnum\n",
    "            self.input_value = False\n",
    "        else:\n",
    "            if secondnum == '.':\n",
    "                if secondnum in firstnum:\n",
    "                    return\n",
    "            self.current = firstnum + secondnum\n",
    "        self.display(self.current)\n",
    "        \n",
    "    def sum_of_total(self):\n",
    "        self.result = True\n",
    "        self.current = float(self.current)\n",
    "        if self.check_sum == True:\n",
    "            self.valid_function()\n",
    "        else:\n",
    "            self.total = float(txtDisplay.get())\n",
    "                \n",
    "    def display(self, value):\n",
    "        txtDisplay.delete(0, tk.END)\n",
    "        txtDisplay.insert(0, value)\n",
    "            \n",
    "    def valid_function(self):\n",
    "        if self.op == \"add\":\n",
    "            self.total += self.current\n",
    "        if self.op == \"sub\":\n",
    "            self.total -= self.current\n",
    "        if self.op == \"divide\":\n",
    "            self.total /= self.current\n",
    "        if self.op == \"multiply\":\n",
    "            self.total *= self.current\n",
    "        if self.op == \"mod\":\n",
    "            self.total %= self.current\n",
    "        self.input_value = True\n",
    "        self.check_sum = False\n",
    "        self.display(self.total)\n",
    "        \n",
    "    def operation(self, op):\n",
    "        self.current = float(self.current)\n",
    "        if self.check_sum:\n",
    "            self.valid_function()\n",
    "        elif not self.result:\n",
    "            self.total = self.current\n",
    "            self.input_value = True\n",
    "        self.check_sum = True\n",
    "        self.op = op\n",
    "        self.result = False\n",
    "            \n",
    "    def clear_Entry(self):\n",
    "        self.result = False \n",
    "        self.current = \"0\"\n",
    "        self.display(0)\n",
    "        self.input_value = True\n",
    "            \n",
    "    def pi(self):\n",
    "        self.result = False \n",
    "        self.current = math.pi\n",
    "        self.display1(self.current)\n",
    "      \n",
    "    \n",
    "    def cos(self):\n",
    "        self.result = False\n",
    "        self.current = math.cos(math.radians(float(txtDisplay.get())))\n",
    "        self.display1(self.current)\n",
    " \n",
    "   \n",
    "    def sin(self):\n",
    "        self.result = False\n",
    "        self.current = math.sin(math.radians(float(txtDisplay.get())))\n",
    "        self.display1(self.current)\n",
    "       \n",
    "    \n",
    "    def tan(self):\n",
    "        self.result = False\n",
    "        self.current = math.tan(math.radians(float(txtDisplay.get())))\n",
    "        self.display1(self.current)\n",
    "       \n",
    "     \n",
    "    def square(self):\n",
    "        self.result = False\n",
    "        self.current = math.sqrt(float(txtDisplay.get()))\n",
    "        self.display1(self.current)\n",
    "       "
   ]
  },
  {
   "cell_type": "code",
   "execution_count": 71,
   "id": "76bd294a",
   "metadata": {},
   "outputs": [],
   "source": [
    "txtDisplay = tk.Entry(calc, font=(\"Helvetica\", 20, \"bold\"), bg=\"black\", fg=\"white\", bd=20, width=30, justify=\"right\")\n",
    "txtDisplay.grid(row=0, column=0, columnspan=4, pady=1)\n",
    "txtDisplay.insert(0, \"0\")\n",
    "txtDisplay1 = tk.Entry(calc, font=(\"Helvetica\", 20, \"bold\"), bg=\"black\", fg=\"white\", bd=20, width=30, justify=\"right\")\n",
    "txtDisplay1.grid(row=0, column=0, columnspan=4, pady=1)\n",
    "txtDisplay1.insert(0, \"0\")\n"
   ]
  },
  {
   "cell_type": "code",
   "execution_count": 72,
   "id": "8d6a2a16",
   "metadata": {},
   "outputs": [
    {
     "ename": "NameError",
     "evalue": "name 'Button' is not defined",
     "output_type": "error",
     "traceback": [
      "\u001b[1;31m---------------------------------------------------------------------------\u001b[0m",
      "\u001b[1;31mNameError\u001b[0m                                 Traceback (most recent call last)",
      "\u001b[1;32m~\\AppData\\Local\\Temp\\ipykernel_2836\\997137690.py\u001b[0m in \u001b[0;36m<module>\u001b[1;34m\u001b[0m\n\u001b[0;32m      4\u001b[0m \u001b[1;32mfor\u001b[0m \u001b[0mj\u001b[0m \u001b[1;32min\u001b[0m \u001b[0mrange\u001b[0m\u001b[1;33m(\u001b[0m\u001b[1;36m3\u001b[0m\u001b[1;33m,\u001b[0m \u001b[1;36m6\u001b[0m\u001b[1;33m)\u001b[0m\u001b[1;33m:\u001b[0m\u001b[1;33m\u001b[0m\u001b[1;33m\u001b[0m\u001b[0m\n\u001b[0;32m      5\u001b[0m     \u001b[1;32mfor\u001b[0m \u001b[0mk\u001b[0m \u001b[1;32min\u001b[0m \u001b[0mrange\u001b[0m\u001b[1;33m(\u001b[0m\u001b[1;36m3\u001b[0m\u001b[1;33m)\u001b[0m\u001b[1;33m:\u001b[0m\u001b[1;33m\u001b[0m\u001b[1;33m\u001b[0m\u001b[0m\n\u001b[1;32m----> 6\u001b[1;33m         \u001b[0mbtn\u001b[0m\u001b[1;33m.\u001b[0m\u001b[0mappend\u001b[0m\u001b[1;33m(\u001b[0m\u001b[0mButton\u001b[0m\u001b[1;33m(\u001b[0m\u001b[0mcalc\u001b[0m\u001b[1;33m,\u001b[0m \u001b[0mwidth\u001b[0m\u001b[1;33m=\u001b[0m\u001b[1;36m6\u001b[0m\u001b[1;33m,\u001b[0m \u001b[0mbg\u001b[0m\u001b[1;33m=\u001b[0m\u001b[1;34m'red'\u001b[0m\u001b[1;33m,\u001b[0m \u001b[0mfg\u001b[0m\u001b[1;33m=\u001b[0m\u001b[1;34m'black'\u001b[0m\u001b[1;33m,\u001b[0m \u001b[0mfont\u001b[0m\u001b[1;33m=\u001b[0m\u001b[1;33m(\u001b[0m\u001b[1;34m'Times new roman'\u001b[0m\u001b[1;33m,\u001b[0m \u001b[1;36m20\u001b[0m\u001b[1;33m,\u001b[0m \u001b[1;34m'bold'\u001b[0m\u001b[1;33m)\u001b[0m\u001b[1;33m,\u001b[0m \u001b[0mbd\u001b[0m\u001b[1;33m=\u001b[0m\u001b[1;36m4\u001b[0m\u001b[1;33m,\u001b[0m \u001b[0mtext\u001b[0m\u001b[1;33m=\u001b[0m\u001b[0mnumberpad\u001b[0m\u001b[1;33m[\u001b[0m\u001b[0mi\u001b[0m\u001b[1;33m]\u001b[0m\u001b[1;33m)\u001b[0m\u001b[1;33m)\u001b[0m\u001b[1;33m\u001b[0m\u001b[1;33m\u001b[0m\u001b[0m\n\u001b[0m\u001b[0;32m      7\u001b[0m         \u001b[0mbtn\u001b[0m\u001b[1;33m[\u001b[0m\u001b[0mi\u001b[0m\u001b[1;33m]\u001b[0m\u001b[1;33m.\u001b[0m\u001b[0mgrid\u001b[0m\u001b[1;33m(\u001b[0m\u001b[0mrow\u001b[0m\u001b[1;33m=\u001b[0m\u001b[0mj\u001b[0m\u001b[1;33m,\u001b[0m \u001b[0mcolumn\u001b[0m\u001b[1;33m=\u001b[0m\u001b[0mk\u001b[0m\u001b[1;33m,\u001b[0m \u001b[0mpady\u001b[0m\u001b[1;33m=\u001b[0m\u001b[1;36m1\u001b[0m\u001b[1;33m)\u001b[0m\u001b[1;33m\u001b[0m\u001b[1;33m\u001b[0m\u001b[0m\n\u001b[0;32m      8\u001b[0m         \u001b[0mbtn\u001b[0m\u001b[1;33m[\u001b[0m\u001b[0mi\u001b[0m\u001b[1;33m]\u001b[0m\u001b[1;33m[\u001b[0m\u001b[1;34m\"command\"\u001b[0m\u001b[1;33m]\u001b[0m \u001b[1;33m=\u001b[0m \u001b[1;32mlambda\u001b[0m \u001b[0mx\u001b[0m\u001b[1;33m=\u001b[0m\u001b[0mnumberpad\u001b[0m\u001b[1;33m[\u001b[0m\u001b[0mi\u001b[0m\u001b[1;33m]\u001b[0m\u001b[1;33m:\u001b[0m \u001b[0madded_value\u001b[0m\u001b[1;33m.\u001b[0m\u001b[0mnumberEnter\u001b[0m\u001b[1;33m(\u001b[0m\u001b[0mx\u001b[0m\u001b[1;33m)\u001b[0m\u001b[1;33m\u001b[0m\u001b[1;33m\u001b[0m\u001b[0m\n",
      "\u001b[1;31mNameError\u001b[0m: name 'Button' is not defined"
     ]
    }
   ],
   "source": [
    "numberpad = \"123456789\"\n",
    "i = 0\n",
    "btn = []\n",
    "for j in range(3, 6):\n",
    "    for k in range(3):\n",
    "        btn.append(Button(calc, width=6, bg='red', fg='black', font=('Times new roman', 20, 'bold'), bd=4, text=numberpad[i]))\n",
    "        btn[i].grid(row=j, column=k, pady=1)\n",
    "        btn[i][\"command\"] = lambda x=numberpad[i]: added_value.numberEnter(x)\n",
    "        i += 1\n"
   ]
  },
  {
   "cell_type": "code",
   "execution_count": null,
   "id": "0c82c989",
   "metadata": {},
   "outputs": [],
   "source": [
    "btnClear = Button(calc,taxt= chr(67),widt)\n",
    "\n"
   ]
  }
 ],
 "metadata": {
  "kernelspec": {
   "display_name": "Python 3 (ipykernel)",
   "language": "python",
   "name": "python3"
  },
  "language_info": {
   "codemirror_mode": {
    "name": "ipython",
    "version": 3
   },
   "file_extension": ".py",
   "mimetype": "text/x-python",
   "name": "python",
   "nbconvert_exporter": "python",
   "pygments_lexer": "ipython3",
   "version": "3.9.13"
  }
 },
 "nbformat": 4,
 "nbformat_minor": 5
}
