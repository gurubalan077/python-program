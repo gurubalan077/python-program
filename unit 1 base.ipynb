{
 "cells": [
  {
   "cell_type": "markdown",
   "id": "07d77dbb",
   "metadata": {},
   "source": [
    "# variable "
   ]
  },
  {
   "cell_type": "code",
   "execution_count": 1,
   "id": "fc870483",
   "metadata": {},
   "outputs": [
    {
     "name": "stdout",
     "output_type": "stream",
     "text": [
      "80\n"
     ]
    }
   ],
   "source": [
    "Class=80\n",
    "print(Class)\n"
   ]
  },
  {
   "cell_type": "code",
   "execution_count": 2,
   "id": "13feb6f9",
   "metadata": {},
   "outputs": [
    {
     "ename": "SyntaxError",
     "evalue": "invalid syntax (3204328323.py, line 1)",
     "output_type": "error",
     "traceback": [
      "\u001b[1;36m  File \u001b[1;32m\"C:\\Users\\Admin\\AppData\\Local\\Temp\\ipykernel_3504\\3204328323.py\"\u001b[1;36m, line \u001b[1;32m1\u001b[0m\n\u001b[1;33m    clas.=656732\u001b[0m\n\u001b[1;37m         ^\u001b[0m\n\u001b[1;31mSyntaxError\u001b[0m\u001b[1;31m:\u001b[0m invalid syntax\n"
     ]
    }
   ],
   "source": [
    "clas.=656732\n",
    "print(clas.)"
   ]
  },
  {
   "cell_type": "code",
   "execution_count": 3,
   "id": "5ef47f0c",
   "metadata": {},
   "outputs": [
    {
     "name": "stdout",
     "output_type": "stream",
     "text": [
      "7856\n"
     ]
    }
   ],
   "source": [
    "_claaa=7856\n",
    "print(_claaa)"
   ]
  },
  {
   "cell_type": "code",
   "execution_count": 4,
   "id": "a72d5149",
   "metadata": {},
   "outputs": [
    {
     "name": "stdout",
     "output_type": "stream",
     "text": [
      "6789\n"
     ]
    }
   ],
   "source": [
    "num10=6789\n",
    "print(num10)"
   ]
  },
  {
   "cell_type": "code",
   "execution_count": 5,
   "id": "298e0499",
   "metadata": {},
   "outputs": [
    {
     "name": "stdout",
     "output_type": "stream",
     "text": [
      "694\n"
     ]
    }
   ],
   "source": [
    "number_gg=694\n",
    "print(number_gg)"
   ]
  },
  {
   "cell_type": "code",
   "execution_count": 6,
   "id": "f3f0d0f0",
   "metadata": {},
   "outputs": [
    {
     "ename": "SyntaxError",
     "evalue": "invalid syntax (1353959903.py, line 1)",
     "output_type": "error",
     "traceback": [
      "\u001b[1;36m  File \u001b[1;32m\"C:\\Users\\Admin\\AppData\\Local\\Temp\\ipykernel_3504\\1353959903.py\"\u001b[1;36m, line \u001b[1;32m1\u001b[0m\n\u001b[1;33m    765hjyt=t678\u001b[0m\n\u001b[1;37m       ^\u001b[0m\n\u001b[1;31mSyntaxError\u001b[0m\u001b[1;31m:\u001b[0m invalid syntax\n"
     ]
    }
   ],
   "source": [
    "765hjyt=t678\n",
    "print(765hjyt)"
   ]
  },
  {
   "cell_type": "code",
   "execution_count": 7,
   "id": "c52a58b5",
   "metadata": {},
   "outputs": [
    {
     "name": "stdout",
     "output_type": "stream",
     "text": [
      "67887\n"
     ]
    }
   ],
   "source": [
    "Type=67887\n",
    "print(Type)"
   ]
  },
  {
   "cell_type": "markdown",
   "id": "f3a1159c",
   "metadata": {},
   "source": [
    "# data type\n"
   ]
  },
  {
   "cell_type": "code",
   "execution_count": 8,
   "id": "820d1811",
   "metadata": {},
   "outputs": [
    {
     "name": "stdout",
     "output_type": "stream",
     "text": [
      "Enter the first name :\n",
      "Enter the last name :\n",
      "\n"
     ]
    }
   ],
   "source": [
    "gu=input(\"Enter the first name :\")\n",
    "gbn=input(\"Enter the last name :\")\n",
    "print(gu+gbn)"
   ]
  },
  {
   "cell_type": "code",
   "execution_count": 9,
   "id": "816e849b",
   "metadata": {},
   "outputs": [
    {
     "name": "stdout",
     "output_type": "stream",
     "text": [
      "[8978, 890789]\n"
     ]
    },
    {
     "data": {
      "text/plain": [
       "list"
      ]
     },
     "execution_count": 9,
     "metadata": {},
     "output_type": "execute_result"
    }
   ],
   "source": [
    "hi=[8978,890789]\n",
    "print(hi)\n",
    "type(hi)"
   ]
  },
  {
   "cell_type": "code",
   "execution_count": 10,
   "id": "8c3dd103",
   "metadata": {},
   "outputs": [
    {
     "name": "stdout",
     "output_type": "stream",
     "text": [
      "(78543685768, 879678543)\n"
     ]
    },
    {
     "data": {
      "text/plain": [
       "tuple"
      ]
     },
     "execution_count": 10,
     "metadata": {},
     "output_type": "execute_result"
    }
   ],
   "source": [
    "gt=(78543685768,879678543)\n",
    "print(gt)\n",
    "type(gt)"
   ]
  },
  {
   "cell_type": "code",
   "execution_count": 11,
   "id": "a6b89a3b",
   "metadata": {},
   "outputs": [
    {
     "name": "stdout",
     "output_type": "stream",
     "text": [
      "{5, 6, 7, 489, 'durai', (89+8j), 'hayas', 88}\n",
      "{489, 890, 'guru', 54}\n"
     ]
    },
    {
     "data": {
      "text/plain": [
       "set"
      ]
     },
     "execution_count": 11,
     "metadata": {},
     "output_type": "execute_result"
    }
   ],
   "source": [
    "mmm={6,5,7,489,\"durai\",\"hayas\",89+8j,88}\n",
    "mm1={54,890,489,\"guru\"}\n",
    "print(mmm)\n",
    "print(mm1)\n",
    "type(mmm)\n",
    "type(mm1)"
   ]
  },
  {
   "cell_type": "code",
   "execution_count": 12,
   "id": "2f2c7c5c",
   "metadata": {},
   "outputs": [
    {
     "name": "stdout",
     "output_type": "stream",
     "text": [
      "{1: 'hi', 2: 'da', 3: 'pop'}\n",
      "{1: 85, 2: 896, 3: 'duqri'}\n"
     ]
    },
    {
     "data": {
      "text/plain": [
       "dict"
      ]
     },
     "execution_count": 12,
     "metadata": {},
     "output_type": "execute_result"
    }
   ],
   "source": [
    "y1={1:\"hi\",2:\"da\",3:\"pop\"}\n",
    "yyy={1:85,2:896,3:\"duqri\"}\n",
    "print(y1)\n",
    "print(yyy)\n",
    "type(y1)\n",
    "type(yyy)"
   ]
  },
  {
   "cell_type": "markdown",
   "id": "d0a3b306",
   "metadata": {},
   "source": [
    "# data\n"
   ]
  },
  {
   "cell_type": "code",
   "execution_count": 13,
   "id": "0c50d230",
   "metadata": {},
   "outputs": [
    {
     "name": "stdout",
     "output_type": "stream",
     "text": [
      "766\n"
     ]
    },
    {
     "data": {
      "text/plain": [
       "int"
      ]
     },
     "execution_count": 13,
     "metadata": {},
     "output_type": "execute_result"
    }
   ],
   "source": [
    "bb=(766)\n",
    "print(bb)\n",
    "type(bb)"
   ]
  },
  {
   "cell_type": "code",
   "execution_count": 14,
   "id": "8f5c7b44",
   "metadata": {},
   "outputs": [
    {
     "name": "stdout",
     "output_type": "stream",
     "text": [
      "(3264+5j)\n"
     ]
    },
    {
     "data": {
      "text/plain": [
       "complex"
      ]
     },
     "execution_count": 14,
     "metadata": {},
     "output_type": "execute_result"
    }
   ],
   "source": [
    "fff=(5j+3264)\n",
    "print(fff)\n",
    "type(fff)"
   ]
  },
  {
   "cell_type": "code",
   "execution_count": 15,
   "id": "6b8805cf",
   "metadata": {},
   "outputs": [
    {
     "name": "stdout",
     "output_type": "stream",
     "text": [
      "(78543685768, 879678543)\n"
     ]
    },
    {
     "data": {
      "text/plain": [
       "tuple"
      ]
     },
     "execution_count": 15,
     "metadata": {},
     "output_type": "execute_result"
    }
   ],
   "source": [
    "gt1=(78543685768,879678543)\n",
    "print(gt1)\n",
    "type(gt1)"
   ]
  },
  {
   "cell_type": "markdown",
   "id": "0e858b3f",
   "metadata": {},
   "source": [
    "# string"
   ]
  },
  {
   "cell_type": "code",
   "execution_count": 16,
   "id": "93ef7f5e",
   "metadata": {},
   "outputs": [
    {
     "name": "stdout",
     "output_type": "stream",
     "text": [
      "Welcome to Lab \n"
     ]
    },
    {
     "data": {
      "text/plain": [
       "str"
      ]
     },
     "execution_count": 16,
     "metadata": {},
     "output_type": "execute_result"
    }
   ],
   "source": [
    "yyyyy1=(\"Welcome to Lab \")\n",
    "print(yyyyy1)\n",
    "type(yyyyy1)"
   ]
  },
  {
   "cell_type": "code",
   "execution_count": 17,
   "id": "26338eb0",
   "metadata": {},
   "outputs": [
    {
     "data": {
      "text/plain": [
       "str"
      ]
     },
     "execution_count": 17,
     "metadata": {},
     "output_type": "execute_result"
    }
   ],
   "source": [
    "nnn=('HI')\n",
    "type(nnn)"
   ]
  },
  {
   "cell_type": "markdown",
   "id": "65b760a5",
   "metadata": {},
   "source": [
    "# LIST"
   ]
  },
  {
   "cell_type": "code",
   "execution_count": 18,
   "id": "7bbffbac",
   "metadata": {},
   "outputs": [
    {
     "data": {
      "text/plain": [
       "list"
      ]
     },
     "execution_count": 18,
     "metadata": {},
     "output_type": "execute_result"
    }
   ],
   "source": [
    "our_list=[6788, 678, 'guru', (1+76j)]\n",
    "type(our_list)\n",
    "our_list1=[678976,\"Balan\"]\n",
    "type(our_list1)"
   ]
  },
  {
   "cell_type": "code",
   "execution_count": 19,
   "id": "3bf17e1d",
   "metadata": {},
   "outputs": [],
   "source": [
    "our_list.append(445)"
   ]
  },
  {
   "cell_type": "code",
   "execution_count": 20,
   "id": "f4cb1372",
   "metadata": {},
   "outputs": [
    {
     "name": "stdout",
     "output_type": "stream",
     "text": [
      "[6788, 678, 'guru', (1+76j), 445]\n"
     ]
    }
   ],
   "source": [
    "print(our_list)"
   ]
  },
  {
   "cell_type": "code",
   "execution_count": 21,
   "id": "a8609c70",
   "metadata": {},
   "outputs": [
    {
     "data": {
      "text/plain": [
       "6788"
      ]
     },
     "execution_count": 21,
     "metadata": {},
     "output_type": "execute_result"
    }
   ],
   "source": [
    "our_list.pop(0)"
   ]
  },
  {
   "cell_type": "code",
   "execution_count": 22,
   "id": "9fad0885",
   "metadata": {},
   "outputs": [
    {
     "name": "stdout",
     "output_type": "stream",
     "text": [
      "[678, 'guru', (1+76j), 445]\n"
     ]
    }
   ],
   "source": [
    "print(our_list)"
   ]
  },
  {
   "cell_type": "code",
   "execution_count": 23,
   "id": "1ef8c6ef",
   "metadata": {},
   "outputs": [
    {
     "name": "stdout",
     "output_type": "stream",
     "text": [
      "[8978967, 678, 'guru', (1+76j), 445]\n"
     ]
    }
   ],
   "source": [
    "our_list.insert(0,8978967) \n",
    "print(our_list)"
   ]
  },
  {
   "cell_type": "code",
   "execution_count": 24,
   "id": "5e8c47f8",
   "metadata": {},
   "outputs": [
    {
     "data": {
      "text/plain": [
       "[8978967, 678]"
      ]
     },
     "execution_count": 24,
     "metadata": {},
     "output_type": "execute_result"
    }
   ],
   "source": [
    "our_list[0:2]"
   ]
  },
  {
   "cell_type": "markdown",
   "id": "680ca80e",
   "metadata": {},
   "source": [
    "# tuple"
   ]
  },
  {
   "cell_type": "code",
   "execution_count": 25,
   "id": "1f66f3a2",
   "metadata": {},
   "outputs": [
    {
     "data": {
      "text/plain": [
       "tuple"
      ]
     },
     "execution_count": 25,
     "metadata": {},
     "output_type": "execute_result"
    }
   ],
   "source": [
    "gt2=(7685768,879)\n",
    "type(gt2)"
   ]
  },
  {
   "cell_type": "code",
   "execution_count": 26,
   "id": "ca0293b9",
   "metadata": {},
   "outputs": [
    {
     "ename": "AttributeError",
     "evalue": "'tuple' object has no attribute 'append'",
     "output_type": "error",
     "traceback": [
      "\u001b[1;31m---------------------------------------------------------------------------\u001b[0m",
      "\u001b[1;31mAttributeError\u001b[0m                            Traceback (most recent call last)",
      "\u001b[1;32m~\\AppData\\Local\\Temp\\ipykernel_3504\\1885527346.py\u001b[0m in \u001b[0;36m<module>\u001b[1;34m\u001b[0m\n\u001b[1;32m----> 1\u001b[1;33m \u001b[0mgt2\u001b[0m\u001b[1;33m.\u001b[0m\u001b[0mappend\u001b[0m\u001b[1;33m(\u001b[0m\u001b[1;36m86990\u001b[0m\u001b[1;33m)\u001b[0m\u001b[1;33m\u001b[0m\u001b[1;33m\u001b[0m\u001b[0m\n\u001b[0m",
      "\u001b[1;31mAttributeError\u001b[0m: 'tuple' object has no attribute 'append'"
     ]
    }
   ],
   "source": [
    "gt2.append(86990)"
   ]
  },
  {
   "cell_type": "code",
   "execution_count": 27,
   "id": "c523f9b0",
   "metadata": {},
   "outputs": [
    {
     "ename": "AttributeError",
     "evalue": "'tuple' object has no attribute 'pop'",
     "output_type": "error",
     "traceback": [
      "\u001b[1;31m---------------------------------------------------------------------------\u001b[0m",
      "\u001b[1;31mAttributeError\u001b[0m                            Traceback (most recent call last)",
      "\u001b[1;32m~\\AppData\\Local\\Temp\\ipykernel_3504\\1319364354.py\u001b[0m in \u001b[0;36m<module>\u001b[1;34m\u001b[0m\n\u001b[1;32m----> 1\u001b[1;33m \u001b[0mgt2\u001b[0m\u001b[1;33m.\u001b[0m\u001b[0mpop\u001b[0m\u001b[1;33m(\u001b[0m\u001b[1;36m0\u001b[0m\u001b[1;33m)\u001b[0m\u001b[1;33m\u001b[0m\u001b[1;33m\u001b[0m\u001b[0m\n\u001b[0m",
      "\u001b[1;31mAttributeError\u001b[0m: 'tuple' object has no attribute 'pop'"
     ]
    }
   ],
   "source": [
    "gt2.pop(0)"
   ]
  },
  {
   "cell_type": "markdown",
   "id": "d573d5c4",
   "metadata": {},
   "source": [
    "# SET"
   ]
  },
  {
   "cell_type": "code",
   "execution_count": 28,
   "id": "90f83864",
   "metadata": {},
   "outputs": [
    {
     "name": "stdout",
     "output_type": "stream",
     "text": [
      "{676, 'guru', 70, 'balan', (74+7j)}\n"
     ]
    },
    {
     "data": {
      "text/plain": [
       "set"
      ]
     },
     "execution_count": 28,
     "metadata": {},
     "output_type": "execute_result"
    }
   ],
   "source": [
    "bala={676,676,70,7j+74,\"guru\",\"balan\"}\n",
    "print(bala)\n",
    "type(bala)"
   ]
  },
  {
   "cell_type": "code",
   "execution_count": 29,
   "id": "4dc753c7",
   "metadata": {},
   "outputs": [
    {
     "data": {
      "text/plain": [
       "set"
      ]
     },
     "execution_count": 29,
     "metadata": {},
     "output_type": "execute_result"
    }
   ],
   "source": [
    "gg={678,678}\n",
    "type(gg)"
   ]
  },
  {
   "cell_type": "code",
   "execution_count": 30,
   "id": "2b8e77b0",
   "metadata": {},
   "outputs": [
    {
     "data": {
      "text/plain": [
       "5"
      ]
     },
     "execution_count": 30,
     "metadata": {},
     "output_type": "execute_result"
    }
   ],
   "source": [
    "len(bala)"
   ]
  },
  {
   "cell_type": "code",
   "execution_count": 39,
   "id": "4a480a5f",
   "metadata": {},
   "outputs": [
    {
     "name": "stdout",
     "output_type": "stream",
     "text": [
      "{676, 'guru', 70, 4326, 7854.566, 'balan', 675643, 'bala', (74+7j)}\n"
     ]
    }
   ],
   "source": [
    "bala.add(675643)\n",
    "print(bala)"
   ]
  },
  {
   "cell_type": "code",
   "execution_count": 40,
   "id": "e45f865a",
   "metadata": {},
   "outputs": [],
   "source": [
    "bala.update({4326,\"bala\",64385,7854.566})"
   ]
  },
  {
   "cell_type": "code",
   "execution_count": 41,
   "id": "84452718",
   "metadata": {},
   "outputs": [
    {
     "data": {
      "text/plain": [
       "{(74+7j), 4326, 64385, 675643, 676, 70, 7854.566, 'bala', 'balan', 'guru'}"
      ]
     },
     "execution_count": 41,
     "metadata": {},
     "output_type": "execute_result"
    }
   ],
   "source": [
    "bala"
   ]
  },
  {
   "cell_type": "code",
   "execution_count": 42,
   "id": "e75b3deb",
   "metadata": {},
   "outputs": [
    {
     "data": {
      "text/plain": [
       "64385"
      ]
     },
     "execution_count": 42,
     "metadata": {},
     "output_type": "execute_result"
    }
   ],
   "source": [
    "bala.pop()"
   ]
  },
  {
   "cell_type": "code",
   "execution_count": 46,
   "id": "dda4b145",
   "metadata": {},
   "outputs": [
    {
     "ename": "TypeError",
     "evalue": "'set' object is not subscriptable",
     "output_type": "error",
     "traceback": [
      "\u001b[1;31m---------------------------------------------------------------------------\u001b[0m",
      "\u001b[1;31mTypeError\u001b[0m                                 Traceback (most recent call last)",
      "\u001b[1;32m~\\AppData\\Local\\Temp\\ipykernel_3504\\1729817535.py\u001b[0m in \u001b[0;36m<module>\u001b[1;34m\u001b[0m\n\u001b[1;32m----> 1\u001b[1;33m \u001b[0mbala\u001b[0m\u001b[1;33m[\u001b[0m\u001b[1;36m2\u001b[0m\u001b[1;33m]\u001b[0m\u001b[1;33m\u001b[0m\u001b[1;33m\u001b[0m\u001b[0m\n\u001b[0m",
      "\u001b[1;31mTypeError\u001b[0m: 'set' object is not subscriptable"
     ]
    }
   ],
   "source": [
    "bala[2]"
   ]
  },
  {
   "cell_type": "code",
   "execution_count": 48,
   "id": "3a56d06b",
   "metadata": {},
   "outputs": [],
   "source": [
    "bala.remove(4326)"
   ]
  },
  {
   "cell_type": "code",
   "execution_count": 49,
   "id": "9cd83bf5",
   "metadata": {},
   "outputs": [
    {
     "data": {
      "text/plain": [
       "{(74+7j), 675643, 676, 70, 7854.566, 'bala', 'balan', 'guru'}"
      ]
     },
     "execution_count": 49,
     "metadata": {},
     "output_type": "execute_result"
    }
   ],
   "source": [
    "bala"
   ]
  },
  {
   "cell_type": "code",
   "execution_count": 51,
   "id": "c95e1a83",
   "metadata": {},
   "outputs": [],
   "source": [
    "bala.discard(70)"
   ]
  },
  {
   "cell_type": "code",
   "execution_count": 52,
   "id": "4bb5df88",
   "metadata": {},
   "outputs": [
    {
     "data": {
      "text/plain": [
       "{(74+7j), 675643, 676, 7854.566, 'bala', 'balan', 'guru'}"
      ]
     },
     "execution_count": 52,
     "metadata": {},
     "output_type": "execute_result"
    }
   ],
   "source": [
    "bala"
   ]
  },
  {
   "cell_type": "code",
   "execution_count": 53,
   "id": "9ed451b4",
   "metadata": {},
   "outputs": [],
   "source": [
    "guru={87659,\"krthi\",\"bharath\"}"
   ]
  },
  {
   "cell_type": "code",
   "execution_count": 54,
   "id": "e1863784",
   "metadata": {},
   "outputs": [
    {
     "data": {
      "text/plain": [
       "{(74+7j),\n",
       " 675643,\n",
       " 676,\n",
       " 7854.566,\n",
       " 87659,\n",
       " 'bala',\n",
       " 'balan',\n",
       " 'bharath',\n",
       " 'guru',\n",
       " 'krthi'}"
      ]
     },
     "execution_count": 54,
     "metadata": {},
     "output_type": "execute_result"
    }
   ],
   "source": [
    "bala | guru"
   ]
  },
  {
   "cell_type": "code",
   "execution_count": 62,
   "id": "37e233d4",
   "metadata": {},
   "outputs": [
    {
     "data": {
      "text/plain": [
       "set()"
      ]
     },
     "execution_count": 62,
     "metadata": {},
     "output_type": "execute_result"
    }
   ],
   "source": [
    "bala & guru\n"
   ]
  },
  {
   "cell_type": "code",
   "execution_count": 63,
   "id": "8dd270b1",
   "metadata": {},
   "outputs": [
    {
     "data": {
      "text/plain": [
       "{(74+7j), 675643, 676, 7854.566, 'bala', 'balan', 'guru'}"
      ]
     },
     "execution_count": 63,
     "metadata": {},
     "output_type": "execute_result"
    }
   ],
   "source": [
    "bala - guru"
   ]
  },
  {
   "cell_type": "markdown",
   "id": "d9acb3e1",
   "metadata": {},
   "source": [
    "# DIC"
   ]
  },
  {
   "cell_type": "code",
   "execution_count": 93,
   "id": "0d4ca1ab",
   "metadata": {},
   "outputs": [],
   "source": [
    "you={1:\"hi\",2:\"da\",3:\"pop\"}\n",
    "yyy={1:85,2:896,3:\"duqri\"}"
   ]
  },
  {
   "cell_type": "code",
   "execution_count": 94,
   "id": "2f880915",
   "metadata": {},
   "outputs": [
    {
     "data": {
      "text/plain": [
       "dict"
      ]
     },
     "execution_count": 94,
     "metadata": {},
     "output_type": "execute_result"
    }
   ],
   "source": [
    "type(you)"
   ]
  },
  {
   "cell_type": "code",
   "execution_count": 95,
   "id": "c893e9a6",
   "metadata": {},
   "outputs": [
    {
     "data": {
      "text/plain": [
       "dict"
      ]
     },
     "execution_count": 95,
     "metadata": {},
     "output_type": "execute_result"
    }
   ],
   "source": [
    "type(yyy)"
   ]
  },
  {
   "cell_type": "code",
   "execution_count": 96,
   "id": "ef4c5ce4",
   "metadata": {},
   "outputs": [
    {
     "data": {
      "text/plain": [
       "dict_keys([1, 2, 3])"
      ]
     },
     "execution_count": 96,
     "metadata": {},
     "output_type": "execute_result"
    }
   ],
   "source": [
    "you.keys()\n"
   ]
  },
  {
   "cell_type": "code",
   "execution_count": 97,
   "id": "52771900",
   "metadata": {},
   "outputs": [
    {
     "data": {
      "text/plain": [
       "dict_values(['hi', 'da', 'pop'])"
      ]
     },
     "execution_count": 97,
     "metadata": {},
     "output_type": "execute_result"
    }
   ],
   "source": [
    "you.values()"
   ]
  },
  {
   "cell_type": "code",
   "execution_count": 98,
   "id": "b14de2a7",
   "metadata": {},
   "outputs": [
    {
     "data": {
      "text/plain": [
       "dict_values([85, 896, 'duqri'])"
      ]
     },
     "execution_count": 98,
     "metadata": {},
     "output_type": "execute_result"
    }
   ],
   "source": [
    "yyy.values()"
   ]
  },
  {
   "cell_type": "code",
   "execution_count": 99,
   "id": "1d0e6a2f",
   "metadata": {},
   "outputs": [
    {
     "data": {
      "text/plain": [
       "dict_items([(1, 85), (2, 896), (3, 'duqri')])"
      ]
     },
     "execution_count": 99,
     "metadata": {},
     "output_type": "execute_result"
    }
   ],
   "source": [
    "yyy.items()"
   ]
  },
  {
   "cell_type": "code",
   "execution_count": 110,
   "id": "2e244fb3",
   "metadata": {
    "scrolled": true
   },
   "outputs": [],
   "source": [
    "you[\"guru\"] = \"hello\""
   ]
  },
  {
   "cell_type": "code",
   "execution_count": 111,
   "id": "4e5203ad",
   "metadata": {},
   "outputs": [
    {
     "data": {
      "text/plain": [
       "dict_items([(1, 'hi'), (2, 'da'), (3, 'pop'), ('guru', 'hello'), (4, 'hello')])"
      ]
     },
     "execution_count": 111,
     "metadata": {},
     "output_type": "execute_result"
    }
   ],
   "source": [
    "you.items()"
   ]
  },
  {
   "cell_type": "code",
   "execution_count": 102,
   "id": "8639d7e4",
   "metadata": {},
   "outputs": [],
   "source": [
    "yyy[1] = \"gg\""
   ]
  },
  {
   "cell_type": "code",
   "execution_count": 104,
   "id": "4b546ad4",
   "metadata": {},
   "outputs": [
    {
     "data": {
      "text/plain": [
       "dict_items([(1, 'gg'), (2, 896), (3, 'duqri')])"
      ]
     },
     "execution_count": 104,
     "metadata": {},
     "output_type": "execute_result"
    }
   ],
   "source": [
    "yyy.items()"
   ]
  },
  {
   "cell_type": "code",
   "execution_count": 105,
   "id": "0b65b6e0",
   "metadata": {},
   "outputs": [
    {
     "data": {
      "text/plain": [
       "'gg'"
      ]
     },
     "execution_count": 105,
     "metadata": {},
     "output_type": "execute_result"
    }
   ],
   "source": [
    "yyy.pop(1)"
   ]
  },
  {
   "cell_type": "code",
   "execution_count": 106,
   "id": "fdd311c1",
   "metadata": {},
   "outputs": [
    {
     "data": {
      "text/plain": [
       "dict_items([(2, 896), (3, 'duqri')])"
      ]
     },
     "execution_count": 106,
     "metadata": {},
     "output_type": "execute_result"
    }
   ],
   "source": [
    "yyy.items()"
   ]
  },
  {
   "cell_type": "code",
   "execution_count": null,
   "id": "08f5a035",
   "metadata": {},
   "outputs": [],
   "source": []
  }
 ],
 "metadata": {
  "kernelspec": {
   "display_name": "Python 3 (ipykernel)",
   "language": "python",
   "name": "python3"
  },
  "language_info": {
   "codemirror_mode": {
    "name": "ipython",
    "version": 3
   },
   "file_extension": ".py",
   "mimetype": "text/x-python",
   "name": "python",
   "nbconvert_exporter": "python",
   "pygments_lexer": "ipython3",
   "version": "3.9.13"
  }
 },
 "nbformat": 4,
 "nbformat_minor": 5
}
