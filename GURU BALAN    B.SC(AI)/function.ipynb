{
 "cells": [
  {
   "cell_type": "code",
   "execution_count": 41,
   "id": "e025d92b",
   "metadata": {},
   "outputs": [],
   "source": [
    "def Birthday(person,cake,age):\n",
    "    print(f\"happy birthy {person},yor are turning {age} today\")\n",
    "    print(\" {cake} cake ennakku pudikkathu da\")"
   ]
  },
  {
   "cell_type": "code",
   "execution_count": 14,
   "id": "7d4565cc",
   "metadata": {
    "scrolled": true
   },
   "outputs": [
    {
     "name": "stdout",
     "output_type": "stream",
     "text": [
      "happy birthy guru,yor are turning 18 today\n",
      " {cake} cake ennakku pudikkathu da\n"
     ]
    }
   ],
   "source": [
    "Birthday (\"guru\",\"vanlila\",18)"
   ]
  },
  {
   "cell_type": "code",
   "execution_count": 1,
   "id": "87510ec1",
   "metadata": {},
   "outputs": [],
   "source": [
    "def eligebily (intputage):\n",
    "    name = input(\"what is name \")\n",
    "    if intputage>=18:\n",
    "        print(f\" {name} , you are  {intputage} so you are eligbile for voting \")\n",
    "    else:\n",
    "        print(f\" {name} , you are {intputage} so you are not eligbile for voting\")"
   ]
  },
  {
   "cell_type": "code",
   "execution_count": 2,
   "id": "718442c4",
   "metadata": {
    "scrolled": true
   },
   "outputs": [
    {
     "name": "stdout",
     "output_type": "stream",
     "text": [
      "what is name guru\n",
      " guru , you are  18 so you are eligbile for voting \n"
     ]
    }
   ],
   "source": [
    "eligebily(18)"
   ]
  },
  {
   "cell_type": "code",
   "execution_count": 3,
   "id": "7aec9c5b",
   "metadata": {},
   "outputs": [
    {
     "name": "stdout",
     "output_type": "stream",
     "text": [
      "what is name guru\n",
      " guru , you are 16 so you are not eligbile for voting\n"
     ]
    }
   ],
   "source": [
    "eligebily(16)"
   ]
  },
  {
   "cell_type": "markdown",
   "id": "23567f6d",
   "metadata": {},
   "source": [
    "# lambda"
   ]
  },
  {
   "cell_type": "code",
   "execution_count": 49,
   "id": "c53c51e5",
   "metadata": {},
   "outputs": [],
   "source": [
    "output=lambda n1,n2,n3: n1*n2-n3"
   ]
  },
  {
   "cell_type": "code",
   "execution_count": 51,
   "id": "1c232ff4",
   "metadata": {},
   "outputs": [
    {
     "name": "stdout",
     "output_type": "stream",
     "text": [
      "7622\n"
     ]
    }
   ],
   "source": [
    "print(output(78,99,100))"
   ]
  },
  {
   "cell_type": "code",
   "execution_count": 52,
   "id": "f0aaec19",
   "metadata": {},
   "outputs": [
    {
     "data": {
      "text/plain": [
       "692"
      ]
     },
     "execution_count": 52,
     "metadata": {},
     "output_type": "execute_result"
    }
   ],
   "source": [
    "output(78,9,10)"
   ]
  },
  {
   "cell_type": "code",
   "execution_count": null,
   "id": "57b62728",
   "metadata": {},
   "outputs": [],
   "source": []
  }
 ],
 "metadata": {
  "kernelspec": {
   "display_name": "Python 3 (ipykernel)",
   "language": "python",
   "name": "python3"
  },
  "language_info": {
   "codemirror_mode": {
    "name": "ipython",
    "version": 3
   },
   "file_extension": ".py",
   "mimetype": "text/x-python",
   "name": "python",
   "nbconvert_exporter": "python",
   "pygments_lexer": "ipython3",
   "version": "3.9.13"
  }
 },
 "nbformat": 4,
 "nbformat_minor": 5
}
