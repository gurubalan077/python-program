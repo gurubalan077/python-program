{
 "cells": [
  {
   "cell_type": "code",
   "execution_count": 1,
   "id": "cdea66f7",
   "metadata": {},
   "outputs": [],
   "source": [
    "import array as AR"
   ]
  },
  {
   "cell_type": "code",
   "execution_count": 4,
   "id": "d3d846ff",
   "metadata": {},
   "outputs": [],
   "source": [
    "A=AR.array('i',{1,4,5,7,6,0})"
   ]
  },
  {
   "cell_type": "code",
   "execution_count": 8,
   "id": "04cfe297",
   "metadata": {},
   "outputs": [
    {
     "data": {
      "text/plain": [
       "array('i', [0, 1, 4, 5, 6, 7])"
      ]
     },
     "execution_count": 8,
     "metadata": {},
     "output_type": "execute_result"
    }
   ],
   "source": [
    "A"
   ]
  },
  {
   "cell_type": "code",
   "execution_count": 9,
   "id": "b2601f46",
   "metadata": {},
   "outputs": [],
   "source": [
    "A.extend([56,75,87,55])"
   ]
  },
  {
   "cell_type": "code",
   "execution_count": 11,
   "id": "3cc4f42e",
   "metadata": {},
   "outputs": [
    {
     "data": {
      "text/plain": [
       "array('i', [0, 1, 4, 5, 6, 7, 56, 75, 87, 55])"
      ]
     },
     "execution_count": 11,
     "metadata": {},
     "output_type": "execute_result"
    }
   ],
   "source": [
    "A"
   ]
  },
  {
   "cell_type": "code",
   "execution_count": 12,
   "id": "cbb6b028",
   "metadata": {},
   "outputs": [
    {
     "data": {
      "text/plain": [
       "array('i', [6, 7, 56, 75])"
      ]
     },
     "execution_count": 12,
     "metadata": {},
     "output_type": "execute_result"
    }
   ],
   "source": [
    "A[4:8]"
   ]
  },
  {
   "cell_type": "code",
   "execution_count": 13,
   "id": "dd8ac3da",
   "metadata": {},
   "outputs": [],
   "source": [
    "bb=AR.array('i', [6, 7, 56, 75])"
   ]
  },
  {
   "cell_type": "code",
   "execution_count": 14,
   "id": "a1e1b31f",
   "metadata": {},
   "outputs": [
    {
     "data": {
      "text/plain": [
       "array('i', [6, 7, 56, 75])"
      ]
     },
     "execution_count": 14,
     "metadata": {},
     "output_type": "execute_result"
    }
   ],
   "source": [
    "bb"
   ]
  },
  {
   "cell_type": "code",
   "execution_count": 15,
   "id": "8fe4847a",
   "metadata": {},
   "outputs": [],
   "source": [
    "bb.reverse()"
   ]
  },
  {
   "cell_type": "code",
   "execution_count": 16,
   "id": "9ef0e4c6",
   "metadata": {},
   "outputs": [
    {
     "data": {
      "text/plain": [
       "array('i', [75, 56, 7, 6])"
      ]
     },
     "execution_count": 16,
     "metadata": {},
     "output_type": "execute_result"
    }
   ],
   "source": [
    "bb"
   ]
  },
  {
   "cell_type": "code",
   "execution_count": null,
   "id": "fc1e10c0",
   "metadata": {},
   "outputs": [],
   "source": []
  }
 ],
 "metadata": {
  "kernelspec": {
   "display_name": "Python 3 (ipykernel)",
   "language": "python",
   "name": "python3"
  },
  "language_info": {
   "codemirror_mode": {
    "name": "ipython",
    "version": 3
   },
   "file_extension": ".py",
   "mimetype": "text/x-python",
   "name": "python",
   "nbconvert_exporter": "python",
   "pygments_lexer": "ipython3",
   "version": "3.9.15"
  }
 },
 "nbformat": 4,
 "nbformat_minor": 5
}
