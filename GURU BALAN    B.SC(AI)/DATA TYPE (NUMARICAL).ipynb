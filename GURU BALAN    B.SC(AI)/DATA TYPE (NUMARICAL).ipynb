{
 "cells": [
  {
   "cell_type": "code",
   "execution_count": 4,
   "id": "6490347d",
   "metadata": {},
   "outputs": [],
   "source": [
    "hi=4597"
   ]
  },
  {
   "cell_type": "code",
   "execution_count": 5,
   "id": "5754fd20",
   "metadata": {},
   "outputs": [
    {
     "data": {
      "text/plain": [
       "4597"
      ]
     },
     "execution_count": 5,
     "metadata": {},
     "output_type": "execute_result"
    }
   ],
   "source": [
    "hi"
   ]
  },
  {
   "cell_type": "code",
   "execution_count": 7,
   "id": "f4da8624",
   "metadata": {},
   "outputs": [
    {
     "data": {
      "text/plain": [
       "int"
      ]
     },
     "execution_count": 7,
     "metadata": {},
     "output_type": "execute_result"
    }
   ],
   "source": [
    "type(hi)"
   ]
  },
  {
   "cell_type": "code",
   "execution_count": 8,
   "id": "cb40ee0d",
   "metadata": {},
   "outputs": [],
   "source": [
    "y=5657.6843"
   ]
  },
  {
   "cell_type": "code",
   "execution_count": 9,
   "id": "95697615",
   "metadata": {},
   "outputs": [
    {
     "data": {
      "text/plain": [
       "5657.6843"
      ]
     },
     "execution_count": 9,
     "metadata": {},
     "output_type": "execute_result"
    }
   ],
   "source": [
    "y"
   ]
  },
  {
   "cell_type": "code",
   "execution_count": 10,
   "id": "a38b8fc0",
   "metadata": {},
   "outputs": [
    {
     "data": {
      "text/plain": [
       "float"
      ]
     },
     "execution_count": 10,
     "metadata": {},
     "output_type": "execute_result"
    }
   ],
   "source": [
    "type(y)"
   ]
  },
  {
   "cell_type": "code",
   "execution_count": 16,
   "id": "465ecddc",
   "metadata": {},
   "outputs": [],
   "source": [
    "tt=785j"
   ]
  },
  {
   "cell_type": "code",
   "execution_count": 17,
   "id": "81b67132",
   "metadata": {},
   "outputs": [
    {
     "data": {
      "text/plain": [
       "785j"
      ]
     },
     "execution_count": 17,
     "metadata": {},
     "output_type": "execute_result"
    }
   ],
   "source": [
    "tt"
   ]
  },
  {
   "cell_type": "code",
   "execution_count": 18,
   "id": "c9d338b6",
   "metadata": {},
   "outputs": [
    {
     "data": {
      "text/plain": [
       "complex"
      ]
     },
     "execution_count": 18,
     "metadata": {},
     "output_type": "execute_result"
    }
   ],
   "source": [
    "type(tt)"
   ]
  },
  {
   "cell_type": "code",
   "execution_count": 29,
   "id": "9f8e78bc",
   "metadata": {},
   "outputs": [],
   "source": [
    "gyty=6754,6945"
   ]
  },
  {
   "cell_type": "code",
   "execution_count": 30,
   "id": "22708ffc",
   "metadata": {},
   "outputs": [
    {
     "data": {
      "text/plain": [
       "(6754, 6945)"
      ]
     },
     "execution_count": 30,
     "metadata": {},
     "output_type": "execute_result"
    }
   ],
   "source": [
    "gyty"
   ]
  },
  {
   "cell_type": "code",
   "execution_count": 31,
   "id": "68c1d18a",
   "metadata": {},
   "outputs": [
    {
     "data": {
      "text/plain": [
       "tuple"
      ]
     },
     "execution_count": 31,
     "metadata": {},
     "output_type": "execute_result"
    }
   ],
   "source": [
    "type(gyty)"
   ]
  },
  {
   "cell_type": "code",
   "execution_count": 37,
   "id": "e40d2341",
   "metadata": {},
   "outputs": [],
   "source": [
    "hu=True or False"
   ]
  },
  {
   "cell_type": "code",
   "execution_count": 39,
   "id": "1362be71",
   "metadata": {},
   "outputs": [
    {
     "data": {
      "text/plain": [
       "True"
      ]
     },
     "execution_count": 39,
     "metadata": {},
     "output_type": "execute_result"
    }
   ],
   "source": [
    "hu"
   ]
  },
  {
   "cell_type": "code",
   "execution_count": 40,
   "id": "bf8f7ed6",
   "metadata": {},
   "outputs": [
    {
     "data": {
      "text/plain": [
       "bool"
      ]
     },
     "execution_count": 40,
     "metadata": {},
     "output_type": "execute_result"
    }
   ],
   "source": [
    "type(hu)"
   ]
  },
  {
   "cell_type": "code",
   "execution_count": null,
   "id": "5109f7e2",
   "metadata": {},
   "outputs": [],
   "source": []
  }
 ],
 "metadata": {
  "kernelspec": {
   "display_name": "Python 3 (ipykernel)",
   "language": "python",
   "name": "python3"
  },
  "language_info": {
   "codemirror_mode": {
    "name": "ipython",
    "version": 3
   },
   "file_extension": ".py",
   "mimetype": "text/x-python",
   "name": "python",
   "nbconvert_exporter": "python",
   "pygments_lexer": "ipython3",
   "version": "3.9.15"
  }
 },
 "nbformat": 4,
 "nbformat_minor": 5
}
