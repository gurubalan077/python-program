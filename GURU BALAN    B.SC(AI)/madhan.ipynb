{
 "cells": [
  {
   "cell_type": "code",
   "execution_count": 1,
   "id": "c1b3fe67",
   "metadata": {},
   "outputs": [],
   "source": [
    "madhan=[\"lion\",\"rabit\",\"raj\"]"
   ]
  },
  {
   "cell_type": "code",
   "execution_count": null,
   "id": "5fc9e68e",
   "metadata": {},
   "outputs": [],
   "source": []
  },
  {
   "cell_type": "code",
   "execution_count": 9,
   "id": "faa2e80b",
   "metadata": {},
   "outputs": [
    {
     "data": {
      "text/plain": [
       "['lion', 'rabit', 'raj']"
      ]
     },
     "execution_count": 9,
     "metadata": {},
     "output_type": "execute_result"
    }
   ],
   "source": [
    "madhan"
   ]
  },
  {
   "cell_type": "code",
   "execution_count": 12,
   "id": "6431c3b9",
   "metadata": {},
   "outputs": [],
   "source": [
    "list=[\"madhan\",5.87,98,76543,3]"
   ]
  },
  {
   "cell_type": "code",
   "execution_count": 15,
   "id": "9dca5d52",
   "metadata": {},
   "outputs": [
    {
     "data": {
      "text/plain": [
       "['madhan', 5.87, 98, 76543, 3]"
      ]
     },
     "execution_count": 15,
     "metadata": {},
     "output_type": "execute_result"
    }
   ],
   "source": [
    "list"
   ]
  },
  {
   "cell_type": "code",
   "execution_count": 16,
   "id": "186250cc",
   "metadata": {},
   "outputs": [
    {
     "data": {
      "text/plain": [
       "5"
      ]
     },
     "execution_count": 16,
     "metadata": {},
     "output_type": "execute_result"
    }
   ],
   "source": [
    "len(list)"
   ]
  },
  {
   "cell_type": "markdown",
   "id": "bdf1d1ef",
   "metadata": {},
   "source": [
    "# accessing element in a list"
   ]
  },
  {
   "cell_type": "code",
   "execution_count": 17,
   "id": "2fbbbee1",
   "metadata": {},
   "outputs": [
    {
     "data": {
      "text/plain": [
       "'rabit'"
      ]
     },
     "execution_count": 17,
     "metadata": {},
     "output_type": "execute_result"
    }
   ],
   "source": [
    "madhan[1]"
   ]
  },
  {
   "cell_type": "markdown",
   "id": "12b97e4f",
   "metadata": {},
   "source": [
    "# adding element in a list"
   ]
  },
  {
   "cell_type": "code",
   "execution_count": 18,
   "id": "f2f86583",
   "metadata": {},
   "outputs": [
    {
     "name": "stdout",
     "output_type": "stream",
     "text": [
      "['lion', 'rabit', 'raj', '10']\n"
     ]
    }
   ],
   "source": [
    "madhan.append(\"10\")\n",
    "print(madhan)"
   ]
  },
  {
   "cell_type": "markdown",
   "id": "1adc921b",
   "metadata": {},
   "source": [
    "# removing elemeny in a list"
   ]
  },
  {
   "cell_type": "markdown",
   "id": "ce0bec74",
   "metadata": {},
   "source": []
  },
  {
   "cell_type": "code",
   "execution_count": 19,
   "id": "96e8a171",
   "metadata": {},
   "outputs": [
    {
     "name": "stdout",
     "output_type": "stream",
     "text": [
      "['lion', 'rabit', '10']\n"
     ]
    }
   ],
   "source": [
    "madhan.remove(\"raj\")\n",
    "print(madhan)"
   ]
  },
  {
   "cell_type": "code",
   "execution_count": 20,
   "id": "ee073687",
   "metadata": {},
   "outputs": [
    {
     "name": "stdout",
     "output_type": "stream",
     "text": [
      "['lion', 'rabit']\n"
     ]
    }
   ],
   "source": [
    "madhan.pop()\n",
    "print(madhan)"
   ]
  },
  {
   "cell_type": "code",
   "execution_count": 21,
   "id": "84cd9130",
   "metadata": {},
   "outputs": [
    {
     "name": "stdout",
     "output_type": "stream",
     "text": [
      "['lion']\n"
     ]
    }
   ],
   "source": [
    "del madhan[1]\n",
    "print(madhan)"
   ]
  },
  {
   "cell_type": "markdown",
   "id": "3381b5cd",
   "metadata": {},
   "source": [
    "# copy a list"
   ]
  },
  {
   "cell_type": "code",
   "execution_count": 22,
   "id": "fecd64c4",
   "metadata": {},
   "outputs": [
    {
     "name": "stdout",
     "output_type": "stream",
     "text": [
      "['lion']\n"
     ]
    }
   ],
   "source": [
    "a=madhan.copy()\n",
    "print(a)"
   ]
  },
  {
   "cell_type": "markdown",
   "id": "10253d0f",
   "metadata": {},
   "source": [
    "# list concantention"
   ]
  },
  {
   "cell_type": "code",
   "execution_count": 23,
   "id": "7ca6d90f",
   "metadata": {},
   "outputs": [
    {
     "name": "stdout",
     "output_type": "stream",
     "text": [
      "['lion', 'lion']\n"
     ]
    }
   ],
   "source": [
    "b=a+madhan\n",
    "print(b)"
   ]
  },
  {
   "cell_type": "markdown",
   "id": "fbcd06d3",
   "metadata": {},
   "source": [
    "# creating list"
   ]
  },
  {
   "cell_type": "code",
   "execution_count": 24,
   "id": "c9bde54b",
   "metadata": {},
   "outputs": [
    {
     "data": {
      "text/plain": [
       "list"
      ]
     },
     "execution_count": 24,
     "metadata": {},
     "output_type": "execute_result"
    }
   ],
   "source": [
    "a=[9,8,7,6,5,4]\n",
    "b=[9,8,7,6,5,4]\n",
    "type(a)"
   ]
  },
  {
   "cell_type": "code",
   "execution_count": 26,
   "id": "2c127139",
   "metadata": {},
   "outputs": [],
   "source": [
    "a.sort()\n",
    "b.sort()"
   ]
  },
  {
   "cell_type": "code",
   "execution_count": 27,
   "id": "1e0f8941",
   "metadata": {},
   "outputs": [
    {
     "data": {
      "text/plain": [
       "[4, 5, 6, 7, 8, 9]"
      ]
     },
     "execution_count": 27,
     "metadata": {},
     "output_type": "execute_result"
    }
   ],
   "source": [
    "a"
   ]
  },
  {
   "cell_type": "code",
   "execution_count": 29,
   "id": "b5e30ad8",
   "metadata": {},
   "outputs": [
    {
     "name": "stdout",
     "output_type": "stream",
     "text": [
      "lists are identiacal\n"
     ]
    }
   ],
   "source": [
    "if a == b:\n",
    "    print(\"lists are identiacal\")\n",
    "else:\n",
    "    print(\"lists are not identical\")"
   ]
  }
 ],
 "metadata": {
  "kernelspec": {
   "display_name": "Python 3 (ipykernel)",
   "language": "python",
   "name": "python3"
  },
  "language_info": {
   "codemirror_mode": {
    "name": "ipython",
    "version": 3
   },
   "file_extension": ".py",
   "mimetype": "text/x-python",
   "name": "python",
   "nbconvert_exporter": "python",
   "pygments_lexer": "ipython3",
   "version": "3.9.13"
  }
 },
 "nbformat": 4,
 "nbformat_minor": 5
}
