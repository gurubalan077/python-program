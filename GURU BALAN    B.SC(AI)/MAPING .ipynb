{
 "cells": [
  {
   "cell_type": "code",
   "execution_count": 8,
   "id": "21b99a29",
   "metadata": {
    "scrolled": true
   },
   "outputs": [],
   "source": [
    "name_list = [(\"n1\",10),(\"n2\",22),(\"n3\",15),(\"n4\",17)]"
   ]
  },
  {
   "cell_type": "code",
   "execution_count": 10,
   "id": "083e1bd6",
   "metadata": {},
   "outputs": [
    {
     "name": "stdout",
     "output_type": "stream",
     "text": [
      "('n2', 22)\n",
      "('n3', 15)\n",
      "('n4', 17)\n"
     ]
    }
   ],
   "source": [
    "for name in name_list:\n",
    "    if name[1]>10:\n",
    "        print(name)"
   ]
  },
  {
   "cell_type": "code",
   "execution_count": 11,
   "id": "2984ceb4",
   "metadata": {},
   "outputs": [
    {
     "data": {
      "text/plain": [
       "[True, False, True, True]"
      ]
     },
     "execution_count": 11,
     "metadata": {},
     "output_type": "execute_result"
    }
   ],
   "source": [
    "check=lambda data:data[1]<18\n",
    "list(map(check,name_list))"
   ]
  },
  {
   "cell_type": "code",
   "execution_count": 14,
   "id": "c1037c9f",
   "metadata": {},
   "outputs": [],
   "source": [
    "eligible=filter(check,name_list)"
   ]
  },
  {
   "cell_type": "code",
   "execution_count": 15,
   "id": "52015dcf",
   "metadata": {},
   "outputs": [
    {
     "data": {
      "text/plain": [
       "[('n1', 10), ('n3', 15), ('n4', 17)]"
      ]
     },
     "execution_count": 15,
     "metadata": {},
     "output_type": "execute_result"
    }
   ],
   "source": [
    "list(eligible)"
   ]
  },
  {
   "cell_type": "code",
   "execution_count": null,
   "id": "ba1d53af",
   "metadata": {},
   "outputs": [],
   "source": []
  }
 ],
 "metadata": {
  "kernelspec": {
   "display_name": "Python 3 (ipykernel)",
   "language": "python",
   "name": "python3"
  },
  "language_info": {
   "codemirror_mode": {
    "name": "ipython",
    "version": 3
   },
   "file_extension": ".py",
   "mimetype": "text/x-python",
   "name": "python",
   "nbconvert_exporter": "python",
   "pygments_lexer": "ipython3",
   "version": "3.9.13"
  }
 },
 "nbformat": 4,
 "nbformat_minor": 5
}
