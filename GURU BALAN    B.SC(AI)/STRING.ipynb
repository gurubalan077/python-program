{
 "cells": [
  {
   "cell_type": "code",
   "execution_count": 2,
   "id": "b8955695",
   "metadata": {},
   "outputs": [
    {
     "name": "stdout",
     "output_type": "stream",
     "text": [
      "guru _122012173008\n"
     ]
    }
   ],
   "source": [
    "print(\"guru _122012173008\")"
   ]
  },
  {
   "cell_type": "code",
   "execution_count": 3,
   "id": "2b30dd0d",
   "metadata": {},
   "outputs": [
    {
     "name": "stdout",
     "output_type": "stream",
     "text": [
      "H                             I\n"
     ]
    }
   ],
   "source": [
    "print(\"H                             I\")"
   ]
  },
  {
   "cell_type": "code",
   "execution_count": 6,
   "id": "e0cefbb8",
   "metadata": {},
   "outputs": [
    {
     "name": "stdout",
     "output_type": "stream",
     "text": [
      "587 647 965\n"
     ]
    }
   ],
   "source": [
    "print(587,647,965)"
   ]
  },
  {
   "cell_type": "code",
   "execution_count": 8,
   "id": "92907204",
   "metadata": {},
   "outputs": [
    {
     "name": "stdout",
     "output_type": "stream",
     "text": [
      "hi_I AM &GURU\n"
     ]
    }
   ],
   "source": [
    "print(\"hi_I AM &GURU\")"
   ]
  },
  {
   "cell_type": "code",
   "execution_count": 17,
   "id": "2f7fdc11",
   "metadata": {},
   "outputs": [
    {
     "name": "stdout",
     "output_type": "stream",
     "text": [
      "my age is 18\n"
     ]
    }
   ],
   "source": [
    "print(\"my age is {}\".format(18))"
   ]
  },
  {
   "cell_type": "code",
   "execution_count": 15,
   "id": "4a4d89f3",
   "metadata": {},
   "outputs": [
    {
     "name": "stdout",
     "output_type": "stream",
     "text": [
      "THIS PC NAME IS dell\n"
     ]
    }
   ],
   "source": [
    "print(\"THIS PC NAME IS {}\".format(\"dell\"))\n",
    "    "
   ]
  },
  {
   "cell_type": "code",
   "execution_count": 24,
   "id": "3546a09f",
   "metadata": {},
   "outputs": [
    {
     "name": "stdout",
     "output_type": "stream",
     "text": [
      "hidarajwelcometo my home\n"
     ]
    }
   ],
   "source": [
    "print(\"hi{}{}{}{}\".format(\"da\",\"raj\",\"welcome\",\"to my home\"))"
   ]
  },
  {
   "cell_type": "code",
   "execution_count": 29,
   "id": "66e411a1",
   "metadata": {},
   "outputs": [
    {
     "name": "stdout",
     "output_type": "stream",
     "text": [
      "my_welcome_da_raja\n"
     ]
    }
   ],
   "source": [
    "print(\"my{2}{1}{0}\".format(\"_raja\",\"_da\",\"_welcome\"))"
   ]
  },
  {
   "cell_type": "code",
   "execution_count": 33,
   "id": "c6db6312",
   "metadata": {},
   "outputs": [
    {
     "name": "stdout",
     "output_type": "stream",
     "text": [
      "hi_da_welcome_to my home\n"
     ]
    }
   ],
   "source": [
    "print(\"hi{a}{b}{c}\".format(a=\"_da\",b=\"_welcome\",c=\"_to my home\"))"
   ]
  },
  {
   "cell_type": "code",
   "execution_count": 43,
   "id": "ddf13e1b",
   "metadata": {},
   "outputs": [
    {
     "name": "stdout",
     "output_type": "stream",
     "text": [
      "A boy BY boy going chennai with a friends\n"
     ]
    }
   ],
   "source": [
    "print(\"A {a} BY {a} going chennai{B}\".format(a=\"boy\",B=\" with a friends\"))"
   ]
  },
  {
   "cell_type": "markdown",
   "id": "b705c750",
   "metadata": {},
   "source": [
    "# MULITI SEQ"
   ]
  },
  {
   "cell_type": "code",
   "execution_count": 47,
   "id": "c35626df",
   "metadata": {},
   "outputs": [
    {
     "name": "stdout",
     "output_type": "stream",
     "text": [
      "38 72\n"
     ]
    }
   ],
   "source": [
    "x=34\n",
    "y=x+2\n",
    "y=2*y\n",
    "x=y-x\n",
    "print(x,y)"
   ]
  },
  {
   "cell_type": "code",
   "execution_count": 62,
   "id": "90ba7937",
   "metadata": {},
   "outputs": [
    {
     "name": "stdout",
     "output_type": "stream",
     "text": [
      "127156.0 16168648336\n"
     ]
    }
   ],
   "source": [
    "x=63578\n",
    "x=x*2\n",
    "y=x*x\n",
    "x=y/x\n",
    "print(x,y)"
   ]
  },
  {
   "cell_type": "code",
   "execution_count": null,
   "id": "5d76eef3",
   "metadata": {},
   "outputs": [],
   "source": []
  }
 ],
 "metadata": {
  "kernelspec": {
   "display_name": "Python 3 (ipykernel)",
   "language": "python",
   "name": "python3"
  },
  "language_info": {
   "codemirror_mode": {
    "name": "ipython",
    "version": 3
   },
   "file_extension": ".py",
   "mimetype": "text/x-python",
   "name": "python",
   "nbconvert_exporter": "python",
   "pygments_lexer": "ipython3",
   "version": "3.9.15"
  }
 },
 "nbformat": 4,
 "nbformat_minor": 5
}
