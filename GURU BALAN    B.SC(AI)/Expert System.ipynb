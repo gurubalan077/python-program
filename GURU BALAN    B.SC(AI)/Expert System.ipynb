{
 "cells": [
  {
   "cell_type": "code",
   "execution_count": 2,
   "id": "64b7cbab",
   "metadata": {},
   "outputs": [
    {
     "ename": "SyntaxError",
     "evalue": "invalid syntax (2331424133.py, line 27)",
     "output_type": "error",
     "traceback": [
      "\u001b[1;36m  File \u001b[1;32m\"C:\\Users\\aedpu\\AppData\\Local\\Temp\\ipykernel_8024\\2331424133.py\"\u001b[1;36m, line \u001b[1;32m27\u001b[0m\n\u001b[1;33m    elif vac == 'no' and trip == 'no' and pos == 'no':\u001b[0m\n\u001b[1;37m    ^\u001b[0m\n\u001b[1;31mSyntaxError\u001b[0m\u001b[1;31m:\u001b[0m invalid syntax\n"
     ]
    }
   ],
   "source": [
    "print(\"Welcome to the COVID vaccination form \")\n",
    "name=input(\"Please  enter you name :\")\n",
    "age=int(input(\"plese enter you age\"))\n",
    "if age>=18:\n",
    "    print(\"For the following questions please eenter yes or no\")\n",
    "    vac=input(\"Have you recied your first vaccination shot ?\")    \n",
    "    trip=input(\"Have you travel abord:\")\n",
    "    sym=input(\"Have you had any COVID system in last 14 days?\")\n",
    "    pos =input(\"Have you  been COVID positive in the last few weaks?\")\n",
    "else:\n",
    "    print(\"you are not old enough to get vaccination\") \n",
    "    \n",
    "if vac =='yes' and trip =='no' and pos =='no':\n",
    "    if sym=='no':\n",
    "        print (\"you get first shot\")\n",
    "    else:\n",
    "        print(\"your not get a scound shot\")\n",
    "        print(\"if they do cheak with a doctor\")\n",
    "elif vac == 'yes' and pos=='yes' and (trip == 'yes' or trip == 'no'):\n",
    "     print(\"as you positive in last in 3 month plese veist in after 3montn\")\n",
    "elif vac == 'yes' and trip == 'yes' and pos=='no':\n",
    "    if sym == 'yes':\n",
    "        print(\"you can get your scoun shot\")\n",
    "else:\n",
    "        print(\"your not get a scound shot\")\n",
    "        print(\"if they do cheak with a doctor\") \n",
    "elif vac == 'no' and trip == 'no' and pos == 'no':\n",
    "    if sym == 'no':\n",
    "        print(\"you can get your scoun shot\")\n",
    "else:  print(\"your not get a scound shot\")\n",
    "       print(\"if they do cheak with a doctor\")\n",
    "       \n",
    "elif vac=='no' and poc=='yes'and (trip=='yes' or trip=='no'):\n",
    "        print(\"as you positive in last in 3 month plese veist in after 3montn\")\n",
    "else:\n",
    "     if sym=='no':\n",
    "       print(\"you get first shot\")      \n",
    "else:\n",
    "       print(\"your not get a scound shot\")\n",
    "       print(\"if they do cheak with a doctor\")"
   ]
  },
  {
   "cell_type": "code",
   "execution_count": null,
   "id": "35adc8bf",
   "metadata": {},
   "outputs": [],
   "source": []
  },
  {
   "cell_type": "code",
   "execution_count": null,
   "id": "b45f61f8",
   "metadata": {},
   "outputs": [],
   "source": []
  }
 ],
 "metadata": {
  "kernelspec": {
   "display_name": "Python 3 (ipykernel)",
   "language": "python",
   "name": "python3"
  },
  "language_info": {
   "codemirror_mode": {
    "name": "ipython",
    "version": 3
   },
   "file_extension": ".py",
   "mimetype": "text/x-python",
   "name": "python",
   "nbconvert_exporter": "python",
   "pygments_lexer": "ipython3",
   "version": "3.9.13"
  }
 },
 "nbformat": 4,
 "nbformat_minor": 5
}
