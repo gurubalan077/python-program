{
 "cells": [
  {
   "cell_type": "code",
   "execution_count": 3,
   "id": "6a1b0a94",
   "metadata": {},
   "outputs": [],
   "source": [
    "import array as AR"
   ]
  },
  {
   "cell_type": "code",
   "execution_count": 19,
   "id": "3bfbb609",
   "metadata": {},
   "outputs": [],
   "source": [
    "v=AR.array('i',{86,56,67,67,78,76 ,986,67485,578,85})"
   ]
  },
  {
   "cell_type": "code",
   "execution_count": 20,
   "id": "6e70a5ed",
   "metadata": {},
   "outputs": [
    {
     "data": {
      "text/plain": [
       "array('i', [578, 67, 76, 78, 85, 86, 56, 986, 67485])"
      ]
     },
     "execution_count": 20,
     "metadata": {},
     "output_type": "execute_result"
    }
   ],
   "source": [
    "v"
   ]
  },
  {
   "cell_type": "code",
   "execution_count": 42,
   "id": "c072eac8",
   "metadata": {},
   "outputs": [],
   "source": [
    "v.append(657)"
   ]
  },
  {
   "cell_type": "code",
   "execution_count": 40,
   "id": "ca25a53d",
   "metadata": {},
   "outputs": [
    {
     "data": {
      "text/plain": [
       "array('i', [578, 67, 76, 78, 85, 86, 56, 986, 67485, 6, 657, 657])"
      ]
     },
     "execution_count": 40,
     "metadata": {},
     "output_type": "execute_result"
    }
   ],
   "source": [
    "v"
   ]
  },
  {
   "cell_type": "code",
   "execution_count": 51,
   "id": "7cbfb54a",
   "metadata": {},
   "outputs": [],
   "source": [
    "v.extend([66,78])"
   ]
  },
  {
   "cell_type": "code",
   "execution_count": 52,
   "id": "e7bde847",
   "metadata": {},
   "outputs": [
    {
     "data": {
      "text/plain": [
       "array('i', [578, 67, 76, 78, 85, 86, 56, 986, 67485, 6, 657, 657, 657, 657, 67, 87, 67, 87, 87, 55, 67, 87, 87, 55, 5555, 67, 87, 87, 55, 5555, 332, 66, 78, 66, 78])"
      ]
     },
     "execution_count": 52,
     "metadata": {},
     "output_type": "execute_result"
    }
   ],
   "source": [
    "v"
   ]
  },
  {
   "cell_type": "code",
   "execution_count": 53,
   "id": "b4cbec6f",
   "metadata": {},
   "outputs": [],
   "source": [
    "v.insert(1,8)"
   ]
  },
  {
   "cell_type": "code",
   "execution_count": 54,
   "id": "b091ba08",
   "metadata": {},
   "outputs": [
    {
     "data": {
      "text/plain": [
       "array('i', [578, 8, 67, 76, 78, 85, 86, 56, 986, 67485, 6, 657, 657, 657, 657, 67, 87, 67, 87, 87, 55, 67, 87, 87, 55, 5555, 67, 87, 87, 55, 5555, 332, 66, 78, 66, 78])"
      ]
     },
     "execution_count": 54,
     "metadata": {},
     "output_type": "execute_result"
    }
   ],
   "source": [
    "v"
   ]
  },
  {
   "cell_type": "code",
   "execution_count": 59,
   "id": "babdd0c5",
   "metadata": {},
   "outputs": [],
   "source": [
    "v.remove(5555)"
   ]
  },
  {
   "cell_type": "code",
   "execution_count": 60,
   "id": "ee5bf8b2",
   "metadata": {},
   "outputs": [
    {
     "data": {
      "text/plain": [
       "array('i', [578, 8, 67, 76, 78, 85, 86, 56, 986, 67485, 6, 657, 657, 657, 657, 67, 87, 67, 87, 87, 55, 67, 87, 87, 55, 67, 87, 87, 55, 332, 66, 78, 66, 78])"
      ]
     },
     "execution_count": 60,
     "metadata": {},
     "output_type": "execute_result"
    }
   ],
   "source": [
    "v"
   ]
  },
  {
   "cell_type": "code",
   "execution_count": 67,
   "id": "084e1928",
   "metadata": {},
   "outputs": [
    {
     "data": {
      "text/plain": [
       "578"
      ]
     },
     "execution_count": 67,
     "metadata": {},
     "output_type": "execute_result"
    }
   ],
   "source": [
    "v.pop(0)"
   ]
  },
  {
   "cell_type": "code",
   "execution_count": 73,
   "id": "3434cb49",
   "metadata": {},
   "outputs": [
    {
     "data": {
      "text/plain": [
       "array('i', [66, 78, 66, 78])"
      ]
     },
     "execution_count": 73,
     "metadata": {},
     "output_type": "execute_result"
    }
   ],
   "source": [
    "v[28:34]"
   ]
  },
  {
   "cell_type": "code",
   "execution_count": null,
   "id": "4f9f2f9e",
   "metadata": {},
   "outputs": [],
   "source": []
  }
 ],
 "metadata": {
  "kernelspec": {
   "display_name": "Python 3 (ipykernel)",
   "language": "python",
   "name": "python3"
  },
  "language_info": {
   "codemirror_mode": {
    "name": "ipython",
    "version": 3
   },
   "file_extension": ".py",
   "mimetype": "text/x-python",
   "name": "python",
   "nbconvert_exporter": "python",
   "pygments_lexer": "ipython3",
   "version": "3.9.15"
  }
 },
 "nbformat": 4,
 "nbformat_minor": 5
}
