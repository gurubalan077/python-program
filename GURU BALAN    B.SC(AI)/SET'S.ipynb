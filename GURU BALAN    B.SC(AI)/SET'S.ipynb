{
 "cells": [
  {
   "cell_type": "code",
   "execution_count": 2,
   "id": "b6421b50",
   "metadata": {},
   "outputs": [],
   "source": [
    "a={6,5,7,489,\"durai\",\"hayas\",89+8j,88}\n",
    "aa={54,890,489,\"guru\"}"
   ]
  },
  {
   "cell_type": "code",
   "execution_count": 3,
   "id": "26ee9b79",
   "metadata": {},
   "outputs": [
    {
     "data": {
      "text/plain": [
       "set"
      ]
     },
     "execution_count": 3,
     "metadata": {},
     "output_type": "execute_result"
    }
   ],
   "source": [
    "type(a)"
   ]
  },
  {
   "cell_type": "code",
   "execution_count": 4,
   "id": "ab29d1b6",
   "metadata": {},
   "outputs": [
    {
     "data": {
      "text/plain": [
       "set"
      ]
     },
     "execution_count": 4,
     "metadata": {},
     "output_type": "execute_result"
    }
   ],
   "source": [
    "type(aa)"
   ]
  },
  {
   "cell_type": "code",
   "execution_count": 5,
   "id": "4ce6c146",
   "metadata": {},
   "outputs": [
    {
     "data": {
      "text/plain": [
       "8"
      ]
     },
     "execution_count": 5,
     "metadata": {},
     "output_type": "execute_result"
    }
   ],
   "source": [
    "len(a)"
   ]
  },
  {
   "cell_type": "code",
   "execution_count": 6,
   "id": "26b517de",
   "metadata": {},
   "outputs": [
    {
     "data": {
      "text/plain": [
       "4"
      ]
     },
     "execution_count": 6,
     "metadata": {},
     "output_type": "execute_result"
    }
   ],
   "source": [
    "len(aa)"
   ]
  },
  {
   "cell_type": "code",
   "execution_count": 16,
   "id": "e89b51cd",
   "metadata": {},
   "outputs": [],
   "source": [
    "dd={666,56547,666,4655,666,\"hi\",\"yes\"}"
   ]
  },
  {
   "cell_type": "code",
   "execution_count": 17,
   "id": "8b5f7645",
   "metadata": {},
   "outputs": [
    {
     "data": {
      "text/plain": [
       "{4655, 56547, 666, 'hi', 'yes'}"
      ]
     },
     "execution_count": 17,
     "metadata": {},
     "output_type": "execute_result"
    }
   ],
   "source": [
    "dd"
   ]
  },
  {
   "cell_type": "code",
   "execution_count": 19,
   "id": "e7a0b3f1",
   "metadata": {},
   "outputs": [
    {
     "data": {
      "text/plain": [
       "5"
      ]
     },
     "execution_count": 19,
     "metadata": {},
     "output_type": "execute_result"
    }
   ],
   "source": [
    "len(dd)"
   ]
  },
  {
   "cell_type": "code",
   "execution_count": 20,
   "id": "f58887eb",
   "metadata": {},
   "outputs": [],
   "source": [
    "a.add(78)"
   ]
  },
  {
   "cell_type": "code",
   "execution_count": 21,
   "id": "9bbf2130",
   "metadata": {},
   "outputs": [
    {
     "data": {
      "text/plain": [
       "{(89+8j), 489, 5, 6, 7, 78, 88, 'durai', 'hayas'}"
      ]
     },
     "execution_count": 21,
     "metadata": {},
     "output_type": "execute_result"
    }
   ],
   "source": [
    "a"
   ]
  },
  {
   "cell_type": "code",
   "execution_count": 41,
   "id": "7deb14dd",
   "metadata": {},
   "outputs": [],
   "source": [
    "aa.update({4326,\"bala\",64385,7854.566})"
   ]
  },
  {
   "cell_type": "code",
   "execution_count": 42,
   "id": "bcd115e7",
   "metadata": {},
   "outputs": [
    {
     "data": {
      "text/plain": [
       "{4326, 489, 54, 64385, 7854.566, 890, 'bala'}"
      ]
     },
     "execution_count": 42,
     "metadata": {},
     "output_type": "execute_result"
    }
   ],
   "source": [
    "aa"
   ]
  },
  {
   "cell_type": "code",
   "execution_count": 43,
   "id": "c07f0b76",
   "metadata": {},
   "outputs": [],
   "source": [
    "aa.remove(\"bala\")"
   ]
  },
  {
   "cell_type": "code",
   "execution_count": 44,
   "id": "3fd3d1b2",
   "metadata": {},
   "outputs": [
    {
     "data": {
      "text/plain": [
       "{54, 489, 890, 4326, 7854.566, 64385}"
      ]
     },
     "execution_count": 44,
     "metadata": {},
     "output_type": "execute_result"
    }
   ],
   "source": [
    "aa"
   ]
  },
  {
   "cell_type": "code",
   "execution_count": 45,
   "id": "07812e90",
   "metadata": {},
   "outputs": [],
   "source": [
    "aa.discard(54)"
   ]
  },
  {
   "cell_type": "code",
   "execution_count": 46,
   "id": "6bf80ce4",
   "metadata": {},
   "outputs": [
    {
     "data": {
      "text/plain": [
       "{489, 890, 4326, 7854.566, 64385}"
      ]
     },
     "execution_count": 46,
     "metadata": {},
     "output_type": "execute_result"
    }
   ],
   "source": [
    "aa"
   ]
  },
  {
   "cell_type": "code",
   "execution_count": 48,
   "id": "068dd83c",
   "metadata": {},
   "outputs": [
    {
     "data": {
      "text/plain": [
       "5"
      ]
     },
     "execution_count": 48,
     "metadata": {},
     "output_type": "execute_result"
    }
   ],
   "source": [
    "a.pop()"
   ]
  },
  {
   "cell_type": "code",
   "execution_count": 49,
   "id": "a4812de0",
   "metadata": {},
   "outputs": [
    {
     "data": {
      "text/plain": [
       "{(89+8j), 4326, 489, 6, 7, 78, 7854.566, 88, 890, 'durai', 'hayas'}"
      ]
     },
     "execution_count": 49,
     "metadata": {},
     "output_type": "execute_result"
    }
   ],
   "source": [
    "aa|a"
   ]
  },
  {
   "cell_type": "code",
   "execution_count": 50,
   "id": "02228196",
   "metadata": {},
   "outputs": [
    {
     "data": {
      "text/plain": [
       "{(89+8j), 4326, 489, 6, 7, 78, 7854.566, 88, 890, 'durai', 'hayas'}"
      ]
     },
     "execution_count": 50,
     "metadata": {},
     "output_type": "execute_result"
    }
   ],
   "source": [
    "a|aa"
   ]
  },
  {
   "cell_type": "code",
   "execution_count": 51,
   "id": "ab50ff81",
   "metadata": {},
   "outputs": [],
   "source": [
    "u={(89+8j), 4326, 489, 6, 7, 78, 7854.566, 88, 890, 'durai', 'hayas'}"
   ]
  },
  {
   "cell_type": "code",
   "execution_count": 52,
   "id": "938e44da",
   "metadata": {},
   "outputs": [
    {
     "data": {
      "text/plain": [
       "{(89+8j), 4326, 489, 6, 7, 78, 7854.566, 88, 890, 'durai', 'hayas'}"
      ]
     },
     "execution_count": 52,
     "metadata": {},
     "output_type": "execute_result"
    }
   ],
   "source": [
    "u|aa"
   ]
  },
  {
   "cell_type": "code",
   "execution_count": 56,
   "id": "1eb76cc9",
   "metadata": {},
   "outputs": [
    {
     "data": {
      "text/plain": [
       "8"
      ]
     },
     "execution_count": 56,
     "metadata": {},
     "output_type": "execute_result"
    }
   ],
   "source": [
    "len(a)"
   ]
  },
  {
   "cell_type": "code",
   "execution_count": 54,
   "id": "8fce36b9",
   "metadata": {},
   "outputs": [
    {
     "data": {
      "text/plain": [
       "11"
      ]
     },
     "execution_count": 54,
     "metadata": {},
     "output_type": "execute_result"
    }
   ],
   "source": [
    "len(u)"
   ]
  },
  {
   "cell_type": "code",
   "execution_count": 58,
   "id": "39091d64",
   "metadata": {},
   "outputs": [
    {
     "data": {
      "text/plain": [
       "{(89+8j), 489, 6, 7, 78, 88, 'durai', 'hayas'}"
      ]
     },
     "execution_count": 58,
     "metadata": {},
     "output_type": "execute_result"
    }
   ],
   "source": [
    "u&a"
   ]
  },
  {
   "cell_type": "code",
   "execution_count": 61,
   "id": "dd364f89",
   "metadata": {},
   "outputs": [
    {
     "data": {
      "text/plain": [
       "{890, 4326, 7854.566}"
      ]
     },
     "execution_count": 61,
     "metadata": {},
     "output_type": "execute_result"
    }
   ],
   "source": [
    "u-a"
   ]
  },
  {
   "cell_type": "markdown",
   "id": "3534e136",
   "metadata": {},
   "source": [
    "# FROZEN SET"
   ]
  },
  {
   "cell_type": "code",
   "execution_count": 64,
   "id": "5c81abc0",
   "metadata": {},
   "outputs": [],
   "source": [
    "gg=frozenset({55,7666,89450,\"hello\",\"my\"})\n",
    "g=frozenset({5478,9576,\"sun\",\"true\"})"
   ]
  },
  {
   "cell_type": "code",
   "execution_count": 65,
   "id": "1b00bec2",
   "metadata": {},
   "outputs": [
    {
     "data": {
      "text/plain": [
       "frozenset"
      ]
     },
     "execution_count": 65,
     "metadata": {},
     "output_type": "execute_result"
    }
   ],
   "source": [
    "type(gg)"
   ]
  },
  {
   "cell_type": "code",
   "execution_count": 66,
   "id": "5bdb1c11",
   "metadata": {},
   "outputs": [
    {
     "data": {
      "text/plain": [
       "frozenset"
      ]
     },
     "execution_count": 66,
     "metadata": {},
     "output_type": "execute_result"
    }
   ],
   "source": [
    "type(g)"
   ]
  },
  {
   "cell_type": "code",
   "execution_count": 67,
   "id": "7599f04d",
   "metadata": {},
   "outputs": [
    {
     "data": {
      "text/plain": [
       "5"
      ]
     },
     "execution_count": 67,
     "metadata": {},
     "output_type": "execute_result"
    }
   ],
   "source": [
    "len(gg)"
   ]
  },
  {
   "cell_type": "code",
   "execution_count": 68,
   "id": "dc6e3955",
   "metadata": {},
   "outputs": [
    {
     "data": {
      "text/plain": [
       "4"
      ]
     },
     "execution_count": 68,
     "metadata": {},
     "output_type": "execute_result"
    }
   ],
   "source": [
    "len(g)"
   ]
  },
  {
   "cell_type": "code",
   "execution_count": 69,
   "id": "e1f29709",
   "metadata": {},
   "outputs": [
    {
     "ename": "AttributeError",
     "evalue": "'frozenset' object has no attribute 'add'",
     "output_type": "error",
     "traceback": [
      "\u001b[1;31m---------------------------------------------------------------------------\u001b[0m",
      "\u001b[1;31mAttributeError\u001b[0m                            Traceback (most recent call last)",
      "\u001b[1;32m~\\AppData\\Local\\Temp\\ipykernel_5480\\1117118310.py\u001b[0m in \u001b[0;36m<module>\u001b[1;34m\u001b[0m\n\u001b[1;32m----> 1\u001b[1;33m \u001b[0mgg\u001b[0m\u001b[1;33m.\u001b[0m\u001b[0madd\u001b[0m\u001b[1;33m(\u001b[0m\u001b[1;36m578\u001b[0m\u001b[1;33m)\u001b[0m\u001b[1;33m\u001b[0m\u001b[1;33m\u001b[0m\u001b[0m\n\u001b[0m",
      "\u001b[1;31mAttributeError\u001b[0m: 'frozenset' object has no attribute 'add'"
     ]
    }
   ],
   "source": [
    "gg.add(578)a"
   ]
  },
  {
   "cell_type": "code",
   "execution_count": 70,
   "id": "d238ba99",
   "metadata": {},
   "outputs": [
    {
     "ename": "AttributeError",
     "evalue": "'frozenset' object has no attribute 'update'",
     "output_type": "error",
     "traceback": [
      "\u001b[1;31m---------------------------------------------------------------------------\u001b[0m",
      "\u001b[1;31mAttributeError\u001b[0m                            Traceback (most recent call last)",
      "\u001b[1;32m~\\AppData\\Local\\Temp\\ipykernel_5480\\3076802480.py\u001b[0m in \u001b[0;36m<module>\u001b[1;34m\u001b[0m\n\u001b[1;32m----> 1\u001b[1;33m \u001b[0mgg\u001b[0m\u001b[1;33m.\u001b[0m\u001b[0mupdate\u001b[0m\u001b[1;33m(\u001b[0m\u001b[1;36m8963\u001b[0m\u001b[1;33m)\u001b[0m\u001b[1;33m\u001b[0m\u001b[1;33m\u001b[0m\u001b[0m\n\u001b[0m",
      "\u001b[1;31mAttributeError\u001b[0m: 'frozenset' object has no attribute 'update'"
     ]
    }
   ],
   "source": [
    "gg.update(8963)"
   ]
  },
  {
   "cell_type": "code",
   "execution_count": 72,
   "id": "6fc90480",
   "metadata": {},
   "outputs": [
    {
     "data": {
      "text/plain": [
       "frozenset({5478, 55, 7666, 89450, 9576, 'hello', 'my', 'sun', 'true'})"
      ]
     },
     "execution_count": 72,
     "metadata": {},
     "output_type": "execute_result"
    }
   ],
   "source": [
    "gg|g"
   ]
  },
  {
   "cell_type": "code",
   "execution_count": 74,
   "id": "f024eace",
   "metadata": {},
   "outputs": [
    {
     "data": {
      "text/plain": [
       "frozenset({55, 7666, 89450, 'hello', 'my'})"
      ]
     },
     "execution_count": 74,
     "metadata": {},
     "output_type": "execute_result"
    }
   ],
   "source": [
    "gg-g"
   ]
  },
  {
   "cell_type": "code",
   "execution_count": 75,
   "id": "2aaca89e",
   "metadata": {},
   "outputs": [
    {
     "data": {
      "text/plain": [
       "frozenset()"
      ]
     },
     "execution_count": 75,
     "metadata": {},
     "output_type": "execute_result"
    }
   ],
   "source": [
    "g&gg"
   ]
  },
  {
   "cell_type": "code",
   "execution_count": null,
   "id": "9ae31b5f",
   "metadata": {},
   "outputs": [],
   "source": []
  }
 ],
 "metadata": {
  "kernelspec": {
   "display_name": "Python 3 (ipykernel)",
   "language": "python",
   "name": "python3"
  },
  "language_info": {
   "codemirror_mode": {
    "name": "ipython",
    "version": 3
   },
   "file_extension": ".py",
   "mimetype": "text/x-python",
   "name": "python",
   "nbconvert_exporter": "python",
   "pygments_lexer": "ipython3",
   "version": "3.9.13"
  }
 },
 "nbformat": 4,
 "nbformat_minor": 5
}
