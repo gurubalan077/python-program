{
 "cells": [
  {
   "cell_type": "code",
   "execution_count": null,
   "id": "8c5e4fc3",
   "metadata": {},
   "outputs": [],
   "source": [
    "num=[20,21,22,23,24,25,26,27,28]"
   ]
  },
  {
   "cell_type": "code",
   "execution_count": null,
   "id": "909b7ab2",
   "metadata": {},
   "outputs": [],
   "source": [
    "for y in num:\n",
    "    print(y)"
   ]
  },
  {
   "cell_type": "code",
   "execution_count": null,
   "id": "29751e52",
   "metadata": {},
   "outputs": [],
   "source": [
    "num01=[30,31,32,33,34,35,36,37,98,38,39,40,42,41]"
   ]
  },
  {
   "cell_type": "code",
   "execution_count": null,
   "id": "aff6edad",
   "metadata": {},
   "outputs": [],
   "source": [
    "for num in num01:\n",
    "    if num%2 == 0:\n",
    "        print(f\"{num} is even\")\n",
    "    else:\n",
    "        print(f\"{num} is odd\")"
   ]
  },
  {
   "cell_type": "code",
   "execution_count": null,
   "id": "19fc93ed",
   "metadata": {},
   "outputs": [],
   "source": [
    "for num in num01:\n",
    "    if num/2 == 0:\n",
    "        print(f\"{num} is even\")\n",
    "    else:\n",
    "        print(f\"{num} is odd\")"
   ]
  },
  {
   "cell_type": "code",
   "execution_count": null,
   "id": "a3221c9e",
   "metadata": {},
   "outputs": [],
   "source": [
    "for _ in 'gurubalan':\n",
    "    print(\"hi\")"
   ]
  },
  {
   "cell_type": "code",
   "execution_count": null,
   "id": "95292131",
   "metadata": {},
   "outputs": [],
   "source": [
    "list01 =[(1,2),(1,3),(1,5),(1,4),(1,6),(1,7)]"
   ]
  },
  {
   "cell_type": "code",
   "execution_count": null,
   "id": "086d6f13",
   "metadata": {},
   "outputs": [],
   "source": [
    "for item in list01:\n",
    "    print(item)"
   ]
  },
  {
   "cell_type": "code",
   "execution_count": null,
   "id": "e4b4dea0",
   "metadata": {},
   "outputs": [],
   "source": [
    "for a,b in list01:\n",
    "    print(a)\n",
    "    print(b)"
   ]
  },
  {
   "cell_type": "code",
   "execution_count": null,
   "id": "f15aaf89",
   "metadata": {},
   "outputs": [],
   "source": [
    "a={1:\"hi\", 2:\"da\", 3:\"hayes\"}"
   ]
  },
  {
   "cell_type": "code",
   "execution_count": null,
   "id": "4156061c",
   "metadata": {},
   "outputs": [],
   "source": [
    "for item in a:\n",
    "    print(item)"
   ]
  },
  {
   "cell_type": "code",
   "execution_count": null,
   "id": "a5ce43fa",
   "metadata": {},
   "outputs": [],
   "source": [
    "for item in a . items():\n",
    "    print(item)"
   ]
  },
  {
   "cell_type": "code",
   "execution_count": null,
   "id": "e64aedd4",
   "metadata": {},
   "outputs": [],
   "source": [
    "for key,val in a.items():\n",
    "    print(val)"
   ]
  },
  {
   "cell_type": "code",
   "execution_count": null,
   "id": "b52800a6",
   "metadata": {},
   "outputs": [],
   "source": [
    "for key,val in a.items():\n",
    "    print(key)"
   ]
  },
  {
   "cell_type": "markdown",
   "id": "3ee7fd21",
   "metadata": {},
   "source": [
    "# WHILE LOOP"
   ]
  },
  {
   "cell_type": "code",
   "execution_count": 4,
   "id": "2418327c",
   "metadata": {},
   "outputs": [
    {
     "name": "stdout",
     "output_type": "stream",
     "text": [
      "Enter the number:9\n",
      " the sum is 45\n"
     ]
    }
   ],
   "source": [
    "n = input(\"Enter the number:\")\n",
    "val = 0\n",
    "i = 0\n",
    "\n",
    "while i <= int(n):\n",
    "    val += i\n",
    "    i += 1\n",
    "    \n",
    "print(f\" the sum is {val}\")"
   ]
  },
  {
   "cell_type": "code",
   "execution_count": 6,
   "id": "f3317a5f",
   "metadata": {},
   "outputs": [
    {
     "name": "stdout",
     "output_type": "stream",
     "text": [
      "inside loop\n",
      "inside loop\n",
      "inside loop\n",
      "Inside else\n"
     ]
    }
   ],
   "source": [
    "counter = 0\n",
    "\n",
    "while counter < 3:\n",
    "    print(\"inside loop\")\n",
    "    counter = counter + 1\n",
    "else:\n",
    "    print(\"Inside else\")"
   ]
  },
  {
   "cell_type": "code",
   "execution_count": 7,
   "id": "19b5c1dc",
   "metadata": {},
   "outputs": [
    {
     "name": "stdout",
     "output_type": "stream",
     "text": [
      "0\n",
      "1\n",
      "5\n",
      "hi\n"
     ]
    }
   ],
   "source": [
    "digits = [0,1,5]\n",
    "\n",
    "for i in digits:\n",
    "    print(i)\n",
    "else:\n",
    "    print(\"hi\")\n"
   ]
  },
  {
   "cell_type": "code",
   "execution_count": 11,
   "id": "e420012f",
   "metadata": {},
   "outputs": [
    {
     "name": "stdout",
     "output_type": "stream",
     "text": [
      "0\n",
      "1\n",
      "2\n",
      "3\n",
      "4\n"
     ]
    }
   ],
   "source": [
    "count = 0\n",
    "while True:\n",
    "    print(count)\n",
    "    count += 1\n",
    "    if count >= 5:\n",
    "        break"
   ]
  },
  {
   "cell_type": "code",
   "execution_count": 14,
   "id": "4aea3112",
   "metadata": {},
   "outputs": [
    {
     "name": "stdout",
     "output_type": "stream",
     "text": [
      "0\n",
      "1\n",
      "2\n",
      "3\n",
      "4\n",
      "5\n",
      "6\n",
      "7\n",
      "8\n",
      "9\n",
      "10\n",
      "11\n",
      "12\n",
      "13\n",
      "14\n",
      "15\n",
      "16\n",
      "17\n",
      "18\n",
      "19\n"
     ]
    }
   ],
   "source": [
    "count = 0\n",
    "while True:\n",
    "    print(count)\n",
    "    count += 1\n",
    "    if count >= 20:\n",
    "        break"
   ]
  },
  {
   "cell_type": "code",
   "execution_count": 18,
   "id": "a73935f2",
   "metadata": {},
   "outputs": [
    {
     "name": "stdout",
     "output_type": "stream",
     "text": [
      "0\n",
      "1\n",
      "2\n",
      "3\n",
      "4\n",
      "5\n",
      "6\n",
      "7\n",
      "8\n",
      "9\n",
      "10\n",
      "11\n",
      "12\n",
      "13\n",
      "14\n",
      "15\n",
      "16\n",
      "17\n",
      "18\n",
      "19\n",
      "20\n",
      "21\n",
      "22\n",
      "23\n",
      "24\n",
      "25\n",
      "26\n",
      "27\n",
      "28\n",
      "29\n",
      "30\n",
      "31\n",
      "32\n"
     ]
    }
   ],
   "source": [
    "count = 0\n",
    "while True:\n",
    "    print(count)\n",
    "    count += 1\n",
    "    if count >= 33:\n",
    "        break"
   ]
  },
  {
   "cell_type": "code",
   "execution_count": null,
   "id": "6c4fedd2",
   "metadata": {},
   "outputs": [],
   "source": []
  }
 ],
 "metadata": {
  "kernelspec": {
   "display_name": "Python 3 (ipykernel)",
   "language": "python",
   "name": "python3"
  },
  "language_info": {
   "codemirror_mode": {
    "name": "ipython",
    "version": 3
   },
   "file_extension": ".py",
   "mimetype": "text/x-python",
   "name": "python",
   "nbconvert_exporter": "python",
   "pygments_lexer": "ipython3",
   "version": "3.9.13"
  }
 },
 "nbformat": 4,
 "nbformat_minor": 5
}
