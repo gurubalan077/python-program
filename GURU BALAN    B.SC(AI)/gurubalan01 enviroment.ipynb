{
 "cells": [
  {
   "cell_type": "markdown",
   "id": "6677b4fa",
   "metadata": {},
   "source": [
    "# VARIABLE"
   ]
  },
  {
   "cell_type": "code",
   "execution_count": 38,
   "id": "9869a185",
   "metadata": {},
   "outputs": [
    {
     "name": "stdout",
     "output_type": "stream",
     "text": [
      "570\n"
     ]
    }
   ],
   "source": [
    "bala=570\n",
    "print(bala)"
   ]
  },
  {
   "cell_type": "code",
   "execution_count": 48,
   "id": "42318677",
   "metadata": {},
   "outputs": [
    {
     "name": "stdout",
     "output_type": "stream",
     "text": [
      "6754\n"
     ]
    }
   ],
   "source": [
    "inyy7=6754\n",
    "print(inyy7)"
   ]
  },
  {
   "cell_type": "code",
   "execution_count": 74,
   "id": "571150d0",
   "metadata": {},
   "outputs": [
    {
     "name": "stdout",
     "output_type": "stream",
     "text": [
      "8\n"
     ]
    }
   ],
   "source": [
    "hi=8\n",
    "print(hi)"
   ]
  },
  {
   "cell_type": "code",
   "execution_count": null,
   "id": "9d222cbe",
   "metadata": {},
   "outputs": [],
   "source": []
  }
 ],
 "metadata": {
  "kernelspec": {
   "display_name": "Python 3 (ipykernel)",
   "language": "python",
   "name": "python3"
  },
  "language_info": {
   "codemirror_mode": {
    "name": "ipython",
    "version": 3
   },
   "file_extension": ".py",
   "mimetype": "text/x-python",
   "name": "python",
   "nbconvert_exporter": "python",
   "pygments_lexer": "ipython3",
   "version": "3.9.15"
  }
 },
 "nbformat": 4,
 "nbformat_minor": 5
}
