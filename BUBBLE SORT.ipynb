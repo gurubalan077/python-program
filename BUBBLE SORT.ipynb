{
 "cells": [
  {
   "cell_type": "code",
   "execution_count": 1,
   "id": "67a02153",
   "metadata": {},
   "outputs": [
    {
     "name": "stdout",
     "output_type": "stream",
     "text": [
      "Before sorting the array in Ascending order:\n",
      "[-2, 45, 0, 11, 9, 11, -11, 21, 12]\n",
      "After Before sorting the array in ascending order:\n",
      "[11, -2, 0, 11, 9, -11, 21, 45, 12]\n"
     ]
    }
   ],
   "source": [
    "def bubblesort(data):\n",
    "    for i in range(len(data)):\n",
    "        for j in range(0,len(data) -i -1):\n",
    "            if data[j] > data[ j+ i]:\n",
    "                temp = data[j]\n",
    "                data[j] = data[j+1]\n",
    "                data[j+1] = temp\n",
    "                \n",
    "data = [-2, 45, 0, 11, 9, 11, -11, 21, 12]\n",
    "\n",
    "print(\"Before sorting the array in Ascending order:\")\n",
    "print(data)\n",
    "\n",
    "bubblesort(data)\n",
    "\n",
    "print(\"After Before sorting the array in ascending order:\")\n",
    "print(data)\n",
    "                \n",
    "\n"
   ]
  },
  {
   "cell_type": "code",
   "execution_count": 2,
   "id": "c8b19668",
   "metadata": {},
   "outputs": [
    {
     "name": "stdout",
     "output_type": "stream",
     "text": [
      "Before sorting the array in descending order:\n",
      "[10, 50, 70, 80, 90, 20]\n",
      "After Before sorting the array in descending order:\n",
      "[80, 70, 50, 90, 10, 20]\n"
     ]
    }
   ],
   "source": [
    "def bubblesort(data):\n",
    "    for i in range(len(data)):\n",
    "        for j in range(0,len(data) -i -1):\n",
    "            if data[j] < data[ j+ i]:\n",
    "                temp = data[j]\n",
    "                data[j] = data[j+1]\n",
    "                data[j+1] = temp\n",
    "                \n",
    "data = [10,50,70,80,90,20]\n",
    "\n",
    "print(\"Before sorting the array in descending order:\")\n",
    "print(data)\n",
    "\n",
    "bubblesort(data)\n",
    "\n",
    "print(\"After Before sorting the array in descending order:\")\n",
    "print(data)\n",
    "      "
   ]
  },
  {
   "cell_type": "markdown",
   "id": "009369c6",
   "metadata": {},
   "source": [
    "# optimize code"
   ]
  },
  {
   "cell_type": "code",
   "execution_count": 7,
   "id": "52a00dbf",
   "metadata": {},
   "outputs": [
    {
     "name": "stdout",
     "output_type": "stream",
     "text": [
      "non-sorted array is:\n",
      " 56 78 98 90 56 34 23%nsorted array is:\n",
      " 23 34 56 56 78 90 98"
     ]
    }
   ],
   "source": [
    "def bubblesort(arr):\n",
    "    n = len(arr)\n",
    "    \n",
    "    swapped = False\n",
    "    for i in range(n-1):\n",
    "        \n",
    "        for j in range(0, n-i-1):\n",
    "            if arr[j]> arr[j + 1]:\n",
    "                swapped = True \n",
    "                arr[j], arr[j + 1] = arr[j + 1],arr[j]\n",
    "            \n",
    "        if not swapped:\n",
    "        \n",
    "           return\n",
    "    \n",
    "arr = [56,78,98,90,56,34,23]\n",
    "\n",
    "print(\"non-sorted array is:\")\n",
    "for i in range(len(arr)):\n",
    "    print(\"% d\"%arr[i], end=\"\")\n",
    "    \n",
    "bubblesort(arr)\n",
    "print(\"%nsorted array is:\")\n",
    "for i in range(len(arr)):\n",
    "    print(\"% d\"%arr[i], end=\"\")\n",
    "    "
   ]
  },
  {
   "cell_type": "code",
   "execution_count": null,
   "id": "2323a1da",
   "metadata": {},
   "outputs": [],
   "source": []
  }
 ],
 "metadata": {
  "kernelspec": {
   "display_name": "Python 3 (ipykernel)",
   "language": "python",
   "name": "python3"
  },
  "language_info": {
   "codemirror_mode": {
    "name": "ipython",
    "version": 3
   },
   "file_extension": ".py",
   "mimetype": "text/x-python",
   "name": "python",
   "nbconvert_exporter": "python",
   "pygments_lexer": "ipython3",
   "version": "3.9.13"
  }
 },
 "nbformat": 4,
 "nbformat_minor": 5
}
