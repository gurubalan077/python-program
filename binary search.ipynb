{
 "cells": [
  {
   "cell_type": "code",
   "execution_count": 23,
   "id": "c396a16a",
   "metadata": {},
   "outputs": [],
   "source": [
    "data =[1,2,3,4,5,6,7,8,9,10,100,20,1000]"
   ]
  },
  {
   "cell_type": "code",
   "execution_count": 24,
   "id": "ffc5f9a1",
   "metadata": {},
   "outputs": [],
   "source": [
    "data.sort()"
   ]
  },
  {
   "cell_type": "code",
   "execution_count": 25,
   "id": "306ea181",
   "metadata": {},
   "outputs": [
    {
     "data": {
      "text/plain": [
       "[1, 2, 3, 4, 5, 6, 7, 8, 9, 10, 20, 100, 1000]"
      ]
     },
     "execution_count": 25,
     "metadata": {},
     "output_type": "execute_result"
    }
   ],
   "source": [
    "data"
   ]
  },
  {
   "cell_type": "code",
   "execution_count": 26,
   "id": "b4e045f3",
   "metadata": {},
   "outputs": [
    {
     "name": "stdout",
     "output_type": "stream",
     "text": [
      "Enter the search element : 3\n"
     ]
    }
   ],
   "source": [
    "elem = int(input(\"Enter the search element : \" ))"
   ]
  },
  {
   "cell_type": "code",
   "execution_count": 27,
   "id": "afdf68b7",
   "metadata": {},
   "outputs": [],
   "source": [
    "def binary_search(data, elem):\n",
    "    low = 0\n",
    "    high = len(data) - 1\n",
    "    \n",
    "    while low <= high:\n",
    "        middle = (low + high) // 2\n",
    "        \n",
    "        if data[middle] == elem:\n",
    "            print(f\"The search element {elem} is present at index value {middle} in dataset\")\n",
    "            break\n",
    "        \n",
    "        elif data[middle] > elem:\n",
    "            high = middle - 1\n",
    "        \n",
    "        else:\n",
    "            low = middle + 1\n",
    "            \n",
    "    if data[middle] != elem:\n",
    "        print(f\"The search element {elem} is not present in the dataset\")\n",
    "        return -1"
   ]
  },
  {
   "cell_type": "code",
   "execution_count": 28,
   "id": "f045450b",
   "metadata": {},
   "outputs": [
    {
     "name": "stdout",
     "output_type": "stream",
     "text": [
      "The search element 3 is present at index value 2 in dataset\n"
     ]
    }
   ],
   "source": [
    " binary_search(data, elem)"
   ]
  },
  {
   "cell_type": "code",
   "execution_count": null,
   "id": "823b7300",
   "metadata": {},
   "outputs": [],
   "source": []
  },
  {
   "cell_type": "code",
   "execution_count": null,
   "id": "f40fb633",
   "metadata": {},
   "outputs": [],
   "source": []
  }
 ],
 "metadata": {
  "kernelspec": {
   "display_name": "Python 3 (ipykernel)",
   "language": "python",
   "name": "python3"
  },
  "language_info": {
   "codemirror_mode": {
    "name": "ipython",
    "version": 3
   },
   "file_extension": ".py",
   "mimetype": "text/x-python",
   "name": "python",
   "nbconvert_exporter": "python",
   "pygments_lexer": "ipython3",
   "version": "3.9.7"
  }
 },
 "nbformat": 4,
 "nbformat_minor": 5
}
