{
 "cells": [
  {
   "cell_type": "markdown",
   "id": "e0d08a10",
   "metadata": {},
   "source": [
    "# game"
   ]
  },
  {
   "cell_type": "code",
   "execution_count": 3,
   "id": "20e62646",
   "metadata": {},
   "outputs": [],
   "source": [
    "import pygame\n",
    "import time\n",
    "import random"
   ]
  },
  {
   "cell_type": "code",
   "execution_count": 4,
   "id": "a1a80986",
   "metadata": {},
   "outputs": [],
   "source": [
    "snake_speed = 15"
   ]
  },
  {
   "cell_type": "code",
   "execution_count": 5,
   "id": "1de20edf",
   "metadata": {},
   "outputs": [],
   "source": [
    "window_x = 720\n",
    "window_y = 480"
   ]
  },
  {
   "cell_type": "code",
   "execution_count": 7,
   "id": "96f45ddb",
   "metadata": {},
   "outputs": [],
   "source": [
    "black = pygame.Color(0, 0, 0,)\n",
    "white = pygame.Color(255, 255, 255)\n",
    "red = pygame.Color(255, 0, 0)\n",
    "green = pygame.Color(0, 255, 0)\n",
    "blue = pygame.Color(0, 0, 255)"
   ]
  },
  {
   "cell_type": "code",
   "execution_count": 8,
   "id": "ef46ecb4",
   "metadata": {},
   "outputs": [
    {
     "data": {
      "text/plain": [
       "(4, 1)"
      ]
     },
     "execution_count": 8,
     "metadata": {},
     "output_type": "execute_result"
    }
   ],
   "source": [
    "pygame.init()"
   ]
  },
  {
   "cell_type": "code",
   "execution_count": 14,
   "id": "a49ec5ed",
   "metadata": {},
   "outputs": [],
   "source": [
    "pygame.display.set_caption('snake')\n",
    "game_window = pygame.display.set_mode((window_x,window_y))"
   ]
  },
  {
   "cell_type": "code",
   "execution_count": 16,
   "id": "72d08749",
   "metadata": {},
   "outputs": [],
   "source": [
    "fps = pygame.time.Clock()"
   ]
  },
  {
   "cell_type": "code",
   "execution_count": 13,
   "id": "428ea269",
   "metadata": {},
   "outputs": [],
   "source": [
    "snake_postion = [100,50]"
   ]
  },
  {
   "cell_type": "code",
   "execution_count": 17,
   "id": "a46ac73b",
   "metadata": {},
   "outputs": [],
   "source": [
    "snake_body =[[100,50],\n",
    "            [90,50],\n",
    "            [80,50],\n",
    "            [70,50],\n",
    "            ]"
   ]
  },
  {
   "cell_type": "code",
   "execution_count": null,
   "id": "d20d2945",
   "metadata": {},
   "outputs": [],
   "source": [
    "fruit_position = [random.randrange(1,(window_x//10))=*10,\n",
    "                  random.randrange(1,(window_y//10))=*10]\n",
    "fruit_spawn = True"
   ]
  },
  {
   "cell_type": "code",
   "execution_count": 21,
   "id": "e88ac67b",
   "metadata": {},
   "outputs": [],
   "source": [
    "direction ='RIGHT'\n",
    "change_to = direction"
   ]
  },
  {
   "cell_type": "code",
   "execution_count": null,
   "id": "a310683b",
   "metadata": {},
   "outputs": [],
   "source": [
    "score = 0"
   ]
  },
  {
   "cell_type": "code",
   "execution_count": 26,
   "id": "8fbef8f0",
   "metadata": {},
   "outputs": [],
   "source": [
    "def show_score(choice, color, font ,size):\n",
    "    score_font = pygame.font.SysFont(font, size)\n",
    "    score_surface = score_font.render('score: ' + str(score), True,color)\n",
    "    score_rect = score_surface.get_rect()\n",
    "    game_window.blit(score_surface, score_rect)\n",
    "    "
   ]
  },
  {
   "cell_type": "code",
   "execution_count": 28,
   "id": "7afee84e",
   "metadata": {},
   "outputs": [],
   "source": [
    "def game_over():\n",
    "    my_font = pygame.font.sysyFont('time new roman',50)\n",
    "    \n",
    "    game_over_surface = my_font.render('Your Score is : ' + str(score),True, red)\n",
    "    \n",
    "    game_over_rect = game_over_surface.get_rect()\n",
    "    \n",
    "    game_over_rect.midtop = (window_x/2,window_y/4)\n",
    "    \n",
    "    game.window.blit(game_over_surface,game_over_rect)\n",
    "    \n",
    "    time.sleep(2)\n",
    "    "
   ]
  },
  {
   "cell_type": "code",
   "execution_count": null,
   "id": "16af980e",
   "metadata": {},
   "outputs": [],
   "source": [
    "while True:\n",
    "    \n",
    "    for event in pygame.event.get():\n",
    "        if event.type == pygame.KEYDOWN:\n",
    "            if event.key == py.game.K_UP:\n",
    "                change_to ='UP'\n",
    "            if event.key == py.game.K_DOWN:\n",
    "                change_to ='DOWN'\n",
    "            if event.key == py.game.K_LEFT:\n",
    "                change_to ='LEFT'\n",
    "            if event.key == py.game.K_RIGHT:\n",
    "                change_to ='RIGHT'\n",
    "                \n",
    "        if change_to =='UP' and direction ! = 'DOWN'\n",
    "            direction = 'UP'\n",
    "            \n",
    "        if change_to =='DOWN' and direction ! = 'UP'\n",
    "            direction = 'DOWN'\n",
    "            \n",
    "        if change_to =='LEFT' and direction ! = 'RIGHT'\n",
    "            direction = 'LEFT'\n",
    "            \n",
    "        if change_to =='RIGHT' and direction ! = 'LEFT'\n",
    "            direction = 'RIGHT'\n",
    "            \n",
    "        if direction == 'UP'\n",
    "        snake_position[1] -=10\n",
    "        \n",
    "        if direction == 'DOWN'\n",
    "        snake_position[1] -=10\n",
    "        \n",
    "        if direction == 'RIGHT'\n",
    "        snake_position[1] -=10\n",
    "        \n",
    "        if direction == 'LEFT'\n",
    "        snake_position[1] -=10\n",
    "        \n",
    "        snake_body.insert(0, list(snake_positon))\n",
    "        if snake_postion[0] == fruit_postion[0] and snake_position[1] == fruit_pos:\n",
    "            score += 10\n",
    "            fruit_spawn = False\n",
    "        else:\n",
    "            snake_body.po()\n",
    "        if not fruit spawn:\n",
    "            fruit_position = [random.randrange(1,(window_x//10))=*10,\n",
    "                  random.randrange(1,(window_y//10))=*10]\n",
    "fruit_spawn = True\n",
    "game_window.fill(black)\n",
    "\n",
    "for pos in snake_body:\n",
    "    pygame.draw.rect(game_window,green,pygame,Rect(pos[0],pos[1],10,10))\n",
    "    \n",
    "     pygame.draw.fruit postion(game_window,green,pygame,fruit postion(pos[0],pos[1],10,10))\n",
    "        if snake_postion[0] < 0 or snkae_postion[0] > window_x-10:\n",
    "            game_over()\n",
    "        if snake_postion[1] < 0 or snkae_postion[0] > window_x-10:\n",
    "            game_over()\n",
    "            \n",
    "        for block in snake_postion[0] == block[0] and snake_postion[1] ==block[1]:\n",
    "            game_over\n",
    "        \n",
    "        show_score(1,white,'times new roman', 20)\n",
    "        \n",
    "        pygame.dispaly.update()\n",
    "        fps.tick(snake_speed)"
   ]
  }
 ],
 "metadata": {
  "kernelspec": {
   "display_name": "Python 3 (ipykernel)",
   "language": "python",
   "name": "python3"
  },
  "language_info": {
   "codemirror_mode": {
    "name": "ipython",
    "version": 3
   },
   "file_extension": ".py",
   "mimetype": "text/x-python",
   "name": "python",
   "nbconvert_exporter": "python",
   "pygments_lexer": "ipython3",
   "version": "3.9.13"
  }
 },
 "nbformat": 4,
 "nbformat_minor": 5
}
