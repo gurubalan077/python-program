{
 "cells": [
  {
   "cell_type": "code",
   "execution_count": 5,
   "id": "7594ee3b",
   "metadata": {},
   "outputs": [],
   "source": [
    "class Person:\n",
    "    # contains the data\n",
    "    \n",
    "    def __init__(self, fname, lname, year, age, IDnumb):\n",
    "        self.fname = fname\n",
    "        self.lname = lname\n",
    "        self.DOByear = year\n",
    "        self.age = age\n",
    "        self.IDnumb = IDnumb\n",
    "        \n",
    "    def disp(self):\n",
    "        print(self.fname, self.lname)\n",
    "        print(self.DOByear)\n",
    "        print(self.age)\n",
    "        print(self.IDnumb)\n"
   ]
  },
  {
   "cell_type": "code",
   "execution_count": 7,
   "id": "40a98806",
   "metadata": {},
   "outputs": [],
   "source": [
    "class Student(Person):\n",
    "    #\n",
    "    \n",
    "    def __init__(self, fname, lname, year, age, IDnumb, collage, year_study):\n",
    "        super().__init__(fname, lname, year, age, IDnumb)\n",
    "        self.collage = collage\n",
    "        self.year = year_study\n",
    "        \n",
    "    def study_disp(self):\n",
    "        print(f\"{self.fname} studies in {self.collage} and is in year {self.year}.\")\n"
   ]
  },
  {
   "cell_type": "code",
   "execution_count": 10,
   "id": "257b6acf",
   "metadata": {},
   "outputs": [],
   "source": [
    "stud1 = Student(\"guru\",\"balan\",2005,19,1220121,\"pmis\",2018)"
   ]
  },
  {
   "cell_type": "code",
   "execution_count": 13,
   "id": "cc37ffa0",
   "metadata": {},
   "outputs": [
    {
     "name": "stdout",
     "output_type": "stream",
     "text": [
      "guru balan\n",
      "2005\n",
      "19\n",
      "1220121\n"
     ]
    }
   ],
   "source": [
    "stud1.disp()"
   ]
  },
  {
   "cell_type": "code",
   "execution_count": 15,
   "id": "24b0c2c4",
   "metadata": {},
   "outputs": [
    {
     "name": "stdout",
     "output_type": "stream",
     "text": [
      "guru studies in pmis and is in year 2018.\n"
     ]
    }
   ],
   "source": [
    "stud1.study_disp()"
   ]
  },
  {
   "cell_type": "code",
   "execution_count": null,
   "id": "fd1c8b4e",
   "metadata": {},
   "outputs": [],
   "source": []
  }
 ],
 "metadata": {
  "kernelspec": {
   "display_name": "Python 3 (ipykernel)",
   "language": "python",
   "name": "python3"
  },
  "language_info": {
   "codemirror_mode": {
    "name": "ipython",
    "version": 3
   },
   "file_extension": ".py",
   "mimetype": "text/x-python",
   "name": "python",
   "nbconvert_exporter": "python",
   "pygments_lexer": "ipython3",
   "version": "3.9.13"
  }
 },
 "nbformat": 4,
 "nbformat_minor": 5
}
