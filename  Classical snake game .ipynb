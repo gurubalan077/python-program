{
 "cells": [
  {
   "cell_type": "code",
   "execution_count": 1,
   "id": "4b10b765",
   "metadata": {},
   "outputs": [
    {
     "name": "stdout",
     "output_type": "stream",
     "text": [
      "Defaulting to user installation because normal site-packages is not writeable\n",
      "Requirement already satisfied: pygame in c:\\users\\aedpu\\appdata\\roaming\\python\\python39\\site-packages (2.3.0)\n",
      "Note: you may need to restart the kernel to use updated packages.\n"
     ]
    }
   ],
   "source": [
    "pip install pygame"
   ]
  },
  {
   "cell_type": "code",
   "execution_count": 1,
   "id": "e6666dd2",
   "metadata": {},
   "outputs": [
    {
     "name": "stdout",
     "output_type": "stream",
     "text": [
      "pygame 2.3.0 (SDL 2.24.2, Python 3.9.13)\n",
      "Hello from the pygame community. https://www.pygame.org/contribute.html\n"
     ]
    }
   ],
   "source": [
    "import pygame\n",
    "import time\n",
    "import random"
   ]
  },
  {
   "cell_type": "code",
   "execution_count": 2,
   "id": "4ce8bd32",
   "metadata": {},
   "outputs": [],
   "source": [
    "snake_speed = 15"
   ]
  },
  {
   "cell_type": "code",
   "execution_count": 3,
   "id": "2dca818a",
   "metadata": {},
   "outputs": [],
   "source": [
    "window_x = 720\n",
    "window_y = 480"
   ]
  },
  {
   "cell_type": "code",
   "execution_count": 4,
   "id": "150aa496",
   "metadata": {},
   "outputs": [],
   "source": [
    "black = pygame.Color(0, 0, 0)\n",
    "white = pygame.Color(255, 255, 255)\n",
    "red = pygame.Color(255, 0, 0)\n",
    "green = pygame.Color(0, 255, 0)\n",
    "blue = pygame.Color(0, 0, 255)"
   ]
  },
  {
   "cell_type": "code",
   "execution_count": 5,
   "id": "e348e38d",
   "metadata": {},
   "outputs": [
    {
     "data": {
      "text/plain": [
       "(4, 1)"
      ]
     },
     "execution_count": 5,
     "metadata": {},
     "output_type": "execute_result"
    }
   ],
   "source": [
    "pygame.init()"
   ]
  },
  {
   "cell_type": "code",
   "execution_count": 6,
   "id": "8bf79c4e",
   "metadata": {},
   "outputs": [],
   "source": [
    "score=0"
   ]
  },
  {
   "cell_type": "code",
   "execution_count": 7,
   "id": "fe35933e",
   "metadata": {},
   "outputs": [],
   "source": [
    "pygame.display.set_caption('Snakes')\n",
    "game_window = pygame.display.set_mode((window_x, window_y))"
   ]
  },
  {
   "cell_type": "code",
   "execution_count": 8,
   "id": "22bc3093",
   "metadata": {},
   "outputs": [],
   "source": [
    "fps = pygame.time.Clock()"
   ]
  },
  {
   "cell_type": "code",
   "execution_count": 9,
   "id": "737c4071",
   "metadata": {},
   "outputs": [],
   "source": [
    "snake_position = [100, 50]"
   ]
  },
  {
   "cell_type": "code",
   "execution_count": 10,
   "id": "0976ca7f",
   "metadata": {},
   "outputs": [],
   "source": [
    "snake_body = [[100, 50],\n",
    "              [90, 50],\n",
    "              [80, 50],\n",
    "              [70, 50]\n",
    "              ]"
   ]
  },
  {
   "cell_type": "code",
   "execution_count": 11,
   "id": "736efa0a",
   "metadata": {},
   "outputs": [],
   "source": [
    "fruit_position = [random.randrange(1, (window_x//10)) * 10,\n",
    " random.randrange(1, (window_y//10)) * 10]\n",
    "fruit_spawn = True"
   ]
  },
  {
   "cell_type": "code",
   "execution_count": 12,
   "id": "e8b45276",
   "metadata": {},
   "outputs": [],
   "source": [
    "direction = 'RIGHT'\n",
    "change_to = direction"
   ]
  },
  {
   "cell_type": "code",
   "execution_count": 13,
   "id": "c15e1180",
   "metadata": {},
   "outputs": [],
   "source": [
    "def show_score(choice, color, font, size):\n",
    "    # create font object score_font\n",
    "    score_font = pygame.font.SysFont(font, size)\n",
    "\n",
    "    # create the display surface object score_surface\n",
    "    score_surface = score_font.render('Score : ' + str(score), True, color)\n",
    "\n",
    "    # create a rectangular object for the text surface object\n",
    "    score_rect = score_surface.get_rect()\n",
    "\n",
    "    # set position of the text\n",
    "    score_rect.midtop = (window_x / 10, 10)\n",
    "\n",
    "    # blit wil draw the text on screen\n",
    "    game_window.blit(score_surface, score_rect)"
   ]
  },
  {
   "cell_type": "code",
   "execution_count": 14,
   "id": "d8c84f0c",
   "metadata": {},
   "outputs": [],
   "source": [
    "def game_over():\n",
    "    # creating font object my_font\n",
    "    my_font = pygame.font.SysFont('times new roman', 50)\n",
    "    \n",
    "    # creating a text surface on which text\n",
    "    # will be drawn\n",
    "    game_over_surface = my_font.render(\n",
    "        'Your Score is : ' + str(score), True, red)\n",
    "    \n",
    "    # create a rectangular object for the text\n",
    "    # surface object\n",
    "    game_over_rect = game_over_surface.get_rect()\n",
    "    \n",
    "    # setting position of the text\n",
    "    game_over_rect.midtop = (window_x/2, window_y/4)\n",
    "    \n",
    "    # blit will draw the text on screen\n",
    "    game_window.blit(game_over_surface, game_over_rect)\n",
    "    pygame.display.flip()\n",
    "    \n",
    "    # after 2 seconds we will quit the program\n",
    "    time.sleep(2)\n",
    "    \n",
    "    # deactivating pygame library\n",
    "    pygame.quit()\n",
    "    \n",
    "    # quit the program\n",
    "    quit()"
   ]
  },
  {
   "cell_type": "code",
   "execution_count": 15,
   "id": "d256fabd",
   "metadata": {},
   "outputs": [
    {
     "ename": "error",
     "evalue": "font not initialized",
     "output_type": "error",
     "traceback": [
      "\u001b[1;31m---------------------------------------------------------------------------\u001b[0m",
      "\u001b[1;31merror\u001b[0m                                     Traceback (most recent call last)",
      "\u001b[1;32m~\\AppData\\Local\\Temp\\ipykernel_13112\\20663346.py\u001b[0m in \u001b[0;36m<module>\u001b[1;34m\u001b[0m\n\u001b[0;32m     73\u001b[0m \u001b[1;33m\u001b[0m\u001b[0m\n\u001b[0;32m     74\u001b[0m     \u001b[1;31m# displaying score countinuously\u001b[0m\u001b[1;33m\u001b[0m\u001b[1;33m\u001b[0m\u001b[0m\n\u001b[1;32m---> 75\u001b[1;33m     \u001b[0mshow_score\u001b[0m\u001b[1;33m(\u001b[0m\u001b[1;36m1\u001b[0m\u001b[1;33m,\u001b[0m \u001b[0mwhite\u001b[0m\u001b[1;33m,\u001b[0m \u001b[1;34m'times new roman'\u001b[0m\u001b[1;33m,\u001b[0m \u001b[1;36m20\u001b[0m\u001b[1;33m)\u001b[0m\u001b[1;33m\u001b[0m\u001b[1;33m\u001b[0m\u001b[0m\n\u001b[0m\u001b[0;32m     76\u001b[0m \u001b[1;33m\u001b[0m\u001b[0m\n\u001b[0;32m     77\u001b[0m     \u001b[1;31m# Refresh game screen\u001b[0m\u001b[1;33m\u001b[0m\u001b[1;33m\u001b[0m\u001b[0m\n",
      "\u001b[1;32m~\\AppData\\Local\\Temp\\ipykernel_13112\\3227306976.py\u001b[0m in \u001b[0;36mshow_score\u001b[1;34m(choice, color, font, size)\u001b[0m\n\u001b[0;32m      1\u001b[0m \u001b[1;32mdef\u001b[0m \u001b[0mshow_score\u001b[0m\u001b[1;33m(\u001b[0m\u001b[0mchoice\u001b[0m\u001b[1;33m,\u001b[0m \u001b[0mcolor\u001b[0m\u001b[1;33m,\u001b[0m \u001b[0mfont\u001b[0m\u001b[1;33m,\u001b[0m \u001b[0msize\u001b[0m\u001b[1;33m)\u001b[0m\u001b[1;33m:\u001b[0m\u001b[1;33m\u001b[0m\u001b[1;33m\u001b[0m\u001b[0m\n\u001b[0;32m      2\u001b[0m     \u001b[1;31m# create font object score_font\u001b[0m\u001b[1;33m\u001b[0m\u001b[1;33m\u001b[0m\u001b[0m\n\u001b[1;32m----> 3\u001b[1;33m     \u001b[0mscore_font\u001b[0m \u001b[1;33m=\u001b[0m \u001b[0mpygame\u001b[0m\u001b[1;33m.\u001b[0m\u001b[0mfont\u001b[0m\u001b[1;33m.\u001b[0m\u001b[0mSysFont\u001b[0m\u001b[1;33m(\u001b[0m\u001b[0mfont\u001b[0m\u001b[1;33m,\u001b[0m \u001b[0msize\u001b[0m\u001b[1;33m)\u001b[0m\u001b[1;33m\u001b[0m\u001b[1;33m\u001b[0m\u001b[0m\n\u001b[0m\u001b[0;32m      4\u001b[0m \u001b[1;33m\u001b[0m\u001b[0m\n\u001b[0;32m      5\u001b[0m     \u001b[1;31m# create the display surface object score_surface\u001b[0m\u001b[1;33m\u001b[0m\u001b[1;33m\u001b[0m\u001b[0m\n",
      "\u001b[1;32m~\\AppData\\Roaming\\Python\\Python39\\site-packages\\pygame\\sysfont.py\u001b[0m in \u001b[0;36mSysFont\u001b[1;34m(name, size, bold, italic, constructor)\u001b[0m\n\u001b[0;32m    457\u001b[0m         \u001b[0mset_italic\u001b[0m \u001b[1;33m=\u001b[0m \u001b[1;32mTrue\u001b[0m\u001b[1;33m\u001b[0m\u001b[1;33m\u001b[0m\u001b[0m\n\u001b[0;32m    458\u001b[0m \u001b[1;33m\u001b[0m\u001b[0m\n\u001b[1;32m--> 459\u001b[1;33m     \u001b[1;32mreturn\u001b[0m \u001b[0mconstructor\u001b[0m\u001b[1;33m(\u001b[0m\u001b[0mfontname\u001b[0m\u001b[1;33m,\u001b[0m \u001b[0msize\u001b[0m\u001b[1;33m,\u001b[0m \u001b[0mset_bold\u001b[0m\u001b[1;33m,\u001b[0m \u001b[0mset_italic\u001b[0m\u001b[1;33m)\u001b[0m\u001b[1;33m\u001b[0m\u001b[1;33m\u001b[0m\u001b[0m\n\u001b[0m\u001b[0;32m    460\u001b[0m \u001b[1;33m\u001b[0m\u001b[0m\n\u001b[0;32m    461\u001b[0m \u001b[1;33m\u001b[0m\u001b[0m\n",
      "\u001b[1;32m~\\AppData\\Roaming\\Python\\Python39\\site-packages\\pygame\\sysfont.py\u001b[0m in \u001b[0;36mfont_constructor\u001b[1;34m(fontpath, size, bold, italic)\u001b[0m\n\u001b[0;32m    375\u001b[0m     \"\"\"\n\u001b[0;32m    376\u001b[0m \u001b[1;33m\u001b[0m\u001b[0m\n\u001b[1;32m--> 377\u001b[1;33m     \u001b[0mfont\u001b[0m \u001b[1;33m=\u001b[0m \u001b[0mFont\u001b[0m\u001b[1;33m(\u001b[0m\u001b[0mfontpath\u001b[0m\u001b[1;33m,\u001b[0m \u001b[0msize\u001b[0m\u001b[1;33m)\u001b[0m\u001b[1;33m\u001b[0m\u001b[1;33m\u001b[0m\u001b[0m\n\u001b[0m\u001b[0;32m    378\u001b[0m     \u001b[1;32mif\u001b[0m \u001b[0mbold\u001b[0m\u001b[1;33m:\u001b[0m\u001b[1;33m\u001b[0m\u001b[1;33m\u001b[0m\u001b[0m\n\u001b[0;32m    379\u001b[0m         \u001b[0mfont\u001b[0m\u001b[1;33m.\u001b[0m\u001b[0mset_bold\u001b[0m\u001b[1;33m(\u001b[0m\u001b[1;32mTrue\u001b[0m\u001b[1;33m)\u001b[0m\u001b[1;33m\u001b[0m\u001b[1;33m\u001b[0m\u001b[0m\n",
      "\u001b[1;31merror\u001b[0m: font not initialized"
     ]
    }
   ],
   "source": [
    "# Main Function\n",
    "while True:\n",
    " \n",
    "    # handling key events\n",
    "    for event in pygame.event.get():\n",
    "        if event.type == pygame.KEYDOWN:\n",
    "            if event.key == pygame.K_UP:\n",
    "                change_to = 'UP'\n",
    "            if event.key == pygame.K_DOWN:\n",
    "                change_to = 'DOWN'\n",
    "            if event.key == pygame.K_LEFT:\n",
    "                change_to = 'LEFT'\n",
    "            if event.key == pygame.K_RIGHT:\n",
    "                change_to = 'RIGHT'\n",
    "    \n",
    "    # If two keys pressed simultaneously\n",
    "    # we don't want snake to move into two\n",
    "    # directions simultaneously\n",
    "    if change_to == 'UP' and direction != 'DOWN':\n",
    "        direction = 'UP'\n",
    "    if change_to == 'DOWN' and direction != 'UP':\n",
    "        direction = 'DOWN'\n",
    "    if change_to == 'LEFT' and direction != 'RIGHT':\n",
    "        direction = 'LEFT'\n",
    "    if change_to == 'RIGHT' and direction != 'LEFT':\n",
    "        direction = 'RIGHT'\n",
    "        \n",
    "    # Moving the snake\n",
    "    if direction == 'UP':\n",
    "        snake_position[1] -= 10\n",
    "    if direction == 'DOWN':\n",
    "        snake_position[1] += 10\n",
    "    if direction == 'LEFT':\n",
    "        snake_position[0] -= 10\n",
    "    if direction == 'RIGHT':\n",
    "        snake_position[0] += 10\n",
    "    \n",
    "    # Snake body growing mechanism\n",
    "    # if fruits and snakes collide then scores\n",
    "    # will be incremented by 10\n",
    "    snake_body.insert(0, list(snake_position))\n",
    "    if snake_position[0] == fruit_position[0] and snake_position[1] == fruit_position[1]:\n",
    "        score += 10\n",
    "        fruit_spawn = False\n",
    "    else:\n",
    "        snake_body.pop()\n",
    " \n",
    "    if not fruit_spawn:\n",
    "        fruit_position = [random.randrange(1, (window_x//10)) * 10,\n",
    "                          random.randrange(1, (window_y//10)) * 10]\n",
    " \n",
    "        fruit_spawn = True\n",
    "        \n",
    "    game_window.fill(black)\n",
    " \n",
    "    for pos in snake_body:\n",
    "        pygame.draw.rect(game_window, green,\n",
    "                         pygame.Rect(pos[0], pos[1], 10, 10))\n",
    "        \n",
    "    pygame.draw.rect(game_window, white, pygame.Rect(\n",
    "        fruit_position[0], fruit_position[1], 10, 10))\n",
    "    \n",
    "    # Game Over conditions\n",
    "    if snake_position[0] < 0 or snake_position[0] > window_x-10:\n",
    "        game_over()\n",
    "    if snake_position[1] < 0 or snake_position[1] > window_y-10:\n",
    "        game_over()\n",
    "    \n",
    "    # Touching the snake body\n",
    "    for block in snake_body[1:]:\n",
    "        if snake_position[0] == block[0] and snake_position[1] == block[1]:\n",
    "            game_over()\n",
    "    \n",
    "    # displaying score countinuously\n",
    "    show_score(1, white, 'times new roman', 20)\n",
    "    \n",
    "    # Refresh game screen\n",
    "    pygame.display.update()\n",
    "    \n",
    "    # Frame Per Second /Refresh Rate\n",
    "    fps.tick(snake_speed)\n"
   ]
  },
  {
   "cell_type": "code",
   "execution_count": null,
   "id": "1ba7e5a1",
   "metadata": {},
   "outputs": [],
   "source": []
  },
  {
   "cell_type": "code",
   "execution_count": null,
   "id": "1f5e40a1",
   "metadata": {},
   "outputs": [],
   "source": []
  },
  {
   "cell_type": "code",
   "execution_count": null,
   "id": "b8055f54",
   "metadata": {},
   "outputs": [],
   "source": []
  },
  {
   "cell_type": "code",
   "execution_count": null,
   "id": "15eb7c61",
   "metadata": {},
   "outputs": [],
   "source": []
  },
  {
   "cell_type": "code",
   "execution_count": null,
   "id": "18374dee",
   "metadata": {},
   "outputs": [],
   "source": []
  },
  {
   "cell_type": "code",
   "execution_count": null,
   "id": "7e343d2c",
   "metadata": {},
   "outputs": [],
   "source": []
  },
  {
   "cell_type": "code",
   "execution_count": null,
   "id": "fae54bb9",
   "metadata": {},
   "outputs": [],
   "source": []
  },
  {
   "cell_type": "code",
   "execution_count": null,
   "id": "0572cae9",
   "metadata": {},
   "outputs": [],
   "source": []
  },
  {
   "cell_type": "code",
   "execution_count": null,
   "id": "76127f0f",
   "metadata": {},
   "outputs": [],
   "source": []
  },
  {
   "cell_type": "code",
   "execution_count": null,
   "id": "d0e045dd",
   "metadata": {},
   "outputs": [],
   "source": []
  }
 ],
 "metadata": {
  "kernelspec": {
   "display_name": "Python 3 (ipykernel)",
   "language": "python",
   "name": "python3"
  },
  "language_info": {
   "codemirror_mode": {
    "name": "ipython",
    "version": 3
   },
   "file_extension": ".py",
   "mimetype": "text/x-python",
   "name": "python",
   "nbconvert_exporter": "python",
   "pygments_lexer": "ipython3",
   "version": "3.9.13"
  }
 },
 "nbformat": 4,
 "nbformat_minor": 5
}
