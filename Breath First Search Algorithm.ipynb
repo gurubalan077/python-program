{
 "cells": [
  {
   "cell_type": "code",
   "execution_count": 1,
   "id": "d544304c",
   "metadata": {},
   "outputs": [],
   "source": [
    "my_adj={\n",
    "    'Start':['A','B'],\n",
    "    'A':['Start','E','F'],\n",
    "    'B':['Start','D','C'],\n",
    "    'C':['B'],\n",
    "    'D':['B','Goal'],\n",
    "    'E':['B','G'],\n",
    "    'F':['B'],\n",
    "    'G':['E']\n",
    "}"
   ]
  },
  {
   "cell_type": "markdown",
   "id": "7ed313f8",
   "metadata": {},
   "source": [
    "# This is for me"
   ]
  },
  {
   "cell_type": "code",
   "execution_count": 2,
   "id": "f0332197",
   "metadata": {},
   "outputs": [],
   "source": [
    "from collections import deque"
   ]
  },
  {
   "cell_type": "code",
   "execution_count": 3,
   "id": "0eaee490",
   "metadata": {},
   "outputs": [],
   "source": [
    "Q=deque([\"a\",\"b\",\"c\",\"d\",\"e\"])"
   ]
  },
  {
   "cell_type": "code",
   "execution_count": 4,
   "id": "2e9be33a",
   "metadata": {},
   "outputs": [],
   "source": [
    "Q.appendleft(\"0\")"
   ]
  },
  {
   "cell_type": "code",
   "execution_count": 5,
   "id": "c95184d5",
   "metadata": {},
   "outputs": [
    {
     "data": {
      "text/plain": [
       "deque(['0', 'a', 'b', 'c', 'd', 'e'])"
      ]
     },
     "execution_count": 5,
     "metadata": {},
     "output_type": "execute_result"
    }
   ],
   "source": [
    "Q"
   ]
  },
  {
   "cell_type": "code",
   "execution_count": 6,
   "id": "bfe201ad",
   "metadata": {},
   "outputs": [],
   "source": [
    "Q.append(\"f\")"
   ]
  },
  {
   "cell_type": "code",
   "execution_count": 7,
   "id": "d8081b77",
   "metadata": {},
   "outputs": [
    {
     "data": {
      "text/plain": [
       "deque(['0', 'a', 'b', 'c', 'd', 'e', 'f'])"
      ]
     },
     "execution_count": 7,
     "metadata": {},
     "output_type": "execute_result"
    }
   ],
   "source": [
    "Q"
   ]
  },
  {
   "cell_type": "code",
   "execution_count": 9,
   "id": "759f03d4",
   "metadata": {},
   "outputs": [
    {
     "data": {
      "text/plain": [
       "'0'"
      ]
     },
     "execution_count": 9,
     "metadata": {},
     "output_type": "execute_result"
    }
   ],
   "source": [
    "Q.popleft()"
   ]
  },
  {
   "cell_type": "code",
   "execution_count": 10,
   "id": "8220024e",
   "metadata": {},
   "outputs": [
    {
     "data": {
      "text/plain": [
       "deque(['a', 'b', 'c', 'd', 'e', 'f'])"
      ]
     },
     "execution_count": 10,
     "metadata": {},
     "output_type": "execute_result"
    }
   ],
   "source": [
    "Q"
   ]
  },
  {
   "cell_type": "code",
   "execution_count": 11,
   "id": "2b94fe57",
   "metadata": {},
   "outputs": [
    {
     "data": {
      "text/plain": [
       "'f'"
      ]
     },
     "execution_count": 11,
     "metadata": {},
     "output_type": "execute_result"
    }
   ],
   "source": [
    "Q.pop()"
   ]
  },
  {
   "cell_type": "code",
   "execution_count": 12,
   "id": "dbe0fced",
   "metadata": {},
   "outputs": [
    {
     "data": {
      "text/plain": [
       "deque(['a', 'b', 'c', 'd', 'e'])"
      ]
     },
     "execution_count": 12,
     "metadata": {},
     "output_type": "execute_result"
    }
   ],
   "source": [
    "Q"
   ]
  },
  {
   "cell_type": "markdown",
   "id": "17baa833",
   "metadata": {},
   "source": [
    "# This is Breath First Search Algorithm"
   ]
  },
  {
   "cell_type": "code",
   "execution_count": 30,
   "id": "1e9bb93a",
   "metadata": {},
   "outputs": [],
   "source": [
    "graph={\n",
    "    'sam':['Aaron','binny'],\n",
    "    'Aaron':['sam','christine','Denny'],\n",
    "    'binny':['Elvin','Flin'],\n",
    "    'christine':['Aaron'],\n",
    "    'Denny':['Aaron'],\n",
    "    'Elvin':['binny','Gini'],\n",
    "    'Flin':['binny'],\n",
    "    'Gini':['Elvin']\n",
    "}"
   ]
  },
  {
   "cell_type": "code",
   "execution_count": 45,
   "id": "efe47d24",
   "metadata": {},
   "outputs": [],
   "source": [
    "from collections import deque\n",
    "def bfs(graph,start,goal):\n",
    "    visited=[]\n",
    "    queue=deque([start])\n",
    "    while queue:\n",
    "        node=queue.popleft()\n",
    "        if node not in visited:\n",
    "            visited.append(node)\n",
    "            print(\"I have visited:\",node)\n",
    "            neighbours=graph[node]\n",
    "            if node==goal:\n",
    "                return(\"I have reached the goal, this is my traversed path:\",visited)\n",
    "            for neighbour in neighbours:\n",
    "                queue.append(neighbour)"
   ]
  },
  {
   "cell_type": "code",
   "execution_count": 48,
   "id": "14901b8f",
   "metadata": {},
   "outputs": [
    {
     "name": "stdout",
     "output_type": "stream",
     "text": [
      "I have visited: binny\n",
      "I have visited: Elvin\n",
      "I have visited: Flin\n"
     ]
    },
    {
     "data": {
      "text/plain": [
       "('I have reached the goal, this is my traversed path:',\n",
       " ['binny', 'Elvin', 'Flin'])"
      ]
     },
     "execution_count": 48,
     "metadata": {},
     "output_type": "execute_result"
    }
   ],
   "source": [
    "bfs(graph,'binny','Flin')"
   ]
  },
  {
   "cell_type": "code",
   "execution_count": null,
   "id": "60f684fd",
   "metadata": {},
   "outputs": [],
   "source": []
  }
 ],
 "metadata": {
  "kernelspec": {
   "display_name": "Python 3 (ipykernel)",
   "language": "python",
   "name": "python3"
  },
  "language_info": {
   "codemirror_mode": {
    "name": "ipython",
    "version": 3
   },
   "file_extension": ".py",
   "mimetype": "text/x-python",
   "name": "python",
   "nbconvert_exporter": "python",
   "pygments_lexer": "ipython3",
   "version": "3.9.13"
  }
 },
 "nbformat": 4,
 "nbformat_minor": 5
}
