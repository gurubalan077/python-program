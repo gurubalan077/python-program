{
 "cells": [
  {
   "cell_type": "code",
   "execution_count": 1,
   "id": "2fe896c4",
   "metadata": {},
   "outputs": [
    {
     "name": "stdout",
     "output_type": "stream",
     "text": [
      "Requirement already satisfied: pygame in /opt/anaconda3/lib/python3.9/site-packages (2.3.0)\n",
      "Note: you may need to restart the kernel to use updated packages.\n"
     ]
    }
   ],
   "source": [
    "pip install pygame"
   ]
  },
  {
   "cell_type": "code",
   "execution_count": 2,
   "id": "3c9a804d",
   "metadata": {},
   "outputs": [
    {
     "name": "stdout",
     "output_type": "stream",
     "text": [
      "pygame 2.3.0 (SDL 2.24.2, Python 3.9.13)\n",
      "Hello from the pygame community. https://www.pygame.org/contribute.html\n"
     ]
    }
   ],
   "source": [
    "import pygame\n",
    "import time\n",
    "import random"
   ]
  },
  {
   "cell_type": "markdown",
   "id": "33fab740",
   "metadata": {},
   "source": [
    "# 2. Setting Snake Speed|"
   ]
  },
  {
   "cell_type": "code",
   "execution_count": 3,
   "id": "6a9d624a",
   "metadata": {},
   "outputs": [],
   "source": [
    "snake_speed = 15"
   ]
  },
  {
   "cell_type": "markdown",
   "id": "1ab4e1cb",
   "metadata": {},
   "source": [
    "#3. Setting Window Size "
   ]
  },
  {
   "cell_type": "code",
   "execution_count": 4,
   "id": "63d9a2b2",
   "metadata": {},
   "outputs": [],
   "source": [
    "window_x = 720\n",
    "window_y = 480"
   ]
  },
  {
   "cell_type": "markdown",
   "id": "19c20340",
   "metadata": {},
   "source": [
    "# 4. Defining Colors"
   ]
  },
  {
   "cell_type": "code",
   "execution_count": 5,
   "id": "c38098ee",
   "metadata": {},
   "outputs": [],
   "source": [
    "black = pygame.Color(0, 0, 0)\n",
    "white = pygame.Color(255, 255, 255)\n",
    "red = pygame.Color(255, 0, 0)\n",
    "green = pygame.Color(0, 255, 0)\n",
    "blue = pygame.Color(0, 0, 255)"
   ]
  },
  {
   "cell_type": "markdown",
   "id": "f4f7683f",
   "metadata": {},
   "source": [
    "# 5. Initialising Pygames"
   ]
  },
  {
   "cell_type": "code",
   "execution_count": 6,
   "id": "f30b53ea",
   "metadata": {},
   "outputs": [
    {
     "data": {
      "text/plain": [
       "(5, 0)"
      ]
     },
     "execution_count": 6,
     "metadata": {},
     "output_type": "execute_result"
    }
   ],
   "source": [
    "pygame.init()"
   ]
  },
  {
   "cell_type": "markdown",
   "id": "6278ba46",
   "metadata": {},
   "source": [
    "# 6. Initialising Game Window"
   ]
  },
  {
   "cell_type": "code",
   "execution_count": 7,
   "id": "7fc748a5",
   "metadata": {},
   "outputs": [],
   "source": [
    "pygame.display.set_caption('Snakes')\n",
    "game_window = pygame.display.set_mode((window_x, window_y))"
   ]
  },
  {
   "cell_type": "markdown",
   "id": "5a3144fb",
   "metadata": {},
   "source": [
    "# 7. Setting FPS Controller"
   ]
  },
  {
   "cell_type": "code",
   "execution_count": 8,
   "id": "659139f3",
   "metadata": {},
   "outputs": [],
   "source": [
    "fps = pygame.time.Clock()"
   ]
  },
  {
   "cell_type": "markdown",
   "id": "db680e55",
   "metadata": {},
   "source": [
    "# 8. Defining Snake Default Position"
   ]
  },
  {
   "cell_type": "code",
   "execution_count": 9,
   "id": "a282bf1c",
   "metadata": {},
   "outputs": [],
   "source": [
    "snake_position = [100, 50]"
   ]
  },
  {
   "cell_type": "markdown",
   "id": "013a8096",
   "metadata": {},
   "source": [
    "# 9. Defining 1st 4 snake body blocks"
   ]
  },
  {
   "cell_type": "code",
   "execution_count": 10,
   "id": "be90aa53",
   "metadata": {},
   "outputs": [],
   "source": [
    "snake_body = [[100, 50],\n",
    "              [90, 50],\n",
    "              [80, 50],\n",
    "              [70, 50]\n",
    "              ]"
   ]
  },
  {
   "cell_type": "markdown",
   "id": "c6f7c800",
   "metadata": {},
   "source": [
    "# 10. Fruit Position"
   ]
  },
  {
   "cell_type": "code",
   "execution_count": 11,
   "id": "96f1a514",
   "metadata": {},
   "outputs": [],
   "source": [
    "fruit_position = [random.randrange(1, (window_x//10)) * 10,\n",
    " random.randrange(1, (window_y//10)) * 10]\n",
    "fruit_spawn = True"
   ]
  },
  {
   "cell_type": "markdown",
   "id": "dedfe2fb",
   "metadata": {},
   "source": [
    "# 11. Setting Default Snake Direction"
   ]
  },
  {
   "cell_type": "code",
   "execution_count": 12,
   "id": "95a26773",
   "metadata": {},
   "outputs": [],
   "source": [
    "direction = 'RIGHT'\n",
    "change_to = direction"
   ]
  },
  {
   "cell_type": "markdown",
   "id": "35930dc2",
   "metadata": {},
   "source": [
    "# 12. Set Initial Score"
   ]
  },
  {
   "cell_type": "code",
   "execution_count": 13,
   "id": "7876c707",
   "metadata": {},
   "outputs": [],
   "source": [
    "score = 0"
   ]
  },
  {
   "cell_type": "markdown",
   "id": "870e7ba5",
   "metadata": {},
   "source": [
    "# 13. Function - Scre Display"
   ]
  },
  {
   "cell_type": "code",
   "execution_count": 14,
   "id": "6b0ffbec",
   "metadata": {},
   "outputs": [],
   "source": [
    "def show_score(choice, color, font, size):\n",
    "    # create font object score_font\n",
    "    score_font = pygame.font.SysFont(font, size)\n",
    "\n",
    "    # create the display surface object score_surface\n",
    "    score_surface = score_font.render('Score : ' + str(score), True, color)\n",
    "\n",
    "    # create a rectangular object for the text surface object\n",
    "    score_rect = score_surface.get_rect()\n",
    "\n",
    "    # set position of the text\n",
    "    score_rect.midtop = (window_x / 10, 10)\n",
    "\n",
    "    # blit wil draw the text on screen\n",
    "    game_window.blit(score_surface, score_rect)\n"
   ]
  },
  {
   "cell_type": "markdown",
   "id": "fced28fe",
   "metadata": {},
   "source": [
    "# 14. Function - Game Over"
   ]
  },
  {
   "cell_type": "code",
   "execution_count": 15,
   "id": "c6a18b93",
   "metadata": {},
   "outputs": [],
   "source": [
    "def game_over():\n",
    "    # creating font object my_font\n",
    "    my_font = pygame.font.SysFont('times new roman', 50)\n",
    "    \n",
    "    # creating a text surface on which text\n",
    "    # will be drawn\n",
    "    game_over_surface = my_font.render(\n",
    "        'Your Score is : ' + str(score), True, red)\n",
    "    \n",
    "    # create a rectangular object for the text\n",
    "    # surface object\n",
    "    game_over_rect = game_over_surface.get_rect()\n",
    "    \n",
    "    # setting position of the text\n",
    "    game_over_rect.midtop = (window_x/2, window_y/4)\n",
    "    \n",
    "    # blit will draw the text on screen\n",
    "    game_window.blit(game_over_surface, game_over_rect)\n",
    "    pygame.display.flip()\n",
    "    \n",
    "    # after 2 seconds we will quit the program\n",
    "    time.sleep(2)\n",
    "    \n",
    "    # deactivating pygame library\n",
    "    pygame.quit()\n",
    "    \n",
    "    # quit the program\n",
    "    quit()\n"
   ]
  },
  {
   "cell_type": "markdown",
   "id": "0a094042",
   "metadata": {},
   "source": [
    "# 15. Function - Main Game Function"
   ]
  },
  {
   "cell_type": "code",
   "execution_count": 16,
   "id": "5f78a34c",
   "metadata": {},
   "outputs": [
    {
     "ename": "error",
     "evalue": "font not initialized",
     "output_type": "error",
     "traceback": [
      "\u001b[0;31m---------------------------------------------------------------------------\u001b[0m",
      "\u001b[0;31merror\u001b[0m                                     Traceback (most recent call last)",
      "\u001b[0;32m/var/folders/3f/kb7c140x0bs1lz8yj9j_l5qm0000gn/T/ipykernel_4226/20663346.py\u001b[0m in \u001b[0;36m<module>\u001b[0;34m\u001b[0m\n\u001b[1;32m     73\u001b[0m \u001b[0;34m\u001b[0m\u001b[0m\n\u001b[1;32m     74\u001b[0m     \u001b[0;31m# displaying score countinuously\u001b[0m\u001b[0;34m\u001b[0m\u001b[0;34m\u001b[0m\u001b[0m\n\u001b[0;32m---> 75\u001b[0;31m     \u001b[0mshow_score\u001b[0m\u001b[0;34m(\u001b[0m\u001b[0;36m1\u001b[0m\u001b[0;34m,\u001b[0m \u001b[0mwhite\u001b[0m\u001b[0;34m,\u001b[0m \u001b[0;34m'times new roman'\u001b[0m\u001b[0;34m,\u001b[0m \u001b[0;36m20\u001b[0m\u001b[0;34m)\u001b[0m\u001b[0;34m\u001b[0m\u001b[0;34m\u001b[0m\u001b[0m\n\u001b[0m\u001b[1;32m     76\u001b[0m \u001b[0;34m\u001b[0m\u001b[0m\n\u001b[1;32m     77\u001b[0m     \u001b[0;31m# Refresh game screen\u001b[0m\u001b[0;34m\u001b[0m\u001b[0;34m\u001b[0m\u001b[0m\n",
      "\u001b[0;32m/var/folders/3f/kb7c140x0bs1lz8yj9j_l5qm0000gn/T/ipykernel_4226/3060476037.py\u001b[0m in \u001b[0;36mshow_score\u001b[0;34m(choice, color, font, size)\u001b[0m\n\u001b[1;32m      1\u001b[0m \u001b[0;32mdef\u001b[0m \u001b[0mshow_score\u001b[0m\u001b[0;34m(\u001b[0m\u001b[0mchoice\u001b[0m\u001b[0;34m,\u001b[0m \u001b[0mcolor\u001b[0m\u001b[0;34m,\u001b[0m \u001b[0mfont\u001b[0m\u001b[0;34m,\u001b[0m \u001b[0msize\u001b[0m\u001b[0;34m)\u001b[0m\u001b[0;34m:\u001b[0m\u001b[0;34m\u001b[0m\u001b[0;34m\u001b[0m\u001b[0m\n\u001b[1;32m      2\u001b[0m     \u001b[0;31m# create font object score_font\u001b[0m\u001b[0;34m\u001b[0m\u001b[0;34m\u001b[0m\u001b[0m\n\u001b[0;32m----> 3\u001b[0;31m     \u001b[0mscore_font\u001b[0m \u001b[0;34m=\u001b[0m \u001b[0mpygame\u001b[0m\u001b[0;34m.\u001b[0m\u001b[0mfont\u001b[0m\u001b[0;34m.\u001b[0m\u001b[0mSysFont\u001b[0m\u001b[0;34m(\u001b[0m\u001b[0mfont\u001b[0m\u001b[0;34m,\u001b[0m \u001b[0msize\u001b[0m\u001b[0;34m)\u001b[0m\u001b[0;34m\u001b[0m\u001b[0;34m\u001b[0m\u001b[0m\n\u001b[0m\u001b[1;32m      4\u001b[0m \u001b[0;34m\u001b[0m\u001b[0m\n\u001b[1;32m      5\u001b[0m     \u001b[0;31m# create the display surface object score_surface\u001b[0m\u001b[0;34m\u001b[0m\u001b[0;34m\u001b[0m\u001b[0m\n",
      "\u001b[0;32m/opt/anaconda3/lib/python3.9/site-packages/pygame/sysfont.py\u001b[0m in \u001b[0;36mSysFont\u001b[0;34m(name, size, bold, italic, constructor)\u001b[0m\n\u001b[1;32m    457\u001b[0m         \u001b[0mset_italic\u001b[0m \u001b[0;34m=\u001b[0m \u001b[0;32mTrue\u001b[0m\u001b[0;34m\u001b[0m\u001b[0;34m\u001b[0m\u001b[0m\n\u001b[1;32m    458\u001b[0m \u001b[0;34m\u001b[0m\u001b[0m\n\u001b[0;32m--> 459\u001b[0;31m     \u001b[0;32mreturn\u001b[0m \u001b[0mconstructor\u001b[0m\u001b[0;34m(\u001b[0m\u001b[0mfontname\u001b[0m\u001b[0;34m,\u001b[0m \u001b[0msize\u001b[0m\u001b[0;34m,\u001b[0m \u001b[0mset_bold\u001b[0m\u001b[0;34m,\u001b[0m \u001b[0mset_italic\u001b[0m\u001b[0;34m)\u001b[0m\u001b[0;34m\u001b[0m\u001b[0;34m\u001b[0m\u001b[0m\n\u001b[0m\u001b[1;32m    460\u001b[0m \u001b[0;34m\u001b[0m\u001b[0m\n\u001b[1;32m    461\u001b[0m \u001b[0;34m\u001b[0m\u001b[0m\n",
      "\u001b[0;32m/opt/anaconda3/lib/python3.9/site-packages/pygame/sysfont.py\u001b[0m in \u001b[0;36mfont_constructor\u001b[0;34m(fontpath, size, bold, italic)\u001b[0m\n\u001b[1;32m    375\u001b[0m     \"\"\"\n\u001b[1;32m    376\u001b[0m \u001b[0;34m\u001b[0m\u001b[0m\n\u001b[0;32m--> 377\u001b[0;31m     \u001b[0mfont\u001b[0m \u001b[0;34m=\u001b[0m \u001b[0mFont\u001b[0m\u001b[0;34m(\u001b[0m\u001b[0mfontpath\u001b[0m\u001b[0;34m,\u001b[0m \u001b[0msize\u001b[0m\u001b[0;34m)\u001b[0m\u001b[0;34m\u001b[0m\u001b[0;34m\u001b[0m\u001b[0m\n\u001b[0m\u001b[1;32m    378\u001b[0m     \u001b[0;32mif\u001b[0m \u001b[0mbold\u001b[0m\u001b[0;34m:\u001b[0m\u001b[0;34m\u001b[0m\u001b[0;34m\u001b[0m\u001b[0m\n\u001b[1;32m    379\u001b[0m         \u001b[0mfont\u001b[0m\u001b[0;34m.\u001b[0m\u001b[0mset_bold\u001b[0m\u001b[0;34m(\u001b[0m\u001b[0;32mTrue\u001b[0m\u001b[0;34m)\u001b[0m\u001b[0;34m\u001b[0m\u001b[0;34m\u001b[0m\u001b[0m\n",
      "\u001b[0;31merror\u001b[0m: font not initialized"
     ]
    }
   ],
   "source": [
    "# Main Function\n",
    "while True:\n",
    " \n",
    "    # handling key events\n",
    "    for event in pygame.event.get():\n",
    "        if event.type == pygame.KEYDOWN:\n",
    "            if event.key == pygame.K_UP:\n",
    "                change_to = 'UP'\n",
    "            if event.key == pygame.K_DOWN:\n",
    "                change_to = 'DOWN'\n",
    "            if event.key == pygame.K_LEFT:\n",
    "                change_to = 'LEFT'\n",
    "            if event.key == pygame.K_RIGHT:\n",
    "                change_to = 'RIGHT'\n",
    "    \n",
    "    # If two keys pressed simultaneously\n",
    "    # we don't want snake to move into two\n",
    "    # directions simultaneously\n",
    "    if change_to == 'UP' and direction != 'DOWN':\n",
    "        direction = 'UP'\n",
    "    if change_to == 'DOWN' and direction != 'UP':\n",
    "        direction = 'DOWN'\n",
    "    if change_to == 'LEFT' and direction != 'RIGHT':\n",
    "        direction = 'LEFT'\n",
    "    if change_to == 'RIGHT' and direction != 'LEFT':\n",
    "        direction = 'RIGHT'\n",
    "        \n",
    "    # Moving the snake\n",
    "    if direction == 'UP':\n",
    "        snake_position[1] -= 10\n",
    "    if direction == 'DOWN':\n",
    "        snake_position[1] += 10\n",
    "    if direction == 'LEFT':\n",
    "        snake_position[0] -= 10\n",
    "    if direction == 'RIGHT':\n",
    "        snake_position[0] += 10\n",
    "    \n",
    "    # Snake body growing mechanism\n",
    "    # if fruits and snakes collide then scores\n",
    "    # will be incremented by 10\n",
    "    snake_body.insert(0, list(snake_position))\n",
    "    if snake_position[0] == fruit_position[0] and snake_position[1] == fruit_position[1]:\n",
    "        score += 10\n",
    "        fruit_spawn = False\n",
    "    else:\n",
    "        snake_body.pop()\n",
    " \n",
    "    if not fruit_spawn:\n",
    "        fruit_position = [random.randrange(1, (window_x//10)) * 10,\n",
    "                          random.randrange(1, (window_y//10)) * 10]\n",
    " \n",
    "        fruit_spawn = True\n",
    "        \n",
    "    game_window.fill(black)\n",
    " \n",
    "    for pos in snake_body:\n",
    "        pygame.draw.rect(game_window, green,\n",
    "                         pygame.Rect(pos[0], pos[1], 10, 10))\n",
    "        \n",
    "    pygame.draw.rect(game_window, white, pygame.Rect(\n",
    "        fruit_position[0], fruit_position[1], 10, 10))\n",
    "    \n",
    "    # Game Over conditions\n",
    "    if snake_position[0] < 0 or snake_position[0] > window_x-10:\n",
    "        game_over()\n",
    "    if snake_position[1] < 0 or snake_position[1] > window_y-10:\n",
    "        game_over()\n",
    "    \n",
    "    # Touching the snake body\n",
    "    for block in snake_body[1:]:\n",
    "        if snake_position[0] == block[0] and snake_position[1] == block[1]:\n",
    "            game_over()\n",
    "    \n",
    "    # displaying score countinuously\n",
    "    show_score(1, white, 'times new roman', 20)\n",
    "    \n",
    "    # Refresh game screen\n",
    "    pygame.display.update()\n",
    "    \n",
    "    # Frame Per Second /Refresh Rate\n",
    "    fps.tick(snake_speed)\n",
    "\n",
    "    "
   ]
  }
 ],
 "metadata": {
  "kernelspec": {
   "display_name": "Python 3 (ipykernel)",
   "language": "python",
   "name": "python3"
  },
  "language_info": {
   "codemirror_mode": {
    "name": "ipython",
    "version": 3
   },
   "file_extension": ".py",
   "mimetype": "text/x-python",
   "name": "python",
   "nbconvert_exporter": "python",
   "pygments_lexer": "ipython3",
   "version": "3.9.13"
  }
 },
 "nbformat": 4,
 "nbformat_minor": 5
}
