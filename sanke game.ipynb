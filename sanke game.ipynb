{
 "cells": [
  {
   "cell_type": "markdown",
   "id": "5df755f4",
   "metadata": {},
   "source": [
    "# imporing libary "
   ]
  },
  {
   "cell_type": "code",
   "execution_count": 9,
   "id": "bb7d936f",
   "metadata": {},
   "outputs": [
    {
     "ename": "ModuleNotFoundError",
     "evalue": "No module named 'Tina'",
     "output_type": "error",
     "traceback": [
      "\u001b[1;31m---------------------------------------------------------------------------\u001b[0m",
      "\u001b[1;31mModuleNotFoundError\u001b[0m                       Traceback (most recent call last)",
      "\u001b[1;32m~\\AppData\\Local\\Temp\\ipykernel_5048\\427204954.py\u001b[0m in \u001b[0;36m<module>\u001b[1;34m\u001b[0m\n\u001b[0;32m      1\u001b[0m \u001b[1;32mimport\u001b[0m \u001b[0mpygame\u001b[0m\u001b[1;33m\u001b[0m\u001b[1;33m\u001b[0m\u001b[0m\n\u001b[1;32m----> 2\u001b[1;33m \u001b[1;32mimport\u001b[0m \u001b[0mTina\u001b[0m\u001b[1;33m\u001b[0m\u001b[1;33m\u001b[0m\u001b[0m\n\u001b[0m\u001b[0;32m      3\u001b[0m \u001b[1;32mimport\u001b[0m \u001b[0mrandom\u001b[0m\u001b[1;33m\u001b[0m\u001b[1;33m\u001b[0m\u001b[0m\n",
      "\u001b[1;31mModuleNotFoundError\u001b[0m: No module named 'Tina'"
     ]
    }
   ],
   "source": [
    "import pygame\n",
    "import tina\n",
    "import random"
   ]
  },
  {
   "cell_type": "markdown",
   "id": "cfd5f1b6",
   "metadata": {},
   "source": [
    "# setting game "
   ]
  },
  {
   "cell_type": "code",
   "execution_count": null,
   "id": "2c51390e",
   "metadata": {},
   "outputs": [],
   "source": [
    "sanke_speed = 15"
   ]
  },
  {
   "cell_type": "markdown",
   "id": "fe38f2c4",
   "metadata": {},
   "source": [
    "# windows size"
   ]
  },
  {
   "cell_type": "code",
   "execution_count": null,
   "id": "c2882804",
   "metadata": {},
   "outputs": [],
   "source": [
    "window_x= 720\n",
    "windos_y = 480"
   ]
  },
  {
   "cell_type": "markdown",
   "id": "478ed897",
   "metadata": {},
   "source": [
    "# dedfine colours"
   ]
  },
  {
   "cell_type": "code",
   "execution_count": null,
   "id": "8cdfb939",
   "metadata": {},
   "outputs": [],
   "source": [
    "black = pygame.color(0 , 0 ,0)\n",
    "white = pygame.color(255, 255 , 255)\n",
    "red  = pygame.color(255 , 0, 0)\n",
    "green = pygame.color(0,255, 0)\n",
    "blue = pygame.color(0, 0 ,255)"
   ]
  },
  {
   "cell_type": "markdown",
   "id": "543a202b",
   "metadata": {},
   "source": [
    "# initialas pygame"
   ]
  },
  {
   "cell_type": "code",
   "execution_count": null,
   "id": "ff9a7488",
   "metadata": {},
   "outputs": [],
   "source": [
    "pygame.init()"
   ]
  },
  {
   "cell_type": "markdown",
   "id": "67c11a28",
   "metadata": {},
   "source": [
    "# initialising game window\n"
   ]
  },
  {
   "cell_type": "code",
   "execution_count": null,
   "id": "bfa885e1",
   "metadata": {},
   "outputs": [],
   "source": [
    "pygame.display.set_caption('sanke')\n",
    "game_window = pygame.sisplay.set_mode((window_x,window_y))"
   ]
  },
  {
   "cell_type": "markdown",
   "id": "d49be21a",
   "metadata": {},
   "source": [
    "# setting fps"
   ]
  },
  {
   "cell_type": "code",
   "execution_count": null,
   "id": "d0cada60",
   "metadata": {},
   "outputs": [],
   "source": [
    "fps = pygame.time.Clock()"
   ]
  },
  {
   "cell_type": "markdown",
   "id": "a96020d2",
   "metadata": {},
   "source": [
    "# position"
   ]
  },
  {
   "cell_type": "code",
   "execution_count": null,
   "id": "4f81aee3",
   "metadata": {},
   "outputs": [],
   "source": [
    "sanke_position = [100 ,50]"
   ]
  },
  {
   "cell_type": "markdown",
   "id": "baeb8e50",
   "metadata": {},
   "source": [
    "# 1st 4"
   ]
  },
  {
   "cell_type": "code",
   "execution_count": null,
   "id": "125b6f8b",
   "metadata": {},
   "outputs": [],
   "source": [
    "snake_body[[100,50],\n",
    "           [90,50],\n",
    "           [80,50],\n",
    "           [70,50],\n",
    "          ]"
   ]
  },
  {
   "cell_type": "markdown",
   "id": "f4d52a8e",
   "metadata": {},
   "source": [
    "# fruite position"
   ]
  },
  {
   "cell_type": "code",
   "execution_count": null,
   "id": "62603626",
   "metadata": {},
   "outputs": [],
   "source": [
    "fruite_position = [random.randrange(1, (window_x // 10)) = 10\n",
    "                   random.randrange(1, (window_y// 10)) = 10]\n",
    "\n",
    "fruite_spawn = True"
   ]
  },
  {
   "cell_type": "markdown",
   "id": "1692725d",
   "metadata": {},
   "source": [
    "# Right Direction"
   ]
  },
  {
   "cell_type": "code",
   "execution_count": null,
   "id": "df983939",
   "metadata": {},
   "outputs": [],
   "source": [
    "diraction = 'RIGHT'\n",
    "change_to = diraction"
   ]
  },
  {
   "cell_type": "markdown",
   "id": "16589a8b",
   "metadata": {},
   "source": [
    "# set inital score"
   ]
  },
  {
   "cell_type": "code",
   "execution_count": null,
   "id": "9c212b74",
   "metadata": {},
   "outputs": [],
   "source": [
    "score = 0"
   ]
  },
  {
   "cell_type": "markdown",
   "id": "ab83c348",
   "metadata": {},
   "source": [
    "# Fnction - scre Display"
   ]
  },
  {
   "cell_type": "code",
   "execution_count": null,
   "id": "c6134566",
   "metadata": {},
   "outputs": [],
   "source": [
    "def show_score (choice , color , font , size):\n",
    "    score_front = pygame.font.Sysfont(font,size)\n",
    "    \n",
    "    score_surface = score_font.rander('score :' + str(score) , True , color)\n",
    "    score_ract = score"
   ]
  },
  {
   "cell_type": "markdown",
   "id": "fc2ebcc2",
   "metadata": {},
   "source": [
    "# 14"
   ]
  },
  {
   "cell_type": "code",
   "execution_count": null,
   "id": "225e06f5",
   "metadata": {},
   "outputs": [],
   "source": [
    "def game_over():\n",
    "    my_font = pygame.font.Sysfont('times new roman',50)\n",
    "    \n",
    "     game_over_surface = my_font.rander(\n",
    "          'your Score is :' + str(score) , True , red)\n",
    "        game_over_rect = game_over-surface.get_rect()\n",
    "        game_over_rect.midtop = (window_x /2,window_y/4)\n",
    "        \n",
    "        game_window.blit(game_over_surface,game_over_rect)\n",
    "        pygame.display.flip()\n",
    "        time.sleep()\n",
    "        pygame.quit()\n",
    "        quit()"
   ]
  },
  {
   "cell_type": "markdown",
   "id": "eec6c0c7",
   "metadata": {},
   "source": [
    "# "
   ]
  },
  {
   "cell_type": "markdown",
   "id": "286d3946",
   "metadata": {},
   "source": [
    "# 15"
   ]
  },
  {
   "cell_type": "code",
   "execution_count": null,
   "id": "3977a69c",
   "metadata": {},
   "outputs": [],
   "source": [
    "while True:\n",
    "     \n",
    "    for event in pygame.event.get():\n",
    "        if event.type == pygame.KEYDOWN:\n",
    "            if event.key == pygame.K_UP:\n",
    "                change_to = 'UP'\n",
    "            if event.key == pygame.K_DOWN:\n",
    "                change.key == 'DOWN'\n",
    "            if event.key == pygame.K_LEFT:\n",
    "                change_to = 'LEFT'\n",
    "            if event.key == pygame.K_RIGHT:\n",
    "                change_to = 'RIGHT'\n",
    "                \n",
    "        if chnage_to == 'UP' and direction !='DOWN':\n",
    "            direction = 'UP'\n",
    "        if chnage_to == 'DOWN' and direction !='UP':\n",
    "            direction = 'DOWN'  \n",
    "        if chnage_to == 'LEFT' and direction !='RIGHT':\n",
    "            direction = 'LEFT'\n",
    "        if chnage_to == 'RIGHT' and direction !='LEFT':\n",
    "            direction = 'RIGHT'\n",
    "            \n",
    "        if diraction == 'UP':\n",
    "            snake_position[1] -= 10\n",
    "        if diraction == 'DOWN':\n",
    "            snake_position[1] -= 10\n",
    "        if diraction == 'LEFT':\n",
    "            snake_position[0] -= 10\n",
    "        if diraction == 'RIGHT':\n",
    "            snake_position[0] += 10\n",
    "            \n",
    "        snake_body.insert(0 , list(sanke_position))\n",
    "        if snake_position[0] == fruite_position[0] and snake_position[1] == fruite_position[1]:\n",
    "            score += 10\n",
    "            fruite_spawn"
   ]
  }
 ],
 "metadata": {
  "kernelspec": {
   "display_name": "Python 3 (ipykernel)",
   "language": "python",
   "name": "python3"
  },
  "language_info": {
   "codemirror_mode": {
    "name": "ipython",
    "version": 3
   },
   "file_extension": ".py",
   "mimetype": "text/x-python",
   "name": "python",
   "nbconvert_exporter": "python",
   "pygments_lexer": "ipython3",
   "version": "3.9.13"
  }
 },
 "nbformat": 4,
 "nbformat_minor": 5
}
