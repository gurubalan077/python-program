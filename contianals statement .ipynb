{
 "cells": [
  {
   "cell_type": "code",
   "execution_count": 1,
   "id": "6eb94028",
   "metadata": {},
   "outputs": [
    {
     "name": "stdout",
     "output_type": "stream",
     "text": [
      "Enter the num 1:5\n"
     ]
    }
   ],
   "source": [
    "num = int(input(\"Enter the num 1:\"))"
   ]
  },
  {
   "cell_type": "code",
   "execution_count": 2,
   "id": "d454ede3",
   "metadata": {},
   "outputs": [],
   "source": [
    "if num % 13 == 0:\n",
    "    print(\"The number is divisible by 13\")"
   ]
  },
  {
   "cell_type": "markdown",
   "id": "f6f605b1",
   "metadata": {},
   "source": [
    "# IF ELSE"
   ]
  },
  {
   "cell_type": "code",
   "execution_count": 3,
   "id": "b13b1b57",
   "metadata": {},
   "outputs": [
    {
     "name": "stdout",
     "output_type": "stream",
     "text": [
      "Enter the number 658\n"
     ]
    }
   ],
   "source": [
    "num2 = int(input(\"Enter the number \"))"
   ]
  },
  {
   "cell_type": "code",
   "execution_count": 4,
   "id": "ab13a1c3",
   "metadata": {},
   "outputs": [
    {
     "name": "stdout",
     "output_type": "stream",
     "text": [
      "The number is Odd\n"
     ]
    }
   ],
   "source": [
    "if num2 % 2 == 0:\n",
    "    print(\"The number is Odd\")\n",
    "else:\n",
    "    print(\"The numer is Even \")"
   ]
  },
  {
   "cell_type": "markdown",
   "id": "8de7402b",
   "metadata": {},
   "source": [
    "# Activity | "
   ]
  },
  {
   "cell_type": "code",
   "execution_count": 5,
   "id": "fdb20ffe",
   "metadata": {},
   "outputs": [
    {
     "name": "stdout",
     "output_type": "stream",
     "text": [
      "Enter the number 1:63\n",
      "Enter the number 2:868\n"
     ]
    }
   ],
   "source": [
    "num3 = int(input(\"Enter the number 1:\"))\n",
    "num4 = int(input(\"Enter the number 2:\"))"
   ]
  },
  {
   "cell_type": "code",
   "execution_count": 6,
   "id": "936db10e",
   "metadata": {},
   "outputs": [
    {
     "name": "stdout",
     "output_type": "stream",
     "text": [
      "The number is not divisble\n"
     ]
    }
   ],
   "source": [
    "if num3 % num4 == 0:\n",
    "    print(\"the number is divisble\")\n",
    "else:\n",
    "    print(\"The number is not divisble\")"
   ]
  },
  {
   "cell_type": "markdown",
   "id": "9430497a",
   "metadata": {},
   "source": [
    "# IF , ELSE , ELIF "
   ]
  },
  {
   "cell_type": "code",
   "execution_count": 10,
   "id": "4c47cecc",
   "metadata": {},
   "outputs": [
    {
     "name": "stdout",
     "output_type": "stream",
     "text": [
      "Enter The number-9\n",
      "The number is negivite\n"
     ]
    }
   ],
   "source": [
    "num44 = int(input(\"Enter The number\"))\n",
    "\n",
    "if num44 > 0 :\n",
    "    print(\"The number is positive \")\n",
    "\n",
    "elif num44 < 0 :\n",
    "    print(\"The number is negivite\")\n",
    "    \n",
    "else:\n",
    "    print(\"The number is ZERO\")"
   ]
  },
  {
   "cell_type": "code",
   "execution_count": null,
   "id": "ea64f82a",
   "metadata": {},
   "outputs": [],
   "source": []
  },
  {
   "cell_type": "code",
   "execution_count": null,
   "id": "efb41f37",
   "metadata": {},
   "outputs": [],
   "source": []
  },
  {
   "cell_type": "code",
   "execution_count": null,
   "id": "6810ac93",
   "metadata": {},
   "outputs": [],
   "source": []
  },
  {
   "cell_type": "code",
   "execution_count": null,
   "id": "093dd63b",
   "metadata": {},
   "outputs": [],
   "source": []
  },
  {
   "cell_type": "code",
   "execution_count": null,
   "id": "efeae145",
   "metadata": {},
   "outputs": [],
   "source": []
  },
  {
   "cell_type": "code",
   "execution_count": null,
   "id": "f8c609d0",
   "metadata": {},
   "outputs": [],
   "source": []
  },
  {
   "cell_type": "code",
   "execution_count": null,
   "id": "16c198be",
   "metadata": {},
   "outputs": [],
   "source": []
  }
 ],
 "metadata": {
  "kernelspec": {
   "display_name": "Python 3 (ipykernel)",
   "language": "python",
   "name": "python3"
  },
  "language_info": {
   "codemirror_mode": {
    "name": "ipython",
    "version": 3
   },
   "file_extension": ".py",
   "mimetype": "text/x-python",
   "name": "python",
   "nbconvert_exporter": "python",
   "pygments_lexer": "ipython3",
   "version": "3.9.13"
  }
 },
 "nbformat": 4,
 "nbformat_minor": 5
}
