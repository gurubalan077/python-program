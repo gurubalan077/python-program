{
 "cells": [
  {
   "cell_type": "code",
   "execution_count": 1,
   "id": "d4f580a5",
   "metadata": {},
   "outputs": [
    {
     "name": "stdout",
     "output_type": "stream",
     "text": [
      "Enter the num 1:444\n"
     ]
    }
   ],
   "source": [
    "num = int(input(\"Enter the num 1:\"))"
   ]
  },
  {
   "cell_type": "code",
   "execution_count": 2,
   "id": "ff86c7e7",
   "metadata": {},
   "outputs": [],
   "source": [
    "if num % 13 == 0:\n",
    "    print(\"The number is divisible by 13\")"
   ]
  },
  {
   "cell_type": "markdown",
   "id": "09ad7119",
   "metadata": {},
   "source": [
    "# IF ELSE"
   ]
  },
  {
   "cell_type": "code",
   "execution_count": 3,
   "id": "0ab544ca",
   "metadata": {},
   "outputs": [
    {
     "name": "stdout",
     "output_type": "stream",
     "text": [
      "Enter the number 13\n"
     ]
    }
   ],
   "source": [
    "num2 = int(input(\"Enter the number \"))"
   ]
  },
  {
   "cell_type": "code",
   "execution_count": 4,
   "id": "be83095a",
   "metadata": {},
   "outputs": [
    {
     "name": "stdout",
     "output_type": "stream",
     "text": [
      "The numer is Even \n"
     ]
    }
   ],
   "source": [
    "if num2 % 2 == 0:\n",
    "    print(\"The number is Odd\")\n",
    "else:\n",
    "    print(\"The numer is Even \")"
   ]
  },
  {
   "cell_type": "markdown",
   "id": "e4a5b0e1",
   "metadata": {},
   "source": [
    "# Activity | "
   ]
  },
  {
   "cell_type": "code",
   "execution_count": 7,
   "id": "f27c133f",
   "metadata": {},
   "outputs": [
    {
     "name": "stdout",
     "output_type": "stream",
     "text": [
      "Enter the number 1:12\n",
      "Enter the number 2:2\n"
     ]
    }
   ],
   "source": [
    "num3 = int(input(\"Enter the number 1:\"))\n",
    "num4 = int(input(\"Enter the number 2:\"))"
   ]
  },
  {
   "cell_type": "code",
   "execution_count": 8,
   "id": "81ef904d",
   "metadata": {},
   "outputs": [
    {
     "name": "stdout",
     "output_type": "stream",
     "text": [
      "the number is divisble\n"
     ]
    }
   ],
   "source": [
    "if num3 % num4 == 0:\n",
    "    print(\"the number is divisble\")\n",
    "else:\n",
    "    print(\"The number is not divisble\")"
   ]
  },
  {
   "cell_type": "code",
   "execution_count": null,
   "id": "8e210287",
   "metadata": {},
   "outputs": [],
   "source": []
  }
 ],
 "metadata": {
  "kernelspec": {
   "display_name": "Python 3 (ipykernel)",
   "language": "python",
   "name": "python3"
  },
  "language_info": {
   "codemirror_mode": {
    "name": "ipython",
    "version": 3
   },
   "file_extension": ".py",
   "mimetype": "text/x-python",
   "name": "python",
   "nbconvert_exporter": "python",
   "pygments_lexer": "ipython3",
   "version": "3.9.13"
  }
 },
 "nbformat": 4,
 "nbformat_minor": 5
}
