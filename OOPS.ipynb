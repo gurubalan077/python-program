{
 "cells": [
  {
   "cell_type": "markdown",
   "id": "2c23f0dc",
   "metadata": {},
   "source": [
    "# Understand class synatex"
   ]
  },
  {
   "cell_type": "code",
   "execution_count": null,
   "id": "a19c2b38",
   "metadata": {},
   "outputs": [],
   "source": [
    "class <class_name>:\n",
    "    #Docstring\n",
    "    \n",
    "    def _init_(self,<parametar>):\n",
    "        # use intial all variable"
   ]
  },
  {
   "cell_type": "markdown",
   "id": "22a2ba27",
   "metadata": {},
   "source": [
    "# crate class\n"
   ]
  },
  {
   "cell_type": "code",
   "execution_count": 2,
   "id": "06d0882a",
   "metadata": {},
   "outputs": [],
   "source": [
    "class Stud:\n",
    "    # contains the details of student\n",
    "    \n",
    "    def __init__(self, name, age, employed, college):\n",
    "        # initialize object variables\n",
    "        self.name = name\n",
    "        self.age = age\n",
    "        self.employed = employed\n",
    "        self.education = college\n",
    "        \n",
    "    def descp(self):\n",
    "        print(f\"The name of the student is: {self.name}\")\n",
    "        print(f\"{self.name} is {self.age} years old.\")\n",
    "        print(f\"{self.name} is currently employed {self.employed}.\")\n",
    "        print(f\"{self.name} is an alma mater of {self.education}.\")\n",
    "        \n",
    "    def emp_status(self):\n",
    "        status_check = input(\"Are you currently employed? \")\n",
    "        if status_check == 'y':\n",
    "            self.employed = \"yes\"\n",
    "            self.employee = input(\"Where are you employed? \")\n",
    "            self.salary = input(\"Please enter your salary: \")\n",
    "        else:\n",
    "            self.employed = 'no'\n",
    "                \n",
    "    def emp_disp(self):\n",
    "        print(f\"{self.name} is employed by: {self.employee}.\")\n",
    "        print(f\"{self.name} draws {self.salary} per annum.\")\n"
   ]
  },
  {
   "cell_type": "code",
   "execution_count": 3,
   "id": "1345c07d",
   "metadata": {},
   "outputs": [],
   "source": [
    "coll = Stud(\"guru\", 20, \"yes\", \"PMIST\")"
   ]
  },
  {
   "cell_type": "code",
   "execution_count": 4,
   "id": "83a41b76",
   "metadata": {},
   "outputs": [],
   "source": [
    "coll01 = Stud(\"nivash\", 21, \"no\", \"PRIST\")"
   ]
  },
  {
   "cell_type": "code",
   "execution_count": 5,
   "id": "829d92cf",
   "metadata": {},
   "outputs": [
    {
     "name": "stdout",
     "output_type": "stream",
     "text": [
      "The name of the student is: guru\n",
      "guru is 20 years old.\n",
      "guru is currently employed yes.\n",
      "guru is an alma mater of PMIST.\n"
     ]
    }
   ],
   "source": [
    "coll.descp()"
   ]
  },
  {
   "cell_type": "code",
   "execution_count": 6,
   "id": "5436d21b",
   "metadata": {},
   "outputs": [
    {
     "name": "stdout",
     "output_type": "stream",
     "text": [
      "Are you currently employed? y\n",
      "Where are you employed? prag\n",
      "Please enter your salary: 100000\n"
     ]
    }
   ],
   "source": [
    "coll.emp_status()"
   ]
  },
  {
   "cell_type": "code",
   "execution_count": 7,
   "id": "5f3e32b3",
   "metadata": {},
   "outputs": [
    {
     "name": "stdout",
     "output_type": "stream",
     "text": [
      "guru is employed by: prag.\n",
      "guru draws 100000 per annum.\n"
     ]
    }
   ],
   "source": [
    "coll.emp_disp()"
   ]
  },
  {
   "cell_type": "code",
   "execution_count": 8,
   "id": "24b6f655",
   "metadata": {},
   "outputs": [
    {
     "name": "stdout",
     "output_type": "stream",
     "text": [
      "The name of the student is: nivash\n",
      "nivash is 21 years old.\n",
      "nivash is currently employed no.\n",
      "nivash is an alma mater of PRIST.\n"
     ]
    }
   ],
   "source": [
    "coll01.descp()"
   ]
  },
  {
   "cell_type": "code",
   "execution_count": 9,
   "id": "00955063",
   "metadata": {},
   "outputs": [
    {
     "name": "stdout",
     "output_type": "stream",
     "text": [
      "Are you currently employed? y\n",
      "Where are you employed? google\n",
      "Please enter your salary: 250000\n"
     ]
    }
   ],
   "source": [
    "coll01.emp_status()"
   ]
  },
  {
   "cell_type": "code",
   "execution_count": 10,
   "id": "4328b3bb",
   "metadata": {},
   "outputs": [
    {
     "name": "stdout",
     "output_type": "stream",
     "text": [
      "nivash is employed by: google.\n",
      "nivash draws 250000 per annum.\n"
     ]
    }
   ],
   "source": [
    "coll01.emp_disp()"
   ]
  },
  {
   "cell_type": "code",
   "execution_count": null,
   "id": "9916df5a",
   "metadata": {},
   "outputs": [],
   "source": []
  }
 ],
 "metadata": {
  "kernelspec": {
   "display_name": "Python 3 (ipykernel)",
   "language": "python",
   "name": "python3"
  },
  "language_info": {
   "codemirror_mode": {
    "name": "ipython",
    "version": 3
   },
   "file_extension": ".py",
   "mimetype": "text/x-python",
   "name": "python",
   "nbconvert_exporter": "python",
   "pygments_lexer": "ipython3",
   "version": "3.9.13"
  }
 },
 "nbformat": 4,
 "nbformat_minor": 5
}
