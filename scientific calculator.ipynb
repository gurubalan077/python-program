{
 "cells": [
  {
   "cell_type": "code",
   "execution_count": 1,
   "id": "37710389",
   "metadata": {},
   "outputs": [],
   "source": [
    "from tkinter import*\n",
    "import math"
   ]
  },
  {
   "cell_type": "markdown",
   "id": "d26327ba",
   "metadata": {},
   "source": [
    "# creating a root window"
   ]
  },
  {
   "cell_type": "code",
   "execution_count": 2,
   "id": "f9c35758",
   "metadata": {},
   "outputs": [],
   "source": [
    "root = Tk()\n",
    "root.title(\"Scientific Calculator\")\n",
    "root.configure(background = 'green')\n",
    "root.geometry(\"491x724\")\n",
    "calc = Frame(root)\n",
    "calc.grid()"
   ]
  },
  {
   "cell_type": "markdown",
   "id": "af38dd41",
   "metadata": {},
   "source": [
    "# create class for a button"
   ]
  },
  {
   "cell_type": "code",
   "execution_count": 3,
   "id": "ab0d6e28",
   "metadata": {},
   "outputs": [],
   "source": [
    "class Calc():\n",
    "    def __init__(self):\n",
    "        self.total = 0\n",
    "        self.current = ''\n",
    "        self.input_value = True\n",
    "        self.check_sum = False \n",
    "        self.op = ''\n",
    "        self.result = False\n",
    "        \n",
    "    def numberEnter(self, num):\n",
    "        self.result = False\n",
    "        firstnum = txtDisplay.get()\n",
    "        secondnum = str(num)\n",
    "        if self.input_value:\n",
    "            self.current = secondnum\n",
    "            self.input_value = False\n",
    "        else:\n",
    "            if secondnum == '.':\n",
    "                if secondnum in firstnum:\n",
    "                    return\n",
    "            self.current = firstnum + secondnum\n",
    "        self.display(self.current)\n",
    "        \n",
    "    def sum_of_total(self):\n",
    "        self.result = True\n",
    "        self.current = float(self.current)\n",
    "        if self.check_sum == True:\n",
    "            self.valid_function()\n",
    "        else:\n",
    "            self.total = float(txtDisplay.get())\n",
    "                \n",
    "    def display(self, value):\n",
    "        txtDisplay.delete(0, tk.END)\n",
    "        txtDisplay.insert(0, value)\n",
    "            \n",
    "    def valid_function(self):\n",
    "        if self.op == \"add\":\n",
    "            self.total += self.current\n",
    "        if self.op == \"sub\":\n",
    "            self.total -= self.current\n",
    "        if self.op == \"divide\":\n",
    "            self.total /= self.current\n",
    "        if self.op == \"multiply\":\n",
    "            self.total *= self.current\n",
    "        if self.op == \"mod\":\n",
    "            self.total %= self.current\n",
    "        self.input_value = True\n",
    "        self.check_sum = False\n",
    "        self.display(self.total)\n",
    "        \n",
    "    def operation(self, op):\n",
    "        self.current = float(self.current)\n",
    "        if self.check_sum:\n",
    "            self.valid_function()\n",
    "        elif not self.result:\n",
    "            self.total = self.current\n",
    "            self.input_value = True\n",
    "        self.check_sum = True\n",
    "        self.op = op\n",
    "        self.result = False\n",
    "            \n",
    "    def clear_Entry(self):\n",
    "        self.result = False \n",
    "        self.current = \"0\"\n",
    "        self.display(0)\n",
    "        self.input_value = True\n",
    "            \n",
    "    def pi(self):\n",
    "        self.result = False \n",
    "        self.current = math.pi\n",
    "        self.display(self.current)\n",
    "            \n",
    "    def cos(self):\n",
    "        self.result = False\n",
    "        self.current = math.cos(math.radians(float(txtDisplay.get())))\n",
    "        self.display(self.current)\n",
    "            \n",
    "    def sin(self):\n",
    "        self.result = False\n",
    "        self.current = math.sin(math.radians(float(txtDisplay.get())))\n",
    "        self.display(self.current)\n",
    "            \n",
    "    def tan(self):\n",
    "        self.result = False\n",
    "        self.current = math.tan(math.radians(float(txtDisplay.get())))\n",
    "        self.display(self.current)\n",
    "            \n",
    "    def square(self):\n",
    "        self.result = False\n",
    "        self.current = math.sqrt(float(txtDisplay.get()))\n",
    "        self.display(self.current)\n",
    "        \n",
    "added_value = Calc()"
   ]
  },
  {
   "cell_type": "markdown",
   "id": "0f30b9a5",
   "metadata": {},
   "source": [
    "# creating display for the calculator"
   ]
  },
  {
   "cell_type": "code",
   "execution_count": 5,
   "id": "c0d4f17b",
   "metadata": {
    "scrolled": true
   },
   "outputs": [],
   "source": [
    "txtDisplay = Entry(calc, font =('Helvetica',20,\"bold\"),bg='green', fg='black', bd=20,\n",
    "                width=30,justify=RIGHT)\n",
    "txtDisplay.grid(row=0,column=0,columnspan=4, pady=1)\n",
    "txtDisplay.insert(0,\"0\")\n",
    "txtDisplay1 = Entry(calc, font =('Helvetica',20,\"bold\"),bg='green', fg='black', bd=20,\n",
    "                 width=30,justify=RIGHT)\n",
    "txtDisplay1.grid(row=1,column=0,columnspan=4, pady=1)\n",
    "txtDisplay1.insert(0,\"0\")"
   ]
  },
  {
   "cell_type": "markdown",
   "id": "48224f13",
   "metadata": {},
   "source": [
    "# creating number pad"
   ]
  },
  {
   "cell_type": "code",
   "execution_count": 10,
   "id": "2033f1a9",
   "metadata": {},
   "outputs": [],
   "source": [
    "numberpad = \"123456789\"\n",
    "i = 0\n",
    "btn = []\n",
    "for j in range(3, 6):\n",
    "    for k in range(3):\n",
    "        btn.append(Button(calc, width=6, bg='red', fg='black', font=('Times new roman', 20, 'bold'), \n",
    "                          bd=4, text=numberpad[i]))\n",
    "        btn[i].grid(row=j, column=k, pady=1)\n",
    "        btn[i][\"command\"] = lambda x=numberpad[i]: added_value.numberEnter(x)\n",
    "        i += 1"
   ]
  },
  {
   "cell_type": "code",
   "execution_count": 11,
   "id": "07159f2c",
   "metadata": {},
   "outputs": [
    {
     "ename": "SyntaxError",
     "evalue": "unexpected EOF while parsing (4038601466.py, line 31)",
     "output_type": "error",
     "traceback": [
      "\u001b[1;36m  Cell \u001b[1;32mIn[11], line 31\u001b[1;36m\u001b[0m\n\u001b[1;33m    btnsq = Button(calc, text=\"\\u2214A\", width=6, height=2, bg='pink', fg='black', font=('Times new roman', 20, 'bold'), bd=4\u001b[0m\n\u001b[1;37m                                                                                                                             ^\u001b[0m\n\u001b[1;31mSyntaxError\u001b[0m\u001b[1;31m:\u001b[0m unexpected EOF while parsing\n"
     ]
    }
   ],
   "source": [
    "btnclear = Button(calc, text=chr(67), width=6, height=2, bg='blue', fg='black', font=('Times new roman', 20, 'bold'), bd=4,\n",
    "                  command=added_value.clear_Entry).grid(row=2, column=3, pady=1)\n",
    "\n",
    "btnAdd = Button(calc, text=\"+\", width=6, height=2, bg='orange', fg='black', font=('Times new roman', 20, 'bold'), bd=4,\n",
    "                command=lambda: added_value.operation(\"add\")).grid(row=6, column=3, pady=1)\n",
    "\n",
    "btnSub = Button(calc, text=\"-\", width=6, height=2, bg='orange', fg='black', font=('Times new roman', 20, 'bold'), bd=4,\n",
    "                command=lambda: added_value.operation(\"sub\")).grid(row=5, column=3, pady=1)\n",
    "\n",
    "btnMul = Button(calc, text=\"*\", width=6, height=2, bg='orange', fg='black', font=('Times new roman', 20, 'bold'), bd=4,\n",
    "                command=lambda: added_value.operation(\"mul\")).grid(row=3, column=3, pady=1)\n",
    "\n",
    "btnDiv = Button(calc, text=\"/\", width=6, height=2, bg='orange', fg='black', font=('Times new roman', 20, 'bold'), bd=4,\n",
    "                command=lambda: added_value.operation(\"divide\")).grid(row=6, column=3, pady=1)\n",
    "\n",
    "btnZero = Button(calc, text=\"0\", width=6, height=2, bg='pink', fg='black', font=('Times new roman', 20, 'bold'), bd=4,\n",
    "                 command=lambda: added_value.numberEnter(0)).grid(row=6, column=0, pady=1)\n",
    "\n",
    "btnDot = Button(calc, text=\".\", width=6, height=2, bg='pink', fg='black', font=('Times new roman', 20, 'bold'), bd=4,\n",
    "                command=lambda: added_value.numberEnter(\".\")).grid(row=6, column=1, pady=1)\n",
    "\n",
    "btnOpenbrace = Button(calc, text=\"(\", width=6, height=2, bg='green', fg='black', font=('Times new roman', 20, 'bold'), bd=4,\n",
    "                      command=lambda: added_value.numberEnter(\"(\")).grid(row=7, column=1, pady=1)\n",
    "\n",
    "btnclosebrace = Button(calc, text=\")\", width=6, height=2, bg='green', fg='black', font=('Times new roman', 20, 'bold'), bd=4,\n",
    "                       command=lambda: added_value.numberEnter(\")\")).grid(row=7, column=2, pady=1)\n",
    "\n",
    "btnEquals = Button(calc, text=\"=\", width=6, height=2, bg='pink', fg='black', font=('Times new roman', 20, 'bold'), bd=4,\n",
    "                   command=added_value.sum_of_total).grid(row=7, column=3, pady=1)\n",
    "\n",
    "btnsq = Button(calc, text=\"\\u2214A\", width=6, height=2, bg='pink', fg='black', font=('Times new roman', 20, 'bold'), bd=4"
   ]
  },
  {
   "cell_type": "code",
   "execution_count": null,
   "id": "7816f559",
   "metadata": {},
   "outputs": [],
   "source": []
  }
 ],
 "metadata": {
  "kernelspec": {
   "display_name": "Python 3 (ipykernel)",
   "language": "python",
   "name": "python3"
  },
  "language_info": {
   "codemirror_mode": {
    "name": "ipython",
    "version": 3
   },
   "file_extension": ".py",
   "mimetype": "text/x-python",
   "name": "python",
   "nbconvert_exporter": "python",
   "pygments_lexer": "ipython3",
   "version": "3.9.15"
  }
 },
 "nbformat": 4,
 "nbformat_minor": 5
}
