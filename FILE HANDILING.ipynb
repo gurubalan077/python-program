{
 "cells": [
  {
   "cell_type": "code",
   "execution_count": 16,
   "id": "8c219aed",
   "metadata": {},
   "outputs": [],
   "source": [
    "file = open(\"guru.txt\")"
   ]
  },
  {
   "cell_type": "code",
   "execution_count": 19,
   "id": "4649ff12",
   "metadata": {},
   "outputs": [],
   "source": [
    "file = open (\"guru.txt 01\",'x')"
   ]
  },
  {
   "cell_type": "markdown",
   "id": "35fde8ba",
   "metadata": {},
   "source": [
    "# differnt \n",
    "1. create mode='x'\n",
    "2. appent modde ='a'\n",
    "3. write mode ='w'\n",
    "4.reade ='r'"
   ]
  },
  {
   "cell_type": "code",
   "execution_count": 20,
   "id": "03db8bf8",
   "metadata": {},
   "outputs": [],
   "source": [
    "file.close()"
   ]
  },
  {
   "cell_type": "code",
   "execution_count": 21,
   "id": "ab0f3a4f",
   "metadata": {},
   "outputs": [],
   "source": [
    "f = open(\"guru.txt\",'w')"
   ]
  },
  {
   "cell_type": "code",
   "execution_count": 28,
   "id": "be9124cc",
   "metadata": {},
   "outputs": [
    {
     "data": {
      "text/plain": [
       "35"
      ]
     },
     "execution_count": 28,
     "metadata": {},
     "output_type": "execute_result"
    }
   ],
   "source": [
    "f.write(\"hi guys , welcome to our unversity.\")"
   ]
  },
  {
   "cell_type": "code",
   "execution_count": 29,
   "id": "83a53f45",
   "metadata": {},
   "outputs": [
    {
     "data": {
      "text/plain": [
       "36"
      ]
     },
     "execution_count": 29,
     "metadata": {},
     "output_type": "execute_result"
    }
   ],
   "source": [
    "f.write(\"hi guys , plese fill the applicant::\")"
   ]
  },
  {
   "cell_type": "code",
   "execution_count": 30,
   "id": "ca0ff014",
   "metadata": {},
   "outputs": [],
   "source": [
    " f.close()"
   ]
  },
  {
   "cell_type": "markdown",
   "id": "73993c90",
   "metadata": {},
   "source": [
    "# reader mode"
   ]
  },
  {
   "cell_type": "code",
   "execution_count": 33,
   "id": "78b5e6fe",
   "metadata": {},
   "outputs": [],
   "source": [
    "f = open(\"guru.txt\",'r')"
   ]
  },
  {
   "cell_type": "code",
   "execution_count": 34,
   "id": "07c6d4cd",
   "metadata": {},
   "outputs": [
    {
     "data": {
      "text/plain": [
       "'hi guys welcome  to our cloagehi guys , welcome to our councilehi guys , plese fill the applicanthi guys , welcome to our unversityhi guys , plese fill the applicanthi guys , welcome to our unversity.hi guys , plese fill the applicant::'"
      ]
     },
     "execution_count": 34,
     "metadata": {},
     "output_type": "execute_result"
    }
   ],
   "source": [
    "f.read()"
   ]
  },
  {
   "cell_type": "code",
   "execution_count": 36,
   "id": "53547f36",
   "metadata": {},
   "outputs": [
    {
     "data": {
      "text/plain": [
       "''"
      ]
     },
     "execution_count": 36,
     "metadata": {},
     "output_type": "execute_result"
    }
   ],
   "source": [
    "f.read()"
   ]
  },
  {
   "cell_type": "code",
   "execution_count": 38,
   "id": "986fda1c",
   "metadata": {},
   "outputs": [
    {
     "data": {
      "text/plain": [
       "236"
      ]
     },
     "execution_count": 38,
     "metadata": {},
     "output_type": "execute_result"
    }
   ],
   "source": [
    "f.tell()"
   ]
  },
  {
   "cell_type": "code",
   "execution_count": 42,
   "id": "f9373342",
   "metadata": {},
   "outputs": [
    {
     "data": {
      "text/plain": [
       "8"
      ]
     },
     "execution_count": 42,
     "metadata": {},
     "output_type": "execute_result"
    }
   ],
   "source": [
    "f.seek(8)"
   ]
  },
  {
   "cell_type": "code",
   "execution_count": 43,
   "id": "2f584228",
   "metadata": {},
   "outputs": [
    {
     "data": {
      "text/plain": [
       "'welcome  to our cloagehi guys , welcome to our councile'"
      ]
     },
     "execution_count": 43,
     "metadata": {},
     "output_type": "execute_result"
    }
   ],
   "source": [
    "f.read(55)"
   ]
  },
  {
   "cell_type": "code",
   "execution_count": 49,
   "id": "165dffdd",
   "metadata": {},
   "outputs": [],
   "source": [
    "for line in f:\n",
    "    print(line,end = '')"
   ]
  },
  {
   "cell_type": "code",
   "execution_count": null,
   "id": "375c6968",
   "metadata": {},
   "outputs": [],
   "source": []
  },
  {
   "cell_type": "code",
   "execution_count": 50,
   "id": "31e9ac18",
   "metadata": {},
   "outputs": [
    {
     "data": {
      "text/plain": [
       "''"
      ]
     },
     "execution_count": 50,
     "metadata": {},
     "output_type": "execute_result"
    }
   ],
   "source": [
    "f.read(10)"
   ]
  },
  {
   "cell_type": "code",
   "execution_count": 59,
   "id": "b5eaa2c4",
   "metadata": {},
   "outputs": [],
   "source": [
    "f.close()"
   ]
  },
  {
   "cell_type": "markdown",
   "id": "24484fd2",
   "metadata": {},
   "source": [
    "# append mode"
   ]
  },
  {
   "cell_type": "code",
   "execution_count": 81,
   "id": "aa7ec1fa",
   "metadata": {},
   "outputs": [],
   "source": [
    "file = open(\"guru.txt\",'r')"
   ]
  },
  {
   "cell_type": "code",
   "execution_count": 82,
   "id": "a7aa9c9b",
   "metadata": {},
   "outputs": [
    {
     "ename": "ValueError",
     "evalue": "I/O operation on closed file.",
     "output_type": "error",
     "traceback": [
      "\u001b[1;31m---------------------------------------------------------------------------\u001b[0m",
      "\u001b[1;31mValueError\u001b[0m                                Traceback (most recent call last)",
      "\u001b[1;32m~\\AppData\\Local\\Temp\\ipykernel_10484\\2244194323.py\u001b[0m in \u001b[0;36m<module>\u001b[1;34m\u001b[0m\n\u001b[1;32m----> 1\u001b[1;33m \u001b[0mf\u001b[0m\u001b[1;33m.\u001b[0m\u001b[0mwrite\u001b[0m\u001b[1;33m(\u001b[0m\u001b[1;34m\"\\n\"\u001b[0m\u001b[1;33m)\u001b[0m\u001b[1;33m\u001b[0m\u001b[1;33m\u001b[0m\u001b[0m\n\u001b[0m",
      "\u001b[1;31mValueError\u001b[0m: I/O operation on closed file."
     ]
    }
   ],
   "source": [
    "f.write(\"\\n\")"
   ]
  },
  {
   "cell_type": "code",
   "execution_count": 69,
   "id": "bd46d3fc",
   "metadata": {},
   "outputs": [
    {
     "ename": "ValueError",
     "evalue": "I/O operation on closed file.",
     "output_type": "error",
     "traceback": [
      "\u001b[1;31m---------------------------------------------------------------------------\u001b[0m",
      "\u001b[1;31mValueError\u001b[0m                                Traceback (most recent call last)",
      "\u001b[1;32m~\\AppData\\Local\\Temp\\ipykernel_10484\\1181013258.py\u001b[0m in \u001b[0;36m<module>\u001b[1;34m\u001b[0m\n\u001b[1;32m----> 1\u001b[1;33m \u001b[0mf\u001b[0m\u001b[1;33m.\u001b[0m\u001b[0mwrite\u001b[0m\u001b[1;33m(\u001b[0m\u001b[1;34m\"this is append de\"\u001b[0m\u001b[1;33m)\u001b[0m\u001b[1;33m\u001b[0m\u001b[1;33m\u001b[0m\u001b[0m\n\u001b[0m",
      "\u001b[1;31mValueError\u001b[0m: I/O operation on closed file."
     ]
    }
   ],
   "source": [
    "f.write(\"this is append de\")"
   ]
  },
  {
   "cell_type": "code",
   "execution_count": 73,
   "id": "28cc856d",
   "metadata": {},
   "outputs": [],
   "source": [
    "f.close()"
   ]
  },
  {
   "cell_type": "code",
   "execution_count": null,
   "id": "d8e18696",
   "metadata": {},
   "outputs": [],
   "source": []
  }
 ],
 "metadata": {
  "kernelspec": {
   "display_name": "Python 3 (ipykernel)",
   "language": "python",
   "name": "python3"
  },
  "language_info": {
   "codemirror_mode": {
    "name": "ipython",
    "version": 3
   },
   "file_extension": ".py",
   "mimetype": "text/x-python",
   "name": "python",
   "nbconvert_exporter": "python",
   "pygments_lexer": "ipython3",
   "version": "3.9.13"
  }
 },
 "nbformat": 4,
 "nbformat_minor": 5
}
