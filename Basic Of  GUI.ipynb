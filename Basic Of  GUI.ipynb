{
 "cells": [
  {
   "cell_type": "code",
   "execution_count": 1,
   "id": "d7c3a695",
   "metadata": {},
   "outputs": [],
   "source": [
    "import tkinter as tk"
   ]
  },
  {
   "cell_type": "code",
   "execution_count": null,
   "id": "76611d09",
   "metadata": {},
   "outputs": [],
   "source": [
    "root = tk.Tk()"
   ]
  },
  {
   "cell_type": "code",
   "execution_count": null,
   "id": "ecd30946",
   "metadata": {},
   "outputs": [],
   "source": [
    "root.mainloop()"
   ]
  },
  {
   "cell_type": "code",
   "execution_count": null,
   "id": "3e0758ec",
   "metadata": {},
   "outputs": [],
   "source": [
    "root = tk.Tk()"
   ]
  },
  {
   "cell_type": "code",
   "execution_count": null,
   "id": "8aaa539b",
   "metadata": {},
   "outputs": [],
   "source": [
    "root.geometry(\"400x500\")"
   ]
  },
  {
   "cell_type": "code",
   "execution_count": null,
   "id": "6906720c",
   "metadata": {},
   "outputs": [],
   "source": [
    "root.mainloop()"
   ]
  },
  {
   "cell_type": "code",
   "execution_count": null,
   "id": "62abcca7",
   "metadata": {},
   "outputs": [],
   "source": [
    "root = tk.Tk()"
   ]
  },
  {
   "cell_type": "code",
   "execution_count": null,
   "id": "51ac5635",
   "metadata": {},
   "outputs": [],
   "source": [
    "root.title(\"guru\")"
   ]
  },
  {
   "cell_type": "code",
   "execution_count": null,
   "id": "8021934e",
   "metadata": {},
   "outputs": [],
   "source": [
    "root.mainloop()"
   ]
  },
  {
   "cell_type": "markdown",
   "id": "7976fa43",
   "metadata": {},
   "source": [
    "# leable"
   ]
  },
  {
   "cell_type": "code",
   "execution_count": null,
   "id": "83228bcc",
   "metadata": {},
   "outputs": [],
   "source": [
    "root = tk.Tk()"
   ]
  },
  {
   "cell_type": "code",
   "execution_count": null,
   "id": "1e11b424",
   "metadata": {},
   "outputs": [],
   "source": [
    "my_label = tk.Label(root, text=\"hi |||Bsc(ai)\")"
   ]
  },
  {
   "cell_type": "code",
   "execution_count": null,
   "id": "7bfd59e4",
   "metadata": {},
   "outputs": [],
   "source": [
    "my_label.pack()"
   ]
  },
  {
   "cell_type": "code",
   "execution_count": null,
   "id": "7387e96a",
   "metadata": {},
   "outputs": [],
   "source": [
    "root.mainloop()"
   ]
  },
  {
   "cell_type": "markdown",
   "id": "33fc2548",
   "metadata": {},
   "source": [
    "# my task"
   ]
  },
  {
   "cell_type": "code",
   "execution_count": null,
   "id": "5154c0eb",
   "metadata": {},
   "outputs": [],
   "source": [
    "root=tk.Tk()"
   ]
  },
  {
   "cell_type": "code",
   "execution_count": null,
   "id": "725759e0",
   "metadata": {},
   "outputs": [],
   "source": [
    "root.title(\"WElCOME TO THE PMU \")"
   ]
  },
  {
   "cell_type": "code",
   "execution_count": null,
   "id": "2d63f495",
   "metadata": {},
   "outputs": [],
   "source": [
    "root.geometry(\"400x500\")"
   ]
  },
  {
   "cell_type": "code",
   "execution_count": null,
   "id": "ef7e717c",
   "metadata": {},
   "outputs": [],
   "source": [
    "my_label = tk.Label(root, text=\"HI BSC (AI) STUDENT'S WELCOME TO  PYTHON CLASS\")"
   ]
  },
  {
   "cell_type": "code",
   "execution_count": null,
   "id": "a81c392b",
   "metadata": {},
   "outputs": [],
   "source": [
    "my_label.pack()"
   ]
  },
  {
   "cell_type": "code",
   "execution_count": null,
   "id": "f0e957cb",
   "metadata": {},
   "outputs": [],
   "source": [
    "root.mainloop()"
   ]
  },
  {
   "cell_type": "markdown",
   "id": "682022ab",
   "metadata": {},
   "source": [
    "# BUTTON"
   ]
  },
  {
   "cell_type": "code",
   "execution_count": 13,
   "id": "0cc5e504",
   "metadata": {},
   "outputs": [],
   "source": [
    "root=tk.Tk()"
   ]
  },
  {
   "cell_type": "code",
   "execution_count": 14,
   "id": "dcaac5a5",
   "metadata": {},
   "outputs": [
    {
     "data": {
      "text/plain": [
       "''"
      ]
     },
     "execution_count": 14,
     "metadata": {},
     "output_type": "execute_result"
    }
   ],
   "source": [
    "root.title(\"WElCOME TO THE PMU \")"
   ]
  },
  {
   "cell_type": "code",
   "execution_count": 15,
   "id": "eff55f42",
   "metadata": {},
   "outputs": [
    {
     "data": {
      "text/plain": [
       "''"
      ]
     },
     "execution_count": 15,
     "metadata": {},
     "output_type": "execute_result"
    }
   ],
   "source": [
    "root.geometry(\"400x500\")"
   ]
  },
  {
   "cell_type": "code",
   "execution_count": 16,
   "id": "3f566c6c",
   "metadata": {},
   "outputs": [],
   "source": [
    "mybutton=tk.Button(root,text='click on')"
   ]
  },
  {
   "cell_type": "code",
   "execution_count": 17,
   "id": "e524b78b",
   "metadata": {},
   "outputs": [],
   "source": [
    "mybutton.pack()"
   ]
  },
  {
   "cell_type": "code",
   "execution_count": 18,
   "id": "3b54a402",
   "metadata": {},
   "outputs": [],
   "source": [
    "root.mainloop()"
   ]
  },
  {
   "cell_type": "markdown",
   "id": "1f515b57",
   "metadata": {},
   "source": [
    "# MULTIPLE BUTTON"
   ]
  },
  {
   "cell_type": "code",
   "execution_count": 36,
   "id": "f10dc384",
   "metadata": {},
   "outputs": [],
   "source": [
    "root=tk.Tk()"
   ]
  },
  {
   "cell_type": "code",
   "execution_count": 37,
   "id": "0c5c6f01",
   "metadata": {},
   "outputs": [
    {
     "data": {
      "text/plain": [
       "''"
      ]
     },
     "execution_count": 37,
     "metadata": {},
     "output_type": "execute_result"
    }
   ],
   "source": [
    "root.geometry(\"400x500\")"
   ]
  },
  {
   "cell_type": "code",
   "execution_count": 38,
   "id": "93646914",
   "metadata": {},
   "outputs": [],
   "source": [
    "mybutton1=tk.Button(root,text='click on')"
   ]
  },
  {
   "cell_type": "code",
   "execution_count": 39,
   "id": "944f628c",
   "metadata": {},
   "outputs": [],
   "source": [
    "mybutton2=tk.Button(root,text='click OFF')"
   ]
  },
  {
   "cell_type": "code",
   "execution_count": 40,
   "id": "cd1379fa",
   "metadata": {},
   "outputs": [],
   "source": [
    "mybutton3=tk.Button(root,text='click On')"
   ]
  },
  {
   "cell_type": "code",
   "execution_count": 41,
   "id": "301855bf",
   "metadata": {},
   "outputs": [],
   "source": [
    "mybutton1.pack()"
   ]
  },
  {
   "cell_type": "code",
   "execution_count": 42,
   "id": "2509a059",
   "metadata": {},
   "outputs": [],
   "source": [
    "mybutton2.pack()"
   ]
  },
  {
   "cell_type": "code",
   "execution_count": 43,
   "id": "83d6de16",
   "metadata": {},
   "outputs": [],
   "source": [
    "mybutton3.pack()"
   ]
  },
  {
   "cell_type": "code",
   "execution_count": 46,
   "id": "25db5ec9",
   "metadata": {},
   "outputs": [],
   "source": [
    "root.mainloop()"
   ]
  },
  {
   "cell_type": "markdown",
   "id": "d5aac7e9",
   "metadata": {},
   "source": [
    "# SIZE OF BUTTON"
   ]
  },
  {
   "cell_type": "code",
   "execution_count": 54,
   "id": "2870185f",
   "metadata": {},
   "outputs": [],
   "source": [
    "root=tk.Tk()"
   ]
  },
  {
   "cell_type": "code",
   "execution_count": 55,
   "id": "8f456ba6",
   "metadata": {},
   "outputs": [
    {
     "data": {
      "text/plain": [
       "''"
      ]
     },
     "execution_count": 55,
     "metadata": {},
     "output_type": "execute_result"
    }
   ],
   "source": [
    "root.geometry(\"400x500\")"
   ]
  },
  {
   "cell_type": "code",
   "execution_count": 56,
   "id": "11f75974",
   "metadata": {},
   "outputs": [],
   "source": [
    "mybutton1=tk.Button(root,text='click on',padx=25,pady=25)"
   ]
  },
  {
   "cell_type": "code",
   "execution_count": 57,
   "id": "df6aa289",
   "metadata": {},
   "outputs": [],
   "source": [
    "mybutton2=tk.Button(root,text='click OFF',padx=25,pady=25)"
   ]
  },
  {
   "cell_type": "code",
   "execution_count": 58,
   "id": "5ff50380",
   "metadata": {},
   "outputs": [],
   "source": [
    "mybutton1.pack()"
   ]
  },
  {
   "cell_type": "code",
   "execution_count": 59,
   "id": "49b867ab",
   "metadata": {},
   "outputs": [],
   "source": [
    "mybutton2.pack()"
   ]
  },
  {
   "cell_type": "code",
   "execution_count": 60,
   "id": "c32d68f8",
   "metadata": {},
   "outputs": [],
   "source": [
    "root.mainloop()"
   ]
  },
  {
   "cell_type": "markdown",
   "id": "0f77cae4",
   "metadata": {},
   "source": [
    "# FUNCTION OF BUTTON"
   ]
  },
  {
   "cell_type": "code",
   "execution_count": 89,
   "id": "ec0f5a7d",
   "metadata": {},
   "outputs": [],
   "source": [
    "root=tk.Tk()"
   ]
  },
  {
   "cell_type": "code",
   "execution_count": 90,
   "id": "56526caf",
   "metadata": {},
   "outputs": [
    {
     "data": {
      "text/plain": [
       "''"
      ]
     },
     "execution_count": 90,
     "metadata": {},
     "output_type": "execute_result"
    }
   ],
   "source": [
    "root.geometry(\"400x500\")"
   ]
  },
  {
   "cell_type": "code",
   "execution_count": 91,
   "id": "026ebbbe",
   "metadata": {},
   "outputs": [],
   "source": [
    "def myClick():\n",
    "    mylabel = tk.Label(root, text=\"Click on button\")\n",
    "    mylabel.pack()\n"
   ]
  },
  {
   "cell_type": "code",
   "execution_count": 92,
   "id": "f81fd527",
   "metadata": {},
   "outputs": [],
   "source": [
    "myButton = tk.Button(root, text='Click me', command=myClick)\n"
   ]
  },
  {
   "cell_type": "code",
   "execution_count": 93,
   "id": "1f1acb12",
   "metadata": {},
   "outputs": [],
   "source": [
    "myButton.pack()"
   ]
  },
  {
   "cell_type": "code",
   "execution_count": 94,
   "id": "c6ca221a",
   "metadata": {},
   "outputs": [],
   "source": [
    "root.mainloop()"
   ]
  },
  {
   "cell_type": "code",
   "execution_count": null,
   "id": "adcd0226",
   "metadata": {},
   "outputs": [],
   "source": []
  }
 ],
 "metadata": {
  "kernelspec": {
   "display_name": "Python 3 (ipykernel)",
   "language": "python",
   "name": "python3"
  },
  "language_info": {
   "codemirror_mode": {
    "name": "ipython",
    "version": 3
   },
   "file_extension": ".py",
   "mimetype": "text/x-python",
   "name": "python",
   "nbconvert_exporter": "python",
   "pygments_lexer": "ipython3",
   "version": "3.9.13"
  }
 },
 "nbformat": 4,
 "nbformat_minor": 5
}
