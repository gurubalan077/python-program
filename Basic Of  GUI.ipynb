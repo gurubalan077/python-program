{
 "cells": [
  {
   "cell_type": "code",
   "execution_count": 1,
   "id": "d7c3a695",
   "metadata": {},
   "outputs": [],
   "source": [
    "import tkinter as tk"
   ]
  },
  {
   "cell_type": "code",
   "execution_count": null,
   "id": "76611d09",
   "metadata": {},
   "outputs": [],
   "source": [
    "root = tk.Tk()"
   ]
  },
  {
   "cell_type": "code",
   "execution_count": null,
   "id": "ecd30946",
   "metadata": {},
   "outputs": [],
   "source": [
    "root.mainloop()"
   ]
  },
  {
   "cell_type": "code",
   "execution_count": null,
   "id": "3e0758ec",
   "metadata": {},
   "outputs": [],
   "source": [
    "root = tk.Tk()"
   ]
  },
  {
   "cell_type": "code",
   "execution_count": null,
   "id": "8aaa539b",
   "metadata": {},
   "outputs": [],
   "source": [
    "root.geometry(\"400x500\")"
   ]
  },
  {
   "cell_type": "code",
   "execution_count": null,
   "id": "6906720c",
   "metadata": {},
   "outputs": [],
   "source": [
    "root.mainloop()"
   ]
  },
  {
   "cell_type": "code",
   "execution_count": null,
   "id": "62abcca7",
   "metadata": {},
   "outputs": [],
   "source": [
    "root = tk.Tk()"
   ]
  },
  {
   "cell_type": "code",
   "execution_count": null,
   "id": "51ac5635",
   "metadata": {},
   "outputs": [],
   "source": [
    "root.title(\"guru\")"
   ]
  },
  {
   "cell_type": "code",
   "execution_count": null,
   "id": "8021934e",
   "metadata": {},
   "outputs": [],
   "source": [
    "root.mainloop()"
   ]
  },
  {
   "cell_type": "markdown",
   "id": "7976fa43",
   "metadata": {},
   "source": [
    "# leable"
   ]
  },
  {
   "cell_type": "code",
   "execution_count": null,
   "id": "83228bcc",
   "metadata": {},
   "outputs": [],
   "source": [
    "root = tk.Tk()"
   ]
  },
  {
   "cell_type": "code",
   "execution_count": null,
   "id": "1e11b424",
   "metadata": {},
   "outputs": [],
   "source": [
    "my_label = tk.Label(root, text=\"hi |||Bsc(ai)\")"
   ]
  },
  {
   "cell_type": "code",
   "execution_count": null,
   "id": "7bfd59e4",
   "metadata": {},
   "outputs": [],
   "source": [
    "my_label.pack()"
   ]
  },
  {
   "cell_type": "code",
   "execution_count": null,
   "id": "7387e96a",
   "metadata": {},
   "outputs": [],
   "source": [
    "root.mainloop()"
   ]
  },
  {
   "cell_type": "markdown",
   "id": "33fc2548",
   "metadata": {},
   "source": [
    "# my task"
   ]
  },
  {
   "cell_type": "code",
   "execution_count": null,
   "id": "5154c0eb",
   "metadata": {},
   "outputs": [],
   "source": [
    "root=tk.Tk()"
   ]
  },
  {
   "cell_type": "code",
   "execution_count": null,
   "id": "725759e0",
   "metadata": {},
   "outputs": [],
   "source": [
    "root.title(\"WElCOME TO THE PMU \")"
   ]
  },
  {
   "cell_type": "code",
   "execution_count": null,
   "id": "2d63f495",
   "metadata": {},
   "outputs": [],
   "source": [
    "root.geometry(\"400x500\")"
   ]
  },
  {
   "cell_type": "code",
   "execution_count": null,
   "id": "ef7e717c",
   "metadata": {},
   "outputs": [],
   "source": [
    "my_label = tk.Label(root, text=\"HI BSC (AI) STUDENT'S WELCOME TO  PYTHON CLASS\")"
   ]
  },
  {
   "cell_type": "code",
   "execution_count": null,
   "id": "a81c392b",
   "metadata": {},
   "outputs": [],
   "source": [
    "my_label.pack()"
   ]
  },
  {
   "cell_type": "code",
   "execution_count": null,
   "id": "f0e957cb",
   "metadata": {},
   "outputs": [],
   "source": [
    "root.mainloop()"
   ]
  },
  {
   "cell_type": "markdown",
   "id": "b2aff0c8",
   "metadata": {},
   "source": [
    "# BUTTON"
   ]
  },
  {
   "cell_type": "code",
   "execution_count": 13,
   "id": "7c3cc482",
   "metadata": {},
   "outputs": [],
   "source": [
    "root=tk.Tk()"
   ]
  },
  {
   "cell_type": "code",
   "execution_count": 14,
   "id": "c1866db3",
   "metadata": {},
   "outputs": [
    {
     "data": {
      "text/plain": [
       "''"
      ]
     },
     "execution_count": 14,
     "metadata": {},
     "output_type": "execute_result"
    }
   ],
   "source": [
    "root.title(\"WElCOME TO THE PMU \")"
   ]
  },
  {
   "cell_type": "code",
   "execution_count": 15,
   "id": "49ee6221",
   "metadata": {},
   "outputs": [
    {
     "data": {
      "text/plain": [
       "''"
      ]
     },
     "execution_count": 15,
     "metadata": {},
     "output_type": "execute_result"
    }
   ],
   "source": [
    "root.geometry(\"400x500\")"
   ]
  },
  {
   "cell_type": "code",
   "execution_count": 16,
   "id": "fd80ac54",
   "metadata": {},
   "outputs": [],
   "source": [
    "mybutton=tk.Button(root,text='click on')"
   ]
  },
  {
   "cell_type": "code",
   "execution_count": 17,
   "id": "d043bf2f",
   "metadata": {},
   "outputs": [],
   "source": [
    "mybutton.pack()"
   ]
  },
  {
   "cell_type": "code",
   "execution_count": 18,
   "id": "adac24d2",
   "metadata": {},
   "outputs": [],
   "source": [
    "root.mainloop()"
   ]
  },
  {
   "cell_type": "markdown",
   "id": "5a514ec2",
   "metadata": {},
   "source": [
    "# MULTIPLE BUTTON"
   ]
  },
  {
   "cell_type": "code",
   "execution_count": 36,
   "id": "7a24629d",
   "metadata": {},
   "outputs": [],
   "source": [
    "root=tk.Tk()"
   ]
  },
  {
   "cell_type": "code",
   "execution_count": 37,
   "id": "ff0420ee",
   "metadata": {},
   "outputs": [
    {
     "data": {
      "text/plain": [
       "''"
      ]
     },
     "execution_count": 37,
     "metadata": {},
     "output_type": "execute_result"
    }
   ],
   "source": [
    "root.geometry(\"400x500\")"
   ]
  },
  {
   "cell_type": "code",
   "execution_count": 38,
   "id": "dfc5a549",
   "metadata": {},
   "outputs": [],
   "source": [
    "mybutton1=tk.Button(root,text='click on')"
   ]
  },
  {
   "cell_type": "code",
   "execution_count": 39,
   "id": "7ebff7fa",
   "metadata": {},
   "outputs": [],
   "source": [
    "mybutton2=tk.Button(root,text='click OFF')"
   ]
  },
  {
   "cell_type": "code",
   "execution_count": 40,
   "id": "949b82b9",
   "metadata": {},
   "outputs": [],
   "source": [
    "mybutton3=tk.Button(root,text='click On')"
   ]
  },
  {
   "cell_type": "code",
   "execution_count": 41,
   "id": "2a776792",
   "metadata": {},
   "outputs": [],
   "source": [
    "mybutton1.pack()"
   ]
  },
  {
   "cell_type": "code",
   "execution_count": 42,
   "id": "aab07d7c",
   "metadata": {},
   "outputs": [],
   "source": [
    "mybutton2.pack()"
   ]
  },
  {
   "cell_type": "code",
   "execution_count": 43,
   "id": "b277b4f9",
   "metadata": {},
   "outputs": [],
   "source": [
    "mybutton3.pack()"
   ]
  },
  {
   "cell_type": "code",
   "execution_count": 46,
   "id": "4ace3719",
   "metadata": {},
   "outputs": [],
   "source": [
    "root.mainloop()"
   ]
  },
  {
   "cell_type": "markdown",
   "id": "c3a219b1",
   "metadata": {},
   "source": [
    "# SIZE OF BUTTON"
   ]
  },
  {
   "cell_type": "code",
   "execution_count": 54,
   "id": "2860bc59",
   "metadata": {},
   "outputs": [],
   "source": [
    "root=tk.Tk()"
   ]
  },
  {
   "cell_type": "code",
   "execution_count": 55,
   "id": "c8095c0a",
   "metadata": {},
   "outputs": [
    {
     "data": {
      "text/plain": [
       "''"
      ]
     },
     "execution_count": 55,
     "metadata": {},
     "output_type": "execute_result"
    }
   ],
   "source": [
    "root.geometry(\"400x500\")"
   ]
  },
  {
   "cell_type": "code",
   "execution_count": 56,
   "id": "b9c7f8e0",
   "metadata": {},
   "outputs": [],
   "source": [
    "mybutton1=tk.Button(root,text='click on',padx=25,pady=25)"
   ]
  },
  {
   "cell_type": "code",
   "execution_count": 57,
   "id": "3da61f53",
   "metadata": {},
   "outputs": [],
   "source": [
    "mybutton2=tk.Button(root,text='click OFF',padx=25,pady=25)"
   ]
  },
  {
   "cell_type": "code",
   "execution_count": 58,
   "id": "1e03f1e9",
   "metadata": {},
   "outputs": [],
   "source": [
    "mybutton1.pack()"
   ]
  },
  {
   "cell_type": "code",
   "execution_count": 59,
   "id": "aad7d21c",
   "metadata": {},
   "outputs": [],
   "source": [
    "mybutton2.pack()"
   ]
  },
  {
   "cell_type": "code",
   "execution_count": 60,
   "id": "07d74166",
   "metadata": {},
   "outputs": [],
   "source": [
    "root.mainloop()"
   ]
  },
  {
   "cell_type": "markdown",
   "id": "bab1ded2",
   "metadata": {},
   "source": [
    "# FUNCTION OF BUTTON"
   ]
  },
  {
   "cell_type": "code",
   "execution_count": 95,
   "id": "fed4cbbd",
   "metadata": {},
   "outputs": [],
   "source": [
    "root=tk.Tk()"
   ]
  },
  {
   "cell_type": "code",
   "execution_count": 96,
   "id": "127844f5",
   "metadata": {},
   "outputs": [
    {
     "data": {
      "text/plain": [
       "''"
      ]
     },
     "execution_count": 96,
     "metadata": {},
     "output_type": "execute_result"
    }
   ],
   "source": [
    "root.geometry(\"400x500\")"
   ]
  },
  {
   "cell_type": "code",
   "execution_count": 97,
   "id": "67727156",
   "metadata": {},
   "outputs": [],
   "source": [
    "def myClick():\n",
    "    mylabel = tk.Label(root, text=\"Click on button\")\n",
    "    mylabel.pack()\n"
   ]
  },
  {
   "cell_type": "code",
   "execution_count": 98,
   "id": "4fb07974",
   "metadata": {},
   "outputs": [],
   "source": [
    "myButton = tk.Button(root, text='Click me', command=myClick)\n"
   ]
  },
  {
   "cell_type": "code",
   "execution_count": 99,
   "id": "9e517b69",
   "metadata": {},
   "outputs": [],
   "source": [
    "myButton.pack()"
   ]
  },
  {
   "cell_type": "code",
   "execution_count": 100,
   "id": "90cfda52",
   "metadata": {},
   "outputs": [],
   "source": [
    "root.mainloop()"
   ]
  },
  {
   "cell_type": "markdown",
   "id": "2f5b2352",
   "metadata": {},
   "source": [
    "# COLOURE ON BUTTON"
   ]
  },
  {
   "cell_type": "code",
   "execution_count": 113,
   "id": "296de3c8",
   "metadata": {},
   "outputs": [],
   "source": [
    "root=tk.Tk()"
   ]
  },
  {
   "cell_type": "code",
   "execution_count": 114,
   "id": "dbcbfa10",
   "metadata": {},
   "outputs": [
    {
     "data": {
      "text/plain": [
       "''"
      ]
     },
     "execution_count": 114,
     "metadata": {},
     "output_type": "execute_result"
    }
   ],
   "source": [
    "root.geometry(\"400x500\")"
   ]
  },
  {
   "cell_type": "code",
   "execution_count": 115,
   "id": "9070b6ac",
   "metadata": {},
   "outputs": [],
   "source": [
    "def myClick():\n",
    "    mylabel = tk.Label(root, text=\"Click on button\")\n",
    "    mylabel.pack()\n"
   ]
  },
  {
   "cell_type": "code",
   "execution_count": 116,
   "id": "1caeedb0",
   "metadata": {},
   "outputs": [],
   "source": [
    "myButton = tk.Button(root, text='Click me', command=myClick, fg='red', bg ='black')\n"
   ]
  },
  {
   "cell_type": "code",
   "execution_count": 117,
   "id": "a180119e",
   "metadata": {},
   "outputs": [],
   "source": [
    "myButton.pack()"
   ]
  },
  {
   "cell_type": "code",
   "execution_count": 118,
   "id": "82ada63d",
   "metadata": {},
   "outputs": [],
   "source": [
    "root.mainloop()"
   ]
  },
  {
   "cell_type": "markdown",
   "id": "ebad4e31",
   "metadata": {},
   "source": [
    "# TASK"
   ]
  },
  {
   "cell_type": "code",
   "execution_count": 127,
   "id": "db50829b",
   "metadata": {},
   "outputs": [],
   "source": [
    "root=tk.Tk()"
   ]
  },
  {
   "cell_type": "code",
   "execution_count": 128,
   "id": "a205fcb3",
   "metadata": {},
   "outputs": [],
   "source": [
    "def myClick():\n",
    "    mylabel = tk.Label(root, text=\"Click on button\")\n",
    "    mylabel.pack()\n"
   ]
  },
  {
   "cell_type": "code",
   "execution_count": 129,
   "id": "1cf73f7b",
   "metadata": {},
   "outputs": [],
   "source": [
    "myButton01 = tk.Button(root, text='Click me', command=myClick, fg='red', bg ='black')\n"
   ]
  },
  {
   "cell_type": "code",
   "execution_count": 130,
   "id": "c67f82f2",
   "metadata": {},
   "outputs": [],
   "source": [
    "def myClick01():\n",
    "    mylabel = tk.Label(root, text=\"Click OFF button\")\n",
    "    mylabel.pack()\n"
   ]
  },
  {
   "cell_type": "code",
   "execution_count": 131,
   "id": "32bc713c",
   "metadata": {},
   "outputs": [],
   "source": [
    "myButton02 = tk.Button(root, text='Click me', command=myClick01, fg='red', bg ='yellow')\n"
   ]
  },
  {
   "cell_type": "code",
   "execution_count": 132,
   "id": "b7245872",
   "metadata": {},
   "outputs": [],
   "source": [
    "def myClick01():\n",
    "    mylabel = tk.Label(root, text=\"Click OUT button\")\n",
    "    mylabel.pack()\n"
   ]
  },
  {
   "cell_type": "code",
   "execution_count": 133,
   "id": "73b618c1",
   "metadata": {},
   "outputs": [],
   "source": [
    "myButton03 = tk.Button(root, text='Click me', command=myClick01, fg='black', bg ='yellow')\n"
   ]
  },
  {
   "cell_type": "code",
   "execution_count": 134,
   "id": "122560ac",
   "metadata": {},
   "outputs": [],
   "source": [
    "myButton01.pack()"
   ]
  },
  {
   "cell_type": "code",
   "execution_count": 135,
   "id": "e0fb9e5d",
   "metadata": {},
   "outputs": [],
   "source": [
    "myButton02.pack()"
   ]
  },
  {
   "cell_type": "code",
   "execution_count": 136,
   "id": "ce7ae7ab",
   "metadata": {},
   "outputs": [],
   "source": [
    "myButton03.pack()"
   ]
  },
  {
   "cell_type": "code",
   "execution_count": 137,
   "id": "921ece9a",
   "metadata": {},
   "outputs": [],
   "source": [
    "root.mainloop()"
   ]
  },
  {
   "cell_type": "markdown",
   "id": "05340752",
   "metadata": {},
   "source": [
    "# enter wideject"
   ]
  },
  {
   "cell_type": "code",
   "execution_count": 155,
   "id": "60bd8f28",
   "metadata": {},
   "outputs": [],
   "source": [
    "root=tk.Tk()"
   ]
  },
  {
   "cell_type": "code",
   "execution_count": 156,
   "id": "cfac83d7",
   "metadata": {},
   "outputs": [
    {
     "data": {
      "text/plain": [
       "''"
      ]
     },
     "execution_count": 156,
     "metadata": {},
     "output_type": "execute_result"
    }
   ],
   "source": [
    "root.geometry(\"400x500\")"
   ]
  },
  {
   "cell_type": "code",
   "execution_count": 157,
   "id": "46f0ef4b",
   "metadata": {},
   "outputs": [],
   "source": [
    "EnterWidget = tk.Entry(root)"
   ]
  },
  {
   "cell_type": "code",
   "execution_count": 158,
   "id": "dd01c308",
   "metadata": {},
   "outputs": [],
   "source": [
    "EnterWidget.insert(12,\"What is your name\")"
   ]
  },
  {
   "cell_type": "code",
   "execution_count": 159,
   "id": "1ed5d84a",
   "metadata": {},
   "outputs": [],
   "source": [
    "EnterWidget.pack()"
   ]
  },
  {
   "cell_type": "code",
   "execution_count": null,
   "id": "afedd50d",
   "metadata": {},
   "outputs": [],
   "source": [
    "root.mainloop()"
   ]
  },
  {
   "cell_type": "code",
   "execution_count": null,
   "id": "6f334bde",
   "metadata": {},
   "outputs": [],
   "source": []
  }
 ],
 "metadata": {
  "kernelspec": {
   "display_name": "Python 3 (ipykernel)",
   "language": "python",
   "name": "python3"
  },
  "language_info": {
   "codemirror_mode": {
    "name": "ipython",
    "version": 3
   },
   "file_extension": ".py",
   "mimetype": "text/x-python",
   "name": "python",
   "nbconvert_exporter": "python",
   "pygments_lexer": "ipython3",
   "version": "3.9.13"
  }
 },
 "nbformat": 4,
 "nbformat_minor": 5
}
