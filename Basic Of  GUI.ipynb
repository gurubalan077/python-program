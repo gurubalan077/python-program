{
 "cells": [
  {
   "cell_type": "code",
   "execution_count": 1,
   "id": "d7c3a695",
   "metadata": {},
   "outputs": [],
   "source": [
    "import tkinter as tk"
   ]
  },
  {
   "cell_type": "code",
   "execution_count": null,
   "id": "76611d09",
   "metadata": {},
   "outputs": [],
   "source": [
    "root = tk.Tk()"
   ]
  },
  {
   "cell_type": "code",
   "execution_count": null,
   "id": "ecd30946",
   "metadata": {},
   "outputs": [],
   "source": [
    "root.mainloop()"
   ]
  },
  {
   "cell_type": "code",
   "execution_count": null,
   "id": "3e0758ec",
   "metadata": {},
   "outputs": [],
   "source": [
    "root = tk.Tk()"
   ]
  },
  {
   "cell_type": "code",
   "execution_count": null,
   "id": "8aaa539b",
   "metadata": {},
   "outputs": [],
   "source": [
    "root.geometry(\"400x500\")"
   ]
  },
  {
   "cell_type": "code",
   "execution_count": null,
   "id": "6906720c",
   "metadata": {},
   "outputs": [],
   "source": [
    "root.mainloop()"
   ]
  },
  {
   "cell_type": "code",
   "execution_count": null,
   "id": "62abcca7",
   "metadata": {},
   "outputs": [],
   "source": [
    "root = tk.Tk()"
   ]
  },
  {
   "cell_type": "code",
   "execution_count": null,
   "id": "51ac5635",
   "metadata": {},
   "outputs": [],
   "source": [
    "root.title(\"guru\")"
   ]
  },
  {
   "cell_type": "code",
   "execution_count": null,
   "id": "8021934e",
   "metadata": {},
   "outputs": [],
   "source": [
    "root.mainloop()"
   ]
  },
  {
   "cell_type": "markdown",
   "id": "7976fa43",
   "metadata": {},
   "source": [
    "# leable"
   ]
  },
  {
   "cell_type": "code",
   "execution_count": null,
   "id": "83228bcc",
   "metadata": {},
   "outputs": [],
   "source": [
    "root = tk.Tk()"
   ]
  },
  {
   "cell_type": "code",
   "execution_count": null,
   "id": "1e11b424",
   "metadata": {},
   "outputs": [],
   "source": [
    "my_label = tk.Label(root, text=\"hi |||Bsc(ai)\")"
   ]
  },
  {
   "cell_type": "code",
   "execution_count": null,
   "id": "7bfd59e4",
   "metadata": {},
   "outputs": [],
   "source": [
    "my_label.pack()"
   ]
  },
  {
   "cell_type": "code",
   "execution_count": null,
   "id": "7387e96a",
   "metadata": {},
   "outputs": [],
   "source": [
    "root.mainloop()"
   ]
  },
  {
   "cell_type": "markdown",
   "id": "33fc2548",
   "metadata": {},
   "source": [
    "# my task"
   ]
  },
  {
   "cell_type": "code",
   "execution_count": null,
   "id": "5154c0eb",
   "metadata": {},
   "outputs": [],
   "source": [
    "root=tk.Tk()"
   ]
  },
  {
   "cell_type": "code",
   "execution_count": null,
   "id": "725759e0",
   "metadata": {},
   "outputs": [],
   "source": [
    "root.title(\"WElCOME TO THE PMU \")"
   ]
  },
  {
   "cell_type": "code",
   "execution_count": null,
   "id": "2d63f495",
   "metadata": {},
   "outputs": [],
   "source": [
    "root.geometry(\"400x500\")"
   ]
  },
  {
   "cell_type": "code",
   "execution_count": null,
   "id": "ef7e717c",
   "metadata": {},
   "outputs": [],
   "source": [
    "my_label = tk.Label(root, text=\"HI BSC (AI) STUDENT'S WELCOME TO  PYTHON CLASS\")"
   ]
  },
  {
   "cell_type": "code",
   "execution_count": null,
   "id": "a81c392b",
   "metadata": {},
   "outputs": [],
   "source": [
    "my_label.pack()"
   ]
  },
  {
   "cell_type": "code",
   "execution_count": null,
   "id": "f0e957cb",
   "metadata": {},
   "outputs": [],
   "source": [
    "root.mainloop()"
   ]
  },
  {
   "cell_type": "markdown",
   "id": "a3dae30d",
   "metadata": {},
   "source": [
    "# BUTTON"
   ]
  },
  {
   "cell_type": "code",
   "execution_count": 13,
   "id": "fd176304",
   "metadata": {},
   "outputs": [],
   "source": [
    "root=tk.Tk()"
   ]
  },
  {
   "cell_type": "code",
   "execution_count": 14,
   "id": "ea96ee76",
   "metadata": {},
   "outputs": [
    {
     "data": {
      "text/plain": [
       "''"
      ]
     },
     "execution_count": 14,
     "metadata": {},
     "output_type": "execute_result"
    }
   ],
   "source": [
    "root.title(\"WElCOME TO THE PMU \")"
   ]
  },
  {
   "cell_type": "code",
   "execution_count": 15,
   "id": "031dd627",
   "metadata": {},
   "outputs": [
    {
     "data": {
      "text/plain": [
       "''"
      ]
     },
     "execution_count": 15,
     "metadata": {},
     "output_type": "execute_result"
    }
   ],
   "source": [
    "root.geometry(\"400x500\")"
   ]
  },
  {
   "cell_type": "code",
   "execution_count": 16,
   "id": "8390a143",
   "metadata": {},
   "outputs": [],
   "source": [
    "mybutton=tk.Button(root,text='click on')"
   ]
  },
  {
   "cell_type": "code",
   "execution_count": 17,
   "id": "da862349",
   "metadata": {},
   "outputs": [],
   "source": [
    "mybutton.pack()"
   ]
  },
  {
   "cell_type": "code",
   "execution_count": 18,
   "id": "c1c6b7aa",
   "metadata": {},
   "outputs": [],
   "source": [
    "root.mainloop()"
   ]
  },
  {
   "cell_type": "markdown",
   "id": "01c919cb",
   "metadata": {},
   "source": [
    "# MULTIPLE BUTTON"
   ]
  },
  {
   "cell_type": "code",
   "execution_count": 36,
   "id": "52af9e57",
   "metadata": {},
   "outputs": [],
   "source": [
    "root=tk.Tk()"
   ]
  },
  {
   "cell_type": "code",
   "execution_count": 37,
   "id": "795c6853",
   "metadata": {},
   "outputs": [
    {
     "data": {
      "text/plain": [
       "''"
      ]
     },
     "execution_count": 37,
     "metadata": {},
     "output_type": "execute_result"
    }
   ],
   "source": [
    "root.geometry(\"400x500\")"
   ]
  },
  {
   "cell_type": "code",
   "execution_count": 38,
   "id": "0e79ede1",
   "metadata": {},
   "outputs": [],
   "source": [
    "mybutton1=tk.Button(root,text='click on')"
   ]
  },
  {
   "cell_type": "code",
   "execution_count": 39,
   "id": "e96f051a",
   "metadata": {},
   "outputs": [],
   "source": [
    "mybutton2=tk.Button(root,text='click OFF')"
   ]
  },
  {
   "cell_type": "code",
   "execution_count": 40,
   "id": "f1ab2c3f",
   "metadata": {},
   "outputs": [],
   "source": [
    "mybutton3=tk.Button(root,text='click On')"
   ]
  },
  {
   "cell_type": "code",
   "execution_count": 41,
   "id": "6c69d969",
   "metadata": {},
   "outputs": [],
   "source": [
    "mybutton1.pack()"
   ]
  },
  {
   "cell_type": "code",
   "execution_count": 42,
   "id": "47c71bdb",
   "metadata": {},
   "outputs": [],
   "source": [
    "mybutton2.pack()"
   ]
  },
  {
   "cell_type": "code",
   "execution_count": 43,
   "id": "7a8b6f19",
   "metadata": {},
   "outputs": [],
   "source": [
    "mybutton3.pack()"
   ]
  },
  {
   "cell_type": "code",
   "execution_count": 46,
   "id": "511f2a74",
   "metadata": {},
   "outputs": [],
   "source": [
    "root.mainloop()"
   ]
  },
  {
   "cell_type": "markdown",
   "id": "81ebfa36",
   "metadata": {},
   "source": [
    "# SIZE OF BUTTON"
   ]
  },
  {
   "cell_type": "code",
   "execution_count": 54,
   "id": "ff9c9591",
   "metadata": {},
   "outputs": [],
   "source": [
    "root=tk.Tk()"
   ]
  },
  {
   "cell_type": "code",
   "execution_count": 55,
   "id": "d7eb2647",
   "metadata": {},
   "outputs": [
    {
     "data": {
      "text/plain": [
       "''"
      ]
     },
     "execution_count": 55,
     "metadata": {},
     "output_type": "execute_result"
    }
   ],
   "source": [
    "root.geometry(\"400x500\")"
   ]
  },
  {
   "cell_type": "code",
   "execution_count": 56,
   "id": "a36828b1",
   "metadata": {},
   "outputs": [],
   "source": [
    "mybutton1=tk.Button(root,text='click on',padx=25,pady=25)"
   ]
  },
  {
   "cell_type": "code",
   "execution_count": 57,
   "id": "98bc4a5b",
   "metadata": {},
   "outputs": [],
   "source": [
    "mybutton2=tk.Button(root,text='click OFF',padx=25,pady=25)"
   ]
  },
  {
   "cell_type": "code",
   "execution_count": 58,
   "id": "2387b4b2",
   "metadata": {},
   "outputs": [],
   "source": [
    "mybutton1.pack()"
   ]
  },
  {
   "cell_type": "code",
   "execution_count": 59,
   "id": "be45dd50",
   "metadata": {},
   "outputs": [],
   "source": [
    "mybutton2.pack()"
   ]
  },
  {
   "cell_type": "code",
   "execution_count": 60,
   "id": "f4f81811",
   "metadata": {},
   "outputs": [],
   "source": [
    "root.mainloop()"
   ]
  },
  {
   "cell_type": "markdown",
   "id": "56ee993a",
   "metadata": {},
   "source": [
    "# FUNCTION OF BUTTON"
   ]
  },
  {
   "cell_type": "code",
   "execution_count": 95,
   "id": "14b5c77b",
   "metadata": {},
   "outputs": [],
   "source": [
    "root=tk.Tk()"
   ]
  },
  {
   "cell_type": "code",
   "execution_count": 96,
   "id": "6289f188",
   "metadata": {},
   "outputs": [
    {
     "data": {
      "text/plain": [
       "''"
      ]
     },
     "execution_count": 96,
     "metadata": {},
     "output_type": "execute_result"
    }
   ],
   "source": [
    "root.geometry(\"400x500\")"
   ]
  },
  {
   "cell_type": "code",
   "execution_count": 97,
   "id": "cd3b442a",
   "metadata": {},
   "outputs": [],
   "source": [
    "def myClick():\n",
    "    mylabel = tk.Label(root, text=\"Click on button\")\n",
    "    mylabel.pack()\n"
   ]
  },
  {
   "cell_type": "code",
   "execution_count": 98,
   "id": "14d0311d",
   "metadata": {},
   "outputs": [],
   "source": [
    "myButton = tk.Button(root, text='Click me', command=myClick)\n"
   ]
  },
  {
   "cell_type": "code",
   "execution_count": 99,
   "id": "e2488e80",
   "metadata": {},
   "outputs": [],
   "source": [
    "myButton.pack()"
   ]
  },
  {
   "cell_type": "code",
   "execution_count": 100,
   "id": "022cf914",
   "metadata": {},
   "outputs": [],
   "source": [
    "root.mainloop()"
   ]
  },
  {
   "cell_type": "markdown",
   "id": "98593c87",
   "metadata": {},
   "source": [
    "# COLOURE ON BUTTON"
   ]
  },
  {
   "cell_type": "code",
   "execution_count": 113,
   "id": "e47dc839",
   "metadata": {},
   "outputs": [],
   "source": [
    "root=tk.Tk()"
   ]
  },
  {
   "cell_type": "code",
   "execution_count": 114,
   "id": "0349873e",
   "metadata": {},
   "outputs": [
    {
     "data": {
      "text/plain": [
       "''"
      ]
     },
     "execution_count": 114,
     "metadata": {},
     "output_type": "execute_result"
    }
   ],
   "source": [
    "root.geometry(\"400x500\")"
   ]
  },
  {
   "cell_type": "code",
   "execution_count": 115,
   "id": "def5c8cc",
   "metadata": {},
   "outputs": [],
   "source": [
    "def myClick():\n",
    "    mylabel = tk.Label(root, text=\"Click on button\")\n",
    "    mylabel.pack()\n"
   ]
  },
  {
   "cell_type": "code",
   "execution_count": 116,
   "id": "c94a6f2b",
   "metadata": {},
   "outputs": [],
   "source": [
    "myButton = tk.Button(root, text='Click me', command=myClick, fg='red', bg ='black')\n"
   ]
  },
  {
   "cell_type": "code",
   "execution_count": 117,
   "id": "55b0a829",
   "metadata": {},
   "outputs": [],
   "source": [
    "myButton.pack()"
   ]
  },
  {
   "cell_type": "code",
   "execution_count": 118,
   "id": "2cbaf2a4",
   "metadata": {},
   "outputs": [],
   "source": [
    "root.mainloop()"
   ]
  },
  {
   "cell_type": "markdown",
   "id": "70878cf7",
   "metadata": {},
   "source": [
    "# TASK"
   ]
  },
  {
   "cell_type": "code",
   "execution_count": 127,
   "id": "d2a50dc7",
   "metadata": {},
   "outputs": [],
   "source": [
    "root=tk.Tk()"
   ]
  },
  {
   "cell_type": "code",
   "execution_count": 128,
   "id": "ab0746e6",
   "metadata": {},
   "outputs": [],
   "source": [
    "def myClick():\n",
    "    mylabel = tk.Label(root, text=\"Click on button\")\n",
    "    mylabel.pack()\n"
   ]
  },
  {
   "cell_type": "code",
   "execution_count": 129,
   "id": "08c2b3c5",
   "metadata": {},
   "outputs": [],
   "source": [
    "myButton01 = tk.Button(root, text='Click me', command=myClick, fg='red', bg ='black')\n"
   ]
  },
  {
   "cell_type": "code",
   "execution_count": 130,
   "id": "35bbf3bd",
   "metadata": {},
   "outputs": [],
   "source": [
    "def myClick01():\n",
    "    mylabel = tk.Label(root, text=\"Click OFF button\")\n",
    "    mylabel.pack()\n"
   ]
  },
  {
   "cell_type": "code",
   "execution_count": 131,
   "id": "34733b64",
   "metadata": {},
   "outputs": [],
   "source": [
    "myButton02 = tk.Button(root, text='Click me', command=myClick01, fg='red', bg ='yellow')\n"
   ]
  },
  {
   "cell_type": "code",
   "execution_count": 132,
   "id": "f2cee12a",
   "metadata": {},
   "outputs": [],
   "source": [
    "def myClick01():\n",
    "    mylabel = tk.Label(root, text=\"Click OUT button\")\n",
    "    mylabel.pack()\n"
   ]
  },
  {
   "cell_type": "code",
   "execution_count": 133,
   "id": "eab6c484",
   "metadata": {},
   "outputs": [],
   "source": [
    "myButton03 = tk.Button(root, text='Click me', command=myClick01, fg='black', bg ='yellow')\n"
   ]
  },
  {
   "cell_type": "code",
   "execution_count": 134,
   "id": "7db7a64d",
   "metadata": {},
   "outputs": [],
   "source": [
    "myButton01.pack()"
   ]
  },
  {
   "cell_type": "code",
   "execution_count": 135,
   "id": "01fedea4",
   "metadata": {},
   "outputs": [],
   "source": [
    "myButton02.pack()"
   ]
  },
  {
   "cell_type": "code",
   "execution_count": 136,
   "id": "24a7e01d",
   "metadata": {},
   "outputs": [],
   "source": [
    "myButton03.pack()"
   ]
  },
  {
   "cell_type": "code",
   "execution_count": null,
   "id": "a977bdec",
   "metadata": {},
   "outputs": [],
   "source": [
    "root.mainloop()"
   ]
  },
  {
   "cell_type": "code",
   "execution_count": null,
   "id": "4c0d6720",
   "metadata": {},
   "outputs": [],
   "source": []
  }
 ],
 "metadata": {
  "kernelspec": {
   "display_name": "Python 3 (ipykernel)",
   "language": "python",
   "name": "python3"
  },
  "language_info": {
   "codemirror_mode": {
    "name": "ipython",
    "version": 3
   },
   "file_extension": ".py",
   "mimetype": "text/x-python",
   "name": "python",
   "nbconvert_exporter": "python",
   "pygments_lexer": "ipython3",
   "version": "3.9.13"
  }
 },
 "nbformat": 4,
 "nbformat_minor": 5
}
