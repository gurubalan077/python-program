{
 "cells": [
  {
   "cell_type": "code",
   "execution_count": 1,
   "id": "d7c3a695",
   "metadata": {},
   "outputs": [],
   "source": [
    "import tkinter as tk"
   ]
  },
  {
   "cell_type": "code",
   "execution_count": null,
   "id": "76611d09",
   "metadata": {},
   "outputs": [],
   "source": [
    "root = tk.Tk()"
   ]
  },
  {
   "cell_type": "code",
   "execution_count": null,
   "id": "ecd30946",
   "metadata": {},
   "outputs": [],
   "source": [
    "root.mainloop()"
   ]
  },
  {
   "cell_type": "code",
   "execution_count": null,
   "id": "3e0758ec",
   "metadata": {},
   "outputs": [],
   "source": [
    "root = tk.Tk()"
   ]
  },
  {
   "cell_type": "code",
   "execution_count": null,
   "id": "8aaa539b",
   "metadata": {},
   "outputs": [],
   "source": [
    "root.geometry(\"400x500\")"
   ]
  },
  {
   "cell_type": "code",
   "execution_count": null,
   "id": "6906720c",
   "metadata": {},
   "outputs": [],
   "source": [
    "root.mainloop()"
   ]
  },
  {
   "cell_type": "code",
   "execution_count": null,
   "id": "62abcca7",
   "metadata": {},
   "outputs": [],
   "source": [
    "root = tk.Tk()"
   ]
  },
  {
   "cell_type": "code",
   "execution_count": null,
   "id": "51ac5635",
   "metadata": {},
   "outputs": [],
   "source": [
    "root.title(\"guru\")"
   ]
  },
  {
   "cell_type": "code",
   "execution_count": null,
   "id": "8021934e",
   "metadata": {},
   "outputs": [],
   "source": [
    "root.mainloop()"
   ]
  },
  {
   "cell_type": "markdown",
   "id": "7976fa43",
   "metadata": {},
   "source": [
    "# leable"
   ]
  },
  {
   "cell_type": "code",
   "execution_count": null,
   "id": "83228bcc",
   "metadata": {},
   "outputs": [],
   "source": [
    "root = tk.Tk()"
   ]
  },
  {
   "cell_type": "code",
   "execution_count": null,
   "id": "1e11b424",
   "metadata": {},
   "outputs": [],
   "source": [
    "my_label = tk.Label(root, text=\"hi |||Bsc(ai)\")"
   ]
  },
  {
   "cell_type": "code",
   "execution_count": null,
   "id": "7bfd59e4",
   "metadata": {},
   "outputs": [],
   "source": [
    "my_label.pack()"
   ]
  },
  {
   "cell_type": "code",
   "execution_count": null,
   "id": "7387e96a",
   "metadata": {},
   "outputs": [],
   "source": [
    "root.mainloop()"
   ]
  },
  {
   "cell_type": "markdown",
   "id": "33fc2548",
   "metadata": {},
   "source": [
    "# my task"
   ]
  },
  {
   "cell_type": "code",
   "execution_count": null,
   "id": "5154c0eb",
   "metadata": {},
   "outputs": [],
   "source": [
    "root=tk.Tk()"
   ]
  },
  {
   "cell_type": "code",
   "execution_count": null,
   "id": "725759e0",
   "metadata": {},
   "outputs": [],
   "source": [
    "root.title(\"WElCOME TO THE PMU \")"
   ]
  },
  {
   "cell_type": "code",
   "execution_count": null,
   "id": "2d63f495",
   "metadata": {},
   "outputs": [],
   "source": [
    "root.geometry(\"400x500\")"
   ]
  },
  {
   "cell_type": "code",
   "execution_count": null,
   "id": "ef7e717c",
   "metadata": {},
   "outputs": [],
   "source": [
    "my_label = tk.Label(root, text=\"HI BSC (AI) STUDENT'S WELCOME TO  PYTHON CLASS\")"
   ]
  },
  {
   "cell_type": "code",
   "execution_count": null,
   "id": "a81c392b",
   "metadata": {},
   "outputs": [],
   "source": [
    "my_label.pack()"
   ]
  },
  {
   "cell_type": "code",
   "execution_count": null,
   "id": "f0e957cb",
   "metadata": {},
   "outputs": [],
   "source": [
    "root.mainloop()"
   ]
  },
  {
   "cell_type": "markdown",
   "id": "fbec50d3",
   "metadata": {},
   "source": [
    "# BUTTON"
   ]
  },
  {
   "cell_type": "code",
   "execution_count": 13,
   "id": "fe6d905a",
   "metadata": {},
   "outputs": [],
   "source": [
    "root=tk.Tk()"
   ]
  },
  {
   "cell_type": "code",
   "execution_count": 14,
   "id": "f7d1deb2",
   "metadata": {},
   "outputs": [
    {
     "data": {
      "text/plain": [
       "''"
      ]
     },
     "execution_count": 14,
     "metadata": {},
     "output_type": "execute_result"
    }
   ],
   "source": [
    "root.title(\"WElCOME TO THE PMU \")"
   ]
  },
  {
   "cell_type": "code",
   "execution_count": 15,
   "id": "ccad2226",
   "metadata": {},
   "outputs": [
    {
     "data": {
      "text/plain": [
       "''"
      ]
     },
     "execution_count": 15,
     "metadata": {},
     "output_type": "execute_result"
    }
   ],
   "source": [
    "root.geometry(\"400x500\")"
   ]
  },
  {
   "cell_type": "code",
   "execution_count": 16,
   "id": "aa3072e6",
   "metadata": {},
   "outputs": [],
   "source": [
    "mybutton=tk.Button(root,text='click on')"
   ]
  },
  {
   "cell_type": "code",
   "execution_count": 17,
   "id": "f6029b5e",
   "metadata": {},
   "outputs": [],
   "source": [
    "mybutton.pack()"
   ]
  },
  {
   "cell_type": "code",
   "execution_count": 18,
   "id": "63fd94a3",
   "metadata": {},
   "outputs": [],
   "source": [
    "root.mainloop()"
   ]
  },
  {
   "cell_type": "markdown",
   "id": "db807ef1",
   "metadata": {},
   "source": [
    "# MULTIPLE BUTTON"
   ]
  },
  {
   "cell_type": "code",
   "execution_count": 36,
   "id": "2a18ef5e",
   "metadata": {},
   "outputs": [],
   "source": [
    "root=tk.Tk()"
   ]
  },
  {
   "cell_type": "code",
   "execution_count": 37,
   "id": "9d5aa400",
   "metadata": {},
   "outputs": [
    {
     "data": {
      "text/plain": [
       "''"
      ]
     },
     "execution_count": 37,
     "metadata": {},
     "output_type": "execute_result"
    }
   ],
   "source": [
    "root.geometry(\"400x500\")"
   ]
  },
  {
   "cell_type": "code",
   "execution_count": 38,
   "id": "48aee014",
   "metadata": {},
   "outputs": [],
   "source": [
    "mybutton1=tk.Button(root,text='click on')"
   ]
  },
  {
   "cell_type": "code",
   "execution_count": 39,
   "id": "f0343489",
   "metadata": {},
   "outputs": [],
   "source": [
    "mybutton2=tk.Button(root,text='click OFF')"
   ]
  },
  {
   "cell_type": "code",
   "execution_count": 40,
   "id": "9c6b622f",
   "metadata": {},
   "outputs": [],
   "source": [
    "mybutton3=tk.Button(root,text='click On')"
   ]
  },
  {
   "cell_type": "code",
   "execution_count": 41,
   "id": "4fb732f3",
   "metadata": {},
   "outputs": [],
   "source": [
    "mybutton1.pack()"
   ]
  },
  {
   "cell_type": "code",
   "execution_count": 42,
   "id": "4a9c8886",
   "metadata": {},
   "outputs": [],
   "source": [
    "mybutton2.pack()"
   ]
  },
  {
   "cell_type": "code",
   "execution_count": 43,
   "id": "2fb69f5d",
   "metadata": {},
   "outputs": [],
   "source": [
    "mybutton3.pack()"
   ]
  },
  {
   "cell_type": "code",
   "execution_count": 46,
   "id": "86cc44ac",
   "metadata": {},
   "outputs": [],
   "source": [
    "root.mainloop()"
   ]
  },
  {
   "cell_type": "markdown",
   "id": "4fcf5e4e",
   "metadata": {},
   "source": [
    "# SIZE OF BUTTON"
   ]
  },
  {
   "cell_type": "code",
   "execution_count": 54,
   "id": "f1be5143",
   "metadata": {},
   "outputs": [],
   "source": [
    "root=tk.Tk()"
   ]
  },
  {
   "cell_type": "code",
   "execution_count": 55,
   "id": "8c31855b",
   "metadata": {},
   "outputs": [
    {
     "data": {
      "text/plain": [
       "''"
      ]
     },
     "execution_count": 55,
     "metadata": {},
     "output_type": "execute_result"
    }
   ],
   "source": [
    "root.geometry(\"400x500\")"
   ]
  },
  {
   "cell_type": "code",
   "execution_count": 56,
   "id": "a5e8407c",
   "metadata": {},
   "outputs": [],
   "source": [
    "mybutton1=tk.Button(root,text='click on',padx=25,pady=25)"
   ]
  },
  {
   "cell_type": "code",
   "execution_count": 57,
   "id": "b90c7524",
   "metadata": {},
   "outputs": [],
   "source": [
    "mybutton2=tk.Button(root,text='click OFF',padx=25,pady=25)"
   ]
  },
  {
   "cell_type": "code",
   "execution_count": 58,
   "id": "18a553b6",
   "metadata": {},
   "outputs": [],
   "source": [
    "mybutton1.pack()"
   ]
  },
  {
   "cell_type": "code",
   "execution_count": 59,
   "id": "4c09614b",
   "metadata": {},
   "outputs": [],
   "source": [
    "mybutton2.pack()"
   ]
  },
  {
   "cell_type": "code",
   "execution_count": 60,
   "id": "9e780b39",
   "metadata": {},
   "outputs": [],
   "source": [
    "root.mainloop()"
   ]
  },
  {
   "cell_type": "markdown",
   "id": "20fca945",
   "metadata": {},
   "source": [
    "# FUNCTION OF BUTTON"
   ]
  },
  {
   "cell_type": "code",
   "execution_count": 95,
   "id": "7a851326",
   "metadata": {},
   "outputs": [],
   "source": [
    "root=tk.Tk()"
   ]
  },
  {
   "cell_type": "code",
   "execution_count": 96,
   "id": "fd318d78",
   "metadata": {},
   "outputs": [
    {
     "data": {
      "text/plain": [
       "''"
      ]
     },
     "execution_count": 96,
     "metadata": {},
     "output_type": "execute_result"
    }
   ],
   "source": [
    "root.geometry(\"400x500\")"
   ]
  },
  {
   "cell_type": "code",
   "execution_count": 97,
   "id": "8ace21d3",
   "metadata": {},
   "outputs": [],
   "source": [
    "def myClick():\n",
    "    mylabel = tk.Label(root, text=\"Click on button\")\n",
    "    mylabel.pack()\n"
   ]
  },
  {
   "cell_type": "code",
   "execution_count": 98,
   "id": "9c519fef",
   "metadata": {},
   "outputs": [],
   "source": [
    "myButton = tk.Button(root, text='Click me', command=myClick)\n"
   ]
  },
  {
   "cell_type": "code",
   "execution_count": 99,
   "id": "d9b66edf",
   "metadata": {},
   "outputs": [],
   "source": [
    "myButton.pack()"
   ]
  },
  {
   "cell_type": "code",
   "execution_count": 100,
   "id": "c6705725",
   "metadata": {},
   "outputs": [],
   "source": [
    "root.mainloop()"
   ]
  },
  {
   "cell_type": "markdown",
   "id": "e06ce86f",
   "metadata": {},
   "source": [
    "# COLOURE ON BUTTON"
   ]
  },
  {
   "cell_type": "code",
   "execution_count": 113,
   "id": "d737b4de",
   "metadata": {},
   "outputs": [],
   "source": [
    "root=tk.Tk()"
   ]
  },
  {
   "cell_type": "code",
   "execution_count": 114,
   "id": "b3fced54",
   "metadata": {},
   "outputs": [
    {
     "data": {
      "text/plain": [
       "''"
      ]
     },
     "execution_count": 114,
     "metadata": {},
     "output_type": "execute_result"
    }
   ],
   "source": [
    "root.geometry(\"400x500\")"
   ]
  },
  {
   "cell_type": "code",
   "execution_count": 115,
   "id": "5e3d5aaa",
   "metadata": {},
   "outputs": [],
   "source": [
    "def myClick():\n",
    "    mylabel = tk.Label(root, text=\"Click on button\")\n",
    "    mylabel.pack()\n"
   ]
  },
  {
   "cell_type": "code",
   "execution_count": 116,
   "id": "3a8a8481",
   "metadata": {},
   "outputs": [],
   "source": [
    "myButton = tk.Button(root, text='Click me', command=myClick, fg='red', bg ='black')\n"
   ]
  },
  {
   "cell_type": "code",
   "execution_count": 117,
   "id": "f6688fad",
   "metadata": {},
   "outputs": [],
   "source": [
    "myButton.pack()"
   ]
  },
  {
   "cell_type": "code",
   "execution_count": 118,
   "id": "905ecfe9",
   "metadata": {},
   "outputs": [],
   "source": [
    "root.mainloop()"
   ]
  },
  {
   "cell_type": "markdown",
   "id": "3ec6b7a4",
   "metadata": {},
   "source": [
    "# TASK"
   ]
  },
  {
   "cell_type": "code",
   "execution_count": 127,
   "id": "a7034c70",
   "metadata": {},
   "outputs": [],
   "source": [
    "root=tk.Tk()"
   ]
  },
  {
   "cell_type": "code",
   "execution_count": 128,
   "id": "6cfb5490",
   "metadata": {},
   "outputs": [],
   "source": [
    "def myClick():\n",
    "    mylabel = tk.Label(root, text=\"Click on button\")\n",
    "    mylabel.pack()\n"
   ]
  },
  {
   "cell_type": "code",
   "execution_count": 129,
   "id": "227a7879",
   "metadata": {},
   "outputs": [],
   "source": [
    "myButton01 = tk.Button(root, text='Click me', command=myClick, fg='red', bg ='black')\n"
   ]
  },
  {
   "cell_type": "code",
   "execution_count": 130,
   "id": "c79b0d34",
   "metadata": {},
   "outputs": [],
   "source": [
    "def myClick01():\n",
    "    mylabel = tk.Label(root, text=\"Click OFF button\")\n",
    "    mylabel.pack()\n"
   ]
  },
  {
   "cell_type": "code",
   "execution_count": 131,
   "id": "1f8f2d87",
   "metadata": {},
   "outputs": [],
   "source": [
    "myButton02 = tk.Button(root, text='Click me', command=myClick01, fg='red', bg ='yellow')\n"
   ]
  },
  {
   "cell_type": "code",
   "execution_count": 132,
   "id": "76e71c72",
   "metadata": {},
   "outputs": [],
   "source": [
    "def myClick01():\n",
    "    mylabel = tk.Label(root, text=\"Click OUT button\")\n",
    "    mylabel.pack()\n"
   ]
  },
  {
   "cell_type": "code",
   "execution_count": 133,
   "id": "09b65d5f",
   "metadata": {},
   "outputs": [],
   "source": [
    "myButton03 = tk.Button(root, text='Click me', command=myClick01, fg='black', bg ='yellow')\n"
   ]
  },
  {
   "cell_type": "code",
   "execution_count": 134,
   "id": "421d6542",
   "metadata": {},
   "outputs": [],
   "source": [
    "myButton01.pack()"
   ]
  },
  {
   "cell_type": "code",
   "execution_count": 135,
   "id": "211170a0",
   "metadata": {},
   "outputs": [],
   "source": [
    "myButton02.pack()"
   ]
  },
  {
   "cell_type": "code",
   "execution_count": 136,
   "id": "1479de68",
   "metadata": {},
   "outputs": [],
   "source": [
    "myButton03.pack()"
   ]
  },
  {
   "cell_type": "code",
   "execution_count": 137,
   "id": "7fda1671",
   "metadata": {},
   "outputs": [],
   "source": [
    "root.mainloop()"
   ]
  },
  {
   "cell_type": "markdown",
   "id": "86f65bb9",
   "metadata": {},
   "source": [
    "# enter wideject"
   ]
  },
  {
   "cell_type": "code",
   "execution_count": 155,
   "id": "9e816ac6",
   "metadata": {},
   "outputs": [],
   "source": [
    "root=tk.Tk()"
   ]
  },
  {
   "cell_type": "code",
   "execution_count": 156,
   "id": "27cb6eff",
   "metadata": {},
   "outputs": [
    {
     "data": {
      "text/plain": [
       "''"
      ]
     },
     "execution_count": 156,
     "metadata": {},
     "output_type": "execute_result"
    }
   ],
   "source": [
    "root.geometry(\"400x500\")"
   ]
  },
  {
   "cell_type": "code",
   "execution_count": 157,
   "id": "6dcc103e",
   "metadata": {},
   "outputs": [],
   "source": [
    "EnterWidget = tk.Entry(root)"
   ]
  },
  {
   "cell_type": "code",
   "execution_count": 158,
   "id": "5f632046",
   "metadata": {},
   "outputs": [],
   "source": [
    "EnterWidget.insert(12,\"What is your name\")"
   ]
  },
  {
   "cell_type": "code",
   "execution_count": 159,
   "id": "9f660956",
   "metadata": {},
   "outputs": [],
   "source": [
    "EnterWidget.pack()"
   ]
  },
  {
   "cell_type": "code",
   "execution_count": 160,
   "id": "33e04179",
   "metadata": {},
   "outputs": [],
   "source": [
    "root.mainloop()"
   ]
  },
  {
   "cell_type": "markdown",
   "id": "6bf9c0b0",
   "metadata": {},
   "source": [
    "# REDIO BUTTON"
   ]
  },
  {
   "cell_type": "code",
   "execution_count": 165,
   "id": "2169f5fa",
   "metadata": {},
   "outputs": [],
   "source": [
    "root=tk.Tk()"
   ]
  },
  {
   "cell_type": "code",
   "execution_count": 167,
   "id": "e20b79ee",
   "metadata": {},
   "outputs": [],
   "source": [
    "v = tk.IntVar()\n",
    "v.set(1)"
   ]
  },
  {
   "cell_type": "code",
   "execution_count": 168,
   "id": "d6f4c71e",
   "metadata": {},
   "outputs": [],
   "source": [
    "radiobutton_widget1 = tk.Radiobutton(root,\n",
    "                                     text=\"Radiobutton\",\n",
    "                                     variable=v, value=1)\n",
    "radiobutton_widget2 = tk.Radiobutton(root,\n",
    "                                     text=\"Radiobutton2\",\n",
    "                                     variable=v,value=2)\n"
   ]
  },
  {
   "cell_type": "code",
   "execution_count": 169,
   "id": "b95b61bb",
   "metadata": {},
   "outputs": [],
   "source": [
    "radiobutton_widget1.pack()\n",
    "radiobutton_widget2.pack()"
   ]
  },
  {
   "cell_type": "code",
   "execution_count": 171,
   "id": "7432007b",
   "metadata": {},
   "outputs": [],
   "source": [
    "root.mainloop()"
   ]
  },
  {
   "cell_type": "markdown",
   "id": "1acc38e0",
   "metadata": {},
   "source": [
    "# List box"
   ]
  },
  {
   "cell_type": "code",
   "execution_count": 182,
   "id": "79621e17",
   "metadata": {},
   "outputs": [],
   "source": [
    "root=tk.Tk()"
   ]
  },
  {
   "cell_type": "code",
   "execution_count": 183,
   "id": "51a3c6f1",
   "metadata": {},
   "outputs": [],
   "source": [
    "listbox_widgets= tk.Listbox(root)"
   ]
  },
  {
   "cell_type": "code",
   "execution_count": 184,
   "id": "b50fe0d0",
   "metadata": {},
   "outputs": [],
   "source": [
    "list_entries=[\"Enter 1\", \"Enter 2\",\n",
    "              \"Enter3\",  \"Enter 4\"]"
   ]
  },
  {
   "cell_type": "code",
   "execution_count": 185,
   "id": "f441be48",
   "metadata": {},
   "outputs": [],
   "source": [
    "for entry in list_entries:\n",
    "    listbox_widgets.insert(tk.END, entry)\n"
   ]
  },
  {
   "cell_type": "code",
   "execution_count": 186,
   "id": "568463d3",
   "metadata": {},
   "outputs": [],
   "source": [
    "listbox_widgets.pack()"
   ]
  },
  {
   "cell_type": "code",
   "execution_count": null,
   "id": "0f7c61c8",
   "metadata": {},
   "outputs": [],
   "source": [
    "root.mainloop()"
   ]
  },
  {
   "cell_type": "code",
   "execution_count": null,
   "id": "33bcf897",
   "metadata": {},
   "outputs": [],
   "source": []
  }
 ],
 "metadata": {
  "kernelspec": {
   "display_name": "Python 3 (ipykernel)",
   "language": "python",
   "name": "python3"
  },
  "language_info": {
   "codemirror_mode": {
    "name": "ipython",
    "version": 3
   },
   "file_extension": ".py",
   "mimetype": "text/x-python",
   "name": "python",
   "nbconvert_exporter": "python",
   "pygments_lexer": "ipython3",
   "version": "3.9.13"
  }
 },
 "nbformat": 4,
 "nbformat_minor": 5
}
