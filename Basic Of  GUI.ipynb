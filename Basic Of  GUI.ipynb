{
 "cells": [
  {
   "cell_type": "code",
   "execution_count": 15,
   "id": "5cccdace",
   "metadata": {},
   "outputs": [],
   "source": [
    "import tkinter as tk"
   ]
  },
  {
   "cell_type": "code",
   "execution_count": 2,
   "id": "1c1f9287",
   "metadata": {},
   "outputs": [],
   "source": [
    "root = tk.Tk()"
   ]
  },
  {
   "cell_type": "code",
   "execution_count": 3,
   "id": "ff4e4b98",
   "metadata": {},
   "outputs": [],
   "source": [
    "root.mainloop()"
   ]
  },
  {
   "cell_type": "code",
   "execution_count": 4,
   "id": "2be02c45",
   "metadata": {},
   "outputs": [],
   "source": [
    "root = tk.Tk()"
   ]
  },
  {
   "cell_type": "code",
   "execution_count": 5,
   "id": "6f9a1d1d",
   "metadata": {},
   "outputs": [
    {
     "data": {
      "text/plain": [
       "''"
      ]
     },
     "execution_count": 5,
     "metadata": {},
     "output_type": "execute_result"
    }
   ],
   "source": [
    "root.geometry(\"400x500\")"
   ]
  },
  {
   "cell_type": "code",
   "execution_count": null,
   "id": "32bb9438",
   "metadata": {},
   "outputs": [],
   "source": [
    "root.mainloop()"
   ]
  },
  {
   "cell_type": "code",
   "execution_count": 7,
   "id": "8a70ca4a",
   "metadata": {},
   "outputs": [],
   "source": [
    "root = tk.Tk()"
   ]
  },
  {
   "cell_type": "code",
   "execution_count": 8,
   "id": "bfec3018",
   "metadata": {},
   "outputs": [
    {
     "data": {
      "text/plain": [
       "''"
      ]
     },
     "execution_count": 8,
     "metadata": {},
     "output_type": "execute_result"
    }
   ],
   "source": [
    "root.title(\"guru\")"
   ]
  },
  {
   "cell_type": "code",
   "execution_count": 9,
   "id": "f019f413",
   "metadata": {},
   "outputs": [],
   "source": [
    "root.mainloop()"
   ]
  },
  {
   "cell_type": "markdown",
   "id": "e56b208d",
   "metadata": {},
   "source": [
    "# leable"
   ]
  },
  {
   "cell_type": "code",
   "execution_count": 20,
   "id": "705d5ffc",
   "metadata": {},
   "outputs": [],
   "source": [
    "root = tk.Tk()"
   ]
  },
  {
   "cell_type": "code",
   "execution_count": 29,
   "id": "590850e7",
   "metadata": {},
   "outputs": [],
   "source": [
    "my_label = tk.Label(root, text=\"hi |||Bsc(ai)\")"
   ]
  },
  {
   "cell_type": "code",
   "execution_count": 31,
   "id": "50b7917a",
   "metadata": {},
   "outputs": [],
   "source": [
    "my_label.pack()"
   ]
  },
  {
   "cell_type": "code",
   "execution_count": 34,
   "id": "37fdcfa0",
   "metadata": {},
   "outputs": [],
   "source": [
    "root.mainloop()"
   ]
  },
  {
   "cell_type": "markdown",
   "id": "63d8cadc",
   "metadata": {},
   "source": [
    "# my task"
   ]
  },
  {
   "cell_type": "code",
   "execution_count": 62,
   "id": "ba49fdea",
   "metadata": {},
   "outputs": [],
   "source": [
    "root=tk.Tk()"
   ]
  },
  {
   "cell_type": "code",
   "execution_count": 63,
   "id": "c6076492",
   "metadata": {},
   "outputs": [
    {
     "data": {
      "text/plain": [
       "''"
      ]
     },
     "execution_count": 63,
     "metadata": {},
     "output_type": "execute_result"
    }
   ],
   "source": [
    "root.title(\"WElCOME TO THE PMU \")"
   ]
  },
  {
   "cell_type": "code",
   "execution_count": 64,
   "id": "0478e631",
   "metadata": {},
   "outputs": [
    {
     "data": {
      "text/plain": [
       "''"
      ]
     },
     "execution_count": 64,
     "metadata": {},
     "output_type": "execute_result"
    }
   ],
   "source": [
    "root.geometry(\"400x500\")"
   ]
  },
  {
   "cell_type": "code",
   "execution_count": 65,
   "id": "a0914d7c",
   "metadata": {},
   "outputs": [],
   "source": [
    "my_label = tk.Label(root, text=\"HI BSC (AI) STUDENT'S WELCOME TO  PYTHON CLASS\")"
   ]
  },
  {
   "cell_type": "code",
   "execution_count": 66,
   "id": "f3b03317",
   "metadata": {},
   "outputs": [],
   "source": [
    "my_label.pack()"
   ]
  },
  {
   "cell_type": "code",
   "execution_count": null,
   "id": "b3965ef5",
   "metadata": {},
   "outputs": [],
   "source": [
    "root.mainloop()"
   ]
  },
  {
   "cell_type": "code",
   "execution_count": null,
   "id": "dd4bf044",
   "metadata": {},
   "outputs": [],
   "source": []
  }
 ],
 "metadata": {
  "kernelspec": {
   "display_name": "Python 3 (ipykernel)",
   "language": "python",
   "name": "python3"
  },
  "language_info": {
   "codemirror_mode": {
    "name": "ipython",
    "version": 3
   },
   "file_extension": ".py",
   "mimetype": "text/x-python",
   "name": "python",
   "nbconvert_exporter": "python",
   "pygments_lexer": "ipython3",
   "version": "3.9.13"
  }
 },
 "nbformat": 4,
 "nbformat_minor": 5
}
