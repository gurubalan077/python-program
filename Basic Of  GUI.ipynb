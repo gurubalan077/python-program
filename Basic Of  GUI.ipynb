{
 "cells": [
  {
   "cell_type": "code",
   "execution_count": 15,
   "id": "4fac73d9",
   "metadata": {},
   "outputs": [],
   "source": [
    "import tkinter as tk"
   ]
  },
  {
   "cell_type": "code",
   "execution_count": 2,
   "id": "5a6b3f7c",
   "metadata": {},
   "outputs": [],
   "source": [
    "root = tk.Tk()"
   ]
  },
  {
   "cell_type": "code",
   "execution_count": 3,
   "id": "6a80d643",
   "metadata": {},
   "outputs": [],
   "source": [
    "root.mainloop()"
   ]
  },
  {
   "cell_type": "code",
   "execution_count": 4,
   "id": "be2fef6c",
   "metadata": {},
   "outputs": [],
   "source": [
    "root = tk.Tk()"
   ]
  },
  {
   "cell_type": "code",
   "execution_count": 5,
   "id": "07a030cf",
   "metadata": {},
   "outputs": [
    {
     "data": {
      "text/plain": [
       "''"
      ]
     },
     "execution_count": 5,
     "metadata": {},
     "output_type": "execute_result"
    }
   ],
   "source": [
    "root.geometry(\"400x500\")"
   ]
  },
  {
   "cell_type": "code",
   "execution_count": null,
   "id": "99091967",
   "metadata": {},
   "outputs": [],
   "source": [
    "root.mainloop()"
   ]
  },
  {
   "cell_type": "code",
   "execution_count": 7,
   "id": "cd61dc66",
   "metadata": {},
   "outputs": [],
   "source": [
    "root = tk.Tk()"
   ]
  },
  {
   "cell_type": "code",
   "execution_count": 8,
   "id": "1cc23c58",
   "metadata": {},
   "outputs": [
    {
     "data": {
      "text/plain": [
       "''"
      ]
     },
     "execution_count": 8,
     "metadata": {},
     "output_type": "execute_result"
    }
   ],
   "source": [
    "root.title(\"guru\")"
   ]
  },
  {
   "cell_type": "code",
   "execution_count": 9,
   "id": "441b074f",
   "metadata": {},
   "outputs": [],
   "source": [
    "root.mainloop()"
   ]
  },
  {
   "cell_type": "markdown",
   "id": "c8c45ff7",
   "metadata": {},
   "source": [
    "# leable"
   ]
  },
  {
   "cell_type": "code",
   "execution_count": 20,
   "id": "0912b1b5",
   "metadata": {},
   "outputs": [],
   "source": [
    "root = tk.Tk()"
   ]
  },
  {
   "cell_type": "code",
   "execution_count": 29,
   "id": "6164feb7",
   "metadata": {},
   "outputs": [],
   "source": [
    "my_label = tk.Label(root, text=\"hi |||Bsc(ai)\")"
   ]
  },
  {
   "cell_type": "code",
   "execution_count": 31,
   "id": "7e51d3f8",
   "metadata": {},
   "outputs": [],
   "source": [
    "my_label.pack()"
   ]
  },
  {
   "cell_type": "code",
   "execution_count": 34,
   "id": "66da58a1",
   "metadata": {},
   "outputs": [],
   "source": [
    "root.mainloop()"
   ]
  },
  {
   "cell_type": "markdown",
   "id": "10895122",
   "metadata": {},
   "source": [
    "# my task"
   ]
  },
  {
   "cell_type": "code",
   "execution_count": 37,
   "id": "c142bae7",
   "metadata": {},
   "outputs": [],
   "source": [
    "root=tk.Tk()"
   ]
  },
  {
   "cell_type": "code",
   "execution_count": 40,
   "id": "dbae006e",
   "metadata": {},
   "outputs": [
    {
     "data": {
      "text/plain": [
       "''"
      ]
     },
     "execution_count": 40,
     "metadata": {},
     "output_type": "execute_result"
    }
   ],
   "source": [
    "root.title(\"WElCOME TO THE PMU \")"
   ]
  },
  {
   "cell_type": "code",
   "execution_count": 41,
   "id": "e9c1cbab",
   "metadata": {},
   "outputs": [
    {
     "data": {
      "text/plain": [
       "''"
      ]
     },
     "execution_count": 41,
     "metadata": {},
     "output_type": "execute_result"
    }
   ],
   "source": [
    "root.geometry(\"400x500\")"
   ]
  },
  {
   "cell_type": "code",
   "execution_count": 42,
   "id": "1b31943e",
   "metadata": {},
   "outputs": [],
   "source": [
    "my_label = tk.Label(root, text=\"hi Bsc(ai) PYTHON CLASS\")"
   ]
  },
  {
   "cell_type": "code",
   "execution_count": 43,
   "id": "3c23faa4",
   "metadata": {},
   "outputs": [],
   "source": [
    "my_label.pack()"
   ]
  },
  {
   "cell_type": "code",
   "execution_count": null,
   "id": "93d8d7e5",
   "metadata": {},
   "outputs": [],
   "source": [
    "root.mainloop()"
   ]
  },
  {
   "cell_type": "code",
   "execution_count": null,
   "id": "472529b3",
   "metadata": {},
   "outputs": [],
   "source": []
  }
 ],
 "metadata": {
  "kernelspec": {
   "display_name": "Python 3 (ipykernel)",
   "language": "python",
   "name": "python3"
  },
  "language_info": {
   "codemirror_mode": {
    "name": "ipython",
    "version": 3
   },
   "file_extension": ".py",
   "mimetype": "text/x-python",
   "name": "python",
   "nbconvert_exporter": "python",
   "pygments_lexer": "ipython3",
   "version": "3.9.13"
  }
 },
 "nbformat": 4,
 "nbformat_minor": 5
}
