{
 "cells": [
  {
   "cell_type": "code",
   "execution_count": 1,
   "id": "d7c3a695",
   "metadata": {},
   "outputs": [],
   "source": [
    "import tkinter as tk"
   ]
  },
  {
   "cell_type": "code",
   "execution_count": null,
   "id": "76611d09",
   "metadata": {},
   "outputs": [],
   "source": [
    "root = tk.Tk()"
   ]
  },
  {
   "cell_type": "code",
   "execution_count": null,
   "id": "ecd30946",
   "metadata": {},
   "outputs": [],
   "source": [
    "root.mainloop()"
   ]
  },
  {
   "cell_type": "code",
   "execution_count": null,
   "id": "3e0758ec",
   "metadata": {},
   "outputs": [],
   "source": [
    "root = tk.Tk()"
   ]
  },
  {
   "cell_type": "code",
   "execution_count": null,
   "id": "8aaa539b",
   "metadata": {},
   "outputs": [],
   "source": [
    "root.geometry(\"400x500\")"
   ]
  },
  {
   "cell_type": "code",
   "execution_count": null,
   "id": "6906720c",
   "metadata": {},
   "outputs": [],
   "source": [
    "root.mainloop()"
   ]
  },
  {
   "cell_type": "code",
   "execution_count": null,
   "id": "62abcca7",
   "metadata": {},
   "outputs": [],
   "source": [
    "root = tk.Tk()"
   ]
  },
  {
   "cell_type": "code",
   "execution_count": null,
   "id": "51ac5635",
   "metadata": {},
   "outputs": [],
   "source": [
    "root.title(\"guru\")"
   ]
  },
  {
   "cell_type": "code",
   "execution_count": null,
   "id": "8021934e",
   "metadata": {},
   "outputs": [],
   "source": [
    "root.mainloop()"
   ]
  },
  {
   "cell_type": "markdown",
   "id": "7976fa43",
   "metadata": {},
   "source": [
    "# leable"
   ]
  },
  {
   "cell_type": "code",
   "execution_count": null,
   "id": "83228bcc",
   "metadata": {},
   "outputs": [],
   "source": [
    "root = tk.Tk()"
   ]
  },
  {
   "cell_type": "code",
   "execution_count": null,
   "id": "1e11b424",
   "metadata": {},
   "outputs": [],
   "source": [
    "my_label = tk.Label(root, text=\"hi |||Bsc(ai)\")"
   ]
  },
  {
   "cell_type": "code",
   "execution_count": null,
   "id": "7bfd59e4",
   "metadata": {},
   "outputs": [],
   "source": [
    "my_label.pack()"
   ]
  },
  {
   "cell_type": "code",
   "execution_count": null,
   "id": "7387e96a",
   "metadata": {},
   "outputs": [],
   "source": [
    "root.mainloop()"
   ]
  },
  {
   "cell_type": "markdown",
   "id": "33fc2548",
   "metadata": {},
   "source": [
    "# my task"
   ]
  },
  {
   "cell_type": "code",
   "execution_count": null,
   "id": "5154c0eb",
   "metadata": {},
   "outputs": [],
   "source": [
    "root=tk.Tk()"
   ]
  },
  {
   "cell_type": "code",
   "execution_count": null,
   "id": "725759e0",
   "metadata": {},
   "outputs": [],
   "source": [
    "root.title(\"WElCOME TO THE PMU \")"
   ]
  },
  {
   "cell_type": "code",
   "execution_count": null,
   "id": "2d63f495",
   "metadata": {},
   "outputs": [],
   "source": [
    "root.geometry(\"400x500\")"
   ]
  },
  {
   "cell_type": "code",
   "execution_count": null,
   "id": "ef7e717c",
   "metadata": {},
   "outputs": [],
   "source": [
    "my_label = tk.Label(root, text=\"HI BSC (AI) STUDENT'S WELCOME TO  PYTHON CLASS\")"
   ]
  },
  {
   "cell_type": "code",
   "execution_count": null,
   "id": "a81c392b",
   "metadata": {},
   "outputs": [],
   "source": [
    "my_label.pack()"
   ]
  },
  {
   "cell_type": "code",
   "execution_count": null,
   "id": "f0e957cb",
   "metadata": {},
   "outputs": [],
   "source": [
    "root.mainloop()"
   ]
  },
  {
   "cell_type": "markdown",
   "id": "bf9be287",
   "metadata": {},
   "source": [
    "# BUTTON"
   ]
  },
  {
   "cell_type": "code",
   "execution_count": 13,
   "id": "84edb648",
   "metadata": {},
   "outputs": [],
   "source": [
    "root=tk.Tk()"
   ]
  },
  {
   "cell_type": "code",
   "execution_count": 14,
   "id": "33e70385",
   "metadata": {},
   "outputs": [
    {
     "data": {
      "text/plain": [
       "''"
      ]
     },
     "execution_count": 14,
     "metadata": {},
     "output_type": "execute_result"
    }
   ],
   "source": [
    "root.title(\"WElCOME TO THE PMU \")"
   ]
  },
  {
   "cell_type": "code",
   "execution_count": 15,
   "id": "beae5004",
   "metadata": {},
   "outputs": [
    {
     "data": {
      "text/plain": [
       "''"
      ]
     },
     "execution_count": 15,
     "metadata": {},
     "output_type": "execute_result"
    }
   ],
   "source": [
    "root.geometry(\"400x500\")"
   ]
  },
  {
   "cell_type": "code",
   "execution_count": 16,
   "id": "f45b59d4",
   "metadata": {},
   "outputs": [],
   "source": [
    "mybutton=tk.Button(root,text='click on')"
   ]
  },
  {
   "cell_type": "code",
   "execution_count": 17,
   "id": "9cb0ea7f",
   "metadata": {},
   "outputs": [],
   "source": [
    "mybutton.pack()"
   ]
  },
  {
   "cell_type": "code",
   "execution_count": 18,
   "id": "a6663d31",
   "metadata": {},
   "outputs": [],
   "source": [
    "root.mainloop()"
   ]
  },
  {
   "cell_type": "markdown",
   "id": "35d9741c",
   "metadata": {},
   "source": [
    "# MULTIPLE BUTTON"
   ]
  },
  {
   "cell_type": "code",
   "execution_count": 36,
   "id": "b9a17f19",
   "metadata": {},
   "outputs": [],
   "source": [
    "root=tk.Tk()"
   ]
  },
  {
   "cell_type": "code",
   "execution_count": 37,
   "id": "1f0c3679",
   "metadata": {},
   "outputs": [
    {
     "data": {
      "text/plain": [
       "''"
      ]
     },
     "execution_count": 37,
     "metadata": {},
     "output_type": "execute_result"
    }
   ],
   "source": [
    "root.geometry(\"400x500\")"
   ]
  },
  {
   "cell_type": "code",
   "execution_count": 38,
   "id": "94a0c0b5",
   "metadata": {},
   "outputs": [],
   "source": [
    "mybutton1=tk.Button(root,text='click on')"
   ]
  },
  {
   "cell_type": "code",
   "execution_count": 39,
   "id": "a51d2b88",
   "metadata": {},
   "outputs": [],
   "source": [
    "mybutton2=tk.Button(root,text='click OFF')"
   ]
  },
  {
   "cell_type": "code",
   "execution_count": 40,
   "id": "12d9a7f2",
   "metadata": {},
   "outputs": [],
   "source": [
    "mybutton3=tk.Button(root,text='click On')"
   ]
  },
  {
   "cell_type": "code",
   "execution_count": 41,
   "id": "d6ff8054",
   "metadata": {},
   "outputs": [],
   "source": [
    "mybutton1.pack()"
   ]
  },
  {
   "cell_type": "code",
   "execution_count": 42,
   "id": "cba7a224",
   "metadata": {},
   "outputs": [],
   "source": [
    "mybutton2.pack()"
   ]
  },
  {
   "cell_type": "code",
   "execution_count": 43,
   "id": "b1af06ef",
   "metadata": {},
   "outputs": [],
   "source": [
    "mybutton3.pack()"
   ]
  },
  {
   "cell_type": "code",
   "execution_count": 46,
   "id": "54cab7e7",
   "metadata": {},
   "outputs": [],
   "source": [
    "root.mainloop()"
   ]
  },
  {
   "cell_type": "code",
   "execution_count": null,
   "id": "bd8516e3",
   "metadata": {},
   "outputs": [],
   "source": []
  }
 ],
 "metadata": {
  "kernelspec": {
   "display_name": "Python 3 (ipykernel)",
   "language": "python",
   "name": "python3"
  },
  "language_info": {
   "codemirror_mode": {
    "name": "ipython",
    "version": 3
   },
   "file_extension": ".py",
   "mimetype": "text/x-python",
   "name": "python",
   "nbconvert_exporter": "python",
   "pygments_lexer": "ipython3",
   "version": "3.9.13"
  }
 },
 "nbformat": 4,
 "nbformat_minor": 5
}
