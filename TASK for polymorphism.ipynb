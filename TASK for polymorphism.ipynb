{
 "cells": [
  {
   "cell_type": "markdown",
   "id": "173231c1",
   "metadata": {},
   "source": [
    "# create a child class automobile that will inherit all of the variable and methods of the vehicle class"
   ]
  },
  {
   "cell_type": "code",
   "execution_count": 3,
   "id": "91fd5fd6",
   "metadata": {},
   "outputs": [
    {
     "ename": "AttributeError",
     "evalue": "'vehicle' object has no attribute 'price'",
     "output_type": "error",
     "traceback": [
      "\u001b[1;31m---------------------------------------------------------------------------\u001b[0m",
      "\u001b[1;31mAttributeError\u001b[0m                            Traceback (most recent call last)",
      "\u001b[1;32m~\\AppData\\Local\\Temp\\ipykernel_11160\\2359335125.py\u001b[0m in \u001b[0;36m<module>\u001b[1;34m\u001b[0m\n\u001b[0;32m     16\u001b[0m \u001b[0mob2\u001b[0m \u001b[1;33m=\u001b[0m \u001b[0mAutomobile\u001b[0m\u001b[1;33m(\u001b[0m\u001b[1;36m150000\u001b[0m\u001b[1;33m)\u001b[0m\u001b[1;33m\u001b[0m\u001b[1;33m\u001b[0m\u001b[0m\n\u001b[0;32m     17\u001b[0m \u001b[1;33m\u001b[0m\u001b[0m\n\u001b[1;32m---> 18\u001b[1;33m \u001b[0mprint\u001b[0m\u001b[1;33m(\u001b[0m\u001b[1;34m\"vehicle name:\"\u001b[0m\u001b[1;33m,\u001b[0m\u001b[0mob1\u001b[0m\u001b[1;33m.\u001b[0m\u001b[0mname\u001b[0m\u001b[1;33m,\u001b[0m\u001b[1;34m\"seed\"\u001b[0m\u001b[1;33m,\u001b[0m\u001b[0mob1\u001b[0m\u001b[1;33m.\u001b[0m\u001b[0mmax_speed\u001b[0m\u001b[1;33m,\u001b[0m\u001b[1;34m\"millage\"\u001b[0m\u001b[1;33m,\u001b[0m\u001b[0mob1\u001b[0m\u001b[1;33m.\u001b[0m\u001b[0mmax_speed\u001b[0m\u001b[1;33m,\u001b[0m\u001b[1;34m\"price\"\u001b[0m\u001b[1;33m,\u001b[0m\u001b[0mob1\u001b[0m\u001b[1;33m.\u001b[0m\u001b[0mprice\u001b[0m\u001b[1;33m)\u001b[0m\u001b[1;33m\u001b[0m\u001b[1;33m\u001b[0m\u001b[0m\n\u001b[0m",
      "\u001b[1;31mAttributeError\u001b[0m: 'vehicle' object has no attribute 'price'"
     ]
    }
   ],
   "source": [
    "class vehicle:\n",
    "    \n",
    "    def __init__(self, name, max_speed, millage):\n",
    "        self.name = name\n",
    "        self.max_speed = max_speed\n",
    "        self.millage = millage\n",
    "        \n",
    "class Automobile(vehicle):\n",
    "    def __init__(self,price):\n",
    "        self.price = price\n",
    "    def disp(self):\n",
    "        super().__init__(self,name,max_speed,millage)\n",
    "        self.price = price\n",
    "        \n",
    "ob1 = vehicle(\"Thar\",300,13)\n",
    "ob2 = Automobile(150000)\n",
    "\n",
    "print(\"vehicle name:\",ob1.name,\"seed\",ob1.max_speed,\"millage\",ob1.max_speed,\"price\",ob1.price)"
   ]
  },
  {
   "cell_type": "code",
   "execution_count": null,
   "id": "7a611435",
   "metadata": {},
   "outputs": [],
   "source": []
  }
 ],
 "metadata": {
  "kernelspec": {
   "display_name": "Python 3 (ipykernel)",
   "language": "python",
   "name": "python3"
  },
  "language_info": {
   "codemirror_mode": {
    "name": "ipython",
    "version": 3
   },
   "file_extension": ".py",
   "mimetype": "text/x-python",
   "name": "python",
   "nbconvert_exporter": "python",
   "pygments_lexer": "ipython3",
   "version": "3.9.13"
  }
 },
 "nbformat": 4,
 "nbformat_minor": 5
}
