{
 "cells": [
  {
   "cell_type": "markdown",
   "id": "2b02dc4e",
   "metadata": {},
   "source": [
    "# create a child class automobile that will inherit all of the variable and methods of the vehicle class"
   ]
  },
  {
   "cell_type": "code",
   "execution_count": 2,
   "id": "4cb7eaff",
   "metadata": {},
   "outputs": [
    {
     "name": "stdout",
     "output_type": "stream",
     "text": [
      "Vehicle name: Civic\n",
      "Maximum speed: 200\n",
      "Millage: 18\n",
      "Price: 150000\n"
     ]
    }
   ],
   "source": [
    "class vehicle:\n",
    "    \n",
    "    def __init__(self, name, max_speed, millage):\n",
    "        self.name = name\n",
    "        self.max_speed = max_speed\n",
    "        self.millage = millage\n",
    "        \n",
    "class Automobile(vehicle):\n",
    "    \n",
    "    def __init__(self, name, max_speed, millage, price):\n",
    "        super().__init__(name, max_speed, millage)\n",
    "        self.price = price\n",
    "    \n",
    "    def disp(self):\n",
    "        print(\"Vehicle name:\", self.name)\n",
    "        print(\"Maximum speed:\", self.max_speed)\n",
    "        print(\"Millage:\", self.millage)\n",
    "        print(\"Price:\", self.price)\n",
    "        \n",
    "ob1 = vehicle(\"Thar\", 300, 13)\n",
    "ob2 = Automobile(\"Civic\", 200, 18, 150000)\n",
    "\n",
    "ob2.disp()\n"
   ]
  },
  {
   "cell_type": "code",
   "execution_count": null,
   "id": "96e347ae",
   "metadata": {},
   "outputs": [],
   "source": []
  }
 ],
 "metadata": {
  "kernelspec": {
   "display_name": "Python 3 (ipykernel)",
   "language": "python",
   "name": "python3"
  },
  "language_info": {
   "codemirror_mode": {
    "name": "ipython",
    "version": 3
   },
   "file_extension": ".py",
   "mimetype": "text/x-python",
   "name": "python",
   "nbconvert_exporter": "python",
   "pygments_lexer": "ipython3",
   "version": "3.9.13"
  }
 },
 "nbformat": 4,
 "nbformat_minor": 5
}
