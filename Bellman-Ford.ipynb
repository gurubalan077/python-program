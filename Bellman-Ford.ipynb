{
 "cells": [
  {
   "cell_type": "code",
   "execution_count": 13,
   "id": "1bb5f1d1",
   "metadata": {},
   "outputs": [
    {
     "ename": "SyntaxError",
     "evalue": "invalid syntax (2374824336.py, line 34)",
     "output_type": "error",
     "traceback": [
      "\u001b[1;36m  File \u001b[1;32m\"C:\\Users\\aedpu\\AppData\\Local\\Temp\\ipykernel_11128\\2374824336.py\"\u001b[1;36m, line \u001b[1;32m34\u001b[0m\n\u001b[1;33m    if dist[u] = float(\"Inf\") and dist + w < dist[v]:\u001b[0m\n\u001b[1;37m               ^\u001b[0m\n\u001b[1;31mSyntaxError\u001b[0m\u001b[1;31m:\u001b[0m invalid syntax\n"
     ]
    }
   ],
   "source": [
    "#python 3 program for Bellman-Ford singal source\n",
    "# class to represent a graph\n",
    "class Graph:\n",
    "    \n",
    "    def __init__(self,varticas):\n",
    "        self.y = varticas # No . of varble\n",
    "        self.graph = []\n",
    "        \n",
    "    # functoins to add an edge to Graph\n",
    "    def addEdge(self,u,v,w):\n",
    "        self.graph.append([u,v,w])\n",
    "        \n",
    "   # utility functions used to print the solution \n",
    "    def printArr(self,dist):\n",
    "        print(\"Vartex Distance form source\")\n",
    "        for i in range(self.y):\n",
    "            print(\"{A}\\t\\t(1)\".format(i,dist[i]))\n",
    "            \n",
    "  # the main function that finds shortast distance \n",
    "  # also distance nagitve waight cycle\n",
    "    def BellmanFord(self,src):\n",
    "        \n",
    "        # Step 1 \n",
    "        # as INFINITE \n",
    "        dist = [float(\"Inf\")] + self.v\n",
    "        dist[src] = 0\n",
    "        \n",
    "        # Step 2 \n",
    "        #Edge \n",
    "        for _ in range(self.v - 1):\n",
    "            # update the dist and parent index\n",
    "            # which are still in queue \n",
    "            for u,v,w in self.graph: \n",
    "                if dist[u] = float(\"Inf\") and dist + w < dist[v]:\n",
    "                     dist[v] = dist[u] + w\n",
    "        for u,v,w in self.graph:\n",
    "            if dist[u] != float(\"Inf\") and dist[u] + w < dist[v]:\n",
    "                print(\"Graph contains negitive weigh cycle\")\n",
    "                return \n",
    "            self.printArr(dist)\n",
    "    if __name__ =='__main__':\n",
    "        g=graph(5)\n",
    "        g.addedge(0,1,-1)\n",
    "        g.addedge(0,2,4)\n",
    "        g.addedge(1,2,3)\n",
    "        g.addedge(1,3,2)\n",
    "        g.addedge(1,4,2)\n",
    "        g.addedge(3,2,5)\n",
    "        g.addedge(3,1,1)\n",
    "        g.addedge(4,3,-3)"
   ]
  },
  {
   "cell_type": "code",
   "execution_count": null,
   "id": "eb781389",
   "metadata": {},
   "outputs": [],
   "source": [
    "g.BellmanFord"
   ]
  },
  {
   "cell_type": "code",
   "execution_count": null,
   "id": "4942e958",
   "metadata": {},
   "outputs": [],
   "source": [
    "class Graph:\n",
    "\n",
    "    def __init__(self, vertices):\n",
    "        self.V = vertices  # No. of vertices\n",
    "        self.graph = []\n",
    "\n",
    "    def addEdge(self, u, v, w):\n",
    "        self.graph.append([u, v, w])\n",
    "\n",
    "    def printArr(self, dist):\n",
    "        print(\"Vertex Distance from Source\")\n",
    "        for i in range(self.V):\n",
    "            print(\"{0}\\t\\t{1}\".format(i, dist[i]))\n",
    "\n",
    "    def BellmanFord(self, src):\n",
    "        dist = [float(\"Inf\")] * self.V\n",
    "        dist[src] = 0\n",
    "\n",
    "        for _ in range(self.V - 1):\n",
    "            for u, v, w in self.graph:\n",
    "                if dist[u] != float(\"Inf\") and dist[u] + w < dist[v]:\n",
    "                    dist[v] = dist[u] + w\n",
    "\n",
    "        for u, v, w in self.graph:\n",
    "            if dist[u] != float(\"Inf\") and dist[u] + w < dist[v]:\n",
    "                print(\"Graph contains negative weight cycle\")\n",
    "                return\n",
    "\n",
    "        self.printArr(dist)\n",
    "\n",
    "if __name__ == '__main__':\n",
    "    g = Graph(5)\n",
    "    g.addEdge(0, 1, -1)\n",
    "    g.addEdge(0, 2, 4)\n",
    "    g.addEdge(1, 2, 3)\n",
    "    g.addEdge(1, 3, 2)\n",
    "    g.addEdge(1, 4, 2)\n",
    "    g.addEdge(3, 2, 5)\n",
    "    g.addEdge(3, 1, 1)\n",
    "    g.addEdge(4, 3, -3)\n",
    "\n",
    "    g.BellmanFord(0)\n"
   ]
  }
 ],
 "metadata": {
  "kernelspec": {
   "display_name": "Python 3 (ipykernel)",
   "language": "python",
   "name": "python3"
  },
  "language_info": {
   "codemirror_mode": {
    "name": "ipython",
    "version": 3
   },
   "file_extension": ".py",
   "mimetype": "text/x-python",
   "name": "python",
   "nbconvert_exporter": "python",
   "pygments_lexer": "ipython3",
   "version": "3.9.13"
  }
 },
 "nbformat": 4,
 "nbformat_minor": 5
}
