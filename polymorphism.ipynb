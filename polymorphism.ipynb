{
 "cells": [
  {
   "cell_type": "markdown",
   "id": "2102dfe8",
   "metadata": {},
   "source": [
    "# in general program\n"
   ]
  },
  {
   "cell_type": "code",
   "execution_count": 2,
   "id": "da8e5ee0",
   "metadata": {},
   "outputs": [
    {
     "name": "stdout",
     "output_type": "stream",
     "text": [
      "3\n"
     ]
    }
   ],
   "source": [
    "num1 = 1\n",
    "num2 = 2\n",
    "print(num1+num2)"
   ]
  },
  {
   "cell_type": "code",
   "execution_count": 5,
   "id": "0b7f103d",
   "metadata": {},
   "outputs": [
    {
     "name": "stdout",
     "output_type": "stream",
     "text": [
      "python  program\n"
     ]
    }
   ],
   "source": [
    "str1 = \"python\"\n",
    "str2 = \"program\"\n",
    "print(str1 + '  '+str2)"
   ]
  },
  {
   "cell_type": "code",
   "execution_count": 6,
   "id": "8978627a",
   "metadata": {},
   "outputs": [
    {
     "data": {
      "text/plain": [
       "9"
      ]
     },
     "execution_count": 6,
     "metadata": {},
     "output_type": "execute_result"
    }
   ],
   "source": [
    "num = {1,2,3,4,5,6,7,8,9}\n",
    "len(num)"
   ]
  },
  {
   "cell_type": "markdown",
   "id": "89fd96be",
   "metadata": {},
   "source": [
    "# IN CLASS"
   ]
  },
  {
   "cell_type": "code",
   "execution_count": 13,
   "id": "00c03a74",
   "metadata": {},
   "outputs": [],
   "source": [
    "class A:\n",
    "    def explora(self):\n",
    "        print(\"explora() method form class A\")\n",
    "        \n",
    "class B(A):\n",
    "    def explora(self):\n",
    "        print(\"explora() method form class B\")\n",
    "        "
   ]
  },
  {
   "cell_type": "code",
   "execution_count": 17,
   "id": "bdab2722",
   "metadata": {},
   "outputs": [],
   "source": [
    "b_obj = B()\n",
    "a_obj = A()"
   ]
  },
  {
   "cell_type": "code",
   "execution_count": 18,
   "id": "151f1771",
   "metadata": {},
   "outputs": [
    {
     "name": "stdout",
     "output_type": "stream",
     "text": [
      "explora() method form class B\n"
     ]
    }
   ],
   "source": [
    "b_obj.explora()"
   ]
  },
  {
   "cell_type": "code",
   "execution_count": 19,
   "id": "bd730ed4",
   "metadata": {},
   "outputs": [
    {
     "name": "stdout",
     "output_type": "stream",
     "text": [
      "explora() method form class A\n"
     ]
    }
   ],
   "source": [
    "a_obj.explora()"
   ]
  },
  {
   "cell_type": "code",
   "execution_count": 64,
   "id": "f1310c36",
   "metadata": {},
   "outputs": [],
   "source": [
    "class Person:\n",
    "    # contains the data\n",
    "    \n",
    "    def __init__(self, fname, lname, year, age, IDnumb):\n",
    "        self.fname = fname\n",
    "        self.lname = lname\n",
    "        self.DOByear = year\n",
    "        self.age = age\n",
    "        self.ID = IDnumb\n",
    "        \n",
    "    def disp(self):\n",
    "        print(self.fname, self.lname)\n",
    "        print(self.DOByear)\n",
    "        print(self.age)\n",
    "        print(self.ID)"
   ]
  },
  {
   "cell_type": "code",
   "execution_count": 65,
   "id": "602499af",
   "metadata": {},
   "outputs": [],
   "source": [
    "class Student(Person):\n",
    "    #\n",
    "    \n",
    "    def __init__(self, name, collage, year_study):\n",
    "        self.fname = name\n",
    "        self.collage = collage\n",
    "        self.year = year_study\n",
    "        \n",
    "    def disp(self):\n",
    "        print(f\"{self.fname} studies in {self.collage} and is in year {self.year}.\")\n"
   ]
  },
  {
   "cell_type": "code",
   "execution_count": 66,
   "id": "85ec31c7",
   "metadata": {},
   "outputs": [],
   "source": [
    "person1 = Person(\"raj\",\"bala\",2005,19,12345)\n",
    "stud1 = Student(\"guru\",\"MIT\",18)\n",
    "stud2 = Person(\"guru\",\"balan\",1999,20,34343)\n",
    "person2 = Student(\"bala\",\"MIT\",19)"
   ]
  },
  {
   "cell_type": "code",
   "execution_count": 67,
   "id": "3a9b8ac1",
   "metadata": {},
   "outputs": [
    {
     "name": "stdout",
     "output_type": "stream",
     "text": [
      "raj bala\n",
      "2005\n",
      "19\n",
      "12345\n"
     ]
    }
   ],
   "source": [
    "person1.disp()"
   ]
  },
  {
   "cell_type": "code",
   "execution_count": 68,
   "id": "e9470650",
   "metadata": {},
   "outputs": [
    {
     "name": "stdout",
     "output_type": "stream",
     "text": [
      "guru studies in MIT and is in year 18.\n"
     ]
    }
   ],
   "source": [
    "stud1.disp()"
   ]
  },
  {
   "cell_type": "code",
   "execution_count": 69,
   "id": "3d9194aa",
   "metadata": {},
   "outputs": [
    {
     "name": "stdout",
     "output_type": "stream",
     "text": [
      "guru balan\n",
      "1999\n",
      "20\n",
      "34343\n"
     ]
    }
   ],
   "source": [
    "stud2.disp()"
   ]
  },
  {
   "cell_type": "code",
   "execution_count": 70,
   "id": "6bf6b2fd",
   "metadata": {},
   "outputs": [
    {
     "name": "stdout",
     "output_type": "stream",
     "text": [
      "bala studies in MIT and is in year 19.\n"
     ]
    }
   ],
   "source": [
    "person2.disp()"
   ]
  },
  {
   "cell_type": "markdown",
   "id": "ec7dc5cd",
   "metadata": {},
   "source": [
    "# TASK 02"
   ]
  },
  {
   "cell_type": "code",
   "execution_count": 96,
   "id": "2ef1d442",
   "metadata": {},
   "outputs": [],
   "source": [
    "class Vehicle:\n",
    "    # contains the data\n",
    "    \n",
    "    def __init__(self, name, max_speed, millage,):\n",
    "        self.name = name\n",
    "        self.max_speed = max_speed\n",
    "        self.millage = millage\n",
    "\n",
    "        \n",
    "    def disp(self):\n",
    "        print(self.name)\n",
    "        print(self.max_speed)\n",
    "        print(self.millage)\n"
   ]
  },
  {
   "cell_type": "code",
   "execution_count": 102,
   "id": "0037bd8b",
   "metadata": {},
   "outputs": [],
   "source": [
    "vehicle = Vehicle(\"himalayan\",309,77)\n",
    "vehicle01 = Vehicle(\"DIKE\",300,87)"
   ]
  },
  {
   "cell_type": "code",
   "execution_count": 103,
   "id": "4a3d2aa6",
   "metadata": {},
   "outputs": [
    {
     "name": "stdout",
     "output_type": "stream",
     "text": [
      "himalayan\n",
      "309\n",
      "77\n"
     ]
    }
   ],
   "source": [
    "vehicle.disp()"
   ]
  },
  {
   "cell_type": "code",
   "execution_count": 104,
   "id": "0f2a04fa",
   "metadata": {},
   "outputs": [
    {
     "name": "stdout",
     "output_type": "stream",
     "text": [
      "DIKE\n",
      "300\n",
      "87\n"
     ]
    }
   ],
   "source": [
    "vehicle01.disp()"
   ]
  },
  {
   "cell_type": "markdown",
   "id": "4b340ebe",
   "metadata": {},
   "source": [
    "# create a child class automobile that will inherit all of the variable and methods of the vehicle class"
   ]
  },
  {
   "cell_type": "code",
   "execution_count": null,
   "id": "df0e2561",
   "metadata": {},
   "outputs": [],
   "source": []
  }
 ],
 "metadata": {
  "kernelspec": {
   "display_name": "Python 3 (ipykernel)",
   "language": "python",
   "name": "python3"
  },
  "language_info": {
   "codemirror_mode": {
    "name": "ipython",
    "version": 3
   },
   "file_extension": ".py",
   "mimetype": "text/x-python",
   "name": "python",
   "nbconvert_exporter": "python",
   "pygments_lexer": "ipython3",
   "version": "3.9.13"
  }
 },
 "nbformat": 4,
 "nbformat_minor": 5
}
