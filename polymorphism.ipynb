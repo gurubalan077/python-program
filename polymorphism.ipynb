{
 "cells": [
  {
   "cell_type": "markdown",
   "id": "940e3983",
   "metadata": {},
   "source": [
    "# in general program\n"
   ]
  },
  {
   "cell_type": "code",
   "execution_count": 2,
   "id": "44c0b7c6",
   "metadata": {},
   "outputs": [
    {
     "name": "stdout",
     "output_type": "stream",
     "text": [
      "3\n"
     ]
    }
   ],
   "source": [
    "num1 = 1\n",
    "num2 = 2\n",
    "print(num1+num2)"
   ]
  },
  {
   "cell_type": "code",
   "execution_count": 5,
   "id": "fd7b7eba",
   "metadata": {},
   "outputs": [
    {
     "name": "stdout",
     "output_type": "stream",
     "text": [
      "python  program\n"
     ]
    }
   ],
   "source": [
    "str1 = \"python\"\n",
    "str2 = \"program\"\n",
    "print(str1 + '  '+str2)"
   ]
  },
  {
   "cell_type": "code",
   "execution_count": 6,
   "id": "12f8256a",
   "metadata": {},
   "outputs": [
    {
     "data": {
      "text/plain": [
       "9"
      ]
     },
     "execution_count": 6,
     "metadata": {},
     "output_type": "execute_result"
    }
   ],
   "source": [
    "num = {1,2,3,4,5,6,7,8,9}\n",
    "len(num)"
   ]
  },
  {
   "cell_type": "markdown",
   "id": "60779052",
   "metadata": {},
   "source": [
    "# IN CLASS"
   ]
  },
  {
   "cell_type": "code",
   "execution_count": 13,
   "id": "037998f0",
   "metadata": {},
   "outputs": [],
   "source": [
    "class A:\n",
    "    def explora(self):\n",
    "        print(\"explora() method form class A\")\n",
    "        \n",
    "class B(A):\n",
    "    def explora(self):\n",
    "        print(\"explora() method form class B\")\n",
    "        "
   ]
  },
  {
   "cell_type": "code",
   "execution_count": 17,
   "id": "87b5ba9f",
   "metadata": {},
   "outputs": [],
   "source": [
    "b_obj = B()\n",
    "a_obj = A()"
   ]
  },
  {
   "cell_type": "code",
   "execution_count": 18,
   "id": "4f68f4e9",
   "metadata": {},
   "outputs": [
    {
     "name": "stdout",
     "output_type": "stream",
     "text": [
      "explora() method form class B\n"
     ]
    }
   ],
   "source": [
    "b_obj.explora()"
   ]
  },
  {
   "cell_type": "code",
   "execution_count": 19,
   "id": "e07df78f",
   "metadata": {},
   "outputs": [
    {
     "name": "stdout",
     "output_type": "stream",
     "text": [
      "explora() method form class A\n"
     ]
    }
   ],
   "source": [
    "a_obj.explora()"
   ]
  },
  {
   "cell_type": "code",
   "execution_count": 64,
   "id": "d7974efb",
   "metadata": {},
   "outputs": [],
   "source": [
    "class Person:\n",
    "    # contains the data\n",
    "    \n",
    "    def __init__(self, fname, lname, year, age, IDnumb):\n",
    "        self.fname = fname\n",
    "        self.lname = lname\n",
    "        self.DOByear = year\n",
    "        self.age = age\n",
    "        self.ID = IDnumb\n",
    "        \n",
    "    def disp(self):\n",
    "        print(self.fname, self.lname)\n",
    "        print(self.DOByear)\n",
    "        print(self.age)\n",
    "        print(self.ID)"
   ]
  },
  {
   "cell_type": "code",
   "execution_count": 65,
   "id": "b89d05b3",
   "metadata": {},
   "outputs": [],
   "source": [
    "class Student(Person):\n",
    "    #\n",
    "    \n",
    "    def __init__(self, name, collage, year_study):\n",
    "        self.fname = name\n",
    "        self.collage = collage\n",
    "        self.year = year_study\n",
    "        \n",
    "    def disp(self):\n",
    "        print(f\"{self.fname} studies in {self.collage} and is in year {self.year}.\")\n"
   ]
  },
  {
   "cell_type": "code",
   "execution_count": 66,
   "id": "206cef27",
   "metadata": {},
   "outputs": [],
   "source": [
    "person1 = Person(\"raj\",\"bala\",2005,19,12345)\n",
    "stud1 = Student(\"guru\",\"MIT\",18)\n",
    "stud2 = Person(\"guru\",\"balan\",1999,20,34343)\n",
    "person2 = Student(\"bala\",\"MIT\",19)"
   ]
  },
  {
   "cell_type": "code",
   "execution_count": 67,
   "id": "ef21827b",
   "metadata": {},
   "outputs": [
    {
     "name": "stdout",
     "output_type": "stream",
     "text": [
      "raj bala\n",
      "2005\n",
      "19\n",
      "12345\n"
     ]
    }
   ],
   "source": [
    "person1.disp()"
   ]
  },
  {
   "cell_type": "code",
   "execution_count": 68,
   "id": "50c0d0b6",
   "metadata": {},
   "outputs": [
    {
     "name": "stdout",
     "output_type": "stream",
     "text": [
      "guru studies in MIT and is in year 18.\n"
     ]
    }
   ],
   "source": [
    "stud1.disp()"
   ]
  },
  {
   "cell_type": "code",
   "execution_count": 69,
   "id": "61f32400",
   "metadata": {},
   "outputs": [
    {
     "name": "stdout",
     "output_type": "stream",
     "text": [
      "guru balan\n",
      "1999\n",
      "20\n",
      "34343\n"
     ]
    }
   ],
   "source": [
    "stud2.disp()"
   ]
  },
  {
   "cell_type": "code",
   "execution_count": 70,
   "id": "20cfe847",
   "metadata": {},
   "outputs": [
    {
     "name": "stdout",
     "output_type": "stream",
     "text": [
      "bala studies in MIT and is in year 19.\n"
     ]
    }
   ],
   "source": [
    "person2.disp()"
   ]
  },
  {
   "cell_type": "markdown",
   "id": "3b249c68",
   "metadata": {},
   "source": [
    "# TASK 02"
   ]
  },
  {
   "cell_type": "code",
   "execution_count": 96,
   "id": "62fb0061",
   "metadata": {},
   "outputs": [],
   "source": [
    "class Vehicle:\n",
    "    # contains the data\n",
    "    \n",
    "    def __init__(self, name, max_speed, millage,):\n",
    "        self.name = name\n",
    "        self.max_speed = max_speed\n",
    "        self.millage = millage\n",
    "\n",
    "        \n",
    "    def disp(self):\n",
    "        print(self.name)\n",
    "        print(self.max_speed)\n",
    "        print(self.millage)\n"
   ]
  },
  {
   "cell_type": "code",
   "execution_count": 102,
   "id": "001e7799",
   "metadata": {},
   "outputs": [],
   "source": [
    "vehicle = Vehicle(\"himalayan\",309,77)\n",
    "vehicle01 = Vehicle(\"DIKE\",300,87)"
   ]
  },
  {
   "cell_type": "code",
   "execution_count": 103,
   "id": "4bf46ce6",
   "metadata": {},
   "outputs": [
    {
     "name": "stdout",
     "output_type": "stream",
     "text": [
      "himalayan\n",
      "309\n",
      "77\n"
     ]
    }
   ],
   "source": [
    "vehicle.disp()"
   ]
  },
  {
   "cell_type": "code",
   "execution_count": 104,
   "id": "a4058b46",
   "metadata": {},
   "outputs": [
    {
     "name": "stdout",
     "output_type": "stream",
     "text": [
      "DIKE\n",
      "300\n",
      "87\n"
     ]
    }
   ],
   "source": [
    "vehicle01.disp()"
   ]
  },
  {
   "cell_type": "code",
   "execution_count": null,
   "id": "38cc451f",
   "metadata": {},
   "outputs": [],
   "source": []
  }
 ],
 "metadata": {
  "kernelspec": {
   "display_name": "Python 3 (ipykernel)",
   "language": "python",
   "name": "python3"
  },
  "language_info": {
   "codemirror_mode": {
    "name": "ipython",
    "version": 3
   },
   "file_extension": ".py",
   "mimetype": "text/x-python",
   "name": "python",
   "nbconvert_exporter": "python",
   "pygments_lexer": "ipython3",
   "version": "3.9.13"
  }
 },
 "nbformat": 4,
 "nbformat_minor": 5
}
