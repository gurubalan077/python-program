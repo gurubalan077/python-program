{
 "cells": [
  {
   "cell_type": "markdown",
   "id": "4aede733",
   "metadata": {},
   "source": [
    "# Bubble sort"
   ]
  },
  {
   "cell_type": "code",
   "execution_count": 12,
   "id": "71c73c15",
   "metadata": {},
   "outputs": [
    {
     "name": "stdout",
     "output_type": "stream",
     "text": [
      "Before sorting the Array in Ascending Order :\n",
      "[-2, 45, 0, 54, 88, 99, 24, 513, 90]\n",
      "After Before sorting the array in Ascending Order:\n",
      "[-2, 0, 24, 45, 54, 88, 90, 99, 513]\n"
     ]
    }
   ],
   "source": [
    "# Bubble sort in python\n",
    "\n",
    "def bubblesort(data):\n",
    "    \n",
    "  # loop to access each array in element\n",
    "  for i in range(len(data)):\n",
    "        \n",
    "    # loop to compare array element\n",
    "    for j in range(0,len(data) - i - 1):\n",
    "        \n",
    "      #compare two adjecent element\n",
    "       if data[j] > data [j + 1]:\n",
    "            \n",
    "            # swapping element if element are not in the intemded order\n",
    "            temp = data[j]\n",
    "            data[j] = data[j+1]\n",
    "            data[j+1] = temp\n",
    "            \n",
    "data = [-2,45,0,54,88,99,24,513,90,]\n",
    "\n",
    "print('Before sorting the Array in Ascending Order :')\n",
    "print(data)\n",
    "\n",
    "bubblesort(data)\n",
    "\n",
    "print(\"After Before sorting the array in Ascending Order:\")\n",
    "print(data)"
   ]
  },
  {
   "cell_type": "markdown",
   "id": "3d99c8ef",
   "metadata": {},
   "source": [
    "# task for me"
   ]
  },
  {
   "cell_type": "code",
   "execution_count": 13,
   "id": "423e3f40",
   "metadata": {},
   "outputs": [
    {
     "name": "stdout",
     "output_type": "stream",
     "text": [
      "Before sorting the Array in Dscending Order :\n",
      "[-2, 45, 0, 54, 88, 99, 24, 513, 90]\n",
      "After Before sorting the array in Dscending Order:\n",
      "[513, 99, 90, 88, 54, 45, 24, 0, -2]\n"
     ]
    }
   ],
   "source": [
    "# Bubble sort in python\n",
    "\n",
    "def bubblesort(data):\n",
    "    \n",
    "  # loop to access each array in element\n",
    "  for i in range(len(data)):\n",
    "        \n",
    "    # loop to compare array element\n",
    "    for j in range(0,len(data) - i - 1):\n",
    "        \n",
    "      #compare two adjecent element\n",
    "       if data[j] < data [j + 1]:\n",
    "            \n",
    "            # swapping element if element are not in the intemded order\n",
    "            temp = data[j]\n",
    "            data[j] = data[j+1]\n",
    "            data[j+1] = temp\n",
    "            \n",
    "data = [-2,45,0,54,88,99,24,513,90,]\n",
    "\n",
    "print('Before sorting the Array in Dscending Order :')\n",
    "print(data)\n",
    "\n",
    "bubblesort(data)\n",
    "\n",
    "print(\"After Before sorting the array in Dscending Order:\")\n",
    "print(data)"
   ]
  },
  {
   "cell_type": "markdown",
   "id": "7b4d7368",
   "metadata": {},
   "source": [
    "# optimized sort"
   ]
  },
  {
   "cell_type": "code",
   "execution_count": 39,
   "id": "c7898d27",
   "metadata": {},
   "outputs": [
    {
     "name": "stdout",
     "output_type": "stream",
     "text": [
      "non-sorted array is:\n",
      " 56 78 98 90 56 34 23%Sorted array is:\n",
      " 23 34 56 56 78 90 98"
     ]
    }
   ],
   "source": [
    "def bubblesort(arr):\n",
    "    n = len(arr)\n",
    "    \n",
    "    swapped = False\n",
    "    for i in range(n-1):\n",
    "        \n",
    "        for j in range(0, n-i-1):\n",
    "            if arr[j]> arr[j + 1]:\n",
    "                swapped = True \n",
    "                arr[j], arr[j + 1] = arr[j + 1],arr[j]\n",
    "            \n",
    "        if not swapped:\n",
    "        \n",
    "           return\n",
    "    \n",
    "arr = [56,78,98,90,56,34,23]\n",
    "\n",
    "print(\"non-sorted array is:\")\n",
    "for i in range(len(arr)):\n",
    "    print(\"% d\"%arr[i], end=\"\")\n",
    "    \n",
    "bubblesort(arr)\n",
    "print(\"%Sorted array is:\")\n",
    "for i in range(len(arr)):\n",
    "    print(\"%  d\"%arr[i], end=\"\")\n",
    "    "
   ]
  },
  {
   "cell_type": "code",
   "execution_count": null,
   "id": "8283be76",
   "metadata": {},
   "outputs": [],
   "source": []
  },
  {
   "cell_type": "code",
   "execution_count": null,
   "id": "5bba292f",
   "metadata": {},
   "outputs": [],
   "source": []
  }
 ],
 "metadata": {
  "kernelspec": {
   "display_name": "Python 3 (ipykernel)",
   "language": "python",
   "name": "python3"
  },
  "language_info": {
   "codemirror_mode": {
    "name": "ipython",
    "version": 3
   },
   "file_extension": ".py",
   "mimetype": "text/x-python",
   "name": "python",
   "nbconvert_exporter": "python",
   "pygments_lexer": "ipython3",
   "version": "3.9.13"
  }
 },
 "nbformat": 4,
 "nbformat_minor": 5
}
