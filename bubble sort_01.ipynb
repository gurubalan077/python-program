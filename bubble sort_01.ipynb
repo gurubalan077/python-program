{
 "cells": [
  {
   "cell_type": "code",
   "execution_count": 2,
   "id": "c6e40605",
   "metadata": {},
   "outputs": [
    {
     "name": "stdout",
     "output_type": "stream",
     "text": [
      "Before sorting the Array in Ascending Order :\n",
      "[-2, 45, 0, 11, 9, 11, -11, 21, 12, 100, 23, -81, -90, 675, 34]\n",
      "After Before sorting the array in Ascending Order:\n",
      "[-90, -81, -11, -2, 0, 9, 11, 11, 12, 21, 23, 34, 45, 100, 675]\n"
     ]
    }
   ],
   "source": [
    "# bubble sort in python\n",
    "data = [-2, 45, 0 , 11, 9, 11, -11, 21, 12 , 100 , 23 , -81, -90 , 675, 34]\n",
    "\n",
    "# Bubble sort in python\n",
    "\n",
    "def bubblesort(data):\n",
    "    \n",
    "  # loop to access each array in element in lengt \n",
    "  for i in range(len(data)):\n",
    "        \n",
    "    # loop to compare array element index \n",
    "    for j in range(0,len(data) - i - 1):\n",
    "        \n",
    "      #compare two adjecent element\n",
    "       if data[j] > data [j + 1]:\n",
    "            \n",
    "            # swapping element if element are not in the intemded order\n",
    "            temp = data[j]\n",
    "            data[j] = data[j+1]\n",
    "            data[j+1] = temp\n",
    "\n",
    "            \n",
    "             \n",
    "print('Before sorting the Array in Ascending Order :')\n",
    "print(data)\n",
    "\n",
    "bubblesort(data)\n",
    "\n",
    "print(\"After Before sorting the array in Ascending Order:\")\n",
    "print(data)\n"
   ]
  },
  {
   "cell_type": "code",
   "execution_count": null,
   "id": "01066822",
   "metadata": {},
   "outputs": [],
   "source": []
  }
 ],
 "metadata": {
  "kernelspec": {
   "display_name": "Python 3 (ipykernel)",
   "language": "python",
   "name": "python3"
  },
  "language_info": {
   "codemirror_mode": {
    "name": "ipython",
    "version": 3
   },
   "file_extension": ".py",
   "mimetype": "text/x-python",
   "name": "python",
   "nbconvert_exporter": "python",
   "pygments_lexer": "ipython3",
   "version": "3.9.7"
  }
 },
 "nbformat": 4,
 "nbformat_minor": 5
}
