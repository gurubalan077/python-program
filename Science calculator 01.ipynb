{
 "cells": [
  {
   "cell_type": "code",
   "execution_count": 103,
   "id": "586d5260",
   "metadata": {},
   "outputs": [],
   "source": [
    "from tkinter import * \n",
    "import math"
   ]
  },
  {
   "cell_type": "markdown",
   "id": "043ed4fa",
   "metadata": {},
   "source": [
    "# create the root window"
   ]
  },
  {
   "cell_type": "code",
   "execution_count": 113,
   "id": "ce5fc81e",
   "metadata": {},
   "outputs": [],
   "source": [
    "root = Tk()\n",
    "root.title(\"scientific calculater\")\n",
    "root.configure(background = 'black')\n",
    "root.geometry(\"491x724\")\n",
    "calc = Frame(root)\n",
    "calc.grid()"
   ]
  },
  {
   "cell_type": "code",
   "execution_count": 114,
   "id": "6f41fb17",
   "metadata": {},
   "outputs": [],
   "source": [
    "class calc():\n",
    "    def __init__(self):\n",
    "        self.total=0\n",
    "        self.current=''\n",
    "        self.input_value=True\n",
    "        self.check_sum=False \n",
    "        self.op=''\n",
    "        self.result=False\n",
    "        \n",
    "    def numberEnter(self, num):\n",
    "        self.result=False\n",
    "        firstnum=txtDisplay.get()\n",
    "        secondnum=str(num)\n",
    "        if self.input_value:\n",
    "            self.current = secondnum\n",
    "            self.input_value=False\n",
    "        else:\n",
    "            if secondnum =='.':\n",
    "                if secondnum in firstnum:\n",
    "                    return\n",
    "            self.current = firstnum+secondnum\n",
    "        self.display(self.current)\n",
    "        \n",
    "        def sum_of_total(self):\n",
    "            self.result=True\n",
    "            self.current=float(self.current)\n",
    "            if self.check_sum==True:\n",
    "                self.valid_function()\n",
    "            else:\n",
    "                self.total=float(txtDisplay.get())\n",
    "                \n",
    "        def display(self,value):\n",
    "            txtdisplay.delete(0, END)\n",
    "            txtDisplay.insert(0, value)\n",
    "            \n",
    "        def valid_function(self):\n",
    "            if self.op ==\"add\":\n",
    "                self.total += self.current\n",
    "            if self.op ==\"sub\":\n",
    "                self.total -= self.current\n",
    "            if self.op ==\"divide\":\n",
    "                self.total /= self.current\n",
    "            if self.op ==\"multiple\":\n",
    "                self.total *= self.current\n",
    "            if self.op ==\"mod\":\n",
    "                self.total %= self.current\n",
    "            self.input_value=True\n",
    "            self.check_sum=False\n",
    "            self.display(self.total)\n",
    "        def operation(self, op):\n",
    "            self.current = float(self.current)\n",
    "            if self.check_sum:\n",
    "                self.valid_function()\n",
    "            elif not self.result:\n",
    "                self.total=self.current\n",
    "                self.input_value=True\n",
    "            self.check_sum=True\n",
    "            self.op=op\n",
    "            self.result=False\n",
    "            \n",
    "        def clear_Entry(self):\n",
    "            self.result = False \n",
    "            self.current = \"0\"\n",
    "            self.display(0)\n",
    "            self.input_value=True\n",
    "            \n",
    "        def pi(self):\n",
    "            self.result = False \n",
    "            self.current = math.pi\n",
    "            self.display1(self.current)\n",
    "            \n",
    "        def cos(self):\n",
    "            self.result = False\n",
    "            self.current = math.cos(math.radians(float(txtDisplay.get())))\n",
    "            self.display1(self.current)\n",
    "            \n",
    "        def sin(self):\n",
    "            self.result = False\n",
    "            self.current = math.sin(math.radians(float(txtDisplay.get())))\n",
    "            self.display1(self.current)\n",
    "        def tan(self):\n",
    "            self.result = False\n",
    "            self.current = math.tan(math.radians(float(txtDisplay.get())))\n",
    "            self.display1(self.current)\n",
    "        def squre(self):\n",
    "            self.result = False\n",
    "            self.current = math.sqrt(math.radians(float(txtDisplay.get())))\n",
    "            self.display1(self.current)\n",
    "            \n",
    "        added_value = calc()\n",
    "                "
   ]
  },
  {
   "cell_type": "code",
   "execution_count": 118,
   "id": "f9d5b28c",
   "metadata": {},
   "outputs": [
    {
     "ename": "AttributeError",
     "evalue": "type object 'calc' has no attribute 'tk'",
     "output_type": "error",
     "traceback": [
      "\u001b[1;31m---------------------------------------------------------------------------\u001b[0m",
      "\u001b[1;31mAttributeError\u001b[0m                            Traceback (most recent call last)",
      "\u001b[1;32m~\\AppData\\Local\\Temp\\ipykernel_2836\\1816426164.py\u001b[0m in \u001b[0;36m<module>\u001b[1;34m\u001b[0m\n\u001b[1;32m----> 1\u001b[1;33m txtDisplay = Entry(calc, font=('Helvetica', 20, 'bold'), bg='black', fg='white', bd=20,\n\u001b[0m\u001b[0;32m      2\u001b[0m                     width=30, justify=RIGHT)\n\u001b[0;32m      3\u001b[0m \u001b[0mtxtDisplay\u001b[0m\u001b[1;33m.\u001b[0m\u001b[0mgrid\u001b[0m\u001b[1;33m(\u001b[0m\u001b[0mrow\u001b[0m\u001b[1;33m=\u001b[0m\u001b[1;36m0\u001b[0m\u001b[1;33m,\u001b[0m \u001b[0mcolumn\u001b[0m\u001b[1;33m=\u001b[0m\u001b[1;36m0\u001b[0m\u001b[1;33m,\u001b[0m \u001b[0mcolumnspan\u001b[0m\u001b[1;33m=\u001b[0m\u001b[1;36m4\u001b[0m\u001b[1;33m,\u001b[0m \u001b[0mpady\u001b[0m\u001b[1;33m=\u001b[0m\u001b[1;36m1\u001b[0m\u001b[1;33m)\u001b[0m\u001b[1;33m\u001b[0m\u001b[1;33m\u001b[0m\u001b[0m\n\u001b[0;32m      4\u001b[0m \u001b[0mtxtDisplay\u001b[0m\u001b[1;33m.\u001b[0m\u001b[0minsert\u001b[0m\u001b[1;33m(\u001b[0m\u001b[1;36m0\u001b[0m\u001b[1;33m,\u001b[0m \u001b[1;34m\"0\"\u001b[0m\u001b[1;33m)\u001b[0m\u001b[1;33m\u001b[0m\u001b[1;33m\u001b[0m\u001b[0m\n\u001b[0;32m      5\u001b[0m \u001b[1;33m\u001b[0m\u001b[0m\n",
      "\u001b[1;32mC:\\ProgramData\\Anaconda3\\lib\\tkinter\\__init__.py\u001b[0m in \u001b[0;36m__init__\u001b[1;34m(self, master, cnf, **kw)\u001b[0m\n\u001b[0;32m   3033\u001b[0m         \u001b[0mtextvariable\u001b[0m\u001b[1;33m,\u001b[0m \u001b[0mvalidate\u001b[0m\u001b[1;33m,\u001b[0m \u001b[0mvalidatecommand\u001b[0m\u001b[1;33m,\u001b[0m \u001b[0mvcmd\u001b[0m\u001b[1;33m,\u001b[0m \u001b[0mwidth\u001b[0m\u001b[1;33m,\u001b[0m\u001b[1;33m\u001b[0m\u001b[1;33m\u001b[0m\u001b[0m\n\u001b[0;32m   3034\u001b[0m         xscrollcommand.\"\"\"\n\u001b[1;32m-> 3035\u001b[1;33m         \u001b[0mWidget\u001b[0m\u001b[1;33m.\u001b[0m\u001b[0m__init__\u001b[0m\u001b[1;33m(\u001b[0m\u001b[0mself\u001b[0m\u001b[1;33m,\u001b[0m \u001b[0mmaster\u001b[0m\u001b[1;33m,\u001b[0m \u001b[1;34m'entry'\u001b[0m\u001b[1;33m,\u001b[0m \u001b[0mcnf\u001b[0m\u001b[1;33m,\u001b[0m \u001b[0mkw\u001b[0m\u001b[1;33m)\u001b[0m\u001b[1;33m\u001b[0m\u001b[1;33m\u001b[0m\u001b[0m\n\u001b[0m\u001b[0;32m   3036\u001b[0m \u001b[1;33m\u001b[0m\u001b[0m\n\u001b[0;32m   3037\u001b[0m     \u001b[1;32mdef\u001b[0m \u001b[0mdelete\u001b[0m\u001b[1;33m(\u001b[0m\u001b[0mself\u001b[0m\u001b[1;33m,\u001b[0m \u001b[0mfirst\u001b[0m\u001b[1;33m,\u001b[0m \u001b[0mlast\u001b[0m\u001b[1;33m=\u001b[0m\u001b[1;32mNone\u001b[0m\u001b[1;33m)\u001b[0m\u001b[1;33m:\u001b[0m\u001b[1;33m\u001b[0m\u001b[1;33m\u001b[0m\u001b[0m\n",
      "\u001b[1;32mC:\\ProgramData\\Anaconda3\\lib\\tkinter\\__init__.py\u001b[0m in \u001b[0;36m__init__\u001b[1;34m(self, master, widgetName, cnf, kw, extra)\u001b[0m\n\u001b[0;32m   2564\u001b[0m             \u001b[0mcnf\u001b[0m \u001b[1;33m=\u001b[0m \u001b[0m_cnfmerge\u001b[0m\u001b[1;33m(\u001b[0m\u001b[1;33m(\u001b[0m\u001b[0mcnf\u001b[0m\u001b[1;33m,\u001b[0m \u001b[0mkw\u001b[0m\u001b[1;33m)\u001b[0m\u001b[1;33m)\u001b[0m\u001b[1;33m\u001b[0m\u001b[1;33m\u001b[0m\u001b[0m\n\u001b[0;32m   2565\u001b[0m         \u001b[0mself\u001b[0m\u001b[1;33m.\u001b[0m\u001b[0mwidgetName\u001b[0m \u001b[1;33m=\u001b[0m \u001b[0mwidgetName\u001b[0m\u001b[1;33m\u001b[0m\u001b[1;33m\u001b[0m\u001b[0m\n\u001b[1;32m-> 2566\u001b[1;33m         \u001b[0mBaseWidget\u001b[0m\u001b[1;33m.\u001b[0m\u001b[0m_setup\u001b[0m\u001b[1;33m(\u001b[0m\u001b[0mself\u001b[0m\u001b[1;33m,\u001b[0m \u001b[0mmaster\u001b[0m\u001b[1;33m,\u001b[0m \u001b[0mcnf\u001b[0m\u001b[1;33m)\u001b[0m\u001b[1;33m\u001b[0m\u001b[1;33m\u001b[0m\u001b[0m\n\u001b[0m\u001b[0;32m   2567\u001b[0m         \u001b[1;32mif\u001b[0m \u001b[0mself\u001b[0m\u001b[1;33m.\u001b[0m\u001b[0m_tclCommands\u001b[0m \u001b[1;32mis\u001b[0m \u001b[1;32mNone\u001b[0m\u001b[1;33m:\u001b[0m\u001b[1;33m\u001b[0m\u001b[1;33m\u001b[0m\u001b[0m\n\u001b[0;32m   2568\u001b[0m             \u001b[0mself\u001b[0m\u001b[1;33m.\u001b[0m\u001b[0m_tclCommands\u001b[0m \u001b[1;33m=\u001b[0m \u001b[1;33m[\u001b[0m\u001b[1;33m]\u001b[0m\u001b[1;33m\u001b[0m\u001b[1;33m\u001b[0m\u001b[0m\n",
      "\u001b[1;32mC:\\ProgramData\\Anaconda3\\lib\\tkinter\\__init__.py\u001b[0m in \u001b[0;36m_setup\u001b[1;34m(self, master, cnf)\u001b[0m\n\u001b[0;32m   2533\u001b[0m             \u001b[0mmaster\u001b[0m \u001b[1;33m=\u001b[0m \u001b[0m_get_default_root\u001b[0m\u001b[1;33m(\u001b[0m\u001b[1;33m)\u001b[0m\u001b[1;33m\u001b[0m\u001b[1;33m\u001b[0m\u001b[0m\n\u001b[0;32m   2534\u001b[0m         \u001b[0mself\u001b[0m\u001b[1;33m.\u001b[0m\u001b[0mmaster\u001b[0m \u001b[1;33m=\u001b[0m \u001b[0mmaster\u001b[0m\u001b[1;33m\u001b[0m\u001b[1;33m\u001b[0m\u001b[0m\n\u001b[1;32m-> 2535\u001b[1;33m         \u001b[0mself\u001b[0m\u001b[1;33m.\u001b[0m\u001b[0mtk\u001b[0m \u001b[1;33m=\u001b[0m \u001b[0mmaster\u001b[0m\u001b[1;33m.\u001b[0m\u001b[0mtk\u001b[0m\u001b[1;33m\u001b[0m\u001b[1;33m\u001b[0m\u001b[0m\n\u001b[0m\u001b[0;32m   2536\u001b[0m         \u001b[0mname\u001b[0m \u001b[1;33m=\u001b[0m \u001b[1;32mNone\u001b[0m\u001b[1;33m\u001b[0m\u001b[1;33m\u001b[0m\u001b[0m\n\u001b[0;32m   2537\u001b[0m         \u001b[1;32mif\u001b[0m \u001b[1;34m'name'\u001b[0m \u001b[1;32min\u001b[0m \u001b[0mcnf\u001b[0m\u001b[1;33m:\u001b[0m\u001b[1;33m\u001b[0m\u001b[1;33m\u001b[0m\u001b[0m\n",
      "\u001b[1;31mAttributeError\u001b[0m: type object 'calc' has no attribute 'tk'"
     ]
    }
   ],
   "source": [
    "txtDisplay = Entry(calc, font=('Helvetica', 20, 'bold'), bg='black', fg='white', bd=20,\n",
    "                    width=30, justify=RIGHT)\n",
    "txtDisplay.grid(row=0, column=0, columnspan=4, pady=1)\n",
    "txtDisplay.insert(0, \"0\")\n",
    "\n",
    "txtDisplay1 = Entry(calc, font=('Helvetica', 20, 'bold'), bg='black', fg='white', bd=20,\n",
    "                     width=30, justify=RIGHT)\n",
    "txtDisplay1.grid(row=1, column=0, columnspan=4, pady=1)\n",
    "txtDisplay1.insert(0, \"0\")\n",
    "\n"
   ]
  },
  {
   "cell_type": "code",
   "execution_count": 117,
   "id": "1c2ebd81",
   "metadata": {},
   "outputs": [
    {
     "ename": "AttributeError",
     "evalue": "type object 'calc' has no attribute 'tk'",
     "output_type": "error",
     "traceback": [
      "\u001b[1;31m---------------------------------------------------------------------------\u001b[0m",
      "\u001b[1;31mAttributeError\u001b[0m                            Traceback (most recent call last)",
      "\u001b[1;32m~\\AppData\\Local\\Temp\\ipykernel_2836\\997137690.py\u001b[0m in \u001b[0;36m<module>\u001b[1;34m\u001b[0m\n\u001b[0;32m      4\u001b[0m \u001b[1;32mfor\u001b[0m \u001b[0mj\u001b[0m \u001b[1;32min\u001b[0m \u001b[0mrange\u001b[0m\u001b[1;33m(\u001b[0m\u001b[1;36m3\u001b[0m\u001b[1;33m,\u001b[0m \u001b[1;36m6\u001b[0m\u001b[1;33m)\u001b[0m\u001b[1;33m:\u001b[0m\u001b[1;33m\u001b[0m\u001b[1;33m\u001b[0m\u001b[0m\n\u001b[0;32m      5\u001b[0m     \u001b[1;32mfor\u001b[0m \u001b[0mk\u001b[0m \u001b[1;32min\u001b[0m \u001b[0mrange\u001b[0m\u001b[1;33m(\u001b[0m\u001b[1;36m3\u001b[0m\u001b[1;33m)\u001b[0m\u001b[1;33m:\u001b[0m\u001b[1;33m\u001b[0m\u001b[1;33m\u001b[0m\u001b[0m\n\u001b[1;32m----> 6\u001b[1;33m         \u001b[0mbtn\u001b[0m\u001b[1;33m.\u001b[0m\u001b[0mappend\u001b[0m\u001b[1;33m(\u001b[0m\u001b[0mButton\u001b[0m\u001b[1;33m(\u001b[0m\u001b[0mcalc\u001b[0m\u001b[1;33m,\u001b[0m \u001b[0mwidth\u001b[0m\u001b[1;33m=\u001b[0m\u001b[1;36m6\u001b[0m\u001b[1;33m,\u001b[0m \u001b[0mbg\u001b[0m\u001b[1;33m=\u001b[0m\u001b[1;34m'red'\u001b[0m\u001b[1;33m,\u001b[0m \u001b[0mfg\u001b[0m\u001b[1;33m=\u001b[0m\u001b[1;34m'black'\u001b[0m\u001b[1;33m,\u001b[0m \u001b[0mfont\u001b[0m\u001b[1;33m=\u001b[0m\u001b[1;33m(\u001b[0m\u001b[1;34m'Times new roman'\u001b[0m\u001b[1;33m,\u001b[0m \u001b[1;36m20\u001b[0m\u001b[1;33m,\u001b[0m \u001b[1;34m'bold'\u001b[0m\u001b[1;33m)\u001b[0m\u001b[1;33m,\u001b[0m \u001b[0mbd\u001b[0m\u001b[1;33m=\u001b[0m\u001b[1;36m4\u001b[0m\u001b[1;33m,\u001b[0m \u001b[0mtext\u001b[0m\u001b[1;33m=\u001b[0m\u001b[0mnumberpad\u001b[0m\u001b[1;33m[\u001b[0m\u001b[0mi\u001b[0m\u001b[1;33m]\u001b[0m\u001b[1;33m)\u001b[0m\u001b[1;33m)\u001b[0m\u001b[1;33m\u001b[0m\u001b[1;33m\u001b[0m\u001b[0m\n\u001b[0m\u001b[0;32m      7\u001b[0m         \u001b[0mbtn\u001b[0m\u001b[1;33m[\u001b[0m\u001b[0mi\u001b[0m\u001b[1;33m]\u001b[0m\u001b[1;33m.\u001b[0m\u001b[0mgrid\u001b[0m\u001b[1;33m(\u001b[0m\u001b[0mrow\u001b[0m\u001b[1;33m=\u001b[0m\u001b[0mj\u001b[0m\u001b[1;33m,\u001b[0m \u001b[0mcolumn\u001b[0m\u001b[1;33m=\u001b[0m\u001b[0mk\u001b[0m\u001b[1;33m,\u001b[0m \u001b[0mpady\u001b[0m\u001b[1;33m=\u001b[0m\u001b[1;36m1\u001b[0m\u001b[1;33m)\u001b[0m\u001b[1;33m\u001b[0m\u001b[1;33m\u001b[0m\u001b[0m\n\u001b[0;32m      8\u001b[0m         \u001b[0mbtn\u001b[0m\u001b[1;33m[\u001b[0m\u001b[0mi\u001b[0m\u001b[1;33m]\u001b[0m\u001b[1;33m[\u001b[0m\u001b[1;34m\"command\"\u001b[0m\u001b[1;33m]\u001b[0m \u001b[1;33m=\u001b[0m \u001b[1;32mlambda\u001b[0m \u001b[0mx\u001b[0m\u001b[1;33m=\u001b[0m\u001b[0mnumberpad\u001b[0m\u001b[1;33m[\u001b[0m\u001b[0mi\u001b[0m\u001b[1;33m]\u001b[0m\u001b[1;33m:\u001b[0m \u001b[0madded_value\u001b[0m\u001b[1;33m.\u001b[0m\u001b[0mnumberEnter\u001b[0m\u001b[1;33m(\u001b[0m\u001b[0mx\u001b[0m\u001b[1;33m)\u001b[0m\u001b[1;33m\u001b[0m\u001b[1;33m\u001b[0m\u001b[0m\n",
      "\u001b[1;32mC:\\ProgramData\\Anaconda3\\lib\\tkinter\\__init__.py\u001b[0m in \u001b[0;36m__init__\u001b[1;34m(self, master, cnf, **kw)\u001b[0m\n\u001b[0;32m   2648\u001b[0m             \u001b[0moverrelief\u001b[0m\u001b[1;33m,\u001b[0m \u001b[0mstate\u001b[0m\u001b[1;33m,\u001b[0m \u001b[0mwidth\u001b[0m\u001b[1;33m\u001b[0m\u001b[1;33m\u001b[0m\u001b[0m\n\u001b[0;32m   2649\u001b[0m         \"\"\"\n\u001b[1;32m-> 2650\u001b[1;33m         \u001b[0mWidget\u001b[0m\u001b[1;33m.\u001b[0m\u001b[0m__init__\u001b[0m\u001b[1;33m(\u001b[0m\u001b[0mself\u001b[0m\u001b[1;33m,\u001b[0m \u001b[0mmaster\u001b[0m\u001b[1;33m,\u001b[0m \u001b[1;34m'button'\u001b[0m\u001b[1;33m,\u001b[0m \u001b[0mcnf\u001b[0m\u001b[1;33m,\u001b[0m \u001b[0mkw\u001b[0m\u001b[1;33m)\u001b[0m\u001b[1;33m\u001b[0m\u001b[1;33m\u001b[0m\u001b[0m\n\u001b[0m\u001b[0;32m   2651\u001b[0m \u001b[1;33m\u001b[0m\u001b[0m\n\u001b[0;32m   2652\u001b[0m     \u001b[1;32mdef\u001b[0m \u001b[0mflash\u001b[0m\u001b[1;33m(\u001b[0m\u001b[0mself\u001b[0m\u001b[1;33m)\u001b[0m\u001b[1;33m:\u001b[0m\u001b[1;33m\u001b[0m\u001b[1;33m\u001b[0m\u001b[0m\n",
      "\u001b[1;32mC:\\ProgramData\\Anaconda3\\lib\\tkinter\\__init__.py\u001b[0m in \u001b[0;36m__init__\u001b[1;34m(self, master, widgetName, cnf, kw, extra)\u001b[0m\n\u001b[0;32m   2564\u001b[0m             \u001b[0mcnf\u001b[0m \u001b[1;33m=\u001b[0m \u001b[0m_cnfmerge\u001b[0m\u001b[1;33m(\u001b[0m\u001b[1;33m(\u001b[0m\u001b[0mcnf\u001b[0m\u001b[1;33m,\u001b[0m \u001b[0mkw\u001b[0m\u001b[1;33m)\u001b[0m\u001b[1;33m)\u001b[0m\u001b[1;33m\u001b[0m\u001b[1;33m\u001b[0m\u001b[0m\n\u001b[0;32m   2565\u001b[0m         \u001b[0mself\u001b[0m\u001b[1;33m.\u001b[0m\u001b[0mwidgetName\u001b[0m \u001b[1;33m=\u001b[0m \u001b[0mwidgetName\u001b[0m\u001b[1;33m\u001b[0m\u001b[1;33m\u001b[0m\u001b[0m\n\u001b[1;32m-> 2566\u001b[1;33m         \u001b[0mBaseWidget\u001b[0m\u001b[1;33m.\u001b[0m\u001b[0m_setup\u001b[0m\u001b[1;33m(\u001b[0m\u001b[0mself\u001b[0m\u001b[1;33m,\u001b[0m \u001b[0mmaster\u001b[0m\u001b[1;33m,\u001b[0m \u001b[0mcnf\u001b[0m\u001b[1;33m)\u001b[0m\u001b[1;33m\u001b[0m\u001b[1;33m\u001b[0m\u001b[0m\n\u001b[0m\u001b[0;32m   2567\u001b[0m         \u001b[1;32mif\u001b[0m \u001b[0mself\u001b[0m\u001b[1;33m.\u001b[0m\u001b[0m_tclCommands\u001b[0m \u001b[1;32mis\u001b[0m \u001b[1;32mNone\u001b[0m\u001b[1;33m:\u001b[0m\u001b[1;33m\u001b[0m\u001b[1;33m\u001b[0m\u001b[0m\n\u001b[0;32m   2568\u001b[0m             \u001b[0mself\u001b[0m\u001b[1;33m.\u001b[0m\u001b[0m_tclCommands\u001b[0m \u001b[1;33m=\u001b[0m \u001b[1;33m[\u001b[0m\u001b[1;33m]\u001b[0m\u001b[1;33m\u001b[0m\u001b[1;33m\u001b[0m\u001b[0m\n",
      "\u001b[1;32mC:\\ProgramData\\Anaconda3\\lib\\tkinter\\__init__.py\u001b[0m in \u001b[0;36m_setup\u001b[1;34m(self, master, cnf)\u001b[0m\n\u001b[0;32m   2533\u001b[0m             \u001b[0mmaster\u001b[0m \u001b[1;33m=\u001b[0m \u001b[0m_get_default_root\u001b[0m\u001b[1;33m(\u001b[0m\u001b[1;33m)\u001b[0m\u001b[1;33m\u001b[0m\u001b[1;33m\u001b[0m\u001b[0m\n\u001b[0;32m   2534\u001b[0m         \u001b[0mself\u001b[0m\u001b[1;33m.\u001b[0m\u001b[0mmaster\u001b[0m \u001b[1;33m=\u001b[0m \u001b[0mmaster\u001b[0m\u001b[1;33m\u001b[0m\u001b[1;33m\u001b[0m\u001b[0m\n\u001b[1;32m-> 2535\u001b[1;33m         \u001b[0mself\u001b[0m\u001b[1;33m.\u001b[0m\u001b[0mtk\u001b[0m \u001b[1;33m=\u001b[0m \u001b[0mmaster\u001b[0m\u001b[1;33m.\u001b[0m\u001b[0mtk\u001b[0m\u001b[1;33m\u001b[0m\u001b[1;33m\u001b[0m\u001b[0m\n\u001b[0m\u001b[0;32m   2536\u001b[0m         \u001b[0mname\u001b[0m \u001b[1;33m=\u001b[0m \u001b[1;32mNone\u001b[0m\u001b[1;33m\u001b[0m\u001b[1;33m\u001b[0m\u001b[0m\n\u001b[0;32m   2537\u001b[0m         \u001b[1;32mif\u001b[0m \u001b[1;34m'name'\u001b[0m \u001b[1;32min\u001b[0m \u001b[0mcnf\u001b[0m\u001b[1;33m:\u001b[0m\u001b[1;33m\u001b[0m\u001b[1;33m\u001b[0m\u001b[0m\n",
      "\u001b[1;31mAttributeError\u001b[0m: type object 'calc' has no attribute 'tk'"
     ]
    }
   ],
   "source": [
    "numberpad = \"123456789\"\n",
    "i = 0\n",
    "btn = []\n",
    "for j in range(3, 6):\n",
    "    for k in range(3):\n",
    "        btn.append(Button(calc, width=6, bg='red', fg='black', font=('Times new roman', 20, 'bold'), bd=4, text=numberpad[i]))\n",
    "        btn[i].grid(row=j, column=k, pady=1)\n",
    "        btn[i][\"command\"] = lambda x=numberpad[i]: added_value.numberEnter(x)\n",
    "        i += 1\n"
   ]
  },
  {
   "cell_type": "code",
   "execution_count": 116,
   "id": "fb4b49e1",
   "metadata": {},
   "outputs": [
    {
     "ename": "SyntaxError",
     "evalue": "unexpected EOF while parsing (1941529755.py, line 31)",
     "output_type": "error",
     "traceback": [
      "\u001b[1;36m  File \u001b[1;32m\"C:\\Users\\aedpu\\AppData\\Local\\Temp\\ipykernel_2836\\1941529755.py\"\u001b[1;36m, line \u001b[1;32m31\u001b[0m\n\u001b[1;33m    btnsq = Button(calc, text=\"\\u2214A\", width=6, height=2, bg='pink', fg='black', font=('Times new roman', 20, 'bold'), bd=4\u001b[0m\n\u001b[1;37m                                                                                                                             ^\u001b[0m\n\u001b[1;31mSyntaxError\u001b[0m\u001b[1;31m:\u001b[0m unexpected EOF while parsing\n"
     ]
    }
   ],
   "source": [
    "btnclear = Button(calc, text=chr(67), width=6, height=2, bg='blue', fg='black', font=('Times new roman', 20, 'bold'), bd=4,\n",
    "                  command=added_value.clear_Entry).grid(row=2, column=3, pady=1)\n",
    "\n",
    "btnAdd = Button(calc, text=\"+\", width=6, height=2, bg='orange', fg='black', font=('Times new roman', 20, 'bold'), bd=4,\n",
    "                command=lambda: added_value.operation(\"add\")).grid(row=6, column=3, pady=1)\n",
    "\n",
    "btnSub = Button(calc, text=\"-\", width=6, height=2, bg='orange', fg='black', font=('Times new roman', 20, 'bold'), bd=4,\n",
    "                command=lambda: added_value.operation(\"sub\")).grid(row=5, column=3, pady=1)\n",
    "\n",
    "btnMul = Button(calc, text=\"*\", width=6, height=2, bg='orange', fg='black', font=('Times new roman', 20, 'bold'), bd=4,\n",
    "                command=lambda: added_value.operation(\"mul\")).grid(row=3, column=3, pady=1)\n",
    "\n",
    "btnDiv = Button(calc, text=\"/\", width=6, height=2, bg='orange', fg='black', font=('Times new roman', 20, 'bold'), bd=4,\n",
    "                command=lambda: added_value.operation(\"divide\")).grid(row=6, column=3, pady=1)\n",
    "\n",
    "btnZero = Button(calc, text=\"0\", width=6, height=2, bg='pink', fg='black', font=('Times new roman', 20, 'bold'), bd=4,\n",
    "                 command=lambda: added_value.numberEnter(0)).grid(row=6, column=0, pady=1)\n",
    "\n",
    "btnDot = Button(calc, text=\".\", width=6, height=2, bg='pink', fg='black', font=('Times new roman', 20, 'bold'), bd=4,\n",
    "                command=lambda: added_value.numberEnter(\".\")).grid(row=6, column=1, pady=1)\n",
    "\n",
    "btnOpenbrace = Button(calc, text=\"(\", width=6, height=2, bg='green', fg='black', font=('Times new roman', 20, 'bold'), bd=4,\n",
    "                      command=lambda: added_value.numberEnter(\"(\")).grid(row=7, column=1, pady=1)\n",
    "\n",
    "btnclosebrace = Button(calc, text=\")\", width=6, height=2, bg='green', fg='black', font=('Times new roman', 20, 'bold'), bd=4,\n",
    "                       command=lambda: added_value.numberEnter(\")\")).grid(row=7, column=2, pady=1)\n",
    "\n",
    "btnEquals = Button(calc, text=\"=\", width=6, height=2, bg='pink', fg='black', font=('Times new roman', 20, 'bold'), bd=4,\n",
    "                   command=added_value.sum_of_total).grid(row=7, column=3, pady=1)\n",
    "\n",
    "btnsq = Button(calc, text=\"\\u2214A\", width=6, height=2, bg='pink', fg='black', font=('Times new roman', 20, 'bold'), bd=4\n"
   ]
  },
  {
   "cell_type": "code",
   "execution_count": null,
   "id": "5b1bf607",
   "metadata": {},
   "outputs": [],
   "source": []
  }
 ],
 "metadata": {
  "kernelspec": {
   "display_name": "Python 3 (ipykernel)",
   "language": "python",
   "name": "python3"
  },
  "language_info": {
   "codemirror_mode": {
    "name": "ipython",
    "version": 3
   },
   "file_extension": ".py",
   "mimetype": "text/x-python",
   "name": "python",
   "nbconvert_exporter": "python",
   "pygments_lexer": "ipython3",
   "version": "3.9.13"
  }
 },
 "nbformat": 4,
 "nbformat_minor": 5
}
