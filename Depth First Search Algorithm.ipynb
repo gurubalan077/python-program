{
 "cells": [
  {
   "cell_type": "code",
   "execution_count": null,
   "id": "bde43986",
   "metadata": {},
   "outputs": [],
   "source": [
    "from queue import LifoQueue"
   ]
  },
  {
   "cell_type": "code",
   "execution_count": null,
   "id": "8140fa1d",
   "metadata": {},
   "outputs": [],
   "source": [
    "stack= LifoQueue(maxsize=10)"
   ]
  },
  {
   "cell_type": "code",
   "execution_count": null,
   "id": "51661603",
   "metadata": {},
   "outputs": [],
   "source": [
    "stack"
   ]
  },
  {
   "cell_type": "code",
   "execution_count": null,
   "id": "d437975d",
   "metadata": {},
   "outputs": [],
   "source": [
    "stack.put(\"Mathamatics\")\n",
    "stack.put(\"Biology\")\n",
    "stack.put(\"Physics\")\n",
    "stack.put(\"Chemistry\")\n",
    "stack.put(\"Anatomy\")"
   ]
  },
  {
   "cell_type": "code",
   "execution_count": null,
   "id": "abc3a509",
   "metadata": {},
   "outputs": [],
   "source": [
    "stack.full()"
   ]
  },
  {
   "cell_type": "code",
   "execution_count": null,
   "id": "1809f66d",
   "metadata": {},
   "outputs": [],
   "source": [
    "stack.qsize()"
   ]
  },
  {
   "cell_type": "code",
   "execution_count": null,
   "id": "ea9acb24",
   "metadata": {},
   "outputs": [],
   "source": [
    "print(stack.get())"
   ]
  },
  {
   "cell_type": "code",
   "execution_count": null,
   "id": "4859795c",
   "metadata": {},
   "outputs": [],
   "source": [
    "print(stack.get())"
   ]
  },
  {
   "cell_type": "code",
   "execution_count": null,
   "id": "0d07b1a2",
   "metadata": {},
   "outputs": [],
   "source": [
    "print(stack.get())"
   ]
  },
  {
   "cell_type": "code",
   "execution_count": null,
   "id": "b4930e13",
   "metadata": {},
   "outputs": [],
   "source": [
    "print(stack.get())"
   ]
  },
  {
   "cell_type": "code",
   "execution_count": null,
   "id": "561dd756",
   "metadata": {},
   "outputs": [],
   "source": [
    "stack.empty()"
   ]
  },
  {
   "cell_type": "code",
   "execution_count": null,
   "id": "abe1b0a7",
   "metadata": {},
   "outputs": [],
   "source": [
    "print(stack.get())"
   ]
  },
  {
   "cell_type": "code",
   "execution_count": null,
   "id": "d9c43c43",
   "metadata": {},
   "outputs": [],
   "source": [
    "stack.empty()"
   ]
  },
  {
   "cell_type": "markdown",
   "id": "8cac9295",
   "metadata": {},
   "source": [
    "# Depth First Search Algorithm"
   ]
  },
  {
   "cell_type": "code",
   "execution_count": 2,
   "id": "424e3344",
   "metadata": {},
   "outputs": [],
   "source": [
    "graph={\n",
    "    'sam':['Aaron','binny'],\n",
    "    'Aaron':['sam','christine','Denny'],\n",
    "    'binny':['Elvin','Flin'],\n",
    "    'christine':['Aaron'],\n",
    "    'Denny':['Aaron'],\n",
    "    'Elvin':['binny','Gini'],\n",
    "    'Flin':['binny'],\n",
    "    'Gini':['Elvin']\n",
    "}"
   ]
  },
  {
   "cell_type": "code",
   "execution_count": 3,
   "id": "a0c0964d",
   "metadata": {},
   "outputs": [],
   "source": [
    "def dfs(graph,start,goal,visited):\n",
    "    stack = [start]\n",
    "    while stack:\n",
    "        node = stack.pop()\n",
    "        if node not in visited:\n",
    "            visited.append(node)\n",
    "            if node==goal:\n",
    "                print(visited)\n",
    "        for neighbors in graph[node]:\n",
    "            dfs(graph,start,goal,visited)"
   ]
  },
  {
   "cell_type": "code",
   "execution_count": null,
   "id": "13e3e389",
   "metadata": {},
   "outputs": [],
   "source": [
    "dfs(graph,'sam','Gini',[])\n"
   ]
  },
  {
   "cell_type": "code",
   "execution_count": null,
   "id": "8fd1eeb4",
   "metadata": {},
   "outputs": [],
   "source": []
  }
 ],
 "metadata": {
  "kernelspec": {
   "display_name": "Python 3 (ipykernel)",
   "language": "python",
   "name": "python3"
  },
  "language_info": {
   "codemirror_mode": {
    "name": "ipython",
    "version": 3
   },
   "file_extension": ".py",
   "mimetype": "text/x-python",
   "name": "python",
   "nbconvert_exporter": "python",
   "pygments_lexer": "ipython3",
   "version": "3.9.13"
  }
 },
 "nbformat": 4,
 "nbformat_minor": 5
}
