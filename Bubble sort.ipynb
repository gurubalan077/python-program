{
 "cells": [
  {
   "cell_type": "markdown",
   "id": "9fcdea83",
   "metadata": {},
   "source": [
    "# Bubble sort"
   ]
  },
  {
   "cell_type": "code",
   "execution_count": 1,
   "id": "42d479fc",
   "metadata": {},
   "outputs": [
    {
     "name": "stdout",
     "output_type": "stream",
     "text": [
      "Before sorting the Array in Ascending Order :\n",
      "[-2, 45, 0, 54, 88, 99, 24, 513, 90]\n",
      "After Before sorting the array in Ascending Order:\n",
      "[-2, 0, 24, 45, 54, 88, 90, 99, 513]\n"
     ]
    }
   ],
   "source": [
    "# Bubble sort in python\n",
    "\n",
    "def bubblesort(data):\n",
    "    \n",
    "  # loop to access each array in element\n",
    "  for i in range(len(data)):\n",
    "        \n",
    "    # loop to compare array element\n",
    "    for j in range(0,len(data) - i - 1):\n",
    "        \n",
    "      #compare two adjecent element\n",
    "       if data[j] > data [j + 1]:\n",
    "            \n",
    "            # swapping element if element are not in the intemded order\n",
    "            temp = data[j]\n",
    "            data[j] = data[j+1]\n",
    "            data[j+1] = temp\n",
    "            \n",
    "data = [-2,45,0,54,88,99,24,513,90,]\n",
    "\n",
    "print('Before sorting the Array in Ascending Order :')\n",
    "print(data)\n",
    "\n",
    "bubblesort(data)\n",
    "\n",
    "print(\"After Before sorting the array in Ascending Order:\")\n",
    "print(data)"
   ]
  },
  {
   "cell_type": "markdown",
   "id": "e5b13c3b",
   "metadata": {},
   "source": [
    "# task in class"
   ]
  },
  {
   "cell_type": "code",
   "execution_count": 3,
   "id": "cb199c7a",
   "metadata": {},
   "outputs": [
    {
     "name": "stdout",
     "output_type": "stream",
     "text": [
      "Before sorting the Array in Dscending Order :\n",
      "[-2, 45, 0, 54, 88, 99, 24, 513, 90]\n",
      "After Before sorting the array in Dscending Order:\n",
      "[513, 99, 90, 88, 54, 45, 24, 0, -2]\n"
     ]
    }
   ],
   "source": [
    "# Bubble sort in python\n",
    "\n",
    "def bubblesort(data):\n",
    "    \n",
    "  # loop to access each array in element\n",
    "  for i in range(len(data)):\n",
    "        \n",
    "    # loop to compare array element\n",
    "    for j in range(0,len(data) - i - 1):\n",
    "        \n",
    "      #compare two adjecent element\n",
    "       if data[j] < data [j + 1]:\n",
    "            \n",
    "            # swapping element if element are not in the intemded order\n",
    "            temp = data[j]\n",
    "            data[j] = data[j+1]\n",
    "            data[j+1] = temp\n",
    "            \n",
    "data = [-2,45,0,54,88,99,24,513,90,]\n",
    "\n",
    "print('Before sorting the Array in Dscending Order :')\n",
    "print(data)\n",
    "\n",
    "bubblesort(data)\n",
    "\n",
    "print(\"After Before sorting the array in Dscending Order:\")\n",
    "print(data)"
   ]
  },
  {
   "cell_type": "markdown",
   "id": "cafe780a",
   "metadata": {},
   "source": [
    "# optimized bubblesort "
   ]
  },
  {
   "cell_type": "code",
   "execution_count": 7,
   "id": "822fbcb1",
   "metadata": {},
   "outputs": [
    {
     "name": "stdout",
     "output_type": "stream",
     "text": [
      "non-sorted array is:\n",
      " 78  98  90  56  34  23 \n",
      "Sorted array is:\n",
      " 23  34  56  78  90  98 "
     ]
    }
   ],
   "source": [
    "def bubblesort(arr):\n",
    "    n = len(arr)\n",
    "    for i in range(n-1):\n",
    "        swapped = False\n",
    "        for j in range(0, n-i-1):\n",
    "            if arr[j] > arr[j + 1]:\n",
    "                swapped = True \n",
    "                arr[j], arr[j + 1] = arr[j + 1], arr[j]\n",
    "        if not swapped:\n",
    "            break\n",
    "    \n",
    "arr =[78,98,90,56,34,23]\n",
    "\n",
    "print(\"non-sorted array is:\")\n",
    "for i in range(len(arr)):\n",
    "    print(\"% d\" % arr[i], end=\" \")\n",
    "    \n",
    "bubblesort(arr)\n",
    "print(\"\\nSorted array is:\")\n",
    "for i in range(len(arr)):\n",
    "    print(\"% d\" % arr[i], end=\" \")\n"
   ]
  },
  {
   "cell_type": "code",
   "execution_count": null,
   "id": "149d4abe",
   "metadata": {},
   "outputs": [],
   "source": []
  }
 ],
 "metadata": {
  "kernelspec": {
   "display_name": "Python 3 (ipykernel)",
   "language": "python",
   "name": "python3"
  },
  "language_info": {
   "codemirror_mode": {
    "name": "ipython",
    "version": 3
   },
   "file_extension": ".py",
   "mimetype": "text/x-python",
   "name": "python",
   "nbconvert_exporter": "python",
   "pygments_lexer": "ipython3",
   "version": "3.9.13"
  }
 },
 "nbformat": 4,
 "nbformat_minor": 5
}
