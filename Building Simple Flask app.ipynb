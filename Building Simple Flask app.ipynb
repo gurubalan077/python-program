{
 "cells": [
  {
   "cell_type": "code",
   "execution_count": null,
   "id": "79c4abbd",
   "metadata": {},
   "outputs": [
    {
     "name": "stdout",
     "output_type": "stream",
     "text": [
      " * Serving Flask app \"__main__\" (lazy loading)\n",
      " * Environment: production\n",
      "\u001b[31m   WARNING: This is a development server. Do not use it in a production deployment.\u001b[0m\n",
      "\u001b[2m   Use a production WSGI server instead.\u001b[0m\n",
      " * Debug mode: off\n"
     ]
    },
    {
     "name": "stderr",
     "output_type": "stream",
     "text": [
      " * Running on http://127.0.0.1:5000/ (Press CTRL+C to quit)\n",
      "127.0.0.1 - - [21/Apr/2023 16:59:59] \"GET / HTTP/1.1\" 200 -\n",
      "127.0.0.1 - - [21/Apr/2023 16:59:59] \"GET /favicon.ico HTTP/1.1\" 404 -\n"
     ]
    }
   ],
   "source": [
    "# Importing required library\n",
    "from flask import Flask\n",
    "# Defining flask name\n",
    "hwapp = Flask(__name__)\n",
    "# Creating main page\n",
    "@hwapp.route('/')\n",
    "def index():\n",
    "    return 'Hello World' \n",
    "if __name__ == \"__main__\":\n",
    "    hwapp.run()"
   ]
  },
  {
   "cell_type": "code",
   "execution_count": null,
   "id": "54b96d18",
   "metadata": {},
   "outputs": [],
   "source": []
  }
 ],
 "metadata": {
  "kernelspec": {
   "display_name": "Python 3 (ipykernel)",
   "language": "python",
   "name": "python3"
  },
  "language_info": {
   "codemirror_mode": {
    "name": "ipython",
    "version": 3
   },
   "file_extension": ".py",
   "mimetype": "text/x-python",
   "name": "python",
   "nbconvert_exporter": "python",
   "pygments_lexer": "ipython3",
   "version": "3.9.13"
  }
 },
 "nbformat": 4,
 "nbformat_minor": 5
}
