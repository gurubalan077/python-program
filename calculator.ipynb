{
 "cells": [
  {
   "cell_type": "markdown",
   "id": "6c21d0cf",
   "metadata": {},
   "source": [
    "# task cerate a scientific calculator"
   ]
  },
  {
   "cell_type": "code",
   "execution_count": null,
   "id": "a6c0adb5",
   "metadata": {},
   "outputs": [],
   "source": [
    "import tkinter import*\n",
    "import math"
   ]
  },
  {
   "cell_type": "code",
   "execution_count": null,
   "id": "1f0c1edb",
   "metadata": {},
   "outputs": [],
   "source": [
    "root = Tk()\n",
    "root.title(\"scientific calculator\")\n",
    "root.configure(back ground = 'black')\n",
    "root.geomentry(\"491X724\")\n",
    "calc = Frame(root)\n",
    "calc.grid()"
   ]
  },
  {
   "cell_type": "code",
   "execution_count": null,
   "id": "8fd7a72b",
   "metadata": {},
   "outputs": [],
   "source": [
    "class calc():\n",
    "    def __init__(self):\n",
    "        self.total=0\n",
    "        self.current=''\n",
    "        self.input_value=True\n",
    "        self.check_sum=False \n",
    "        self.op=''\n",
    "        self.result=False\n",
    "        \n",
    "    def numberEnter(self, num):\n",
    "        self.result=False\n",
    "        firstnum=txtDisplay.get()\n",
    "        secondnum=str(num)\n",
    "        if self.input_value\n",
    "            self.current = secondnum\n",
    "            self.input_value=False\n",
    "        else\n",
    "        if secondnum =='.':\n",
    "            if secondnum in firlst num:\n",
    "                return\n",
    "            self.current = firstnum+secondnum\n",
    "        self.display(self.current)\n",
    "        \n",
    "        def sum_of_total(self):\n",
    "            self.result=True\n",
    "            self.current=float(self.current)\n",
    "            if self.check_sum==True:\n",
    "                self.valid_function()\n",
    "            else:\n",
    "                self.total=float(txtDisplay.get())\n",
    "                \n",
    "        def display(self,value):\n",
    "            txtdisplay.delete(0, END)\n",
    "            txtDisplay.insert(0, value)\n",
    "            \n",
    "        def valid_function(self):\n",
    "            if self.op ==\"add\":\n",
    "                self.total += self.current\n",
    "            if self.op ==\"sub\":\n",
    "                self.total -= self.current\n",
    "            if self.op ==\"divide\":\n",
    "                self.total /= self.current\n",
    "            if self.op ==\"multiple\":\n",
    "                self.total *= self.current\n",
    "            if self.op ==\"mod\":\n",
    "                self.total %= self.current\n",
    "            self.input_value=True\n",
    "            self.check_sum=False\n",
    "            self.display(self.total)\n",
    "        def operation(self, op):\n",
    "            self.current = float(self.current)\n",
    "            if self.check_sum:\n",
    "                self.valid_function()\n",
    "            elif not self.result:\n",
    "                self.total=self.current\n",
    "                self.input_value=True\n",
    "            self.check_sum=True\n",
    "            self.op=op\n",
    "            self.result=False\n",
    "            \n",
    "        def clear_Entry(self):\n",
    "            self.result = False \n",
    "            self.current = \"0\"\n",
    "            self.display(0)\n",
    "            self.input_value=True\n",
    "            \n",
    "        def pi(self):\n",
    "            self.result = False \n",
    "            self.current = math.pi\n",
    "            self.display1(self.current)\n",
    "            \n",
    "        def cos(self):\n",
    "            self.result = False\n",
    "            self.current = math.cos(math.radians(float(txtDisplay.get())))\n",
    "            self.display1(self.current)\n",
    "            \n",
    "        def sin(self):\n",
    "            self.result = False\n",
    "            self.current = math.sin(math.radians(float(txtDisplay.get())))\n",
    "            self.display1(self.current)\n",
    "        def tan(self):\n",
    "            self.result = False\n",
    "            self.current = math.tan(math.radians(float(txtDisplay.get())))\n",
    "            self.display1(self.current)\n",
    "        def squre(self):\n",
    "            self.result = False\n",
    "            self.current = math.sqrt(math.radians(float(txtDisplay.get())))\n",
    "            self.display1(self.current)\n",
    "            \n",
    "        added_value = calc()\n",
    "                "
   ]
  },
  {
   "cell_type": "code",
   "execution_count": null,
   "id": "0fdcd8d6",
   "metadata": {},
   "outputs": [],
   "source": [
    "Display = Entry(calc, font=('helvetica',20,'bold'),bg='black',fg='white',bd=20,\n",
    "               width=30,justiy=RIGHT)\n",
    "Display.grid(row=0,column=0, columnspan=4, pady=1)\n",
    "Display.insert(0,\"0\")\n",
    "Display1= Entry(calc, font=('helvetica',20,'bold'),bg='black',fg='white',bd=20,\n",
    "               width=30,justiy=RIGHT)\n",
    "Display.grid(row=1,column=0, columnspan=4, pady=1)\n",
    "display.insert(0,\"0\") "
   ]
  },
  {
   "cell_type": "code",
   "execution_count": null,
   "id": "63f2fcf8",
   "metadata": {},
   "outputs": [],
   "source": [
    "numberpad = \"123456789\"\n",
    "i=0\n",
    "btn = []\n",
    "for j range(3,6):\n",
    "    for k in range(3):\n",
    "        btn.append(button(clac, width=6,bg='red',fg='black',front=('Times new roman',20,'blod'),bd=4,text=numberpad[i]))\n",
    "        btn[i].grid(row=j, column= k, pady = 1)\n",
    "        btn[i][\"command\"]=lambda x=numberpad[i]:added-value,numberEnter(x)\n",
    "        i+=1\n",
    "        \n",
    "        "
   ]
  },
  {
   "cell_type": "code",
   "execution_count": null,
   "id": "92da2b4d",
   "metadata": {},
   "outputs": [],
   "source": []
  },
  {
   "cell_type": "code",
   "execution_count": null,
   "id": "2fa9b59e",
   "metadata": {},
   "outputs": [],
   "source": []
  },
  {
   "cell_type": "code",
   "execution_count": null,
   "id": "b2177bb9",
   "metadata": {},
   "outputs": [],
   "source": []
  },
  {
   "cell_type": "code",
   "execution_count": null,
   "id": "88063186",
   "metadata": {},
   "outputs": [],
   "source": []
  },
  {
   "cell_type": "code",
   "execution_count": null,
   "id": "246cb31b",
   "metadata": {},
   "outputs": [],
   "source": []
  },
  {
   "cell_type": "code",
   "execution_count": null,
   "id": "4514ac03",
   "metadata": {},
   "outputs": [],
   "source": []
  }
 ],
 "metadata": {
  "kernelspec": {
   "display_name": "Python 3 (ipykernel)",
   "language": "python",
   "name": "python3"
  },
  "language_info": {
   "codemirror_mode": {
    "name": "ipython",
    "version": 3
   },
   "file_extension": ".py",
   "mimetype": "text/x-python",
   "name": "python",
   "nbconvert_exporter": "python",
   "pygments_lexer": "ipython3",
   "version": "3.9.13"
  }
 },
 "nbformat": 4,
 "nbformat_minor": 5
}
