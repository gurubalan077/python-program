{
 "cells": [
  {
   "cell_type": "code",
   "execution_count": 12,
   "id": "9ea8f494",
   "metadata": {},
   "outputs": [],
   "source": [
    "data = [1,2,3,4,5,6,7,8,9,10,11,12,13,14,15,16,28,29,30,31,879,17,18,19,20,21,22,23]"
   ]
  },
  {
   "cell_type": "code",
   "execution_count": 13,
   "id": "0534b158",
   "metadata": {},
   "outputs": [],
   "source": [
    "data.sort()"
   ]
  },
  {
   "cell_type": "code",
   "execution_count": 14,
   "id": "f894c0de",
   "metadata": {},
   "outputs": [
    {
     "name": "stdout",
     "output_type": "stream",
     "text": [
      "[1, 2, 3, 4, 5, 6, 7, 8, 9, 10, 11, 12, 13, 14, 15, 16, 17, 18, 19, 20, 21, 22, 23, 28, 29, 30, 31, 879]\n"
     ]
    }
   ],
   "source": [
    "print(data)"
   ]
  },
  {
   "cell_type": "code",
   "execution_count": 18,
   "id": "64075c50",
   "metadata": {},
   "outputs": [
    {
     "name": "stdout",
     "output_type": "stream",
     "text": [
      "enter the search element :786\n"
     ]
    }
   ],
   "source": [
    "elem=int(input(\"enter the search element :\"))"
   ]
  },
  {
   "cell_type": "code",
   "execution_count": 28,
   "id": "02af754f",
   "metadata": {},
   "outputs": [],
   "source": [
    "def binary_search(data, elem):\n",
    "    \n",
    "    low = 0\n",
    "    high = len(data) - 1\n",
    "    \n",
    "    while low <= high:\n",
    "        middle = (low + high) // 2\n",
    "        \n",
    "        if data[middle] == elem:\n",
    "            print(f\"The search element {elem} is present at index value {middle} in dataset\")\n",
    "            break\n",
    "        \n",
    "        elif data[middle] > elem:\n",
    "            high = middle - 1\n",
    "        \n",
    "        else:\n",
    "            low = middle + 1\n",
    "    if data[middle] != elem:\n",
    "          print(f\"The search element {elem} is not present in the dataset\")\n",
    "    return -1"
   ]
  },
  {
   "cell_type": "code",
   "execution_count": 29,
   "id": "29821e4e",
   "metadata": {},
   "outputs": [
    {
     "name": "stdout",
     "output_type": "stream",
     "text": [
      "The search element 786 is not present in the dataset\n"
     ]
    },
    {
     "data": {
      "text/plain": [
       "-1"
      ]
     },
     "execution_count": 29,
     "metadata": {},
     "output_type": "execute_result"
    }
   ],
   "source": [
    " binary_search(data,elem)"
   ]
  },
  {
   "cell_type": "code",
   "execution_count": null,
   "id": "8191d91f",
   "metadata": {},
   "outputs": [],
   "source": []
  }
 ],
 "metadata": {
  "kernelspec": {
   "display_name": "Python 3 (ipykernel)",
   "language": "python",
   "name": "python3"
  },
  "language_info": {
   "codemirror_mode": {
    "name": "ipython",
    "version": 3
   },
   "file_extension": ".py",
   "mimetype": "text/x-python",
   "name": "python",
   "nbconvert_exporter": "python",
   "pygments_lexer": "ipython3",
   "version": "3.9.13"
  }
 },
 "nbformat": 4,
 "nbformat_minor": 5
}
